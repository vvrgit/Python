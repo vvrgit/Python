{
 "cells": [
  {
   "cell_type": "markdown",
   "metadata": {},
   "source": [
    "# Lists\n",
    "- lists in python are similar to what arrays are in other languages\n",
    "- but in python they are more flexible and can contain different types of data"
   ]
  },
  {
   "cell_type": "code",
   "execution_count": 1,
   "metadata": {},
   "outputs": [
    {
     "name": "stdout",
     "output_type": "stream",
     "text": [
      "[1, 2, 3, 4, 5]\n"
     ]
    }
   ],
   "source": [
    "lst = [1, 2, 3, 4, 5]\n",
    "print(lst)"
   ]
  },
  {
   "cell_type": "code",
   "execution_count": 2,
   "metadata": {},
   "outputs": [
    {
     "name": "stdout",
     "output_type": "stream",
     "text": [
      "<class 'list'>\n"
     ]
    }
   ],
   "source": [
    "print(type(lst))"
   ]
  },
  {
   "cell_type": "markdown",
   "metadata": {},
   "source": [
    "## Accessing the data from the list\n",
    "- like the most arrays, we can use the index to access the data from the list.\n",
    "- index starts from zero\n",
    "- python also supports negative indices\n",
    "- it also supports slicing"
   ]
  },
  {
   "cell_type": "code",
   "execution_count": 3,
   "metadata": {},
   "outputs": [
    {
     "name": "stdout",
     "output_type": "stream",
     "text": [
      "1\n",
      "2\n",
      "3\n"
     ]
    }
   ],
   "source": [
    "# to get the first element\n",
    "print(lst[0]) # first element\n",
    "print(lst[1]) # second element\n",
    "print(lst[2]) # third element"
   ]
  },
  {
   "cell_type": "code",
   "execution_count": 4,
   "metadata": {},
   "outputs": [
    {
     "name": "stdout",
     "output_type": "stream",
     "text": [
      "5\n",
      "4\n",
      "3\n"
     ]
    }
   ],
   "source": [
    "# negative index\n",
    "print(lst[-1]) # last element\n",
    "print(lst[-2]) # second last element\n",
    "print(lst[-3]) # third last element"
   ]
  },
  {
   "cell_type": "code",
   "execution_count": 5,
   "metadata": {},
   "outputs": [
    {
     "name": "stdout",
     "output_type": "stream",
     "text": [
      "[10, 2, 3, 4, 5]\n"
     ]
    }
   ],
   "source": [
    "# to change the value of an element\n",
    "lst[0] = 10\n",
    "print(lst)"
   ]
  },
  {
   "cell_type": "markdown",
   "metadata": {},
   "source": [
    "## list slicing\n",
    "- slicing takes 3 arguments, start, stop and step\n",
    "- <strong>[start : stop : step]</strong>"
   ]
  },
  {
   "cell_type": "code",
   "execution_count": 6,
   "metadata": {},
   "outputs": [
    {
     "name": "stdout",
     "output_type": "stream",
     "text": [
      "[10, 2, 3]\n",
      "[10, 2, 3]\n"
     ]
    }
   ],
   "source": [
    "print(lst[0:3]) # first three elements\n",
    "print(lst[:3]) # first three elements (same as above but shorter and more pythonic) "
   ]
  },
  {
   "cell_type": "code",
   "execution_count": 7,
   "metadata": {},
   "outputs": [
    {
     "name": "stdout",
     "output_type": "stream",
     "text": [
      "[1, 3, 5, 7, 9]\n"
     ]
    }
   ],
   "source": [
    "lst2 = [1, 2, 3, 4, 5, 6, 7, 8, 9, 10]\n",
    "print(lst2[0:10:2]) # every second element"
   ]
  },
  {
   "cell_type": "markdown",
   "metadata": {},
   "source": [
    "- the above code indicates that the step size is 2, which means starts at zero and jumps two steps further. means from 1 to 2, one step\n",
    "- and 2 to 3, 2 steps"
   ]
  },
  {
   "cell_type": "code",
   "execution_count": 8,
   "metadata": {},
   "outputs": [
    {
     "data": {
      "text/plain": [
       "[2, 4, 6, 8, 10]"
      ]
     },
     "execution_count": 8,
     "metadata": {},
     "output_type": "execute_result"
    }
   ],
   "source": [
    "lst2[1::2] # every second element starting from the second element\n",
    "# note that we can omit the last index if we want to go to the end of the list"
   ]
  },
  {
   "cell_type": "code",
   "execution_count": 9,
   "metadata": {},
   "outputs": [
    {
     "data": {
      "text/plain": [
       "[10, 9, 8, 7, 6, 5, 4, 3, 2, 1]"
      ]
     },
     "execution_count": 9,
     "metadata": {},
     "output_type": "execute_result"
    }
   ],
   "source": [
    "lst2[::-1] # reverse the list"
   ]
  },
  {
   "cell_type": "code",
   "execution_count": 10,
   "metadata": {},
   "outputs": [
    {
     "data": {
      "text/plain": [
       "[1, 3, 5, 7, 9]"
      ]
     },
     "execution_count": 10,
     "metadata": {},
     "output_type": "execute_result"
    }
   ],
   "source": [
    "slc = slice(0, 10, 2)\n",
    "lst2[slc] # same as lst2[0:10:2]"
   ]
  },
  {
   "cell_type": "code",
   "execution_count": 11,
   "metadata": {},
   "outputs": [
    {
     "ename": "SyntaxError",
     "evalue": "invalid syntax (1366537678.py, line 2)",
     "output_type": "error",
     "traceback": [
      "\u001b[0;36m  Cell \u001b[0;32mIn[11], line 2\u001b[0;36m\u001b[0m\n\u001b[0;31m    slc2 = [0:10:2]\u001b[0m\n\u001b[0m             ^\u001b[0m\n\u001b[0;31mSyntaxError\u001b[0m\u001b[0;31m:\u001b[0m invalid syntax\n"
     ]
    }
   ],
   "source": [
    "# you cannot do something like this, that's why we need the slice object described above\n",
    "slc2 = [0:10:2]\n",
    "lst2[slc2] # this will give you an error"
   ]
  },
  {
   "cell_type": "code",
   "execution_count": 12,
   "metadata": {},
   "outputs": [],
   "source": [
    "# using a slice object is more flexible when you want to change the slice dynamically"
   ]
  },
  {
   "cell_type": "markdown",
   "metadata": {},
   "source": [
    "## Multiple data types in the same list"
   ]
  },
  {
   "cell_type": "code",
   "execution_count": 13,
   "metadata": {},
   "outputs": [],
   "source": [
    "# let's make a table with some data like this\n",
    "# name, roll, subjects, marks, grade, gpa, is_pass\n",
    "\n",
    "student1 = ['John', 1, ['Math', 'Science', 'English'], [90, 80, 70], 'A', 3.5, True]\n",
    "# as you can see, we used different data types in a single list which is not possible in other languages\n",
    "# you can observe this kind of structure in SQL databases"
   ]
  },
  {
   "cell_type": "code",
   "execution_count": 14,
   "metadata": {},
   "outputs": [
    {
     "data": {
      "text/plain": [
       "[['John', 1, ['Math', 'Science', 'English'], [90, 80, 70], 'A', 3.5, True],\n",
       " ['Jane', 2, ['Math', 'Science', 'English'], [80, 70, 60], 'B', 3.0, True],\n",
       " ['Jack', 3, ['Math', 'Science', 'English'], [70, 60, 50], 'C', 2.5, True],\n",
       " ['Jill', 4, ['Math', 'Science', 'English'], [60, 50, 40], 'D', 2.0, False]]"
      ]
     },
     "execution_count": 14,
     "metadata": {},
     "output_type": "execute_result"
    }
   ],
   "source": [
    "subjects = ['Math', 'Science', 'English']\n",
    "\n",
    "student_results = [['John', 1, subjects, [90, 80, 70], 'A', 3.5, True],\n",
    "                   ['Jane', 2, subjects, [80, 70, 60], 'B', 3.0, True],\n",
    "                   ['Jack', 3, subjects, [70, 60, 50], 'C', 2.5, True],\n",
    "                   ['Jill', 4, subjects, [60, 50, 40], 'D', 2.0, False]]\n",
    "\n",
    "student_results"
   ]
  },
  {
   "cell_type": "code",
   "execution_count": 15,
   "metadata": {},
   "outputs": [],
   "source": [
    "# the above structure is called a nested list or a list of lists or a 2D list\n",
    "# you can have a list of lists of lists or a 3D list and so on"
   ]
  },
  {
   "cell_type": "markdown",
   "metadata": {},
   "source": [
    "## List Methods"
   ]
  },
  {
   "cell_type": "code",
   "execution_count": 16,
   "metadata": {},
   "outputs": [],
   "source": [
    "# in python everything is an object and a list is also an object.\n",
    "# so each object has some methods associated with it (if you're familiar with OOP)"
   ]
  },
  {
   "cell_type": "code",
   "execution_count": 17,
   "metadata": {},
   "outputs": [
    {
     "data": {
      "text/plain": [
       "['__add__',\n",
       " '__class__',\n",
       " '__class_getitem__',\n",
       " '__contains__',\n",
       " '__delattr__',\n",
       " '__delitem__',\n",
       " '__dir__',\n",
       " '__doc__',\n",
       " '__eq__',\n",
       " '__format__',\n",
       " '__ge__',\n",
       " '__getattribute__',\n",
       " '__getitem__',\n",
       " '__gt__',\n",
       " '__hash__',\n",
       " '__iadd__',\n",
       " '__imul__',\n",
       " '__init__',\n",
       " '__init_subclass__',\n",
       " '__iter__',\n",
       " '__le__',\n",
       " '__len__',\n",
       " '__lt__',\n",
       " '__mul__',\n",
       " '__ne__',\n",
       " '__new__',\n",
       " '__reduce__',\n",
       " '__reduce_ex__',\n",
       " '__repr__',\n",
       " '__reversed__',\n",
       " '__rmul__',\n",
       " '__setattr__',\n",
       " '__setitem__',\n",
       " '__sizeof__',\n",
       " '__str__',\n",
       " '__subclasshook__',\n",
       " 'append',\n",
       " 'clear',\n",
       " 'copy',\n",
       " 'count',\n",
       " 'extend',\n",
       " 'index',\n",
       " 'insert',\n",
       " 'pop',\n",
       " 'remove',\n",
       " 'reverse',\n",
       " 'sort']"
      ]
     },
     "execution_count": 17,
     "metadata": {},
     "output_type": "execute_result"
    }
   ],
   "source": [
    "# to know the methods associated with a list object, you can use the dir() function\n",
    "dir(lst)"
   ]
  },
  {
   "cell_type": "code",
   "execution_count": 18,
   "metadata": {},
   "outputs": [],
   "source": [
    "# dunders are special methods that are used by python internally\n",
    "# you can ignore them for now, they're used for operator overloading and other stuff\n",
    "# dunder methods are always surrounded by double underscores on both sides, e.g. __add__\n",
    "# dunder means double underscore d for double and under for underscore\n",
    "# you can also call them magic methods\n",
    "# as of now, you can ignore them, but they're very useful when you're writing your own classes and go deeper into OOP"
   ]
  },
  {
   "cell_type": "code",
   "execution_count": 19,
   "metadata": {},
   "outputs": [],
   "source": [
    "# so, if we ignore the dunder methods, we're left with the following methods\n",
    "# append, clear, copy, count, extend, index, insert, pop, remove, reverse, sort"
   ]
  },
  {
   "cell_type": "code",
   "execution_count": 20,
   "metadata": {},
   "outputs": [
    {
     "name": "stdout",
     "output_type": "stream",
     "text": [
      "5\n",
      "10\n",
      "4\n",
      "7\n"
     ]
    }
   ],
   "source": [
    "# let's see what each of these methods do\n",
    "\n",
    "# finding length or size of a list\n",
    "print(len(lst)) # lst = [1, 2, 3, 4, 5]\n",
    "print(len(lst2)) # lst2 = [1, 2, 3, 4, 5, 6, 7, 8, 9, 10]\n",
    "print(len(student_results)) \n",
    "print(len(student_results[0])) # number of elements in the first list of student_results"
   ]
  },
  {
   "cell_type": "markdown",
   "metadata": {},
   "source": [
    "note: \n",
    "- when dealing with nested lists, in mathematical term we call it a matrix\n",
    "- so, student_results is a matrix of 4 rows and 7 columns\n",
    "- we can also call it a 4x7 matrix\n",
    "- to get rows, we can use `len(student_results)`\n",
    "- to get columns, we can use `len(student_results[0])`\n",
    "- but sometimes there can be a case where the number of columns in each row is not the same\n",
    "- usually this will not happen when you deal with numbers in python. because you'll be using numpy arrays for that.\n",
    "- and numpy arrays are always rectangular in shape. so, they always have the same number of columns in each row"
   ]
  },
  {
   "cell_type": "code",
   "execution_count": 21,
   "metadata": {},
   "outputs": [
    {
     "name": "stdout",
     "output_type": "stream",
     "text": [
      "[10, 2, 3, 4, 5, 6]\n"
     ]
    }
   ],
   "source": [
    "# append\n",
    "# append is used to add an element at the end of the list\n",
    "\n",
    "lst.append(6)\n",
    "print(lst)"
   ]
  },
  {
   "cell_type": "code",
   "execution_count": 22,
   "metadata": {},
   "outputs": [
    {
     "name": "stdout",
     "output_type": "stream",
     "text": [
      "[10, 2, 3, 4, 5]\n"
     ]
    }
   ],
   "source": [
    "# pop\n",
    "# pop is used to remove an element from the end of the list\n",
    "# if you don't pass any argument, it will remove the last element\n",
    "# if you pass an index, it will remove the element at that index\n",
    "\n",
    "lst.pop()\n",
    "print(lst)"
   ]
  },
  {
   "cell_type": "code",
   "execution_count": 23,
   "metadata": {},
   "outputs": [
    {
     "data": {
      "text/plain": [
       "10"
      ]
     },
     "execution_count": 23,
     "metadata": {},
     "output_type": "execute_result"
    }
   ],
   "source": [
    "lst.pop(0) "
   ]
  },
  {
   "cell_type": "code",
   "execution_count": 24,
   "metadata": {},
   "outputs": [
    {
     "data": {
      "text/plain": [
       "[2, 3, 4, 5]"
      ]
     },
     "execution_count": 24,
     "metadata": {},
     "output_type": "execute_result"
    }
   ],
   "source": [
    "lst"
   ]
  },
  {
   "cell_type": "code",
   "execution_count": 25,
   "metadata": {},
   "outputs": [
    {
     "name": "stdout",
     "output_type": "stream",
     "text": [
      "[2, 3, 4]\n"
     ]
    }
   ],
   "source": [
    "lst.pop(-1)\n",
    "print(lst)"
   ]
  },
  {
   "cell_type": "code",
   "execution_count": 26,
   "metadata": {},
   "outputs": [
    {
     "name": "stdout",
     "output_type": "stream",
     "text": [
      "[2, 4]\n"
     ]
    }
   ],
   "source": [
    "# remove\n",
    "# remove is used to remove an element from the list\n",
    "# if you have duplicate elements in the list, it will remove the first occurrence of the element\n",
    "\n",
    "lst.remove(3) # removes the first occurrence of 3 if it exists\n",
    "\n",
    "# the basic difference between pop and remove is that pop returns the element that was removed and remove doesn't return anything\n",
    "# and pop removes the element by index and remove removes the element by value\n",
    "\n",
    "print(lst)"
   ]
  },
  {
   "cell_type": "code",
   "execution_count": 27,
   "metadata": {},
   "outputs": [
    {
     "name": "stdout",
     "output_type": "stream",
     "text": [
      "4 None\n"
     ]
    }
   ],
   "source": [
    "popped_element = lst.pop() # popped_element will have the value 4\n",
    "removed_element = lst.remove(2) # removed_element will be None\n",
    "print(popped_element, removed_element)"
   ]
  },
  {
   "cell_type": "code",
   "execution_count": 28,
   "metadata": {},
   "outputs": [
    {
     "name": "stdout",
     "output_type": "stream",
     "text": [
      "[]\n"
     ]
    }
   ],
   "source": [
    "print(lst) # list is empty now"
   ]
  },
  {
   "cell_type": "code",
   "execution_count": 29,
   "metadata": {},
   "outputs": [
    {
     "name": "stdout",
     "output_type": "stream",
     "text": [
      "[1]\n"
     ]
    }
   ],
   "source": [
    "# insert\n",
    "# insert is used to insert an element at a specific index\n",
    "lst.insert(0, 1) # insert 1 at index 0\n",
    "\n",
    "# the first argument is the index and the second argument is the value\n",
    "print(lst)"
   ]
  },
  {
   "cell_type": "code",
   "execution_count": 30,
   "metadata": {},
   "outputs": [
    {
     "name": "stdout",
     "output_type": "stream",
     "text": [
      "[1, 6]\n"
     ]
    }
   ],
   "source": [
    "lst.insert(5, 6) # insert 6 at index 5 (but we don't have index 5, so it will be inserted at the end)\n",
    "print(lst)"
   ]
  },
  {
   "cell_type": "code",
   "execution_count": 31,
   "metadata": {},
   "outputs": [],
   "source": [
    "# if we try to insert an element at an index that doesn't exist, it will insert the element at the end of the list"
   ]
  },
  {
   "cell_type": "code",
   "execution_count": 32,
   "metadata": {},
   "outputs": [
    {
     "ename": "TypeError",
     "evalue": "list.append() takes exactly one argument (5 given)",
     "output_type": "error",
     "traceback": [
      "\u001b[0;31m---------------------------------------------------------------------------\u001b[0m",
      "\u001b[0;31mTypeError\u001b[0m                                 Traceback (most recent call last)",
      "Cell \u001b[0;32mIn[32], line 1\u001b[0m\n\u001b[0;32m----> 1\u001b[0m lst\u001b[39m.\u001b[39;49mappend(\u001b[39m2\u001b[39;49m, \u001b[39m3\u001b[39;49m, \u001b[39m4\u001b[39;49m, \u001b[39m5\u001b[39;49m, \u001b[39m6\u001b[39;49m) \u001b[39m# this will give an error because append takes only one argument\u001b[39;00m\n",
      "\u001b[0;31mTypeError\u001b[0m: list.append() takes exactly one argument (5 given)"
     ]
    }
   ],
   "source": [
    "lst.append(2, 3, 4, 5, 6) # this will give an error because append takes only one argument"
   ]
  },
  {
   "cell_type": "code",
   "execution_count": null,
   "metadata": {},
   "outputs": [
    {
     "name": "stdout",
     "output_type": "stream",
     "text": [
      "[1, 6, [2, 3, 4, 5, 6]]\n"
     ]
    }
   ],
   "source": [
    "lst.append([2, 3, 4, 5, 6]) # this will work because we're passing a list as an argument\n",
    "print(lst)"
   ]
  },
  {
   "cell_type": "code",
   "execution_count": null,
   "metadata": {},
   "outputs": [
    {
     "name": "stdout",
     "output_type": "stream",
     "text": [
      "[1, 6, [2, 3, 4, 5, 6], 2, 3, 4, 5, 6]\n"
     ]
    }
   ],
   "source": [
    "# so if we want to add multiple elements at the end of the list, we can use extend\n",
    "\n",
    "lst.extend([2, 3, 4, 5, 6]) # this will work\n",
    "print(lst)"
   ]
  },
  {
   "cell_type": "code",
   "execution_count": 33,
   "metadata": {},
   "outputs": [
    {
     "ename": "IndexError",
     "evalue": "list index out of range",
     "output_type": "error",
     "traceback": [
      "\u001b[0;31m---------------------------------------------------------------------------\u001b[0m",
      "\u001b[0;31mIndexError\u001b[0m                                Traceback (most recent call last)",
      "Cell \u001b[0;32mIn[33], line 1\u001b[0m\n\u001b[0;32m----> 1\u001b[0m \u001b[39mprint\u001b[39m(lst[\u001b[39m2\u001b[39;49m])\n",
      "\u001b[0;31mIndexError\u001b[0m: list index out of range"
     ]
    }
   ],
   "source": [
    "print(lst[2])"
   ]
  },
  {
   "cell_type": "code",
   "execution_count": 34,
   "metadata": {},
   "outputs": [
    {
     "name": "stdout",
     "output_type": "stream",
     "text": [
      "[1, 6, 7]\n"
     ]
    }
   ],
   "source": [
    "# let's insert 7 at index 2\n",
    "lst.insert(2, 7)\n",
    "print(lst)"
   ]
  },
  {
   "cell_type": "code",
   "execution_count": 35,
   "metadata": {},
   "outputs": [],
   "source": [
    "# as we can see, it inserted 7 at index 2 and shifted all the elements to the right.\n",
    "# it won't overwrite the element at index 2"
   ]
  },
  {
   "cell_type": "code",
   "execution_count": 36,
   "metadata": {},
   "outputs": [
    {
     "ename": "IndexError",
     "evalue": "list index out of range",
     "output_type": "error",
     "traceback": [
      "\u001b[0;31m---------------------------------------------------------------------------\u001b[0m",
      "\u001b[0;31mIndexError\u001b[0m                                Traceback (most recent call last)",
      "Cell \u001b[0;32mIn[36], line 1\u001b[0m\n\u001b[0;32m----> 1\u001b[0m \u001b[39mprint\u001b[39m(lst[\u001b[39m3\u001b[39;49m])\n",
      "\u001b[0;31mIndexError\u001b[0m: list index out of range"
     ]
    }
   ],
   "source": [
    "print(lst[3])"
   ]
  },
  {
   "cell_type": "code",
   "execution_count": 37,
   "metadata": {},
   "outputs": [
    {
     "ename": "IndexError",
     "evalue": "list assignment index out of range",
     "output_type": "error",
     "traceback": [
      "\u001b[0;31m---------------------------------------------------------------------------\u001b[0m",
      "\u001b[0;31mIndexError\u001b[0m                                Traceback (most recent call last)",
      "Cell \u001b[0;32mIn[37], line 1\u001b[0m\n\u001b[0;32m----> 1\u001b[0m lst[\u001b[39m3\u001b[39;49m] \u001b[39m=\u001b[39m \u001b[39m8\u001b[39m \u001b[39m# this will overwrite the element at index 3\u001b[39;00m\n\u001b[1;32m      2\u001b[0m \u001b[39mprint\u001b[39m(lst)\n",
      "\u001b[0;31mIndexError\u001b[0m: list assignment index out of range"
     ]
    }
   ],
   "source": [
    "lst[3] = 8 # this will overwrite the element at index 3\n",
    "print(lst)"
   ]
  },
  {
   "cell_type": "code",
   "execution_count": 38,
   "metadata": {},
   "outputs": [],
   "source": [
    "# sort\n",
    "# sort is used to sort the list in ascending order\n",
    "# if the list contains elements of different data types, it will give an error\n",
    "\n",
    "lst.sort()"
   ]
  },
  {
   "cell_type": "code",
   "execution_count": 39,
   "metadata": {},
   "outputs": [
    {
     "data": {
      "text/plain": [
       "[1, 6, 7]"
      ]
     },
     "execution_count": 39,
     "metadata": {},
     "output_type": "execute_result"
    }
   ],
   "source": [
    "lst"
   ]
  },
  {
   "cell_type": "code",
   "execution_count": 40,
   "metadata": {},
   "outputs": [
    {
     "name": "stdout",
     "output_type": "stream",
     "text": [
      "[7, 6, 1]\n"
     ]
    }
   ],
   "source": [
    "# to sort in descending order, we can use the reverse argument\n",
    "lst.sort(reverse=True)\n",
    "print(lst)"
   ]
  },
  {
   "cell_type": "code",
   "execution_count": 41,
   "metadata": {},
   "outputs": [
    {
     "name": "stdout",
     "output_type": "stream",
     "text": [
      "[1, 6, 7]\n",
      "[7, 6, 1]\n"
     ]
    }
   ],
   "source": [
    "# if we want to sort the list without modifying the original list, we can use the sorted function\n",
    "sorted_lst = sorted(lst)\n",
    "print(sorted_lst) # sorted list\n",
    "print(lst) # original list is not modified"
   ]
  },
  {
   "cell_type": "code",
   "execution_count": 42,
   "metadata": {},
   "outputs": [],
   "source": [
    "# this is because all the methods of the list are in-place methods, i.e. they modify the original list"
   ]
  },
  {
   "cell_type": "code",
   "execution_count": 43,
   "metadata": {},
   "outputs": [],
   "source": [
    "# same for reverse\n",
    "\n",
    "lst.reverse()"
   ]
  },
  {
   "cell_type": "code",
   "execution_count": 44,
   "metadata": {},
   "outputs": [
    {
     "data": {
      "text/plain": [
       "[1, 6, 7]"
      ]
     },
     "execution_count": 44,
     "metadata": {},
     "output_type": "execute_result"
    }
   ],
   "source": [
    "lst"
   ]
  },
  {
   "cell_type": "code",
   "execution_count": 45,
   "metadata": {},
   "outputs": [
    {
     "name": "stdout",
     "output_type": "stream",
     "text": [
      "[7, 6, 1]\n"
     ]
    }
   ],
   "source": [
    "reversed_lst = reversed(lst)\n",
    "print(list(reversed_lst)) # reversed list, original list is not modified\n",
    "\n",
    "# wen we use the reversed function, it returns a reverse iterator so we need to convert it to a list"
   ]
  },
  {
   "cell_type": "code",
   "execution_count": 46,
   "metadata": {},
   "outputs": [
    {
     "name": "stdout",
     "output_type": "stream",
     "text": [
      "[1, 6, 7]\n"
     ]
    }
   ],
   "source": [
    "print(lst) # original list is not modified"
   ]
  },
  {
   "cell_type": "code",
   "execution_count": 47,
   "metadata": {},
   "outputs": [
    {
     "name": "stdout",
     "output_type": "stream",
     "text": [
      "1\n",
      "1\n"
     ]
    }
   ],
   "source": [
    "# count\n",
    "\n",
    "print(lst.count(1)) # count the number of occurrences of 1 in the list\n",
    "print(lst.count(6)) # count the number of occurrences of 6 in the list"
   ]
  },
  {
   "cell_type": "code",
   "execution_count": 48,
   "metadata": {},
   "outputs": [
    {
     "name": "stdout",
     "output_type": "stream",
     "text": [
      "0\n"
     ]
    }
   ],
   "source": [
    "# index\n",
    "# this method returns the index of the first occurrence of the element in the list\n",
    "print(lst.index(1)) # index of the first occurrence of 1 in the list"
   ]
  },
  {
   "cell_type": "code",
   "execution_count": 49,
   "metadata": {},
   "outputs": [
    {
     "name": "stdout",
     "output_type": "stream",
     "text": [
      "1\n"
     ]
    },
    {
     "ename": "ValueError",
     "evalue": "90 is not in list",
     "output_type": "error",
     "traceback": [
      "\u001b[0;31m---------------------------------------------------------------------------\u001b[0m",
      "\u001b[0;31mValueError\u001b[0m                                Traceback (most recent call last)",
      "Cell \u001b[0;32mIn[49], line 2\u001b[0m\n\u001b[1;32m      1\u001b[0m \u001b[39mprint\u001b[39m(lst\u001b[39m.\u001b[39mindex(\u001b[39m6\u001b[39m)) \u001b[39m# index of the first occurrence of 6 in the list\u001b[39;00m\n\u001b[0;32m----> 2\u001b[0m \u001b[39mprint\u001b[39m(lst\u001b[39m.\u001b[39;49mindex(\u001b[39m90\u001b[39;49m)) \u001b[39m# this will give an error because 90 is not in the list\u001b[39;00m\n",
      "\u001b[0;31mValueError\u001b[0m: 90 is not in list"
     ]
    }
   ],
   "source": [
    "print(lst.index(6)) # index of the first occurrence of 6 in the list\n",
    "print(lst.index(90)) # this will give an error because 90 is not in the list"
   ]
  },
  {
   "cell_type": "code",
   "execution_count": 50,
   "metadata": {},
   "outputs": [
    {
     "name": "stdout",
     "output_type": "stream",
     "text": [
      "['Some value', 6, 7]\n",
      "['Some value', 6, 7]\n"
     ]
    }
   ],
   "source": [
    "dummy_lst = lst\n",
    "dummy_lst[0] = \"Some value\"\n",
    "print(lst) # both dummy_lst and lst are modified because lists are mutable\n",
    "print(dummy_lst)"
   ]
  },
  {
   "cell_type": "code",
   "execution_count": 51,
   "metadata": {},
   "outputs": [],
   "source": [
    "# this is because, when we assign a list to a variable, it doesn't create a new list, it just creates a reference to the original list"
   ]
  },
  {
   "cell_type": "code",
   "execution_count": 52,
   "metadata": {},
   "outputs": [
    {
     "name": "stdout",
     "output_type": "stream",
     "text": [
      "['Some value', 6, 7]\n",
      "['Some value again', 6, 7]\n"
     ]
    }
   ],
   "source": [
    "# to create a new list, we can use the copy method\n",
    "dummy_lst = lst.copy()\n",
    "dummy_lst[0] = \"Some value again\"\n",
    "print(lst) # lst is not modified\n",
    "print(dummy_lst)"
   ]
  },
  {
   "cell_type": "code",
   "execution_count": 53,
   "metadata": {},
   "outputs": [
    {
     "name": "stdout",
     "output_type": "stream",
     "text": [
      "[]\n"
     ]
    }
   ],
   "source": [
    "# to remove all the elements from the list, we can use the clear method\n",
    "\n",
    "dummy_lst.clear()\n",
    "print(dummy_lst) # dummy_lst is empty now"
   ]
  },
  {
   "cell_type": "markdown",
   "metadata": {},
   "source": [
    "## List Comprehension"
   ]
  },
  {
   "cell_type": "code",
   "execution_count": 54,
   "metadata": {},
   "outputs": [
    {
     "name": "stdout",
     "output_type": "stream",
     "text": [
      "[1, 2, 3, 4, 5, 6, 7, 8, 9]\n",
      "[1, 2, 3, 4, 5, 6, 7, 8, 9]\n"
     ]
    }
   ],
   "source": [
    "# list comprehension is a very powerful feature of python that allows us to create lists in a single line of code.\n",
    "# these are very important and you'll see them a lot in python code\n",
    "\n",
    "example_lst = [1, 2, 3, 4, 5, 6, 7, 8, 9]\n",
    "example_lst_using_list_comprehension = [i for i in range(1, 10)]\n",
    "print(example_lst)\n",
    "print(example_lst_using_list_comprehension)"
   ]
  },
  {
   "cell_type": "code",
   "execution_count": 55,
   "metadata": {},
   "outputs": [
    {
     "name": "stdout",
     "output_type": "stream",
     "text": [
      "[1, 4, 9, 16, 25, 36, 49, 64, 81]\n"
     ]
    }
   ],
   "source": [
    "square_lst = [i**2 for i in example_lst]\n",
    "print(square_lst)"
   ]
  },
  {
   "cell_type": "markdown",
   "metadata": {},
   "source": [
    "---"
   ]
  },
  {
   "cell_type": "code",
   "execution_count": 56,
   "metadata": {},
   "outputs": [
    {
     "name": "stdout",
     "output_type": "stream",
     "text": [
      "[['John', 1, ['Math', 'Science', 'English'], [90, 80, 70], 'A', 3.5, True], ['Jane', 2, ['Math', 'Science', 'English'], [80, 70, 60], 'B', 3.0, True], ['Jack', 3, ['Math', 'Science', 'English'], [70, 60, 50], 'C', 2.5, True], ['Jill', 4, ['Math', 'Science', 'English'], [60, 50, 40], 'D', 2.0, False], ['James', 5, ['Math', 'Science', 'English'], [50, 40, 30], 'E', 1.5, False], ['Jenny', 6, ['Math', 'Science', 'English'], [40, 30, 20], 'F', 1.0, False], ['Jasmine', 7, ['Math', 'Science', 'English'], [30, 20, 10], 'F', 0.5, False]]\n"
     ]
    }
   ],
   "source": [
    "# let's add few more students to the student_results list\n",
    "student_results.append(['James', 5, subjects, [50, 40, 30], 'E', 1.5, False])\n",
    "student_results.append(['Jenny', 6, subjects, [40, 30, 20], 'F', 1.0, False])\n",
    "student_results.append(['Jasmine', 7, subjects, [30, 20, 10], 'F', 0.5, False])\n",
    "\n",
    "print(student_results)"
   ]
  },
  {
   "cell_type": "code",
   "execution_count": 57,
   "metadata": {},
   "outputs": [
    {
     "name": "stdout",
     "output_type": "stream",
     "text": [
      "[['John', 1, ['Math', 'Science', 'English'], [90, 80, 70], 'A', 3.5, True], ['Jane', 2, ['Math', 'Science', 'English'], [80, 70, 60], 'B', 3.0, True], ['Jack', 3, ['Math', 'Science', 'English'], [70, 60, 50], 'C', 2.5, True], ['Jill', 4, ['Math', 'Science', 'English'], [60, 50, 40], 'D', 2.0, False], ['James', 5, ['Math', 'Science', 'English'], [50, 40, 30], 'E', 1.5, False], ['Jenny', 6, ['Math', 'Science', 'English'], [40, 30, 20], 'F', 1.0, False], ['Jasmine', 7, ['Math', 'Science', 'English'], [30, 20, 10], 'F', 0.5, False], ['Tony', 8, ['Math', 'Science', 'English'], [20, 10, 0], 'F', 0.0, False], ['Tina', 9, ['Math', 'Science', 'English'], [10, 0, 0], 'F', 0.0, False], ['Tom', 10, ['Math', 'Science', 'English'], [0, 0, 0], 'F', 0.0, False], ['Tim', 11, ['Math', 'Science', 'English'], [0, 0, 0], 'F', 0.0, False]]\n"
     ]
    }
   ],
   "source": [
    "more_students = [['Tony', 8, subjects, [20, 10, 0], 'F', 0.0, False],\n",
    "                 ['Tina', 9, subjects, [10, 0, 0], 'F', 0.0, False],\n",
    "                 ['Tom', 10, subjects, [0, 0, 0], 'F', 0.0, False],\n",
    "                 ['Tim', 11, subjects, [0, 0, 0], 'F', 0.0, False]]\n",
    "\n",
    "student_results.extend(more_students)\n",
    "print(student_results)"
   ]
  },
  {
   "cell_type": "code",
   "execution_count": 58,
   "metadata": {},
   "outputs": [
    {
     "name": "stdout",
     "output_type": "stream",
     "text": [
      "['John', 1, ['Math', 'Science', 'English'], [90, 80, 70], 'A', 3.5, True]\n",
      "['Jane', 2, ['Math', 'Science', 'English'], [80, 70, 60], 'B', 3.0, True]\n",
      "['Jack', 3, ['Math', 'Science', 'English'], [70, 60, 50], 'C', 2.5, True]\n",
      "['Jill', 4, ['Math', 'Science', 'English'], [60, 50, 40], 'D', 2.0, False]\n",
      "['James', 5, ['Math', 'Science', 'English'], [50, 40, 30], 'E', 1.5, False]\n",
      "['Jenny', 6, ['Math', 'Science', 'English'], [40, 30, 20], 'F', 1.0, False]\n",
      "['Jasmine', 7, ['Math', 'Science', 'English'], [30, 20, 10], 'F', 0.5, False]\n",
      "['Tony', 8, ['Math', 'Science', 'English'], [20, 10, 0], 'F', 0.0, False]\n",
      "['Tina', 9, ['Math', 'Science', 'English'], [10, 0, 0], 'F', 0.0, False]\n",
      "['Tom', 10, ['Math', 'Science', 'English'], [0, 0, 0], 'F', 0.0, False]\n",
      "['Tim', 11, ['Math', 'Science', 'English'], [0, 0, 0], 'F', 0.0, False]\n"
     ]
    }
   ],
   "source": [
    "print(*student_results, sep='\\n')"
   ]
  },
  {
   "cell_type": "markdown",
   "metadata": {},
   "source": [
    "### Assignment"
   ]
  },
  {
   "cell_type": "code",
   "execution_count": 59,
   "metadata": {},
   "outputs": [],
   "source": [
    "# find the total marks of each student\n",
    "# find the average marks of each student\n",
    "# find who got the highest marks in each subject\n",
    "# find who got the highest marks overall\n",
    "# find who scored less than 50 in any subject"
   ]
  },
  {
   "cell_type": "code",
   "execution_count": 60,
   "metadata": {},
   "outputs": [
    {
     "name": "stdout",
     "output_type": "stream",
     "text": [
      "1 - John : 240\n",
      "2 - Jane : 210\n",
      "3 - Jack : 180\n",
      "4 - Jill : 150\n",
      "5 - James : 120\n",
      "6 - Jenny : 90\n",
      "7 - Jasmine : 60\n",
      "8 - Tony : 30\n",
      "9 - Tina : 10\n",
      "10 - Tom : 0\n",
      "11 - Tim : 0\n"
     ]
    }
   ],
   "source": [
    "# let's find the total marks of each student\n",
    "# we can use a for loop for this\n",
    "\n",
    "for student in student_results:\n",
    "    name = student[0]\n",
    "    roll = student[1]\n",
    "    marks = student[3]\n",
    "    print(f'{roll} - {name} : {sum(marks)}')"
   ]
  },
  {
   "cell_type": "code",
   "execution_count": 61,
   "metadata": {},
   "outputs": [
    {
     "name": "stdout",
     "output_type": "stream",
     "text": [
      "1 - John : 80.0\n",
      "2 - Jane : 70.0\n",
      "3 - Jack : 60.0\n",
      "4 - Jill : 50.0\n",
      "5 - James : 40.0\n",
      "6 - Jenny : 30.0\n",
      "7 - Jasmine : 20.0\n",
      "8 - Tony : 10.0\n",
      "9 - Tina : 3.3333333333333335\n",
      "10 - Tom : 0.0\n",
      "11 - Tim : 0.0\n"
     ]
    }
   ],
   "source": [
    "# let's find the average marks of each student\n",
    "\n",
    "for student in student_results:\n",
    "    name = student[0]\n",
    "    roll = student[1]\n",
    "    marks = student[3]\n",
    "    print(f'{roll} - {name} : {sum(marks)/len(marks)}')"
   ]
  },
  {
   "cell_type": "code",
   "execution_count": 62,
   "metadata": {},
   "outputs": [
    {
     "name": "stdout",
     "output_type": "stream",
     "text": [
      "['John', 'Jane', 'Jack', 'Jill', 'James', 'Jenny', 'Jasmine', 'Tony', 'Tina', 'Tom', 'Tim']\n",
      "[[90, 80, 70], [80, 70, 60], [70, 60, 50], [60, 50, 40], [50, 40, 30], [40, 30, 20], [30, 20, 10], [20, 10, 0], [10, 0, 0], [0, 0, 0], [0, 0, 0]]\n"
     ]
    }
   ],
   "source": [
    "# let's find who got the highest marks in each subject\n",
    "# this is a bit tricky\n",
    "\n",
    "# first let's grab all the students in the list\n",
    "students = [student[0] for student in student_results]\n",
    "student_marks = [student[3] for student in student_results]\n",
    "print(students)\n",
    "print(student_marks)"
   ]
  },
  {
   "cell_type": "code",
   "execution_count": 64,
   "metadata": {},
   "outputs": [
    {
     "name": "stdout",
     "output_type": "stream",
     "text": [
      "Math - John : 90\n",
      "Science - John : 80\n",
      "English - John : 70\n"
     ]
    }
   ],
   "source": [
    "for subject in range(len(subjects)):\n",
    "    marks = [student[subject] for student in student_marks]\n",
    "    highest_marks = max(marks)\n",
    "    highest_marks_index = marks.index(highest_marks)\n",
    "    highest_marks_student = students[highest_marks_index]\n",
    "    print(f'{subjects[subject]} - {highest_marks_student} : {highest_marks}')"
   ]
  },
  {
   "cell_type": "code",
   "execution_count": 66,
   "metadata": {},
   "outputs": [
    {
     "name": "stdout",
     "output_type": "stream",
     "text": [
      "Math - Tom : 0\n",
      "Science - Tina : 0\n",
      "English - Tony : 0\n"
     ]
    }
   ],
   "source": [
    "# lowest marks in each subject\n",
    "\n",
    "for subject in range(len(subjects)):\n",
    "    marks = [student[subject] for student in student_marks]\n",
    "    highest_marks = min(marks)\n",
    "    highest_marks_index = marks.index(highest_marks)\n",
    "    highest_marks_student = students[highest_marks_index]\n",
    "    print(f'{subjects[subject]} - {highest_marks_student} : {highest_marks}')"
   ]
  },
  {
   "cell_type": "markdown",
   "metadata": {},
   "source": [
    "# Tuples\n",
    "- tuples in python are very similar to lists but they are immutable\n",
    "- tuples are used when you don't want the data to be changed\n",
    "- tuples are faster than lists"
   ]
  },
  {
   "cell_type": "code",
   "execution_count": 67,
   "metadata": {},
   "outputs": [
    {
     "name": "stdout",
     "output_type": "stream",
     "text": [
      "(1, 2, 3, 4, 5)\n",
      "<class 'tuple'>\n"
     ]
    }
   ],
   "source": [
    "tple = (1, 2, 3, 4, 5)\n",
    "print(tple)\n",
    "print(type(tple))"
   ]
  },
  {
   "cell_type": "code",
   "execution_count": 69,
   "metadata": {},
   "outputs": [
    {
     "ename": "TypeError",
     "evalue": "'tuple' object does not support item assignment",
     "output_type": "error",
     "traceback": [
      "\u001b[0;31m---------------------------------------------------------------------------\u001b[0m",
      "\u001b[0;31mTypeError\u001b[0m                                 Traceback (most recent call last)",
      "Cell \u001b[0;32mIn[69], line 1\u001b[0m\n\u001b[0;32m----> 1\u001b[0m tple[\u001b[39m0\u001b[39;49m] \u001b[39m=\u001b[39m \u001b[39m10\u001b[39m \u001b[39m# this will give an error because tuples are immutable\u001b[39;00m\n",
      "\u001b[0;31mTypeError\u001b[0m: 'tuple' object does not support item assignment"
     ]
    }
   ],
   "source": [
    "tple[0] = 10 # this will give an error because tuples are immutable"
   ]
  },
  {
   "cell_type": "code",
   "execution_count": 71,
   "metadata": {},
   "outputs": [
    {
     "data": {
      "text/plain": [
       "1"
      ]
     },
     "execution_count": 71,
     "metadata": {},
     "output_type": "execute_result"
    }
   ],
   "source": [
    "tple.count(1) # count the number of occurrences of 1 in the tuple"
   ]
  },
  {
   "cell_type": "code",
   "execution_count": 72,
   "metadata": {},
   "outputs": [
    {
     "data": {
      "text/plain": [
       "0"
      ]
     },
     "execution_count": 72,
     "metadata": {},
     "output_type": "execute_result"
    }
   ],
   "source": [
    "tple.index(1) # index of the first occurrence of 1 in the tuple"
   ]
  },
  {
   "cell_type": "code",
   "execution_count": 73,
   "metadata": {},
   "outputs": [
    {
     "data": {
      "text/plain": [
       "(1, 2, 3, [4, 5, 6])"
      ]
     },
     "execution_count": 73,
     "metadata": {},
     "output_type": "execute_result"
    }
   ],
   "source": [
    "tple2 = (1, 2, 3, [4, 5, 6])\n",
    "tple2"
   ]
  },
  {
   "cell_type": "code",
   "execution_count": 74,
   "metadata": {},
   "outputs": [
    {
     "data": {
      "text/plain": [
       "(1, 2, 3, [10, 5, 6])"
      ]
     },
     "execution_count": 74,
     "metadata": {},
     "output_type": "execute_result"
    }
   ],
   "source": [
    "tple2[3][0] = 10 # this will work because we're changing the list inside the tuple and not the tuple itself\n",
    "tple2"
   ]
  },
  {
   "cell_type": "markdown",
   "metadata": {},
   "source": [
    "# Dictionaries"
   ]
  },
  {
   "cell_type": "code",
   "execution_count": 84,
   "metadata": {},
   "outputs": [],
   "source": [
    "# Dictionary or hashmap is a data structure that stores data in key-value pairs\n",
    "# it is very similar to a list but instead of accessing elements using an index, we access elements using a key\n",
    "# a key can be any immutable data type like a string, number, tuple etc.\n",
    "# a value can be any data type like a string, number, list, tuple, dictionary etc."
   ]
  },
  {
   "cell_type": "code",
   "execution_count": 89,
   "metadata": {},
   "outputs": [
    {
     "name": "stdout",
     "output_type": "stream",
     "text": [
      "{'name': 'John', 'roll': 1, 'subjects': ['Math', 'Science', 'English'], 'marks': [90, 80, 70], 'grade': 'A', 'gpa': 3.5, 'is_pass': True}\n"
     ]
    }
   ],
   "source": [
    "dictionary = {\n",
    "    'name': 'John',\n",
    "    'roll': 1,\n",
    "    'subjects': ['Math', 'Science', 'English'],\n",
    "    'marks': [90, 80, 70],\n",
    "    'grade': 'A',\n",
    "    'gpa': 3.5,\n",
    "    'is_pass': True\n",
    "}\n",
    "\n",
    "print(dictionary)"
   ]
  },
  {
   "cell_type": "code",
   "execution_count": 90,
   "metadata": {},
   "outputs": [
    {
     "data": {
      "text/plain": [
       "'John'"
      ]
     },
     "execution_count": 90,
     "metadata": {},
     "output_type": "execute_result"
    }
   ],
   "source": [
    "dictionary['name']"
   ]
  },
  {
   "cell_type": "code",
   "execution_count": 91,
   "metadata": {},
   "outputs": [
    {
     "name": "stdout",
     "output_type": "stream",
     "text": [
      "{'name': 'Jane', 'roll': 1, 'subjects': ['Math', 'Science', 'English'], 'marks': [90, 80, 70], 'grade': 'A', 'gpa': 3.5, 'is_pass': True}\n"
     ]
    }
   ],
   "source": [
    "dictionary['name'] = 'Jane'\n",
    "print(dictionary)"
   ]
  },
  {
   "cell_type": "code",
   "execution_count": 98,
   "metadata": {},
   "outputs": [
    {
     "name": "stdout",
     "output_type": "stream",
     "text": [
      "{1: 1, 2: 4, 3: 9, 4: 16, 5: 25, 6: 36, 7: 49, 8: 64, 9: 81, 10: 100}\n"
     ]
    }
   ],
   "source": [
    "squares_dict = {i: i**2 for i in range(1, 11)} # dictionary comprehension\n",
    "print(squares_dict)"
   ]
  },
  {
   "cell_type": "code",
   "execution_count": 99,
   "metadata": {},
   "outputs": [],
   "source": [
    "students_results_dict = {\n",
    "    1: {\n",
    "        'name': 'John',\n",
    "        'subjects': ['Math', 'Science', 'English'],\n",
    "        'marks': [90, 80, 70],\n",
    "        'grade': 'A',\n",
    "        'gpa': 3.5,\n",
    "        'is_pass': True\n",
    "    },\n",
    "    2: {\n",
    "        'name': 'Jane',\n",
    "        'subjects': ['Math', 'Science', 'English'],\n",
    "        'marks': [80, 70, 60],\n",
    "        'grade': 'B+',\n",
    "        'gpa': 3.0,\n",
    "        'is_pass': True\n",
    "    },\n",
    "    3: {\n",
    "        'name': 'Jack',\n",
    "        'subjects': ['Math', 'Science', 'English'],\n",
    "        'marks': [70, 60, 50],\n",
    "        'grade': 'B',\n",
    "        'gpa': 3.0,\n",
    "        'is_pass': True\n",
    "    },\n",
    "    4: {\n",
    "        'name': 'Jill',\n",
    "        'subjects': ['Math', 'Science', 'English'],\n",
    "        'marks': [60, 50, 40],\n",
    "        'grade': 'B+',\n",
    "        'gpa': 3.0,\n",
    "        'is_pass': True\n",
    "    }\n",
    "}"
   ]
  },
  {
   "cell_type": "code",
   "execution_count": 100,
   "metadata": {},
   "outputs": [],
   "source": [
    "# adding a new student\n",
    "students_results_dict[5] = {\n",
    "    'name': 'James',\n",
    "    'subjects': ['Math', 'Science', 'English'],\n",
    "    'marks': [50, 40, 30],\n",
    "    'grade': 'B+',\n",
    "    'gpa': 3.0,\n",
    "    'is_pass': True\n",
    "}"
   ]
  },
  {
   "cell_type": "code",
   "execution_count": 104,
   "metadata": {},
   "outputs": [
    {
     "data": {
      "text/plain": [
       "{'name': 'Jenny',\n",
       " 'subjects': ['Math', 'Science', 'English'],\n",
       " 'marks': [40, 30, 20],\n",
       " 'grade': 'B+',\n",
       " 'gpa': 3.0,\n",
       " 'is_pass': True}"
      ]
     },
     "execution_count": 104,
     "metadata": {},
     "output_type": "execute_result"
    }
   ],
   "source": [
    "students_results_dict.setdefault(8, {\n",
    "    'name': 'Jenny',\n",
    "    'subjects': ['Math', 'Science', 'English'],\n",
    "    'marks': [40, 30, 20],\n",
    "    'grade': 'B+',\n",
    "    'gpa': 3.0,\n",
    "    'is_pass': True\n",
    "}) # this will add a new student only if the key doesn't exist"
   ]
  },
  {
   "cell_type": "code",
   "execution_count": 105,
   "metadata": {},
   "outputs": [
    {
     "name": "stdout",
     "output_type": "stream",
     "text": [
      "dict_keys([1, 2, 3, 4, 5, 6, 8])\n"
     ]
    }
   ],
   "source": [
    "# let's get keys and values from the dictionary\n",
    "print(students_results_dict.keys())"
   ]
  },
  {
   "cell_type": "code",
   "execution_count": 106,
   "metadata": {},
   "outputs": [
    {
     "name": "stdout",
     "output_type": "stream",
     "text": [
      "dict_values([{'name': 'John', 'subjects': ['Math', 'Science', 'English'], 'marks': [90, 80, 70], 'grade': 'A', 'gpa': 3.5, 'is_pass': True}, {'name': 'Jane', 'subjects': ['Math', 'Science', 'English'], 'marks': [80, 70, 60], 'grade': 'B', 'gpa': 3.0, 'is_pass': True}, {'name': 'Jack', 'subjects': ['Math', 'Science', 'English'], 'marks': [70, 60, 50], 'grade': 'C', 'gpa': 2.5, 'is_pass': True}, {'name': 'Jill', 'subjects': ['Math', 'Science', 'English'], 'marks': [60, 50, 40], 'grade': 'D', 'gpa': 2.0, 'is_pass': False}, {'name': 'James', 'subjects': ['Math', 'Science', 'English'], 'marks': [50, 40, 30], 'grade': 'B+', 'gpa': 3.0, 'is_pass': True}, {'name': 'Jenny', 'subjects': ['Math', 'Science', 'English'], 'marks': [40, 30, 20], 'grade': 'B+', 'gpa': 3.0, 'is_pass': True}, {'name': 'Jenny', 'subjects': ['Math', 'Science', 'English'], 'marks': [40, 30, 20], 'grade': 'B+', 'gpa': 3.0, 'is_pass': True}])\n"
     ]
    }
   ],
   "source": [
    "print(students_results_dict.values())"
   ]
  },
  {
   "cell_type": "code",
   "execution_count": 107,
   "metadata": {},
   "outputs": [
    {
     "name": "stdout",
     "output_type": "stream",
     "text": [
      "dict_items([(1, {'name': 'John', 'subjects': ['Math', 'Science', 'English'], 'marks': [90, 80, 70], 'grade': 'A', 'gpa': 3.5, 'is_pass': True}), (2, {'name': 'Jane', 'subjects': ['Math', 'Science', 'English'], 'marks': [80, 70, 60], 'grade': 'B', 'gpa': 3.0, 'is_pass': True}), (3, {'name': 'Jack', 'subjects': ['Math', 'Science', 'English'], 'marks': [70, 60, 50], 'grade': 'C', 'gpa': 2.5, 'is_pass': True}), (4, {'name': 'Jill', 'subjects': ['Math', 'Science', 'English'], 'marks': [60, 50, 40], 'grade': 'D', 'gpa': 2.0, 'is_pass': False}), (5, {'name': 'James', 'subjects': ['Math', 'Science', 'English'], 'marks': [50, 40, 30], 'grade': 'B+', 'gpa': 3.0, 'is_pass': True}), (6, {'name': 'Jenny', 'subjects': ['Math', 'Science', 'English'], 'marks': [40, 30, 20], 'grade': 'B+', 'gpa': 3.0, 'is_pass': True}), (8, {'name': 'Jenny', 'subjects': ['Math', 'Science', 'English'], 'marks': [40, 30, 20], 'grade': 'B+', 'gpa': 3.0, 'is_pass': True})])\n"
     ]
    }
   ],
   "source": [
    "print(students_results_dict.items())"
   ]
  },
  {
   "cell_type": "code",
   "execution_count": 108,
   "metadata": {},
   "outputs": [
    {
     "data": {
      "text/plain": [
       "{'name': 'John',\n",
       " 'subjects': ['Math', 'Science', 'English'],\n",
       " 'marks': [90, 80, 70],\n",
       " 'grade': 'A',\n",
       " 'gpa': 3.5,\n",
       " 'is_pass': True}"
      ]
     },
     "execution_count": 108,
     "metadata": {},
     "output_type": "execute_result"
    }
   ],
   "source": [
    "students_results_dict.get(1) # get the value of the key 1"
   ]
  },
  {
   "cell_type": "code",
   "execution_count": 110,
   "metadata": {},
   "outputs": [
    {
     "name": "stdout",
     "output_type": "stream",
     "text": [
      "None\n"
     ]
    }
   ],
   "source": [
    "print(students_results_dict.get(10)) # this will return None because the key 10 doesn't exist "
   ]
  },
  {
   "cell_type": "code",
   "execution_count": 111,
   "metadata": {},
   "outputs": [
    {
     "data": {
      "text/plain": [
       "'Key not found'"
      ]
     },
     "execution_count": 111,
     "metadata": {},
     "output_type": "execute_result"
    }
   ],
   "source": [
    "students_results_dict.get(10, 'Key not found') # this will return 'Key not found' because the key 10 doesn't exist"
   ]
  },
  {
   "cell_type": "code",
   "execution_count": 112,
   "metadata": {},
   "outputs": [
    {
     "ename": "KeyError",
     "evalue": "10",
     "output_type": "error",
     "traceback": [
      "\u001b[0;31m---------------------------------------------------------------------------\u001b[0m",
      "\u001b[0;31mKeyError\u001b[0m                                  Traceback (most recent call last)",
      "Cell \u001b[0;32mIn[112], line 1\u001b[0m\n\u001b[0;32m----> 1\u001b[0m students_results_dict[\u001b[39m10\u001b[39;49m] \u001b[39m# this will give an error because the key 10 doesn't exist\u001b[39;00m\n",
      "\u001b[0;31mKeyError\u001b[0m: 10"
     ]
    }
   ],
   "source": [
    "students_results_dict[10] # this will give an error because the key 10 doesn't exist"
   ]
  },
  {
   "cell_type": "code",
   "execution_count": 113,
   "metadata": {},
   "outputs": [
    {
     "data": {
      "text/plain": [
       "{'name': 'John',\n",
       " 'subjects': ['Math', 'Science', 'English'],\n",
       " 'marks': [90, 80, 70],\n",
       " 'grade': 'A',\n",
       " 'gpa': 3.5,\n",
       " 'is_pass': True}"
      ]
     },
     "execution_count": 113,
     "metadata": {},
     "output_type": "execute_result"
    }
   ],
   "source": [
    "students_results_dict.pop(1) # this will remove the key 1 and return the value of the key 1"
   ]
  },
  {
   "cell_type": "code",
   "execution_count": 114,
   "metadata": {},
   "outputs": [
    {
     "ename": "TypeError",
     "evalue": "pop expected at least 1 argument, got 0",
     "output_type": "error",
     "traceback": [
      "\u001b[0;31m---------------------------------------------------------------------------\u001b[0m",
      "\u001b[0;31mTypeError\u001b[0m                                 Traceback (most recent call last)",
      "Cell \u001b[0;32mIn[114], line 1\u001b[0m\n\u001b[0;32m----> 1\u001b[0m students_results_dict\u001b[39m.\u001b[39;49mpop() \u001b[39m# this will give an error because pop takes one argument\u001b[39;00m\n",
      "\u001b[0;31mTypeError\u001b[0m: pop expected at least 1 argument, got 0"
     ]
    }
   ],
   "source": [
    "students_results_dict.pop() # this will give an error because pop takes one argument"
   ]
  },
  {
   "cell_type": "code",
   "execution_count": 115,
   "metadata": {},
   "outputs": [
    {
     "data": {
      "text/plain": [
       "(8,\n",
       " {'name': 'Jenny',\n",
       "  'subjects': ['Math', 'Science', 'English'],\n",
       "  'marks': [40, 30, 20],\n",
       "  'grade': 'B+',\n",
       "  'gpa': 3.0,\n",
       "  'is_pass': True})"
      ]
     },
     "execution_count": 115,
     "metadata": {},
     "output_type": "execute_result"
    }
   ],
   "source": [
    "students_results_dict.popitem() # this will remove the last key-value pair and return the key-value pair"
   ]
  },
  {
   "cell_type": "code",
   "execution_count": 116,
   "metadata": {},
   "outputs": [],
   "source": [
    "students_results_dict.update({1: {\n",
    "        'name': 'John',\n",
    "        'subjects': ['Math', 'Science', 'English'],\n",
    "        'marks': [90, 80, 70],\n",
    "        'grade': 'A',\n",
    "}})"
   ]
  },
  {
   "cell_type": "code",
   "execution_count": 117,
   "metadata": {},
   "outputs": [
    {
     "data": {
      "text/plain": [
       "{2: {'name': 'Jane',\n",
       "  'subjects': ['Math', 'Science', 'English'],\n",
       "  'marks': [80, 70, 60],\n",
       "  'grade': 'B',\n",
       "  'gpa': 3.0,\n",
       "  'is_pass': True},\n",
       " 3: {'name': 'Jack',\n",
       "  'subjects': ['Math', 'Science', 'English'],\n",
       "  'marks': [70, 60, 50],\n",
       "  'grade': 'C',\n",
       "  'gpa': 2.5,\n",
       "  'is_pass': True},\n",
       " 4: {'name': 'Jill',\n",
       "  'subjects': ['Math', 'Science', 'English'],\n",
       "  'marks': [60, 50, 40],\n",
       "  'grade': 'D',\n",
       "  'gpa': 2.0,\n",
       "  'is_pass': False},\n",
       " 5: {'name': 'James',\n",
       "  'subjects': ['Math', 'Science', 'English'],\n",
       "  'marks': [50, 40, 30],\n",
       "  'grade': 'B+',\n",
       "  'gpa': 3.0,\n",
       "  'is_pass': True},\n",
       " 6: {'name': 'Jenny',\n",
       "  'subjects': ['Math', 'Science', 'English'],\n",
       "  'marks': [40, 30, 20],\n",
       "  'grade': 'B+',\n",
       "  'gpa': 3.0,\n",
       "  'is_pass': True},\n",
       " 1: {'name': 'John',\n",
       "  'subjects': ['Math', 'Science', 'English'],\n",
       "  'marks': [90, 80, 70],\n",
       "  'grade': 'A'}}"
      ]
     },
     "execution_count": 117,
     "metadata": {},
     "output_type": "execute_result"
    }
   ],
   "source": [
    "students_results_dict"
   ]
  },
  {
   "cell_type": "markdown",
   "metadata": {},
   "source": [
    "# Sets"
   ]
  },
  {
   "cell_type": "code",
   "execution_count": 118,
   "metadata": {},
   "outputs": [],
   "source": [
    "# sets are unordered collections of unique elements, i.e. they don't allow duplicate elements\n",
    "# sets are very useful when you want to remove duplicate elements from a list\n",
    "# sets are also very useful when you want to perform set operations like union, intersection, difference etc.\n",
    "# the syntax for creating a set is very similar to a dictionary but without the key-value pairs"
   ]
  },
  {
   "cell_type": "code",
   "execution_count": 121,
   "metadata": {},
   "outputs": [
    {
     "name": "stdout",
     "output_type": "stream",
     "text": [
      "<class 'set'>\n",
      "<class 'set'>\n"
     ]
    }
   ],
   "source": [
    "set1 = set() # empty set\n",
    "set2 = {1, 2, 3, 4, 5} # set with some elements\n",
    "print(type(set1))\n",
    "print(type(set2))"
   ]
  },
  {
   "cell_type": "code",
   "execution_count": 122,
   "metadata": {},
   "outputs": [],
   "source": [
    "set1.add(1) # add an element to the set\n",
    "set2.add(1)"
   ]
  },
  {
   "cell_type": "code",
   "execution_count": 123,
   "metadata": {},
   "outputs": [
    {
     "name": "stdout",
     "output_type": "stream",
     "text": [
      "{1} {1, 2, 3, 4, 5}\n"
     ]
    }
   ],
   "source": [
    "print(set1, set2)"
   ]
  },
  {
   "cell_type": "code",
   "execution_count": 124,
   "metadata": {},
   "outputs": [],
   "source": [
    "# even if we add the same element multiple times, it will only be added once"
   ]
  },
  {
   "cell_type": "code",
   "execution_count": 125,
   "metadata": {},
   "outputs": [],
   "source": [
    "for i in range(1, 11):\n",
    "    set1.add(i)"
   ]
  },
  {
   "cell_type": "code",
   "execution_count": 126,
   "metadata": {},
   "outputs": [
    {
     "data": {
      "text/plain": [
       "{1, 2, 3, 4, 5, 6, 7, 8, 9, 10}"
      ]
     },
     "execution_count": 126,
     "metadata": {},
     "output_type": "execute_result"
    }
   ],
   "source": [
    "set1"
   ]
  },
  {
   "cell_type": "code",
   "execution_count": 127,
   "metadata": {},
   "outputs": [
    {
     "data": {
      "text/plain": [
       "{1, 2, 3, 4, 5, 6, 7, 8, 9, 10}"
      ]
     },
     "execution_count": 127,
     "metadata": {},
     "output_type": "execute_result"
    }
   ],
   "source": [
    "set1.union(set2) # union of two sets"
   ]
  },
  {
   "cell_type": "code",
   "execution_count": 128,
   "metadata": {},
   "outputs": [
    {
     "data": {
      "text/plain": [
       "{6, 7, 8, 9, 10}"
      ]
     },
     "execution_count": 128,
     "metadata": {},
     "output_type": "execute_result"
    }
   ],
   "source": [
    "set1.difference(set2) # difference of two sets"
   ]
  },
  {
   "cell_type": "code",
   "execution_count": 129,
   "metadata": {},
   "outputs": [],
   "source": [
    "set1.difference_update(set2) # difference of two sets and update the first set"
   ]
  },
  {
   "cell_type": "code",
   "execution_count": 130,
   "metadata": {},
   "outputs": [
    {
     "data": {
      "text/plain": [
       "{6, 7, 8, 9, 10}"
      ]
     },
     "execution_count": 130,
     "metadata": {},
     "output_type": "execute_result"
    }
   ],
   "source": [
    "set1"
   ]
  },
  {
   "cell_type": "code",
   "execution_count": 131,
   "metadata": {},
   "outputs": [],
   "source": [
    "# if we notice, set1 has the difference of set1 and set2"
   ]
  },
  {
   "cell_type": "markdown",
   "metadata": {},
   "source": [
    "# Strings"
   ]
  },
  {
   "cell_type": "code",
   "execution_count": 132,
   "metadata": {},
   "outputs": [],
   "source": [
    "# strings are immutable sequences of characters, i.e. you cannot change a string once it is created\n",
    "# but when we try to change, it doesn't give an error, it just creates a new string"
   ]
  },
  {
   "cell_type": "code",
   "execution_count": 133,
   "metadata": {},
   "outputs": [],
   "source": [
    "# strings are objects and they have some methods associated with them"
   ]
  },
  {
   "cell_type": "code",
   "execution_count": 134,
   "metadata": {},
   "outputs": [
    {
     "name": "stdout",
     "output_type": "stream",
     "text": [
      "Hello World\n",
      "Hello\n",
      "world\n",
      "\n"
     ]
    }
   ],
   "source": [
    "string = 'Hello World'\n",
    "print(string)\n",
    "multi_line_string = '''Hello\n",
    "world\n",
    "'''\n",
    "\n",
    "print(multi_line_string)"
   ]
  },
  {
   "cell_type": "code",
   "execution_count": 136,
   "metadata": {},
   "outputs": [
    {
     "name": "stdout",
     "output_type": "stream",
     "text": [
      "H e l l o   W o r l d "
     ]
    }
   ],
   "source": [
    "# strings are iterable, i.e. we can iterate over them using a for loop\n",
    "for char in string:\n",
    "    print(char, end=' ')"
   ]
  },
  {
   "cell_type": "code",
   "execution_count": 137,
   "metadata": {},
   "outputs": [
    {
     "data": {
      "text/plain": [
       "'Hello World'"
      ]
     },
     "execution_count": 137,
     "metadata": {},
     "output_type": "execute_result"
    }
   ],
   "source": [
    "string.title() # convert the first letter of each word to uppercase"
   ]
  },
  {
   "cell_type": "code",
   "execution_count": 139,
   "metadata": {},
   "outputs": [
    {
     "data": {
      "text/plain": [
       "'Hello world'"
      ]
     },
     "execution_count": 139,
     "metadata": {},
     "output_type": "execute_result"
    }
   ],
   "source": [
    "string.capitalize() # convert the first letter of the first word to uppercase"
   ]
  },
  {
   "cell_type": "code",
   "execution_count": 140,
   "metadata": {},
   "outputs": [
    {
     "data": {
      "text/plain": [
       "'hello world'"
      ]
     },
     "execution_count": 140,
     "metadata": {},
     "output_type": "execute_result"
    }
   ],
   "source": [
    "string.casefold() # convert the string to lowercase"
   ]
  },
  {
   "cell_type": "code",
   "execution_count": 144,
   "metadata": {},
   "outputs": [
    {
     "data": {
      "text/plain": [
       "'hello world'"
      ]
     },
     "execution_count": 144,
     "metadata": {},
     "output_type": "execute_result"
    }
   ],
   "source": [
    "string.lower() # convert the string to lowercase"
   ]
  },
  {
   "cell_type": "code",
   "execution_count": 145,
   "metadata": {},
   "outputs": [
    {
     "data": {
      "text/plain": [
       "'    Hello World     '"
      ]
     },
     "execution_count": 145,
     "metadata": {},
     "output_type": "execute_result"
    }
   ],
   "source": [
    "string.center(20) # center the string in a string of length 20"
   ]
  },
  {
   "cell_type": "code",
   "execution_count": 146,
   "metadata": {},
   "outputs": [
    {
     "data": {
      "text/plain": [
       "3"
      ]
     },
     "execution_count": 146,
     "metadata": {},
     "output_type": "execute_result"
    }
   ],
   "source": [
    "string.count('l') # count the number of occurrences of 'l' in the string"
   ]
  },
  {
   "cell_type": "code",
   "execution_count": 149,
   "metadata": {},
   "outputs": [
    {
     "data": {
      "text/plain": [
       "True"
      ]
     },
     "execution_count": 149,
     "metadata": {},
     "output_type": "execute_result"
    }
   ],
   "source": [
    "string.endswith('d') # check if the string ends with 'd'"
   ]
  },
  {
   "cell_type": "code",
   "execution_count": 150,
   "metadata": {},
   "outputs": [
    {
     "data": {
      "text/plain": [
       "True"
      ]
     },
     "execution_count": 150,
     "metadata": {},
     "output_type": "execute_result"
    }
   ],
   "source": [
    "string.startswith('H') # check if the string starts with 'H'"
   ]
  },
  {
   "cell_type": "code",
   "execution_count": 151,
   "metadata": {},
   "outputs": [
    {
     "data": {
      "text/plain": [
       "2"
      ]
     },
     "execution_count": 151,
     "metadata": {},
     "output_type": "execute_result"
    }
   ],
   "source": [
    "string.find('l') # find the index of the first occurrence of 'l' in the string"
   ]
  },
  {
   "cell_type": "code",
   "execution_count": 152,
   "metadata": {},
   "outputs": [
    {
     "data": {
      "text/plain": [
       "False"
      ]
     },
     "execution_count": 152,
     "metadata": {},
     "output_type": "execute_result"
    }
   ],
   "source": [
    "string.isalnum() # check if the string is alphanumeric"
   ]
  },
  {
   "cell_type": "code",
   "execution_count": 155,
   "metadata": {},
   "outputs": [
    {
     "name": "stdout",
     "output_type": "stream",
     "text": [
      "False\n",
      "True\n"
     ]
    }
   ],
   "source": [
    "# this will give you False because the string contains a space\n",
    "print(string.isalpha()) # check if the string is alphabetic,\n",
    "\n",
    "print(string.isascii()) # check if the string contains only ascii characters"
   ]
  },
  {
   "cell_type": "code",
   "execution_count": 157,
   "metadata": {},
   "outputs": [
    {
     "name": "stdout",
     "output_type": "stream",
     "text": [
      "False\n"
     ]
    }
   ],
   "source": [
    "print(string.isdecimal()) # check if the string contains only decimal characters"
   ]
  },
  {
   "cell_type": "code",
   "execution_count": 159,
   "metadata": {},
   "outputs": [
    {
     "data": {
      "text/plain": [
       "'HeLLo WorLd'"
      ]
     },
     "execution_count": 159,
     "metadata": {},
     "output_type": "execute_result"
    }
   ],
   "source": [
    "string.replace('l', 'L') # replace all the occurrences of 'l' with 'L'"
   ]
  },
  {
   "cell_type": "code",
   "execution_count": 160,
   "metadata": {},
   "outputs": [],
   "source": [
    "# note that, all these methods are not in-place methods, i.e. they don't modify the original string"
   ]
  },
  {
   "cell_type": "code",
   "execution_count": 162,
   "metadata": {},
   "outputs": [
    {
     "data": {
      "text/plain": [
       "'Hello World'"
      ]
     },
     "execution_count": 162,
     "metadata": {},
     "output_type": "execute_result"
    }
   ],
   "source": [
    "string # original string is not modified"
   ]
  },
  {
   "cell_type": "code",
   "execution_count": 163,
   "metadata": {},
   "outputs": [
    {
     "data": {
      "text/plain": [
       "['This', 'is', 'a', 'string']"
      ]
     },
     "execution_count": 163,
     "metadata": {},
     "output_type": "execute_result"
    }
   ],
   "source": [
    "\"This is a string\".split() # split the string into a list of words"
   ]
  },
  {
   "cell_type": "code",
   "execution_count": 164,
   "metadata": {},
   "outputs": [
    {
     "data": {
      "text/plain": [
       "16"
      ]
     },
     "execution_count": 164,
     "metadata": {},
     "output_type": "execute_result"
    }
   ],
   "source": [
    "len(\"This is a string\")"
   ]
  },
  {
   "cell_type": "code",
   "execution_count": 168,
   "metadata": {},
   "outputs": [
    {
     "data": {
      "text/plain": [
       "'helloworld'"
      ]
     },
     "execution_count": 168,
     "metadata": {},
     "output_type": "execute_result"
    }
   ],
   "source": [
    "\"hello\" + \"world\" # concatenate two strings"
   ]
  },
  {
   "cell_type": "code",
   "execution_count": 169,
   "metadata": {},
   "outputs": [
    {
     "data": {
      "text/plain": [
       "'helloworld'"
      ]
     },
     "execution_count": 169,
     "metadata": {},
     "output_type": "execute_result"
    }
   ],
   "source": [
    "\"\".join(['hello', 'world']) # join a list of strings into a single string"
   ]
  },
  {
   "cell_type": "code",
   "execution_count": null,
   "metadata": {},
   "outputs": [],
   "source": []
  }
 ],
 "metadata": {
  "kernelspec": {
   "display_name": "Python 3",
   "language": "python",
   "name": "python3"
  },
  "language_info": {
   "codemirror_mode": {
    "name": "ipython",
    "version": 3
   },
   "file_extension": ".py",
   "mimetype": "text/x-python",
   "name": "python",
   "nbconvert_exporter": "python",
   "pygments_lexer": "ipython3",
   "version": "3.10.12"
  },
  "orig_nbformat": 4
 },
 "nbformat": 4,
 "nbformat_minor": 2
}
