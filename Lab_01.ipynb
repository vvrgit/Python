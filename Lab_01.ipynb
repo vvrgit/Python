{
  "nbformat": 4,
  "nbformat_minor": 0,
  "metadata": {
    "colab": {
      "provenance": [],
      "authorship_tag": "ABX9TyOGX79c3UAssNUAsFIvTlWQ",
      "include_colab_link": true
    },
    "kernelspec": {
      "name": "python3",
      "display_name": "Python 3"
    },
    "language_info": {
      "name": "python"
    }
  },
  "cells": [
    {
      "cell_type": "markdown",
      "metadata": {
        "id": "view-in-github",
        "colab_type": "text"
      },
      "source": [
        "<a href=\"https://colab.research.google.com/github/vvrgit/Python/blob/main/Lab_01.ipynb\" target=\"_parent\"><img src=\"https://colab.research.google.com/assets/colab-badge.svg\" alt=\"Open In Colab\"/></a>"
      ]
    },
    {
      "cell_type": "code",
      "execution_count": 4,
      "metadata": {
        "colab": {
          "base_uri": "https://localhost:8080/"
        },
        "id": "r_twB0rmfqIX",
        "outputId": "2d40fec8-5bfe-4c3d-d41a-99957ea2fa34"
      },
      "outputs": [
        {
          "output_type": "stream",
          "name": "stdout",
          "text": [
            "Enter Transformer Rating in VA5000\n",
            "Enter Transformer core losses in Watts100\n",
            "Enter Transformer full load copper losses in Watts800\n",
            "enter Transformer power factor1\n",
            "Transformre Loading1\n",
            "Rating of Tansformer= 5000.0 VA\n",
            "core losses of Tansformer= 100.0 W\n",
            "Full load copper losses of Tansformer= 800.0 W\n",
            "power factor= 1.0\n",
            "Transformer Loadingr= 1.0\n",
            "Copper losses= 800.0 W\n",
            "Effeciency= 84.7457627118644 %\n",
            "Loading at which tranfomrer has max Effeciency= 35.35533905932738 %\n"
          ]
        }
      ],
      "source": [
        "import math as mt\n",
        "rating=input(\"Enter Transformer Rating in VA\")\n",
        "core=input(\"Enter Transformer core losses in Watts\")\n",
        "fcl=input(\"Enter Transformer full load copper losses in Watts\")\n",
        "pf=input(\"enter Transformer power factor\")\n",
        "k=input(\"Transformre Loading\")\n",
        "\n",
        "op=float(k)*float(rating)*float(pf)\n",
        "cl=(float(k)**2)*float(fcl)\n",
        "eff=(op*100)/(op+float(core)+cl)\n",
        "kmax=mt.sqrt(float(core)/float(fcl))\n",
        "\n",
        "\n",
        "print(\"Rating of Tansformer=\", float(rating),\"VA\")\n",
        "print(\"core losses of Tansformer=\", float(core),\"W\")\n",
        "print(\"Full load copper losses of Tansformer=\", float(fcl),\"W\")\n",
        "print(\"power factor=\", float(pf))\n",
        "print(\"Transformer Loadingr=\", float(k))\n",
        "\n",
        "print(\"Copper losses=\", cl,\"W\")\n",
        "print(\"Effeciency=\", eff,\"%\")\n",
        "print(\"Loading at which tranfomrer has max Effeciency=\", kmax*100,\"%\")\n",
        "\n"
      ]
    },
    {
      "cell_type": "code",
      "source": [],
      "metadata": {
        "id": "8MXAyB2JgEhz"
      },
      "execution_count": null,
      "outputs": []
    }
  ]
}