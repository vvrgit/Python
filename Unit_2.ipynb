{
  "cells": [
    {
      "cell_type": "markdown",
      "metadata": {
        "id": "view-in-github",
        "colab_type": "text"
      },
      "source": [
        "<a href=\"https://colab.research.google.com/github/vvrgit/Python/blob/main/Unit_2.ipynb\" target=\"_parent\"><img src=\"https://colab.research.google.com/assets/colab-badge.svg\" alt=\"Open In Colab\"/></a>"
      ]
    },
    {
      "cell_type": "markdown",
      "metadata": {
        "id": "hbqdiTola3B3"
      },
      "source": [
        "# Lists\n",
        "- lists in python are similar to what arrays are in other languages\n",
        "- but in python they are more flexible and can contain different types of data"
      ]
    },
    {
      "cell_type": "code",
      "execution_count": null,
      "metadata": {
        "id": "kJj44_gRa3B4",
        "outputId": "3b89030b-0170-46e3-eb2b-73e89ab25c0a"
      },
      "outputs": [
        {
          "name": "stdout",
          "output_type": "stream",
          "text": [
            "[1, 2, 3, 4, 5]\n"
          ]
        }
      ],
      "source": [
        "lst = [1, 2, 3, 4, 5]\n",
        "print(lst)"
      ]
    },
    {
      "cell_type": "code",
      "execution_count": null,
      "metadata": {
        "id": "Qe4zo5KHa3B5",
        "outputId": "ce0c5bd0-4cf6-48e2-a34d-8cc1192cc7ed"
      },
      "outputs": [
        {
          "name": "stdout",
          "output_type": "stream",
          "text": [
            "<class 'list'>\n"
          ]
        }
      ],
      "source": [
        "print(type(lst))"
      ]
    },
    {
      "cell_type": "markdown",
      "metadata": {
        "id": "WZ1KB_9ra3B5"
      },
      "source": [
        "## Accessing the data from the list\n",
        "- like the most arrays, we can use the index to access the data from the list.\n",
        "- index starts from zero\n",
        "- python also supports negative indices\n",
        "- it also supports slicing"
      ]
    },
    {
      "cell_type": "code",
      "execution_count": null,
      "metadata": {
        "id": "AZQSfzw8a3B6",
        "outputId": "f9a52a6b-5157-4519-913d-2fc5f3332c4f"
      },
      "outputs": [
        {
          "name": "stdout",
          "output_type": "stream",
          "text": [
            "1\n",
            "2\n",
            "3\n"
          ]
        }
      ],
      "source": [
        "# to get the first element\n",
        "print(lst[0]) # first element\n",
        "print(lst[1]) # second element\n",
        "print(lst[2]) # third element"
      ]
    },
    {
      "cell_type": "code",
      "execution_count": null,
      "metadata": {
        "id": "pVjWqORua3B6",
        "outputId": "2291ad43-ce0c-458b-c803-23610fca9663"
      },
      "outputs": [
        {
          "name": "stdout",
          "output_type": "stream",
          "text": [
            "5\n",
            "4\n",
            "3\n"
          ]
        }
      ],
      "source": [
        "# negative index\n",
        "print(lst[-1]) # last element\n",
        "print(lst[-2]) # second last element\n",
        "print(lst[-3]) # third last element"
      ]
    },
    {
      "cell_type": "code",
      "execution_count": null,
      "metadata": {
        "id": "07z8EuLba3B6",
        "outputId": "652053ac-98e3-48e5-939f-0420088d631e"
      },
      "outputs": [
        {
          "name": "stdout",
          "output_type": "stream",
          "text": [
            "[10, 2, 3, 4, 5]\n"
          ]
        }
      ],
      "source": [
        "# to change the value of an element\n",
        "lst[0] = 10\n",
        "print(lst)"
      ]
    },
    {
      "cell_type": "markdown",
      "metadata": {
        "id": "qqyrDdZOa3B6"
      },
      "source": [
        "## list slicing\n",
        "- slicing takes 3 arguments, start, stop and step\n",
        "- <strong>[start : stop : step]</strong>"
      ]
    },
    {
      "cell_type": "code",
      "execution_count": null,
      "metadata": {
        "id": "0W8kGJnHa3B6",
        "outputId": "653b5feb-8342-4ef1-8874-989cb627fb0b"
      },
      "outputs": [
        {
          "name": "stdout",
          "output_type": "stream",
          "text": [
            "[10, 2, 3]\n",
            "[10, 2, 3]\n"
          ]
        }
      ],
      "source": [
        "print(lst[0:3]) # first three elements\n",
        "print(lst[:3]) # first three elements (same as above but shorter and more pythonic)"
      ]
    },
    {
      "cell_type": "code",
      "execution_count": null,
      "metadata": {
        "id": "Hh4oDqzZa3B7",
        "outputId": "5a52563b-114b-4dec-997b-bc461ba4f1b0"
      },
      "outputs": [
        {
          "name": "stdout",
          "output_type": "stream",
          "text": [
            "[1, 3, 5, 7, 9]\n"
          ]
        }
      ],
      "source": [
        "lst2 = [1, 2, 3, 4, 5, 6, 7, 8, 9, 10]\n",
        "print(lst2[0:10:2]) # every second element"
      ]
    },
    {
      "cell_type": "markdown",
      "metadata": {
        "id": "SPT8CONfa3B7"
      },
      "source": [
        "- the above code indicates that the step size is 2, which means starts at zero and jumps two steps further. means from 1 to 2, one step\n",
        "- and 2 to 3, 2 steps"
      ]
    },
    {
      "cell_type": "code",
      "execution_count": null,
      "metadata": {
        "id": "J5EpBjtza3B7",
        "outputId": "30da7f04-c088-4caf-aaa5-890a85e2b006"
      },
      "outputs": [
        {
          "data": {
            "text/plain": [
              "[2, 4, 6, 8, 10]"
            ]
          },
          "execution_count": 8,
          "metadata": {},
          "output_type": "execute_result"
        }
      ],
      "source": [
        "lst2[1::2] # every second element starting from the second element\n",
        "# note that we can omit the last index if we want to go to the end of the list"
      ]
    },
    {
      "cell_type": "code",
      "execution_count": null,
      "metadata": {
        "id": "weltxeyMa3B7",
        "outputId": "cb1179b1-d72b-418f-8f9e-9ea5716e287c"
      },
      "outputs": [
        {
          "data": {
            "text/plain": [
              "[10, 9, 8, 7, 6, 5, 4, 3, 2, 1]"
            ]
          },
          "execution_count": 9,
          "metadata": {},
          "output_type": "execute_result"
        }
      ],
      "source": [
        "lst2[::-1] # reverse the list"
      ]
    },
    {
      "cell_type": "code",
      "execution_count": null,
      "metadata": {
        "id": "sm2_yDYoa3B7",
        "outputId": "23d28702-3597-4305-f977-8a0db81cfb6e"
      },
      "outputs": [
        {
          "data": {
            "text/plain": [
              "[1, 3, 5, 7, 9]"
            ]
          },
          "execution_count": 10,
          "metadata": {},
          "output_type": "execute_result"
        }
      ],
      "source": [
        "slc = slice(0, 10, 2)\n",
        "lst2[slc] # same as lst2[0:10:2]"
      ]
    },
    {
      "cell_type": "code",
      "execution_count": null,
      "metadata": {
        "id": "qjr_tdawa3B7",
        "outputId": "c3b86031-ec5d-4ca3-b4d5-7a755411d564"
      },
      "outputs": [
        {
          "ename": "SyntaxError",
          "evalue": "invalid syntax (1366537678.py, line 2)",
          "output_type": "error",
          "traceback": [
            "\u001b[0;36m  Cell \u001b[0;32mIn[11], line 2\u001b[0;36m\u001b[0m\n\u001b[0;31m    slc2 = [0:10:2]\u001b[0m\n\u001b[0m             ^\u001b[0m\n\u001b[0;31mSyntaxError\u001b[0m\u001b[0;31m:\u001b[0m invalid syntax\n"
          ]
        }
      ],
      "source": [
        "# you cannot do something like this, that's why we need the slice object described above\n",
        "slc2 = [0:10:2]\n",
        "lst2[slc2] # this will give you an error"
      ]
    },
    {
      "cell_type": "code",
      "execution_count": null,
      "metadata": {
        "id": "tZttfS3ya3B8"
      },
      "outputs": [],
      "source": [
        "# using a slice object is more flexible when you want to change the slice dynamically"
      ]
    },
    {
      "cell_type": "markdown",
      "metadata": {
        "id": "dzhj-FA2a3B8"
      },
      "source": [
        "## Multiple data types in the same list"
      ]
    },
    {
      "cell_type": "code",
      "execution_count": null,
      "metadata": {
        "id": "yYd9V8Gpa3B8"
      },
      "outputs": [],
      "source": [
        "# let's make a table with some data like this\n",
        "# name, roll, subjects, marks, grade, gpa, is_pass\n",
        "\n",
        "student1 = ['John', 1, ['Math', 'Science', 'English'], [90, 80, 70], 'A', 3.5, True]\n",
        "# as you can see, we used different data types in a single list which is not possible in other languages\n",
        "# you can observe this kind of structure in SQL databases"
      ]
    },
    {
      "cell_type": "code",
      "execution_count": null,
      "metadata": {
        "id": "4MxiCemta3B8",
        "outputId": "5abcf5ff-2b25-4a4e-e7fc-50d534d7394a"
      },
      "outputs": [
        {
          "data": {
            "text/plain": [
              "[['John', 1, ['Math', 'Science', 'English'], [90, 80, 70], 'A', 3.5, True],\n",
              " ['Jane', 2, ['Math', 'Science', 'English'], [80, 70, 60], 'B', 3.0, True],\n",
              " ['Jack', 3, ['Math', 'Science', 'English'], [70, 60, 50], 'C', 2.5, True],\n",
              " ['Jill', 4, ['Math', 'Science', 'English'], [60, 50, 40], 'D', 2.0, False]]"
            ]
          },
          "execution_count": 14,
          "metadata": {},
          "output_type": "execute_result"
        }
      ],
      "source": [
        "subjects = ['Math', 'Science', 'English']\n",
        "\n",
        "student_results = [['John', 1, subjects, [90, 80, 70], 'A', 3.5, True],\n",
        "                   ['Jane', 2, subjects, [80, 70, 60], 'B', 3.0, True],\n",
        "                   ['Jack', 3, subjects, [70, 60, 50], 'C', 2.5, True],\n",
        "                   ['Jill', 4, subjects, [60, 50, 40], 'D', 2.0, False]]\n",
        "\n",
        "student_results"
      ]
    },
    {
      "cell_type": "code",
      "execution_count": null,
      "metadata": {
        "id": "4IQ3rZ8wa3B8"
      },
      "outputs": [],
      "source": [
        "# the above structure is called a nested list or a list of lists or a 2D list\n",
        "# you can have a list of lists of lists or a 3D list and so on"
      ]
    },
    {
      "cell_type": "markdown",
      "metadata": {
        "id": "wGaJWPira3B8"
      },
      "source": [
        "## List Methods"
      ]
    },
    {
      "cell_type": "code",
      "execution_count": null,
      "metadata": {
        "id": "zNPyk0Hqa3B8"
      },
      "outputs": [],
      "source": [
        "# in python everything is an object and a list is also an object.\n",
        "# so each object has some methods associated with it (if you're familiar with OOP)"
      ]
    },
    {
      "cell_type": "code",
      "execution_count": null,
      "metadata": {
        "id": "qBcvGKx-a3B8",
        "outputId": "01726479-5e66-4942-b57a-48097b136203"
      },
      "outputs": [
        {
          "data": {
            "text/plain": [
              "['__add__',\n",
              " '__class__',\n",
              " '__class_getitem__',\n",
              " '__contains__',\n",
              " '__delattr__',\n",
              " '__delitem__',\n",
              " '__dir__',\n",
              " '__doc__',\n",
              " '__eq__',\n",
              " '__format__',\n",
              " '__ge__',\n",
              " '__getattribute__',\n",
              " '__getitem__',\n",
              " '__gt__',\n",
              " '__hash__',\n",
              " '__iadd__',\n",
              " '__imul__',\n",
              " '__init__',\n",
              " '__init_subclass__',\n",
              " '__iter__',\n",
              " '__le__',\n",
              " '__len__',\n",
              " '__lt__',\n",
              " '__mul__',\n",
              " '__ne__',\n",
              " '__new__',\n",
              " '__reduce__',\n",
              " '__reduce_ex__',\n",
              " '__repr__',\n",
              " '__reversed__',\n",
              " '__rmul__',\n",
              " '__setattr__',\n",
              " '__setitem__',\n",
              " '__sizeof__',\n",
              " '__str__',\n",
              " '__subclasshook__',\n",
              " 'append',\n",
              " 'clear',\n",
              " 'copy',\n",
              " 'count',\n",
              " 'extend',\n",
              " 'index',\n",
              " 'insert',\n",
              " 'pop',\n",
              " 'remove',\n",
              " 'reverse',\n",
              " 'sort']"
            ]
          },
          "execution_count": 17,
          "metadata": {},
          "output_type": "execute_result"
        }
      ],
      "source": [
        "# to know the methods associated with a list object, you can use the dir() function\n",
        "dir(lst)"
      ]
    },
    {
      "cell_type": "code",
      "execution_count": null,
      "metadata": {
        "id": "jmBZmcT_a3B9"
      },
      "outputs": [],
      "source": [
        "# dunders are special methods that are used by python internally\n",
        "# you can ignore them for now, they're used for operator overloading and other stuff\n",
        "# dunder methods are always surrounded by double underscores on both sides, e.g. __add__\n",
        "# dunder means double underscore d for double and under for underscore\n",
        "# you can also call them magic methods\n",
        "# as of now, you can ignore them, but they're very useful when you're writing your own classes and go deeper into OOP"
      ]
    },
    {
      "cell_type": "code",
      "execution_count": null,
      "metadata": {
        "id": "XMV-i2uOa3B9"
      },
      "outputs": [],
      "source": [
        "# so, if we ignore the dunder methods, we're left with the following methods\n",
        "# append, clear, copy, count, extend, index, insert, pop, remove, reverse, sort"
      ]
    },
    {
      "cell_type": "code",
      "execution_count": null,
      "metadata": {
        "id": "oU5mEjERa3B9",
        "outputId": "d91616b6-2728-4a90-e674-4a81822e3721"
      },
      "outputs": [
        {
          "name": "stdout",
          "output_type": "stream",
          "text": [
            "5\n",
            "10\n",
            "4\n",
            "7\n"
          ]
        }
      ],
      "source": [
        "# let's see what each of these methods do\n",
        "\n",
        "# finding length or size of a list\n",
        "print(len(lst)) # lst = [1, 2, 3, 4, 5]\n",
        "print(len(lst2)) # lst2 = [1, 2, 3, 4, 5, 6, 7, 8, 9, 10]\n",
        "print(len(student_results))\n",
        "print(len(student_results[0])) # number of elements in the first list of student_results"
      ]
    },
    {
      "cell_type": "markdown",
      "metadata": {
        "id": "aGs-OG0Ra3B9"
      },
      "source": [
        "note:\n",
        "- when dealing with nested lists, in mathematical term we call it a matrix\n",
        "- so, student_results is a matrix of 4 rows and 7 columns\n",
        "- we can also call it a 4x7 matrix\n",
        "- to get rows, we can use `len(student_results)`\n",
        "- to get columns, we can use `len(student_results[0])`\n",
        "- but sometimes there can be a case where the number of columns in each row is not the same\n",
        "- usually this will not happen when you deal with numbers in python. because you'll be using numpy arrays for that.\n",
        "- and numpy arrays are always rectangular in shape. so, they always have the same number of columns in each row"
      ]
    },
    {
      "cell_type": "code",
      "execution_count": null,
      "metadata": {
        "id": "0BIvPeIXa3B9",
        "outputId": "9873b517-2809-4a16-ba92-e7ee141d77bc"
      },
      "outputs": [
        {
          "name": "stdout",
          "output_type": "stream",
          "text": [
            "[10, 2, 3, 4, 5, 6]\n"
          ]
        }
      ],
      "source": [
        "# append\n",
        "# append is used to add an element at the end of the list\n",
        "\n",
        "lst.append(6)\n",
        "print(lst)"
      ]
    },
    {
      "cell_type": "code",
      "execution_count": null,
      "metadata": {
        "id": "JoqPJQhZa3B9",
        "outputId": "c42f0784-922f-417a-9e62-529161384955"
      },
      "outputs": [
        {
          "name": "stdout",
          "output_type": "stream",
          "text": [
            "[10, 2, 3, 4, 5]\n"
          ]
        }
      ],
      "source": [
        "# pop\n",
        "# pop is used to remove an element from the end of the list\n",
        "# if you don't pass any argument, it will remove the last element\n",
        "# if you pass an index, it will remove the element at that index\n",
        "\n",
        "lst.pop()\n",
        "print(lst)"
      ]
    },
    {
      "cell_type": "code",
      "execution_count": null,
      "metadata": {
        "id": "5QXtWF9aa3B9",
        "outputId": "0a2567c5-3804-4c2e-f2ff-078978808239"
      },
      "outputs": [
        {
          "data": {
            "text/plain": [
              "10"
            ]
          },
          "execution_count": 23,
          "metadata": {},
          "output_type": "execute_result"
        }
      ],
      "source": [
        "lst.pop(0)"
      ]
    },
    {
      "cell_type": "code",
      "execution_count": null,
      "metadata": {
        "id": "xks2bn5Ta3B-",
        "outputId": "beaf24ac-bcd6-42bf-ff23-28c466c5959e"
      },
      "outputs": [
        {
          "data": {
            "text/plain": [
              "[2, 3, 4, 5]"
            ]
          },
          "execution_count": 24,
          "metadata": {},
          "output_type": "execute_result"
        }
      ],
      "source": [
        "lst"
      ]
    },
    {
      "cell_type": "code",
      "execution_count": null,
      "metadata": {
        "id": "KsCfPZd0a3B-",
        "outputId": "b51fdf89-f332-4961-8bf5-539bc456b1a9"
      },
      "outputs": [
        {
          "name": "stdout",
          "output_type": "stream",
          "text": [
            "[2, 3, 4]\n"
          ]
        }
      ],
      "source": [
        "lst.pop(-1)\n",
        "print(lst)"
      ]
    },
    {
      "cell_type": "code",
      "execution_count": null,
      "metadata": {
        "id": "en9U0AH3a3B-",
        "outputId": "0952e20c-56c4-4a0f-8422-796186d8fd1e"
      },
      "outputs": [
        {
          "name": "stdout",
          "output_type": "stream",
          "text": [
            "[2, 4]\n"
          ]
        }
      ],
      "source": [
        "# remove\n",
        "# remove is used to remove an element from the list\n",
        "# if you have duplicate elements in the list, it will remove the first occurrence of the element\n",
        "\n",
        "lst.remove(3) # removes the first occurrence of 3 if it exists\n",
        "\n",
        "# the basic difference between pop and remove is that pop returns the element that was removed and remove doesn't return anything\n",
        "# and pop removes the element by index and remove removes the element by value\n",
        "\n",
        "print(lst)"
      ]
    },
    {
      "cell_type": "code",
      "execution_count": null,
      "metadata": {
        "id": "S-GQ7NDFa3B-",
        "outputId": "82e215c1-7743-4b46-c254-9ab6c0f0de83"
      },
      "outputs": [
        {
          "name": "stdout",
          "output_type": "stream",
          "text": [
            "4 None\n"
          ]
        }
      ],
      "source": [
        "popped_element = lst.pop() # popped_element will have the value 4\n",
        "removed_element = lst.remove(2) # removed_element will be None\n",
        "print(popped_element, removed_element)"
      ]
    },
    {
      "cell_type": "code",
      "execution_count": null,
      "metadata": {
        "id": "fP7k5Gjja3B-",
        "outputId": "91df3194-a33d-4c80-9f42-dfd5d350fb85"
      },
      "outputs": [
        {
          "name": "stdout",
          "output_type": "stream",
          "text": [
            "[]\n"
          ]
        }
      ],
      "source": [
        "print(lst) # list is empty now"
      ]
    },
    {
      "cell_type": "code",
      "execution_count": null,
      "metadata": {
        "id": "TnPDdVzPa3B-",
        "outputId": "85b7c65d-19ae-4c1b-af75-13d154c7fb86"
      },
      "outputs": [
        {
          "name": "stdout",
          "output_type": "stream",
          "text": [
            "[1]\n"
          ]
        }
      ],
      "source": [
        "# insert\n",
        "# insert is used to insert an element at a specific index\n",
        "lst.insert(0, 1) # insert 1 at index 0\n",
        "\n",
        "# the first argument is the index and the second argument is the value\n",
        "print(lst)"
      ]
    },
    {
      "cell_type": "code",
      "execution_count": null,
      "metadata": {
        "id": "bPgyCjDwa3B-",
        "outputId": "8aeebddb-f958-4b89-87e7-e6ebef4924d6"
      },
      "outputs": [
        {
          "name": "stdout",
          "output_type": "stream",
          "text": [
            "[1, 6]\n"
          ]
        }
      ],
      "source": [
        "lst.insert(5, 6) # insert 6 at index 5 (but we don't have index 5, so it will be inserted at the end)\n",
        "print(lst)"
      ]
    },
    {
      "cell_type": "code",
      "execution_count": null,
      "metadata": {
        "id": "BMUcz_IJa3B-"
      },
      "outputs": [],
      "source": [
        "# if we try to insert an element at an index that doesn't exist, it will insert the element at the end of the list"
      ]
    },
    {
      "cell_type": "code",
      "execution_count": null,
      "metadata": {
        "id": "NsfxTew-a3B_",
        "outputId": "6ec1e2ac-6632-40ce-b1ef-294fc8701e7a"
      },
      "outputs": [
        {
          "ename": "TypeError",
          "evalue": "list.append() takes exactly one argument (5 given)",
          "output_type": "error",
          "traceback": [
            "\u001b[0;31m---------------------------------------------------------------------------\u001b[0m",
            "\u001b[0;31mTypeError\u001b[0m                                 Traceback (most recent call last)",
            "Cell \u001b[0;32mIn[32], line 1\u001b[0m\n\u001b[0;32m----> 1\u001b[0m lst\u001b[39m.\u001b[39;49mappend(\u001b[39m2\u001b[39;49m, \u001b[39m3\u001b[39;49m, \u001b[39m4\u001b[39;49m, \u001b[39m5\u001b[39;49m, \u001b[39m6\u001b[39;49m) \u001b[39m# this will give an error because append takes only one argument\u001b[39;00m\n",
            "\u001b[0;31mTypeError\u001b[0m: list.append() takes exactly one argument (5 given)"
          ]
        }
      ],
      "source": [
        "lst.append(2, 3, 4, 5, 6) # this will give an error because append takes only one argument"
      ]
    },
    {
      "cell_type": "code",
      "execution_count": null,
      "metadata": {
        "id": "6YXB2rbGa3CC",
        "outputId": "c87f9a85-1dc7-4bb3-d8ae-3acb51159c7b"
      },
      "outputs": [
        {
          "name": "stdout",
          "output_type": "stream",
          "text": [
            "[1, 6, [2, 3, 4, 5, 6]]\n"
          ]
        }
      ],
      "source": [
        "lst.append([2, 3, 4, 5, 6]) # this will work because we're passing a list as an argument\n",
        "print(lst)"
      ]
    },
    {
      "cell_type": "code",
      "execution_count": null,
      "metadata": {
        "id": "_ag8-Lkca3CC",
        "outputId": "e36219a7-ee19-43d2-aabf-5a4bf5b08e97"
      },
      "outputs": [
        {
          "name": "stdout",
          "output_type": "stream",
          "text": [
            "[1, 6, [2, 3, 4, 5, 6], 2, 3, 4, 5, 6]\n"
          ]
        }
      ],
      "source": [
        "# so if we want to add multiple elements at the end of the list, we can use extend\n",
        "\n",
        "lst.extend([2, 3, 4, 5, 6]) # this will work\n",
        "print(lst)"
      ]
    },
    {
      "cell_type": "code",
      "execution_count": null,
      "metadata": {
        "id": "Sc6ONZ8Ga3CC",
        "outputId": "067724bc-653e-4a6e-b329-89d20722d774"
      },
      "outputs": [
        {
          "ename": "IndexError",
          "evalue": "list index out of range",
          "output_type": "error",
          "traceback": [
            "\u001b[0;31m---------------------------------------------------------------------------\u001b[0m",
            "\u001b[0;31mIndexError\u001b[0m                                Traceback (most recent call last)",
            "Cell \u001b[0;32mIn[33], line 1\u001b[0m\n\u001b[0;32m----> 1\u001b[0m \u001b[39mprint\u001b[39m(lst[\u001b[39m2\u001b[39;49m])\n",
            "\u001b[0;31mIndexError\u001b[0m: list index out of range"
          ]
        }
      ],
      "source": [
        "print(lst[2])"
      ]
    },
    {
      "cell_type": "code",
      "execution_count": null,
      "metadata": {
        "id": "DskJdZfda3CC",
        "outputId": "c1081812-e807-4c7e-90d9-8d52f2c89647"
      },
      "outputs": [
        {
          "name": "stdout",
          "output_type": "stream",
          "text": [
            "[1, 6, 7]\n"
          ]
        }
      ],
      "source": [
        "# let's insert 7 at index 2\n",
        "lst.insert(2, 7)\n",
        "print(lst)"
      ]
    },
    {
      "cell_type": "code",
      "execution_count": null,
      "metadata": {
        "id": "LWbpZKRAa3CD"
      },
      "outputs": [],
      "source": [
        "# as we can see, it inserted 7 at index 2 and shifted all the elements to the right.\n",
        "# it won't overwrite the element at index 2"
      ]
    },
    {
      "cell_type": "code",
      "execution_count": null,
      "metadata": {
        "id": "I85I22Fua3CD",
        "outputId": "5cdc5d0b-361c-41b2-9f28-807b50a53168"
      },
      "outputs": [
        {
          "ename": "IndexError",
          "evalue": "list index out of range",
          "output_type": "error",
          "traceback": [
            "\u001b[0;31m---------------------------------------------------------------------------\u001b[0m",
            "\u001b[0;31mIndexError\u001b[0m                                Traceback (most recent call last)",
            "Cell \u001b[0;32mIn[36], line 1\u001b[0m\n\u001b[0;32m----> 1\u001b[0m \u001b[39mprint\u001b[39m(lst[\u001b[39m3\u001b[39;49m])\n",
            "\u001b[0;31mIndexError\u001b[0m: list index out of range"
          ]
        }
      ],
      "source": [
        "print(lst[3])"
      ]
    },
    {
      "cell_type": "code",
      "execution_count": null,
      "metadata": {
        "id": "dMnRJ3RFa3CE",
        "outputId": "b5a2b142-5838-4964-8cc5-13aaa910f708"
      },
      "outputs": [
        {
          "ename": "IndexError",
          "evalue": "list assignment index out of range",
          "output_type": "error",
          "traceback": [
            "\u001b[0;31m---------------------------------------------------------------------------\u001b[0m",
            "\u001b[0;31mIndexError\u001b[0m                                Traceback (most recent call last)",
            "Cell \u001b[0;32mIn[37], line 1\u001b[0m\n\u001b[0;32m----> 1\u001b[0m lst[\u001b[39m3\u001b[39;49m] \u001b[39m=\u001b[39m \u001b[39m8\u001b[39m \u001b[39m# this will overwrite the element at index 3\u001b[39;00m\n\u001b[1;32m      2\u001b[0m \u001b[39mprint\u001b[39m(lst)\n",
            "\u001b[0;31mIndexError\u001b[0m: list assignment index out of range"
          ]
        }
      ],
      "source": [
        "lst[3] = 8 # this will overwrite the element at index 3\n",
        "print(lst)"
      ]
    },
    {
      "cell_type": "code",
      "execution_count": null,
      "metadata": {
        "id": "zIdor3b2a3CE"
      },
      "outputs": [],
      "source": [
        "# sort\n",
        "# sort is used to sort the list in ascending order\n",
        "# if the list contains elements of different data types, it will give an error\n",
        "\n",
        "lst.sort()"
      ]
    },
    {
      "cell_type": "code",
      "execution_count": null,
      "metadata": {
        "id": "sPJ77Jbsa3CE",
        "outputId": "5f82dd87-10bb-4488-dfe0-2aee4f29e9fa"
      },
      "outputs": [
        {
          "data": {
            "text/plain": [
              "[1, 6, 7]"
            ]
          },
          "execution_count": 39,
          "metadata": {},
          "output_type": "execute_result"
        }
      ],
      "source": [
        "lst"
      ]
    },
    {
      "cell_type": "code",
      "execution_count": null,
      "metadata": {
        "id": "iUZD5G04a3CE",
        "outputId": "02c7a688-5099-43ce-ab8c-653db2b32064"
      },
      "outputs": [
        {
          "name": "stdout",
          "output_type": "stream",
          "text": [
            "[7, 6, 1]\n"
          ]
        }
      ],
      "source": [
        "# to sort in descending order, we can use the reverse argument\n",
        "lst.sort(reverse=True)\n",
        "print(lst)"
      ]
    },
    {
      "cell_type": "code",
      "execution_count": null,
      "metadata": {
        "id": "8D4GYCbda3CF",
        "outputId": "939a91c4-dd98-4bc6-ca79-979d50c495f1"
      },
      "outputs": [
        {
          "name": "stdout",
          "output_type": "stream",
          "text": [
            "[1, 6, 7]\n",
            "[7, 6, 1]\n"
          ]
        }
      ],
      "source": [
        "# if we want to sort the list without modifying the original list, we can use the sorted function\n",
        "sorted_lst = sorted(lst)\n",
        "print(sorted_lst) # sorted list\n",
        "print(lst) # original list is not modified"
      ]
    },
    {
      "cell_type": "code",
      "execution_count": null,
      "metadata": {
        "id": "gJJTIshma3CF"
      },
      "outputs": [],
      "source": [
        "# this is because all the methods of the list are in-place methods, i.e. they modify the original list"
      ]
    },
    {
      "cell_type": "code",
      "execution_count": null,
      "metadata": {
        "id": "zGdMF4jZa3CF"
      },
      "outputs": [],
      "source": [
        "# same for reverse\n",
        "\n",
        "lst.reverse()"
      ]
    },
    {
      "cell_type": "code",
      "execution_count": null,
      "metadata": {
        "id": "T-kAFXgsa3CF",
        "outputId": "ba6758ea-0ac4-411a-b2b3-1dc8c7840b37"
      },
      "outputs": [
        {
          "data": {
            "text/plain": [
              "[1, 6, 7]"
            ]
          },
          "execution_count": 44,
          "metadata": {},
          "output_type": "execute_result"
        }
      ],
      "source": [
        "lst"
      ]
    },
    {
      "cell_type": "code",
      "execution_count": null,
      "metadata": {
        "id": "Oj2Y936la3CF",
        "outputId": "6c47f3f1-b11c-4e06-a058-c6468c387f81"
      },
      "outputs": [
        {
          "name": "stdout",
          "output_type": "stream",
          "text": [
            "[7, 6, 1]\n"
          ]
        }
      ],
      "source": [
        "reversed_lst = reversed(lst)\n",
        "print(list(reversed_lst)) # reversed list, original list is not modified\n",
        "\n",
        "# wen we use the reversed function, it returns a reverse iterator so we need to convert it to a list"
      ]
    },
    {
      "cell_type": "code",
      "execution_count": null,
      "metadata": {
        "id": "wVSp8Cf6a3CF",
        "outputId": "d7e8a313-7bbf-4d10-b2d7-02d4e2681456"
      },
      "outputs": [
        {
          "name": "stdout",
          "output_type": "stream",
          "text": [
            "[1, 6, 7]\n"
          ]
        }
      ],
      "source": [
        "print(lst) # original list is not modified"
      ]
    },
    {
      "cell_type": "code",
      "execution_count": null,
      "metadata": {
        "id": "IihxdEK-a3CF",
        "outputId": "3ad0a65d-6d99-4d1b-d579-a3046c57ae92"
      },
      "outputs": [
        {
          "name": "stdout",
          "output_type": "stream",
          "text": [
            "1\n",
            "1\n"
          ]
        }
      ],
      "source": [
        "# count\n",
        "\n",
        "print(lst.count(1)) # count the number of occurrences of 1 in the list\n",
        "print(lst.count(6)) # count the number of occurrences of 6 in the list"
      ]
    },
    {
      "cell_type": "code",
      "execution_count": null,
      "metadata": {
        "id": "0ShwKhU-a3CG",
        "outputId": "451c82e6-e90d-4b60-eb9d-192ebab3c6f6"
      },
      "outputs": [
        {
          "name": "stdout",
          "output_type": "stream",
          "text": [
            "0\n"
          ]
        }
      ],
      "source": [
        "# index\n",
        "# this method returns the index of the first occurrence of the element in the list\n",
        "print(lst.index(1)) # index of the first occurrence of 1 in the list"
      ]
    },
    {
      "cell_type": "code",
      "execution_count": null,
      "metadata": {
        "id": "CVNZb560a3CG",
        "outputId": "4af6a253-db75-4531-d372-658602b2fa50"
      },
      "outputs": [
        {
          "name": "stdout",
          "output_type": "stream",
          "text": [
            "1\n"
          ]
        },
        {
          "ename": "ValueError",
          "evalue": "90 is not in list",
          "output_type": "error",
          "traceback": [
            "\u001b[0;31m---------------------------------------------------------------------------\u001b[0m",
            "\u001b[0;31mValueError\u001b[0m                                Traceback (most recent call last)",
            "Cell \u001b[0;32mIn[49], line 2\u001b[0m\n\u001b[1;32m      1\u001b[0m \u001b[39mprint\u001b[39m(lst\u001b[39m.\u001b[39mindex(\u001b[39m6\u001b[39m)) \u001b[39m# index of the first occurrence of 6 in the list\u001b[39;00m\n\u001b[0;32m----> 2\u001b[0m \u001b[39mprint\u001b[39m(lst\u001b[39m.\u001b[39;49mindex(\u001b[39m90\u001b[39;49m)) \u001b[39m# this will give an error because 90 is not in the list\u001b[39;00m\n",
            "\u001b[0;31mValueError\u001b[0m: 90 is not in list"
          ]
        }
      ],
      "source": [
        "print(lst.index(6)) # index of the first occurrence of 6 in the list\n",
        "print(lst.index(90)) # this will give an error because 90 is not in the list"
      ]
    },
    {
      "cell_type": "code",
      "execution_count": null,
      "metadata": {
        "id": "6QJmAPbCa3CG",
        "outputId": "42f0d895-3cd9-449b-f22a-25fc3cac793c"
      },
      "outputs": [
        {
          "name": "stdout",
          "output_type": "stream",
          "text": [
            "['Some value', 6, 7]\n",
            "['Some value', 6, 7]\n"
          ]
        }
      ],
      "source": [
        "dummy_lst = lst\n",
        "dummy_lst[0] = \"Some value\"\n",
        "print(lst) # both dummy_lst and lst are modified because lists are mutable\n",
        "print(dummy_lst)"
      ]
    },
    {
      "cell_type": "code",
      "execution_count": null,
      "metadata": {
        "id": "E1DNGD13a3CG"
      },
      "outputs": [],
      "source": [
        "# this is because, when we assign a list to a variable, it doesn't create a new list, it just creates a reference to the original list"
      ]
    },
    {
      "cell_type": "code",
      "execution_count": null,
      "metadata": {
        "id": "gp6Vf0j5a3CG",
        "outputId": "c75fd434-62d1-4887-ba47-45dc385c8d90"
      },
      "outputs": [
        {
          "name": "stdout",
          "output_type": "stream",
          "text": [
            "['Some value', 6, 7]\n",
            "['Some value again', 6, 7]\n"
          ]
        }
      ],
      "source": [
        "# to create a new list, we can use the copy method\n",
        "dummy_lst = lst.copy()\n",
        "dummy_lst[0] = \"Some value again\"\n",
        "print(lst) # lst is not modified\n",
        "print(dummy_lst)"
      ]
    },
    {
      "cell_type": "code",
      "execution_count": null,
      "metadata": {
        "id": "epPz7blOa3CG",
        "outputId": "f1962a9f-8a15-4d09-b18c-b9b350836df2"
      },
      "outputs": [
        {
          "name": "stdout",
          "output_type": "stream",
          "text": [
            "[]\n"
          ]
        }
      ],
      "source": [
        "# to remove all the elements from the list, we can use the clear method\n",
        "\n",
        "dummy_lst.clear()\n",
        "print(dummy_lst) # dummy_lst is empty now"
      ]
    },
    {
      "cell_type": "markdown",
      "metadata": {
        "id": "MhR9WaToa3CG"
      },
      "source": [
        "## List Comprehension"
      ]
    },
    {
      "cell_type": "code",
      "execution_count": null,
      "metadata": {
        "id": "GHBM-W-6a3CH",
        "outputId": "e0230cce-7252-41f3-805b-c907ac978a6b"
      },
      "outputs": [
        {
          "name": "stdout",
          "output_type": "stream",
          "text": [
            "[1, 2, 3, 4, 5, 6, 7, 8, 9]\n",
            "[1, 2, 3, 4, 5, 6, 7, 8, 9]\n"
          ]
        }
      ],
      "source": [
        "# list comprehension is a very powerful feature of python that allows us to create lists in a single line of code.\n",
        "# these are very important and you'll see them a lot in python code\n",
        "\n",
        "example_lst = [1, 2, 3, 4, 5, 6, 7, 8, 9]\n",
        "example_lst_using_list_comprehension = [i for i in range(1, 10)]\n",
        "print(example_lst)\n",
        "print(example_lst_using_list_comprehension)"
      ]
    },
    {
      "cell_type": "code",
      "execution_count": null,
      "metadata": {
        "id": "MepDFIMia3CH",
        "outputId": "5e20baa0-8dd4-40ed-d54f-8e07ed01f125"
      },
      "outputs": [
        {
          "name": "stdout",
          "output_type": "stream",
          "text": [
            "[1, 4, 9, 16, 25, 36, 49, 64, 81]\n"
          ]
        }
      ],
      "source": [
        "square_lst = [i**2 for i in example_lst]\n",
        "print(square_lst)"
      ]
    },
    {
      "cell_type": "markdown",
      "metadata": {
        "id": "XOIvLzJBa3CH"
      },
      "source": [
        "---"
      ]
    },
    {
      "cell_type": "code",
      "execution_count": null,
      "metadata": {
        "id": "BPtJ5baqa3CH",
        "outputId": "51593192-ab33-4cf8-dfe7-236a10c86d41"
      },
      "outputs": [
        {
          "name": "stdout",
          "output_type": "stream",
          "text": [
            "[['John', 1, ['Math', 'Science', 'English'], [90, 80, 70], 'A', 3.5, True], ['Jane', 2, ['Math', 'Science', 'English'], [80, 70, 60], 'B', 3.0, True], ['Jack', 3, ['Math', 'Science', 'English'], [70, 60, 50], 'C', 2.5, True], ['Jill', 4, ['Math', 'Science', 'English'], [60, 50, 40], 'D', 2.0, False], ['James', 5, ['Math', 'Science', 'English'], [50, 40, 30], 'E', 1.5, False], ['Jenny', 6, ['Math', 'Science', 'English'], [40, 30, 20], 'F', 1.0, False], ['Jasmine', 7, ['Math', 'Science', 'English'], [30, 20, 10], 'F', 0.5, False]]\n"
          ]
        }
      ],
      "source": [
        "# let's add few more students to the student_results list\n",
        "student_results.append(['James', 5, subjects, [50, 40, 30], 'E', 1.5, False])\n",
        "student_results.append(['Jenny', 6, subjects, [40, 30, 20], 'F', 1.0, False])\n",
        "student_results.append(['Jasmine', 7, subjects, [30, 20, 10], 'F', 0.5, False])\n",
        "\n",
        "print(student_results)"
      ]
    },
    {
      "cell_type": "code",
      "execution_count": null,
      "metadata": {
        "id": "fla_gnUZa3CH",
        "outputId": "4854e612-91f0-4a25-9975-bc4049fb7ccc"
      },
      "outputs": [
        {
          "name": "stdout",
          "output_type": "stream",
          "text": [
            "[['John', 1, ['Math', 'Science', 'English'], [90, 80, 70], 'A', 3.5, True], ['Jane', 2, ['Math', 'Science', 'English'], [80, 70, 60], 'B', 3.0, True], ['Jack', 3, ['Math', 'Science', 'English'], [70, 60, 50], 'C', 2.5, True], ['Jill', 4, ['Math', 'Science', 'English'], [60, 50, 40], 'D', 2.0, False], ['James', 5, ['Math', 'Science', 'English'], [50, 40, 30], 'E', 1.5, False], ['Jenny', 6, ['Math', 'Science', 'English'], [40, 30, 20], 'F', 1.0, False], ['Jasmine', 7, ['Math', 'Science', 'English'], [30, 20, 10], 'F', 0.5, False], ['Tony', 8, ['Math', 'Science', 'English'], [20, 10, 0], 'F', 0.0, False], ['Tina', 9, ['Math', 'Science', 'English'], [10, 0, 0], 'F', 0.0, False], ['Tom', 10, ['Math', 'Science', 'English'], [0, 0, 0], 'F', 0.0, False], ['Tim', 11, ['Math', 'Science', 'English'], [0, 0, 0], 'F', 0.0, False]]\n"
          ]
        }
      ],
      "source": [
        "more_students = [['Tony', 8, subjects, [20, 10, 0], 'F', 0.0, False],\n",
        "                 ['Tina', 9, subjects, [10, 0, 0], 'F', 0.0, False],\n",
        "                 ['Tom', 10, subjects, [0, 0, 0], 'F', 0.0, False],\n",
        "                 ['Tim', 11, subjects, [0, 0, 0], 'F', 0.0, False]]\n",
        "\n",
        "student_results.extend(more_students)\n",
        "print(student_results)"
      ]
    },
    {
      "cell_type": "code",
      "execution_count": null,
      "metadata": {
        "id": "Y4KLDYrra3CH",
        "outputId": "f714625c-d24a-473f-e2d0-0791d3a8c363"
      },
      "outputs": [
        {
          "name": "stdout",
          "output_type": "stream",
          "text": [
            "['John', 1, ['Math', 'Science', 'English'], [90, 80, 70], 'A', 3.5, True]\n",
            "['Jane', 2, ['Math', 'Science', 'English'], [80, 70, 60], 'B', 3.0, True]\n",
            "['Jack', 3, ['Math', 'Science', 'English'], [70, 60, 50], 'C', 2.5, True]\n",
            "['Jill', 4, ['Math', 'Science', 'English'], [60, 50, 40], 'D', 2.0, False]\n",
            "['James', 5, ['Math', 'Science', 'English'], [50, 40, 30], 'E', 1.5, False]\n",
            "['Jenny', 6, ['Math', 'Science', 'English'], [40, 30, 20], 'F', 1.0, False]\n",
            "['Jasmine', 7, ['Math', 'Science', 'English'], [30, 20, 10], 'F', 0.5, False]\n",
            "['Tony', 8, ['Math', 'Science', 'English'], [20, 10, 0], 'F', 0.0, False]\n",
            "['Tina', 9, ['Math', 'Science', 'English'], [10, 0, 0], 'F', 0.0, False]\n",
            "['Tom', 10, ['Math', 'Science', 'English'], [0, 0, 0], 'F', 0.0, False]\n",
            "['Tim', 11, ['Math', 'Science', 'English'], [0, 0, 0], 'F', 0.0, False]\n"
          ]
        }
      ],
      "source": [
        "print(*student_results, sep='\\n')"
      ]
    },
    {
      "cell_type": "markdown",
      "metadata": {
        "id": "sihJ06NJa3CH"
      },
      "source": [
        "### Assignment"
      ]
    },
    {
      "cell_type": "code",
      "execution_count": null,
      "metadata": {
        "id": "GPSpQSexa3CI"
      },
      "outputs": [],
      "source": [
        "# find the total marks of each student\n",
        "# find the average marks of each student\n",
        "# find who got the highest marks in each subject\n",
        "# find who got the highest marks overall\n",
        "# find who scored less than 50 in any subject"
      ]
    },
    {
      "cell_type": "code",
      "execution_count": null,
      "metadata": {
        "id": "vQiLZUEUa3CI",
        "outputId": "29314bf2-4363-42be-ae27-38a0e9ab025e"
      },
      "outputs": [
        {
          "name": "stdout",
          "output_type": "stream",
          "text": [
            "1 - John : 240\n",
            "2 - Jane : 210\n",
            "3 - Jack : 180\n",
            "4 - Jill : 150\n",
            "5 - James : 120\n",
            "6 - Jenny : 90\n",
            "7 - Jasmine : 60\n",
            "8 - Tony : 30\n",
            "9 - Tina : 10\n",
            "10 - Tom : 0\n",
            "11 - Tim : 0\n"
          ]
        }
      ],
      "source": [
        "# let's find the total marks of each student\n",
        "# we can use a for loop for this\n",
        "\n",
        "for student in student_results:\n",
        "    name = student[0]\n",
        "    roll = student[1]\n",
        "    marks = student[3]\n",
        "    print(f'{roll} - {name} : {sum(marks)}')"
      ]
    },
    {
      "cell_type": "code",
      "execution_count": null,
      "metadata": {
        "id": "T12sBhIxa3CI",
        "outputId": "d59fe232-e107-4a37-cc77-8adfa942095f"
      },
      "outputs": [
        {
          "name": "stdout",
          "output_type": "stream",
          "text": [
            "1 - John : 80.0\n",
            "2 - Jane : 70.0\n",
            "3 - Jack : 60.0\n",
            "4 - Jill : 50.0\n",
            "5 - James : 40.0\n",
            "6 - Jenny : 30.0\n",
            "7 - Jasmine : 20.0\n",
            "8 - Tony : 10.0\n",
            "9 - Tina : 3.3333333333333335\n",
            "10 - Tom : 0.0\n",
            "11 - Tim : 0.0\n"
          ]
        }
      ],
      "source": [
        "# let's find the average marks of each student\n",
        "\n",
        "for student in student_results:\n",
        "    name = student[0]\n",
        "    roll = student[1]\n",
        "    marks = student[3]\n",
        "    print(f'{roll} - {name} : {sum(marks)/len(marks)}')"
      ]
    },
    {
      "cell_type": "code",
      "execution_count": null,
      "metadata": {
        "id": "QiJedSCJa3CI",
        "outputId": "d24bc94f-f628-41e3-8112-0137261e018a"
      },
      "outputs": [
        {
          "name": "stdout",
          "output_type": "stream",
          "text": [
            "['John', 'Jane', 'Jack', 'Jill', 'James', 'Jenny', 'Jasmine', 'Tony', 'Tina', 'Tom', 'Tim']\n",
            "[[90, 80, 70], [80, 70, 60], [70, 60, 50], [60, 50, 40], [50, 40, 30], [40, 30, 20], [30, 20, 10], [20, 10, 0], [10, 0, 0], [0, 0, 0], [0, 0, 0]]\n"
          ]
        }
      ],
      "source": [
        "# let's find who got the highest marks in each subject\n",
        "# this is a bit tricky\n",
        "\n",
        "# first let's grab all the students in the list\n",
        "students = [student[0] for student in student_results]\n",
        "student_marks = [student[3] for student in student_results]\n",
        "print(students)\n",
        "print(student_marks)"
      ]
    },
    {
      "cell_type": "code",
      "execution_count": null,
      "metadata": {
        "id": "AekZ9TOQa3CI",
        "outputId": "29d58543-a8e3-4e5b-d110-25f90da9fbf0"
      },
      "outputs": [
        {
          "name": "stdout",
          "output_type": "stream",
          "text": [
            "Math - John : 90\n",
            "Science - John : 80\n",
            "English - John : 70\n"
          ]
        }
      ],
      "source": [
        "for subject in range(len(subjects)):\n",
        "    marks = [student[subject] for student in student_marks]\n",
        "    highest_marks = max(marks)\n",
        "    highest_marks_index = marks.index(highest_marks)\n",
        "    highest_marks_student = students[highest_marks_index]\n",
        "    print(f'{subjects[subject]} - {highest_marks_student} : {highest_marks}')"
      ]
    },
    {
      "cell_type": "code",
      "execution_count": null,
      "metadata": {
        "id": "WWLapd-ea3CI",
        "outputId": "5cad36c9-8813-427a-cad6-87f565cc81e7"
      },
      "outputs": [
        {
          "name": "stdout",
          "output_type": "stream",
          "text": [
            "Math - Tom : 0\n",
            "Science - Tina : 0\n",
            "English - Tony : 0\n"
          ]
        }
      ],
      "source": [
        "# lowest marks in each subject\n",
        "\n",
        "for subject in range(len(subjects)):\n",
        "    marks = [student[subject] for student in student_marks]\n",
        "    highest_marks = min(marks)\n",
        "    highest_marks_index = marks.index(highest_marks)\n",
        "    highest_marks_student = students[highest_marks_index]\n",
        "    print(f'{subjects[subject]} - {highest_marks_student} : {highest_marks}')"
      ]
    },
    {
      "cell_type": "markdown",
      "metadata": {
        "id": "27p1EqxQa3CI"
      },
      "source": [
        "# Tuples\n",
        "- tuples in python are very similar to lists but they are immutable\n",
        "- tuples are used when you don't want the data to be changed\n",
        "- tuples are faster than lists"
      ]
    },
    {
      "cell_type": "code",
      "execution_count": null,
      "metadata": {
        "id": "y_GPovIFa3CJ",
        "outputId": "d502dfe3-02ba-4bc5-b9ab-5d7be697e25d"
      },
      "outputs": [
        {
          "name": "stdout",
          "output_type": "stream",
          "text": [
            "(1, 2, 3, 4, 5)\n",
            "<class 'tuple'>\n"
          ]
        }
      ],
      "source": [
        "tple = (1, 2, 3, 4, 5)\n",
        "print(tple)\n",
        "print(type(tple))"
      ]
    },
    {
      "cell_type": "code",
      "execution_count": null,
      "metadata": {
        "id": "vAaZQkMAa3CJ",
        "outputId": "750c54ce-6cd3-418a-ff7f-ac228e170650"
      },
      "outputs": [
        {
          "ename": "TypeError",
          "evalue": "'tuple' object does not support item assignment",
          "output_type": "error",
          "traceback": [
            "\u001b[0;31m---------------------------------------------------------------------------\u001b[0m",
            "\u001b[0;31mTypeError\u001b[0m                                 Traceback (most recent call last)",
            "Cell \u001b[0;32mIn[69], line 1\u001b[0m\n\u001b[0;32m----> 1\u001b[0m tple[\u001b[39m0\u001b[39;49m] \u001b[39m=\u001b[39m \u001b[39m10\u001b[39m \u001b[39m# this will give an error because tuples are immutable\u001b[39;00m\n",
            "\u001b[0;31mTypeError\u001b[0m: 'tuple' object does not support item assignment"
          ]
        }
      ],
      "source": [
        "tple[0] = 10 # this will give an error because tuples are immutable"
      ]
    },
    {
      "cell_type": "code",
      "execution_count": null,
      "metadata": {
        "id": "CWNlyZzXa3CJ",
        "outputId": "4683758e-059c-492e-caaf-ee8403558144"
      },
      "outputs": [
        {
          "data": {
            "text/plain": [
              "1"
            ]
          },
          "execution_count": 71,
          "metadata": {},
          "output_type": "execute_result"
        }
      ],
      "source": [
        "tple.count(1) # count the number of occurrences of 1 in the tuple"
      ]
    },
    {
      "cell_type": "code",
      "execution_count": null,
      "metadata": {
        "id": "5fLnkpOva3CJ",
        "outputId": "bc1d0b96-6903-48e7-d2b1-e8c0414690cc"
      },
      "outputs": [
        {
          "data": {
            "text/plain": [
              "0"
            ]
          },
          "execution_count": 72,
          "metadata": {},
          "output_type": "execute_result"
        }
      ],
      "source": [
        "tple.index(1) # index of the first occurrence of 1 in the tuple"
      ]
    },
    {
      "cell_type": "code",
      "execution_count": null,
      "metadata": {
        "id": "hDfqHDo4a3CJ",
        "outputId": "7bf0fdc7-b881-41a6-f57e-8f9a82a278eb"
      },
      "outputs": [
        {
          "data": {
            "text/plain": [
              "(1, 2, 3, [4, 5, 6])"
            ]
          },
          "execution_count": 73,
          "metadata": {},
          "output_type": "execute_result"
        }
      ],
      "source": [
        "tple2 = (1, 2, 3, [4, 5, 6])\n",
        "tple2"
      ]
    },
    {
      "cell_type": "code",
      "execution_count": null,
      "metadata": {
        "id": "IoOd0Rt0a3CJ",
        "outputId": "032670bf-093e-4a1f-9849-8bf48799dcf1"
      },
      "outputs": [
        {
          "data": {
            "text/plain": [
              "(1, 2, 3, [10, 5, 6])"
            ]
          },
          "execution_count": 74,
          "metadata": {},
          "output_type": "execute_result"
        }
      ],
      "source": [
        "tple2[3][0] = 10 # this will work because we're changing the list inside the tuple and not the tuple itself\n",
        "tple2"
      ]
    },
    {
      "cell_type": "markdown",
      "metadata": {
        "id": "HweZCiWaa3CJ"
      },
      "source": [
        "# Dictionaries"
      ]
    },
    {
      "cell_type": "code",
      "execution_count": null,
      "metadata": {
        "id": "WojxMV54a3CK"
      },
      "outputs": [],
      "source": [
        "# Dictionary or hashmap is a data structure that stores data in key-value pairs\n",
        "# it is very similar to a list but instead of accessing elements using an index, we access elements using a key\n",
        "# a key can be any immutable data type like a string, number, tuple etc.\n",
        "# a value can be any data type like a string, number, list, tuple, dictionary etc."
      ]
    },
    {
      "cell_type": "code",
      "execution_count": null,
      "metadata": {
        "id": "iLHewXRya3CK",
        "outputId": "5074d520-28d1-4aef-a00e-04142c088de1"
      },
      "outputs": [
        {
          "name": "stdout",
          "output_type": "stream",
          "text": [
            "{'name': 'John', 'roll': 1, 'subjects': ['Math', 'Science', 'English'], 'marks': [90, 80, 70], 'grade': 'A', 'gpa': 3.5, 'is_pass': True}\n"
          ]
        }
      ],
      "source": [
        "dictionary = {\n",
        "    'name': 'John',\n",
        "    'roll': 1,\n",
        "    'subjects': ['Math', 'Science', 'English'],\n",
        "    'marks': [90, 80, 70],\n",
        "    'grade': 'A',\n",
        "    'gpa': 3.5,\n",
        "    'is_pass': True\n",
        "}\n",
        "\n",
        "print(dictionary)"
      ]
    },
    {
      "cell_type": "code",
      "execution_count": null,
      "metadata": {
        "id": "-ibuQrd6a3CK",
        "outputId": "eb6a54f8-7c57-4ca1-ad37-35b1a45e1b8d"
      },
      "outputs": [
        {
          "data": {
            "text/plain": [
              "'John'"
            ]
          },
          "execution_count": 90,
          "metadata": {},
          "output_type": "execute_result"
        }
      ],
      "source": [
        "dictionary['name']"
      ]
    },
    {
      "cell_type": "code",
      "execution_count": null,
      "metadata": {
        "id": "2G8HrRbAa3CK",
        "outputId": "d9d52a8a-6fdd-4ce5-c0f1-c506782b67da"
      },
      "outputs": [
        {
          "name": "stdout",
          "output_type": "stream",
          "text": [
            "{'name': 'Jane', 'roll': 1, 'subjects': ['Math', 'Science', 'English'], 'marks': [90, 80, 70], 'grade': 'A', 'gpa': 3.5, 'is_pass': True}\n"
          ]
        }
      ],
      "source": [
        "dictionary['name'] = 'Jane'\n",
        "print(dictionary)"
      ]
    },
    {
      "cell_type": "code",
      "execution_count": null,
      "metadata": {
        "id": "lFQP14yea3CK",
        "outputId": "fbb72b83-69e1-4bfe-e198-09a14926a5df"
      },
      "outputs": [
        {
          "name": "stdout",
          "output_type": "stream",
          "text": [
            "{1: 1, 2: 4, 3: 9, 4: 16, 5: 25, 6: 36, 7: 49, 8: 64, 9: 81, 10: 100}\n"
          ]
        }
      ],
      "source": [
        "squares_dict = {i: i**2 for i in range(1, 11)} # dictionary comprehension\n",
        "print(squares_dict)"
      ]
    },
    {
      "cell_type": "code",
      "execution_count": null,
      "metadata": {
        "id": "0omZZZvZa3CK"
      },
      "outputs": [],
      "source": [
        "students_results_dict = {\n",
        "    1: {\n",
        "        'name': 'John',\n",
        "        'subjects': ['Math', 'Science', 'English'],\n",
        "        'marks': [90, 80, 70],\n",
        "        'grade': 'A',\n",
        "        'gpa': 3.5,\n",
        "        'is_pass': True\n",
        "    },\n",
        "    2: {\n",
        "        'name': 'Jane',\n",
        "        'subjects': ['Math', 'Science', 'English'],\n",
        "        'marks': [80, 70, 60],\n",
        "        'grade': 'B+',\n",
        "        'gpa': 3.0,\n",
        "        'is_pass': True\n",
        "    },\n",
        "    3: {\n",
        "        'name': 'Jack',\n",
        "        'subjects': ['Math', 'Science', 'English'],\n",
        "        'marks': [70, 60, 50],\n",
        "        'grade': 'B',\n",
        "        'gpa': 3.0,\n",
        "        'is_pass': True\n",
        "    },\n",
        "    4: {\n",
        "        'name': 'Jill',\n",
        "        'subjects': ['Math', 'Science', 'English'],\n",
        "        'marks': [60, 50, 40],\n",
        "        'grade': 'B+',\n",
        "        'gpa': 3.0,\n",
        "        'is_pass': True\n",
        "    }\n",
        "}"
      ]
    },
    {
      "cell_type": "code",
      "execution_count": null,
      "metadata": {
        "id": "dkGvAyKGa3CL"
      },
      "outputs": [],
      "source": [
        "# adding a new student\n",
        "students_results_dict[5] = {\n",
        "    'name': 'James',\n",
        "    'subjects': ['Math', 'Science', 'English'],\n",
        "    'marks': [50, 40, 30],\n",
        "    'grade': 'B+',\n",
        "    'gpa': 3.0,\n",
        "    'is_pass': True\n",
        "}"
      ]
    },
    {
      "cell_type": "code",
      "execution_count": null,
      "metadata": {
        "id": "C0Xg7Yeja3CL",
        "outputId": "f9c568b1-b4aa-452d-edb7-93935a626328"
      },
      "outputs": [
        {
          "data": {
            "text/plain": [
              "{'name': 'Jenny',\n",
              " 'subjects': ['Math', 'Science', 'English'],\n",
              " 'marks': [40, 30, 20],\n",
              " 'grade': 'B+',\n",
              " 'gpa': 3.0,\n",
              " 'is_pass': True}"
            ]
          },
          "execution_count": 104,
          "metadata": {},
          "output_type": "execute_result"
        }
      ],
      "source": [
        "students_results_dict.setdefault(8, {\n",
        "    'name': 'Jenny',\n",
        "    'subjects': ['Math', 'Science', 'English'],\n",
        "    'marks': [40, 30, 20],\n",
        "    'grade': 'B+',\n",
        "    'gpa': 3.0,\n",
        "    'is_pass': True\n",
        "}) # this will add a new student only if the key doesn't exist"
      ]
    },
    {
      "cell_type": "code",
      "execution_count": null,
      "metadata": {
        "id": "Q_52wrata3CL",
        "outputId": "4f019551-3d1a-4b5e-93ff-ed337370a388"
      },
      "outputs": [
        {
          "name": "stdout",
          "output_type": "stream",
          "text": [
            "dict_keys([1, 2, 3, 4, 5, 6, 8])\n"
          ]
        }
      ],
      "source": [
        "# let's get keys and values from the dictionary\n",
        "print(students_results_dict.keys())"
      ]
    },
    {
      "cell_type": "code",
      "execution_count": null,
      "metadata": {
        "id": "SLS1XYb4a3CL",
        "outputId": "0c32fbf1-6dbd-4bef-d923-eecafe626209"
      },
      "outputs": [
        {
          "name": "stdout",
          "output_type": "stream",
          "text": [
            "dict_values([{'name': 'John', 'subjects': ['Math', 'Science', 'English'], 'marks': [90, 80, 70], 'grade': 'A', 'gpa': 3.5, 'is_pass': True}, {'name': 'Jane', 'subjects': ['Math', 'Science', 'English'], 'marks': [80, 70, 60], 'grade': 'B', 'gpa': 3.0, 'is_pass': True}, {'name': 'Jack', 'subjects': ['Math', 'Science', 'English'], 'marks': [70, 60, 50], 'grade': 'C', 'gpa': 2.5, 'is_pass': True}, {'name': 'Jill', 'subjects': ['Math', 'Science', 'English'], 'marks': [60, 50, 40], 'grade': 'D', 'gpa': 2.0, 'is_pass': False}, {'name': 'James', 'subjects': ['Math', 'Science', 'English'], 'marks': [50, 40, 30], 'grade': 'B+', 'gpa': 3.0, 'is_pass': True}, {'name': 'Jenny', 'subjects': ['Math', 'Science', 'English'], 'marks': [40, 30, 20], 'grade': 'B+', 'gpa': 3.0, 'is_pass': True}, {'name': 'Jenny', 'subjects': ['Math', 'Science', 'English'], 'marks': [40, 30, 20], 'grade': 'B+', 'gpa': 3.0, 'is_pass': True}])\n"
          ]
        }
      ],
      "source": [
        "print(students_results_dict.values())"
      ]
    },
    {
      "cell_type": "code",
      "execution_count": null,
      "metadata": {
        "id": "I1SN5VIaa3CL",
        "outputId": "a36e2f76-c430-41a9-d90a-2e4a124a3b55"
      },
      "outputs": [
        {
          "name": "stdout",
          "output_type": "stream",
          "text": [
            "dict_items([(1, {'name': 'John', 'subjects': ['Math', 'Science', 'English'], 'marks': [90, 80, 70], 'grade': 'A', 'gpa': 3.5, 'is_pass': True}), (2, {'name': 'Jane', 'subjects': ['Math', 'Science', 'English'], 'marks': [80, 70, 60], 'grade': 'B', 'gpa': 3.0, 'is_pass': True}), (3, {'name': 'Jack', 'subjects': ['Math', 'Science', 'English'], 'marks': [70, 60, 50], 'grade': 'C', 'gpa': 2.5, 'is_pass': True}), (4, {'name': 'Jill', 'subjects': ['Math', 'Science', 'English'], 'marks': [60, 50, 40], 'grade': 'D', 'gpa': 2.0, 'is_pass': False}), (5, {'name': 'James', 'subjects': ['Math', 'Science', 'English'], 'marks': [50, 40, 30], 'grade': 'B+', 'gpa': 3.0, 'is_pass': True}), (6, {'name': 'Jenny', 'subjects': ['Math', 'Science', 'English'], 'marks': [40, 30, 20], 'grade': 'B+', 'gpa': 3.0, 'is_pass': True}), (8, {'name': 'Jenny', 'subjects': ['Math', 'Science', 'English'], 'marks': [40, 30, 20], 'grade': 'B+', 'gpa': 3.0, 'is_pass': True})])\n"
          ]
        }
      ],
      "source": [
        "print(students_results_dict.items())"
      ]
    },
    {
      "cell_type": "code",
      "execution_count": null,
      "metadata": {
        "id": "ttLvIW_La3CL",
        "outputId": "a774c734-7ac6-4ba4-8ede-5cc373e695c9"
      },
      "outputs": [
        {
          "data": {
            "text/plain": [
              "{'name': 'John',\n",
              " 'subjects': ['Math', 'Science', 'English'],\n",
              " 'marks': [90, 80, 70],\n",
              " 'grade': 'A',\n",
              " 'gpa': 3.5,\n",
              " 'is_pass': True}"
            ]
          },
          "execution_count": 108,
          "metadata": {},
          "output_type": "execute_result"
        }
      ],
      "source": [
        "students_results_dict.get(1) # get the value of the key 1"
      ]
    },
    {
      "cell_type": "code",
      "execution_count": null,
      "metadata": {
        "id": "Cy0V57bNa3CL",
        "outputId": "725b0637-5449-4691-9fb5-847a6492446d"
      },
      "outputs": [
        {
          "name": "stdout",
          "output_type": "stream",
          "text": [
            "None\n"
          ]
        }
      ],
      "source": [
        "print(students_results_dict.get(10)) # this will return None because the key 10 doesn't exist"
      ]
    },
    {
      "cell_type": "code",
      "execution_count": null,
      "metadata": {
        "id": "8cCoiVuBa3CM",
        "outputId": "d0735c41-1d62-4674-af2b-393f5631a88e"
      },
      "outputs": [
        {
          "data": {
            "text/plain": [
              "'Key not found'"
            ]
          },
          "execution_count": 111,
          "metadata": {},
          "output_type": "execute_result"
        }
      ],
      "source": [
        "students_results_dict.get(10, 'Key not found') # this will return 'Key not found' because the key 10 doesn't exist"
      ]
    },
    {
      "cell_type": "code",
      "execution_count": null,
      "metadata": {
        "id": "W48tA-qJa3CM",
        "outputId": "a1ab1104-2d22-455b-df04-72543a3f46aa"
      },
      "outputs": [
        {
          "ename": "KeyError",
          "evalue": "10",
          "output_type": "error",
          "traceback": [
            "\u001b[0;31m---------------------------------------------------------------------------\u001b[0m",
            "\u001b[0;31mKeyError\u001b[0m                                  Traceback (most recent call last)",
            "Cell \u001b[0;32mIn[112], line 1\u001b[0m\n\u001b[0;32m----> 1\u001b[0m students_results_dict[\u001b[39m10\u001b[39;49m] \u001b[39m# this will give an error because the key 10 doesn't exist\u001b[39;00m\n",
            "\u001b[0;31mKeyError\u001b[0m: 10"
          ]
        }
      ],
      "source": [
        "students_results_dict[10] # this will give an error because the key 10 doesn't exist"
      ]
    },
    {
      "cell_type": "code",
      "execution_count": null,
      "metadata": {
        "id": "aR-XjOWga3CM",
        "outputId": "750c7d8c-b583-4d28-cfdc-322f737fd5e8"
      },
      "outputs": [
        {
          "data": {
            "text/plain": [
              "{'name': 'John',\n",
              " 'subjects': ['Math', 'Science', 'English'],\n",
              " 'marks': [90, 80, 70],\n",
              " 'grade': 'A',\n",
              " 'gpa': 3.5,\n",
              " 'is_pass': True}"
            ]
          },
          "execution_count": 113,
          "metadata": {},
          "output_type": "execute_result"
        }
      ],
      "source": [
        "students_results_dict.pop(1) # this will remove the key 1 and return the value of the key 1"
      ]
    },
    {
      "cell_type": "code",
      "execution_count": null,
      "metadata": {
        "id": "KTsXv2pja3CM",
        "outputId": "a6f1e1eb-997e-471f-e6c5-3b3f25829c7a"
      },
      "outputs": [
        {
          "ename": "TypeError",
          "evalue": "pop expected at least 1 argument, got 0",
          "output_type": "error",
          "traceback": [
            "\u001b[0;31m---------------------------------------------------------------------------\u001b[0m",
            "\u001b[0;31mTypeError\u001b[0m                                 Traceback (most recent call last)",
            "Cell \u001b[0;32mIn[114], line 1\u001b[0m\n\u001b[0;32m----> 1\u001b[0m students_results_dict\u001b[39m.\u001b[39;49mpop() \u001b[39m# this will give an error because pop takes one argument\u001b[39;00m\n",
            "\u001b[0;31mTypeError\u001b[0m: pop expected at least 1 argument, got 0"
          ]
        }
      ],
      "source": [
        "students_results_dict.pop() # this will give an error because pop takes one argument"
      ]
    },
    {
      "cell_type": "code",
      "execution_count": null,
      "metadata": {
        "id": "qHSzNbISa3CM",
        "outputId": "9135afb7-55cd-4c7b-834d-a934fadb55cb"
      },
      "outputs": [
        {
          "data": {
            "text/plain": [
              "(8,\n",
              " {'name': 'Jenny',\n",
              "  'subjects': ['Math', 'Science', 'English'],\n",
              "  'marks': [40, 30, 20],\n",
              "  'grade': 'B+',\n",
              "  'gpa': 3.0,\n",
              "  'is_pass': True})"
            ]
          },
          "execution_count": 115,
          "metadata": {},
          "output_type": "execute_result"
        }
      ],
      "source": [
        "students_results_dict.popitem() # this will remove the last key-value pair and return the key-value pair"
      ]
    },
    {
      "cell_type": "code",
      "execution_count": null,
      "metadata": {
        "id": "xs8_4AFPa3CM"
      },
      "outputs": [],
      "source": [
        "students_results_dict.update({1: {\n",
        "        'name': 'John',\n",
        "        'subjects': ['Math', 'Science', 'English'],\n",
        "        'marks': [90, 80, 70],\n",
        "        'grade': 'A',\n",
        "}})"
      ]
    },
    {
      "cell_type": "code",
      "execution_count": null,
      "metadata": {
        "id": "CBmqstF3a3CM",
        "outputId": "fd3f7ee5-d994-40a2-a868-9375cb415cb0"
      },
      "outputs": [
        {
          "data": {
            "text/plain": [
              "{2: {'name': 'Jane',\n",
              "  'subjects': ['Math', 'Science', 'English'],\n",
              "  'marks': [80, 70, 60],\n",
              "  'grade': 'B',\n",
              "  'gpa': 3.0,\n",
              "  'is_pass': True},\n",
              " 3: {'name': 'Jack',\n",
              "  'subjects': ['Math', 'Science', 'English'],\n",
              "  'marks': [70, 60, 50],\n",
              "  'grade': 'C',\n",
              "  'gpa': 2.5,\n",
              "  'is_pass': True},\n",
              " 4: {'name': 'Jill',\n",
              "  'subjects': ['Math', 'Science', 'English'],\n",
              "  'marks': [60, 50, 40],\n",
              "  'grade': 'D',\n",
              "  'gpa': 2.0,\n",
              "  'is_pass': False},\n",
              " 5: {'name': 'James',\n",
              "  'subjects': ['Math', 'Science', 'English'],\n",
              "  'marks': [50, 40, 30],\n",
              "  'grade': 'B+',\n",
              "  'gpa': 3.0,\n",
              "  'is_pass': True},\n",
              " 6: {'name': 'Jenny',\n",
              "  'subjects': ['Math', 'Science', 'English'],\n",
              "  'marks': [40, 30, 20],\n",
              "  'grade': 'B+',\n",
              "  'gpa': 3.0,\n",
              "  'is_pass': True},\n",
              " 1: {'name': 'John',\n",
              "  'subjects': ['Math', 'Science', 'English'],\n",
              "  'marks': [90, 80, 70],\n",
              "  'grade': 'A'}}"
            ]
          },
          "execution_count": 117,
          "metadata": {},
          "output_type": "execute_result"
        }
      ],
      "source": [
        "students_results_dict"
      ]
    },
    {
      "cell_type": "markdown",
      "metadata": {
        "id": "KxZUZ9yCa3CM"
      },
      "source": [
        "# Sets"
      ]
    },
    {
      "cell_type": "code",
      "execution_count": null,
      "metadata": {
        "id": "3ghANbJGa3CN"
      },
      "outputs": [],
      "source": [
        "# sets are unordered collections of unique elements, i.e. they don't allow duplicate elements\n",
        "# sets are very useful when you want to remove duplicate elements from a list\n",
        "# sets are also very useful when you want to perform set operations like union, intersection, difference etc.\n",
        "# the syntax for creating a set is very similar to a dictionary but without the key-value pairs"
      ]
    },
    {
      "cell_type": "code",
      "execution_count": null,
      "metadata": {
        "id": "tqrNtznxa3CN",
        "outputId": "7c38d051-d65c-462e-c0d4-cd5356d1a468"
      },
      "outputs": [
        {
          "name": "stdout",
          "output_type": "stream",
          "text": [
            "<class 'set'>\n",
            "<class 'set'>\n"
          ]
        }
      ],
      "source": [
        "set1 = set() # empty set\n",
        "set2 = {1, 2, 3, 4, 5} # set with some elements\n",
        "print(type(set1))\n",
        "print(type(set2))"
      ]
    },
    {
      "cell_type": "code",
      "execution_count": null,
      "metadata": {
        "id": "VSMCoUAca3CN"
      },
      "outputs": [],
      "source": [
        "set1.add(1) # add an element to the set\n",
        "set2.add(1)"
      ]
    },
    {
      "cell_type": "code",
      "execution_count": null,
      "metadata": {
        "id": "Njyp8Ltca3CN",
        "outputId": "921a42cc-fd31-4565-d45a-90733d0beb4e"
      },
      "outputs": [
        {
          "name": "stdout",
          "output_type": "stream",
          "text": [
            "{1} {1, 2, 3, 4, 5}\n"
          ]
        }
      ],
      "source": [
        "print(set1, set2)"
      ]
    },
    {
      "cell_type": "code",
      "execution_count": null,
      "metadata": {
        "id": "RwpE6T_Pa3CN"
      },
      "outputs": [],
      "source": [
        "# even if we add the same element multiple times, it will only be added once"
      ]
    },
    {
      "cell_type": "code",
      "execution_count": null,
      "metadata": {
        "id": "BOuH9QgVa3CN"
      },
      "outputs": [],
      "source": [
        "for i in range(1, 11):\n",
        "    set1.add(i)"
      ]
    },
    {
      "cell_type": "code",
      "execution_count": null,
      "metadata": {
        "id": "USrgmJFPa3CN",
        "outputId": "a82bccc4-ebc0-41cc-a765-308afe603d1f"
      },
      "outputs": [
        {
          "data": {
            "text/plain": [
              "{1, 2, 3, 4, 5, 6, 7, 8, 9, 10}"
            ]
          },
          "execution_count": 126,
          "metadata": {},
          "output_type": "execute_result"
        }
      ],
      "source": [
        "set1"
      ]
    },
    {
      "cell_type": "code",
      "execution_count": null,
      "metadata": {
        "id": "TO0Ci9xSa3CO",
        "outputId": "f90423e0-cf73-4716-99f0-b47abbbc17c2"
      },
      "outputs": [
        {
          "data": {
            "text/plain": [
              "{1, 2, 3, 4, 5, 6, 7, 8, 9, 10}"
            ]
          },
          "execution_count": 127,
          "metadata": {},
          "output_type": "execute_result"
        }
      ],
      "source": [
        "set1.union(set2) # union of two sets"
      ]
    },
    {
      "cell_type": "code",
      "execution_count": null,
      "metadata": {
        "id": "wAZaxsFMa3CO",
        "outputId": "1534e044-276c-4318-9d44-4cce20744f97"
      },
      "outputs": [
        {
          "data": {
            "text/plain": [
              "{6, 7, 8, 9, 10}"
            ]
          },
          "execution_count": 128,
          "metadata": {},
          "output_type": "execute_result"
        }
      ],
      "source": [
        "set1.difference(set2) # difference of two sets"
      ]
    },
    {
      "cell_type": "code",
      "execution_count": null,
      "metadata": {
        "id": "hLFl7_wca3CO"
      },
      "outputs": [],
      "source": [
        "set1.difference_update(set2) # difference of two sets and update the first set"
      ]
    },
    {
      "cell_type": "code",
      "execution_count": null,
      "metadata": {
        "id": "-sJm-19Xa3CO",
        "outputId": "78c6a12b-53d9-4798-e432-4c7bd0e770e3"
      },
      "outputs": [
        {
          "data": {
            "text/plain": [
              "{6, 7, 8, 9, 10}"
            ]
          },
          "execution_count": 130,
          "metadata": {},
          "output_type": "execute_result"
        }
      ],
      "source": [
        "set1"
      ]
    },
    {
      "cell_type": "code",
      "execution_count": null,
      "metadata": {
        "id": "X_uY2AEOa3CO"
      },
      "outputs": [],
      "source": [
        "# if we notice, set1 has the difference of set1 and set2"
      ]
    },
    {
      "cell_type": "markdown",
      "metadata": {
        "id": "SqIuNGDca3CO"
      },
      "source": [
        "# Strings"
      ]
    },
    {
      "cell_type": "code",
      "execution_count": null,
      "metadata": {
        "id": "4CgmMAKTa3CO"
      },
      "outputs": [],
      "source": [
        "# strings are immutable sequences of characters, i.e. you cannot change a string once it is created\n",
        "# but when we try to change, it doesn't give an error, it just creates a new string"
      ]
    },
    {
      "cell_type": "code",
      "execution_count": null,
      "metadata": {
        "id": "wmEp67Ura3CO"
      },
      "outputs": [],
      "source": [
        "# strings are objects and they have some methods associated with them"
      ]
    },
    {
      "cell_type": "code",
      "execution_count": null,
      "metadata": {
        "id": "MQO93S_sa3CP",
        "outputId": "4c37c7ef-e9a4-407f-d524-811e81f53ba5"
      },
      "outputs": [
        {
          "name": "stdout",
          "output_type": "stream",
          "text": [
            "Hello World\n",
            "Hello\n",
            "world\n",
            "\n"
          ]
        }
      ],
      "source": [
        "string = 'Hello World'\n",
        "print(string)\n",
        "multi_line_string = '''Hello\n",
        "world\n",
        "'''\n",
        "\n",
        "print(multi_line_string)"
      ]
    },
    {
      "cell_type": "code",
      "execution_count": null,
      "metadata": {
        "id": "uLiVQEKsa3CP",
        "outputId": "3b45c8fb-b0f1-460e-a96d-45fcecbe0e49"
      },
      "outputs": [
        {
          "name": "stdout",
          "output_type": "stream",
          "text": [
            "H e l l o   W o r l d "
          ]
        }
      ],
      "source": [
        "# strings are iterable, i.e. we can iterate over them using a for loop\n",
        "for char in string:\n",
        "    print(char, end=' ')"
      ]
    },
    {
      "cell_type": "code",
      "execution_count": null,
      "metadata": {
        "id": "FXTm8qHea3CP",
        "outputId": "474d9293-5522-40b9-c63a-b134364a1018"
      },
      "outputs": [
        {
          "data": {
            "text/plain": [
              "'Hello World'"
            ]
          },
          "execution_count": 137,
          "metadata": {},
          "output_type": "execute_result"
        }
      ],
      "source": [
        "string.title() # convert the first letter of each word to uppercase"
      ]
    },
    {
      "cell_type": "code",
      "execution_count": null,
      "metadata": {
        "id": "NR-r9HJ4a3CP",
        "outputId": "f825d109-6553-4edd-96c5-775a8a3ef3e2"
      },
      "outputs": [
        {
          "data": {
            "text/plain": [
              "'Hello world'"
            ]
          },
          "execution_count": 139,
          "metadata": {},
          "output_type": "execute_result"
        }
      ],
      "source": [
        "string.capitalize() # convert the first letter of the first word to uppercase"
      ]
    },
    {
      "cell_type": "code",
      "execution_count": null,
      "metadata": {
        "id": "gNI9WKIEa3CP",
        "outputId": "fff49b93-d920-415a-f199-29b74cfa36a5"
      },
      "outputs": [
        {
          "data": {
            "text/plain": [
              "'hello world'"
            ]
          },
          "execution_count": 140,
          "metadata": {},
          "output_type": "execute_result"
        }
      ],
      "source": [
        "string.casefold() # convert the string to lowercase"
      ]
    },
    {
      "cell_type": "code",
      "execution_count": null,
      "metadata": {
        "id": "r7Lf0X6wa3CP",
        "outputId": "3be72f82-3f86-4dd4-8772-a4357bae86be"
      },
      "outputs": [
        {
          "data": {
            "text/plain": [
              "'hello world'"
            ]
          },
          "execution_count": 144,
          "metadata": {},
          "output_type": "execute_result"
        }
      ],
      "source": [
        "string.lower() # convert the string to lowercase"
      ]
    },
    {
      "cell_type": "code",
      "execution_count": null,
      "metadata": {
        "id": "Cw-dAZmYa3CP",
        "outputId": "dd8e04be-e021-4b6a-ae94-10b68d6120f1"
      },
      "outputs": [
        {
          "data": {
            "text/plain": [
              "'    Hello World     '"
            ]
          },
          "execution_count": 145,
          "metadata": {},
          "output_type": "execute_result"
        }
      ],
      "source": [
        "string.center(20) # center the string in a string of length 20"
      ]
    },
    {
      "cell_type": "code",
      "execution_count": null,
      "metadata": {
        "id": "rGNzYorfa3CP",
        "outputId": "f12d4a54-e2cc-4c46-ce10-dd2ebce997f5"
      },
      "outputs": [
        {
          "data": {
            "text/plain": [
              "3"
            ]
          },
          "execution_count": 146,
          "metadata": {},
          "output_type": "execute_result"
        }
      ],
      "source": [
        "string.count('l') # count the number of occurrences of 'l' in the string"
      ]
    },
    {
      "cell_type": "code",
      "execution_count": null,
      "metadata": {
        "id": "mYUjaxFJa3CQ",
        "outputId": "da454815-d7a3-4ee6-ba2d-f1d4afa4250e"
      },
      "outputs": [
        {
          "data": {
            "text/plain": [
              "True"
            ]
          },
          "execution_count": 149,
          "metadata": {},
          "output_type": "execute_result"
        }
      ],
      "source": [
        "string.endswith('d') # check if the string ends with 'd'"
      ]
    },
    {
      "cell_type": "code",
      "execution_count": null,
      "metadata": {
        "id": "SzPbwbfba3CQ",
        "outputId": "12c054f7-f8b5-44fa-a286-44434e012cb0"
      },
      "outputs": [
        {
          "data": {
            "text/plain": [
              "True"
            ]
          },
          "execution_count": 150,
          "metadata": {},
          "output_type": "execute_result"
        }
      ],
      "source": [
        "string.startswith('H') # check if the string starts with 'H'"
      ]
    },
    {
      "cell_type": "code",
      "execution_count": null,
      "metadata": {
        "id": "0PEaQBEqa3CQ",
        "outputId": "55dcd2e5-31a0-4a13-c845-cec17e028560"
      },
      "outputs": [
        {
          "data": {
            "text/plain": [
              "2"
            ]
          },
          "execution_count": 151,
          "metadata": {},
          "output_type": "execute_result"
        }
      ],
      "source": [
        "string.find('l') # find the index of the first occurrence of 'l' in the string"
      ]
    },
    {
      "cell_type": "code",
      "execution_count": null,
      "metadata": {
        "id": "Q0VoaCWna3CQ",
        "outputId": "b38d8f56-5a35-42d1-cb72-5c72e3db24cf"
      },
      "outputs": [
        {
          "data": {
            "text/plain": [
              "False"
            ]
          },
          "execution_count": 152,
          "metadata": {},
          "output_type": "execute_result"
        }
      ],
      "source": [
        "string.isalnum() # check if the string is alphanumeric"
      ]
    },
    {
      "cell_type": "code",
      "execution_count": null,
      "metadata": {
        "id": "uNrekdC5a3CQ",
        "outputId": "d3e5f03d-720e-4807-ede8-06400aa525b2"
      },
      "outputs": [
        {
          "name": "stdout",
          "output_type": "stream",
          "text": [
            "False\n",
            "True\n"
          ]
        }
      ],
      "source": [
        "# this will give you False because the string contains a space\n",
        "print(string.isalpha()) # check if the string is alphabetic,\n",
        "\n",
        "print(string.isascii()) # check if the string contains only ascii characters"
      ]
    },
    {
      "cell_type": "code",
      "execution_count": null,
      "metadata": {
        "id": "d53KeD1ma3CQ",
        "outputId": "9a112ccb-8866-4e8f-d3ce-3d6138025ffe"
      },
      "outputs": [
        {
          "name": "stdout",
          "output_type": "stream",
          "text": [
            "False\n"
          ]
        }
      ],
      "source": [
        "print(string.isdecimal()) # check if the string contains only decimal characters"
      ]
    },
    {
      "cell_type": "code",
      "execution_count": null,
      "metadata": {
        "id": "tSSKreCaa3CQ",
        "outputId": "eb4f90b3-58ff-445c-aef1-c31c9dd03f09"
      },
      "outputs": [
        {
          "data": {
            "text/plain": [
              "'HeLLo WorLd'"
            ]
          },
          "execution_count": 159,
          "metadata": {},
          "output_type": "execute_result"
        }
      ],
      "source": [
        "string.replace('l', 'L') # replace all the occurrences of 'l' with 'L'"
      ]
    },
    {
      "cell_type": "code",
      "execution_count": null,
      "metadata": {
        "id": "aWFr-6l0a3CR"
      },
      "outputs": [],
      "source": [
        "# note that, all these methods are not in-place methods, i.e. they don't modify the original string"
      ]
    },
    {
      "cell_type": "code",
      "execution_count": null,
      "metadata": {
        "id": "md0LQ-O3a3CR",
        "outputId": "4b2c5f9a-bca7-4081-8924-174247ac0e90"
      },
      "outputs": [
        {
          "data": {
            "text/plain": [
              "'Hello World'"
            ]
          },
          "execution_count": 162,
          "metadata": {},
          "output_type": "execute_result"
        }
      ],
      "source": [
        "string # original string is not modified"
      ]
    },
    {
      "cell_type": "code",
      "execution_count": null,
      "metadata": {
        "id": "D9vv0mCia3CR",
        "outputId": "3a7e69fc-18c2-4e12-b66b-d947cc9f27ff"
      },
      "outputs": [
        {
          "data": {
            "text/plain": [
              "['This', 'is', 'a', 'string']"
            ]
          },
          "execution_count": 163,
          "metadata": {},
          "output_type": "execute_result"
        }
      ],
      "source": [
        "\"This is a string\".split() # split the string into a list of words"
      ]
    },
    {
      "cell_type": "code",
      "execution_count": null,
      "metadata": {
        "id": "c0pjuJvza3CR",
        "outputId": "6de7ef7a-bccc-42f9-ea95-216dba4aade0"
      },
      "outputs": [
        {
          "data": {
            "text/plain": [
              "16"
            ]
          },
          "execution_count": 164,
          "metadata": {},
          "output_type": "execute_result"
        }
      ],
      "source": [
        "len(\"This is a string\")"
      ]
    },
    {
      "cell_type": "code",
      "execution_count": null,
      "metadata": {
        "id": "Dlaldi5Ya3CR",
        "outputId": "fea02b9b-f817-4393-cccc-c6205e7fd41c"
      },
      "outputs": [
        {
          "data": {
            "text/plain": [
              "'helloworld'"
            ]
          },
          "execution_count": 168,
          "metadata": {},
          "output_type": "execute_result"
        }
      ],
      "source": [
        "\"hello\" + \"world\" # concatenate two strings"
      ]
    },
    {
      "cell_type": "code",
      "execution_count": null,
      "metadata": {
        "id": "NrLt2XTSa3CR",
        "outputId": "b282b585-d378-413d-ac9b-ae4ba99ecf7e"
      },
      "outputs": [
        {
          "data": {
            "text/plain": [
              "'helloworld'"
            ]
          },
          "execution_count": 169,
          "metadata": {},
          "output_type": "execute_result"
        }
      ],
      "source": [
        "\"\".join(['hello', 'world']) # join a list of strings into a single string"
      ]
    },
    {
      "cell_type": "code",
      "execution_count": null,
      "metadata": {
        "id": "K5YZmo5Va3CR"
      },
      "outputs": [],
      "source": []
    }
  ],
  "metadata": {
    "kernelspec": {
      "display_name": "Python 3",
      "language": "python",
      "name": "python3"
    },
    "language_info": {
      "codemirror_mode": {
        "name": "ipython",
        "version": 3
      },
      "file_extension": ".py",
      "mimetype": "text/x-python",
      "name": "python",
      "nbconvert_exporter": "python",
      "pygments_lexer": "ipython3",
      "version": "3.10.12"
    },
    "orig_nbformat": 4,
    "colab": {
      "provenance": [],
      "include_colab_link": true
    }
  },
  "nbformat": 4,
  "nbformat_minor": 0
}