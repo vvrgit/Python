{
  "cells": [
    {
      "cell_type": "markdown",
      "metadata": {
        "id": "view-in-github",
        "colab_type": "text"
      },
      "source": [
        "<a href=\"https://colab.research.google.com/github/vvrgit/Python/blob/main/Unit_1.ipynb\" target=\"_parent\"><img src=\"https://colab.research.google.com/assets/colab-badge.svg\" alt=\"Open In Colab\"/></a>"
      ]
    },
    {
      "cell_type": "markdown",
      "metadata": {
        "id": "W6eGJWfSb-ZM"
      },
      "source": [
        "# Introduction to Python"
      ]
    },
    {
      "cell_type": "markdown",
      "metadata": {
        "id": "2jhxhkDab-ZN"
      },
      "source": [
        "## Declaring variables"
      ]
    },
    {
      "cell_type": "code",
      "execution_count": null,
      "metadata": {
        "id": "3Q6WAqNnb-ZN"
      },
      "outputs": [],
      "source": [
        "first_name = \"John\"\n",
        "last_name = \"Smith\"\n",
        "age = 25"
      ]
    },
    {
      "cell_type": "code",
      "execution_count": null,
      "metadata": {
        "id": "OUL6RxlFb-ZO",
        "outputId": "d5a3a726-8504-47d1-a446-1e4b53eb2208"
      },
      "outputs": [
        {
          "name": "stdout",
          "output_type": "stream",
          "text": [
            "John Smith 25\n"
          ]
        }
      ],
      "source": [
        "print(first_name, last_name, age)"
      ]
    },
    {
      "cell_type": "markdown",
      "metadata": {
        "id": "d6K3QflJb-ZO"
      },
      "source": [
        "variables can be defined in multiple ways"
      ]
    },
    {
      "cell_type": "code",
      "execution_count": null,
      "metadata": {
        "id": "tsJeFedDb-ZO"
      },
      "outputs": [],
      "source": [
        "# declaring multiple variables in one line\n",
        "name, age, height = \"John\", 20, 5.8"
      ]
    },
    {
      "cell_type": "code",
      "execution_count": null,
      "metadata": {
        "id": "KPzmAdjTb-ZO",
        "outputId": "3a27fb57-727d-449f-d673-68eac035e2d8"
      },
      "outputs": [
        {
          "name": "stdout",
          "output_type": "stream",
          "text": [
            "John 20 5.8\n"
          ]
        }
      ],
      "source": [
        "print(name, age, height)"
      ]
    },
    {
      "cell_type": "markdown",
      "metadata": {
        "id": "wpN4F2nBb-ZP"
      },
      "source": [
        "### Rules to declare variables\n",
        "variable name cannot be a keyword or a built-in function name"
      ]
    },
    {
      "cell_type": "code",
      "execution_count": null,
      "metadata": {
        "id": "sA8awrjgb-ZP",
        "outputId": "453d6831-8eab-4e55-e998-4685b5526ac9"
      },
      "outputs": [
        {
          "ename": "SyntaxError",
          "evalue": "invalid decimal literal (2813702977.py, line 1)",
          "output_type": "error",
          "traceback": [
            "\u001b[0;36m  Cell \u001b[0;32mIn[10], line 1\u001b[0;36m\u001b[0m\n\u001b[0;31m    2m = 10 # invalid variable name\u001b[0m\n\u001b[0m    ^\u001b[0m\n\u001b[0;31mSyntaxError\u001b[0m\u001b[0;31m:\u001b[0m invalid decimal literal\n"
          ]
        }
      ],
      "source": [
        "2m = 10 # invalid variable name\n",
        "my-name = \"John\" # invalid variable name (no hyphens allowed or any special characters)\n",
        "my name = \"John\" # invalid variable name (no spaces allowed)"
      ]
    },
    {
      "cell_type": "markdown",
      "metadata": {
        "id": "4OO3ITk_b-ZP"
      },
      "source": [
        "## Data Types  \n",
        "There are several types of data in python:\n",
        "`int, float, string, boolean, NoneType`"
      ]
    },
    {
      "cell_type": "code",
      "execution_count": null,
      "metadata": {
        "id": "8Ao2nv4ib-ZP"
      },
      "outputs": [],
      "source": [
        "age = 20 # int\n",
        "age_str = \"20\" # str\n",
        "age_str_2 = '20' # str (single quotes)\n",
        "age_float = 20.0 # float\n",
        "is_major = True # bool\n",
        "occupation = None # NoneType"
      ]
    },
    {
      "cell_type": "code",
      "execution_count": null,
      "metadata": {
        "id": "Ek3bVVvQb-ZP",
        "outputId": "715a016e-a37f-4026-c28a-5981c59414df"
      },
      "outputs": [
        {
          "data": {
            "text/plain": [
              "(20, '20', '20', 20.0, True, None)"
            ]
          },
          "execution_count": 12,
          "metadata": {},
          "output_type": "execute_result"
        }
      ],
      "source": [
        "age, age_str, age_str_2, age_float, is_major, occupation"
      ]
    },
    {
      "cell_type": "code",
      "execution_count": null,
      "metadata": {
        "id": "pKg1Wumwb-ZP",
        "outputId": "1d08f6fe-fb84-42d8-dc54-bcc0b17d6557"
      },
      "outputs": [
        {
          "name": "stdout",
          "output_type": "stream",
          "text": [
            "<class 'int'> <class 'str'>\n"
          ]
        }
      ],
      "source": [
        "print(type(age), type(age_str)) # to check the type of a variable use type() function"
      ]
    },
    {
      "cell_type": "markdown",
      "metadata": {
        "id": "DqBvsQZWb-ZQ"
      },
      "source": [
        "as we can see, when used the quotation marks, it's a string. so every string can be quoted either single or double quotes. (``) or (\"\")"
      ]
    },
    {
      "cell_type": "markdown",
      "metadata": {
        "id": "y1mH72ZGb-ZQ"
      },
      "source": [
        "## Type Casting  \n",
        "Type Casting is used to change the type of a variable"
      ]
    },
    {
      "cell_type": "code",
      "execution_count": null,
      "metadata": {
        "id": "0bBCkejFb-ZQ",
        "outputId": "5f357117-f1d9-4c89-cd28-b602e80b5043"
      },
      "outputs": [
        {
          "name": "stdout",
          "output_type": "stream",
          "text": [
            "<class 'int'>\n"
          ]
        }
      ],
      "source": [
        "number = 30\n",
        "print(type(number))"
      ]
    },
    {
      "cell_type": "code",
      "execution_count": null,
      "metadata": {
        "id": "Tb25GJiAb-ZQ",
        "outputId": "6e920642-c4b8-4e18-88ef-c2a19f4553c8"
      },
      "outputs": [
        {
          "name": "stdout",
          "output_type": "stream",
          "text": [
            "<class 'str'>\n"
          ]
        }
      ],
      "source": [
        "number = str(number)\n",
        "print(type(number))"
      ]
    },
    {
      "cell_type": "code",
      "execution_count": null,
      "metadata": {
        "id": "VhDg4MLZb-ZQ",
        "outputId": "ac8c2e58-2ec2-4796-9fe7-df5dcc03b84a"
      },
      "outputs": [
        {
          "ename": "ValueError",
          "evalue": "invalid literal for int() with base 10: '30a'",
          "output_type": "error",
          "traceback": [
            "\u001b[0;31m---------------------------------------------------------------------------\u001b[0m",
            "\u001b[0;31mValueError\u001b[0m                                Traceback (most recent call last)",
            "Cell \u001b[0;32mIn[16], line 3\u001b[0m\n\u001b[1;32m      1\u001b[0m \u001b[39m# strings cannot be converted to int or float if they contain non-numeric characters\u001b[39;00m\n\u001b[1;32m      2\u001b[0m number \u001b[39m=\u001b[39m \u001b[39m\"\u001b[39m\u001b[39m30a\u001b[39m\u001b[39m\"\u001b[39m \u001b[39m# string\u001b[39;00m\n\u001b[0;32m----> 3\u001b[0m number \u001b[39m=\u001b[39m \u001b[39mint\u001b[39;49m(number)\n",
            "\u001b[0;31mValueError\u001b[0m: invalid literal for int() with base 10: '30a'"
          ]
        }
      ],
      "source": [
        "# strings cannot be converted to int or float if they contain non-numeric characters\n",
        "number = \"30a\" # string\n",
        "number = int(number)"
      ]
    },
    {
      "cell_type": "code",
      "execution_count": null,
      "metadata": {
        "id": "EPTDeC6Kb-ZQ",
        "outputId": "337d2d64-caed-4e18-e6e4-36be634932ab"
      },
      "outputs": [
        {
          "name": "stdout",
          "output_type": "stream",
          "text": [
            "<class 'int'>\n"
          ]
        }
      ],
      "source": [
        "number = \"30\" # also a string, but can be converted to int\n",
        "number = int(number)\n",
        "print(type(number))"
      ]
    },
    {
      "cell_type": "code",
      "execution_count": null,
      "metadata": {
        "id": "RLcD7MxPb-ZR",
        "outputId": "060af12b-21c4-45ef-bc06-6adb17b5cd6b"
      },
      "outputs": [
        {
          "name": "stdout",
          "output_type": "stream",
          "text": [
            "<class 'str'>\n",
            "after conversion\n",
            "<class 'float'>\n"
          ]
        }
      ],
      "source": [
        "float_number = \"30.0\"\n",
        "print(type(float_number))\n",
        "\n",
        "print(\"after conversion\")\n",
        "float_number = float(float_number)\n",
        "print(type(float_number))"
      ]
    },
    {
      "cell_type": "code",
      "execution_count": null,
      "metadata": {
        "id": "bledi6vrb-ZR",
        "outputId": "d9f98b4e-fe10-40f6-d938-7e37fccb387b"
      },
      "outputs": [
        {
          "ename": "ValueError",
          "evalue": "invalid literal for int() with base 10: '30.5'",
          "output_type": "error",
          "traceback": [
            "\u001b[0;31m---------------------------------------------------------------------------\u001b[0m",
            "\u001b[0;31mValueError\u001b[0m                                Traceback (most recent call last)",
            "Cell \u001b[0;32mIn[19], line 4\u001b[0m\n\u001b[1;32m      1\u001b[0m \u001b[39m# if we convert a float to int, the decimal part will be truncated\u001b[39;00m\n\u001b[1;32m      2\u001b[0m \u001b[39m# but string floats cannot be converted to int. It will throw an error\u001b[39;00m\n\u001b[1;32m      3\u001b[0m float_number \u001b[39m=\u001b[39m \u001b[39m\"\u001b[39m\u001b[39m30.5\u001b[39m\u001b[39m\"\u001b[39m\n\u001b[0;32m----> 4\u001b[0m float_number \u001b[39m=\u001b[39m \u001b[39mint\u001b[39;49m(float_number)\n\u001b[1;32m      5\u001b[0m \u001b[39mprint\u001b[39m(\u001b[39mtype\u001b[39m(float_number), float_number)\n",
            "\u001b[0;31mValueError\u001b[0m: invalid literal for int() with base 10: '30.5'"
          ]
        }
      ],
      "source": [
        "# if we convert a float to int, the decimal part will be truncated\n",
        "# but string floats cannot be converted to int. It will throw an error\n",
        "float_number = \"30.5\"\n",
        "float_number = int(float_number)\n",
        "print(type(float_number), float_number)"
      ]
    },
    {
      "cell_type": "code",
      "execution_count": null,
      "metadata": {
        "id": "d2pW1cuJb-ZR",
        "outputId": "c8db02ee-0117-4b4b-e47e-7254a16757c7"
      },
      "outputs": [
        {
          "name": "stdout",
          "output_type": "stream",
          "text": [
            "<class 'float'> 30.5\n"
          ]
        }
      ],
      "source": [
        "float_number = \"30.5\"\n",
        "float_number = float(float_number)\n",
        "print(type(float_number), float_number)"
      ]
    },
    {
      "cell_type": "code",
      "execution_count": null,
      "metadata": {
        "id": "w0WXW4dRb-ZR",
        "outputId": "6c423322-e122-488a-ea59-65caba73d2df"
      },
      "outputs": [
        {
          "name": "stdout",
          "output_type": "stream",
          "text": [
            "<class 'str'> 30\n"
          ]
        }
      ],
      "source": [
        "# to convert a number to string, use str() function\n",
        "number = 30\n",
        "number = str(number)\n",
        "print(type(number), number)"
      ]
    },
    {
      "cell_type": "markdown",
      "metadata": {
        "id": "174HJmOyb-ZR"
      },
      "source": [
        "## User Input and Output"
      ]
    },
    {
      "cell_type": "code",
      "execution_count": null,
      "metadata": {
        "id": "3XCzwGlbb-ZR",
        "outputId": "4e547cc5-ddcc-4e89-a606-cc3e736bc53f"
      },
      "outputs": [
        {
          "name": "stdout",
          "output_type": "stream",
          "text": [
            "Smith <class 'str'>\n"
          ]
        }
      ],
      "source": [
        "# to get an input from the user, use input() function\n",
        "name = input(\"Enter your name: \") # input() function always returns a string, even if the user enters a number\n",
        "print(name, type(name))"
      ]
    },
    {
      "cell_type": "code",
      "execution_count": null,
      "metadata": {
        "id": "PufvHQMWb-ZR",
        "outputId": "f7565c42-d22f-4ae0-90b4-49d29ebac130"
      },
      "outputs": [
        {
          "name": "stdout",
          "output_type": "stream",
          "text": [
            "20 <class 'int'>\n"
          ]
        }
      ],
      "source": [
        "# to accept only a number from the user, use int() or float() function\n",
        "age = int(input(\"Enter your age: \"))\n",
        "print(age, type(age))"
      ]
    },
    {
      "cell_type": "markdown",
      "metadata": {
        "id": "NxdZZ9lkb-ZR"
      },
      "source": [
        "### Multi-line string representation"
      ]
    },
    {
      "cell_type": "code",
      "execution_count": null,
      "metadata": {
        "id": "dPqCrXWvb-ZS",
        "outputId": "07e53faa-f610-4a4d-84b3-43fcdffbbc3d"
      },
      "outputs": [
        {
          "name": "stdout",
          "output_type": "stream",
          "text": [
            "This is a multi-line string.\n",
            "To write a multi-line string, use triple quotes.\n",
            "\n"
          ]
        }
      ],
      "source": [
        "multi_line_string = \"\"\"This is a multi-line string.\n",
        "To write a multi-line string, use triple quotes.\n",
        "\"\"\"\n",
        "\n",
        "print(multi_line_string)"
      ]
    },
    {
      "cell_type": "code",
      "execution_count": null,
      "metadata": {
        "id": "9QUPKKNnb-ZS",
        "outputId": "44015df3-eed4-4557-ee80-7dfa8f88d7a3"
      },
      "outputs": [
        {
          "name": "stdout",
          "output_type": "stream",
          "text": [
            "HelloWorld\n",
            "Hello World\n",
            "Hello\n",
            "World\n",
            "Hello\tWorld\n",
            "HelloWorld\n",
            "Hello+World\n"
          ]
        }
      ],
      "source": [
        "string1 = \"Hello\"\n",
        "string2 = \"World\"\n",
        "\n",
        "print(string1 + string2) # concatenation\n",
        "print(string1, string2) # comma adds a space between the strings\n",
        "print(string1, string2, sep=\"\\n\") # sep=\"\\n\" adds a new line between the strings\n",
        "print(string1, string2, sep=\"\\t\") # sep=\"\\t\" adds a tab between the strings\n",
        "print(string1, string2, sep=\"\") # sep=\"\" concatenates the strings without any space\n",
        "print(string1, string2, sep=\"+\") # sep=\"+\" concatenates the strings with a plus sign\n",
        "\n",
        "# basically, sep is used to add a separator between the strings. it can be anything."
      ]
    },
    {
      "cell_type": "code",
      "execution_count": null,
      "metadata": {
        "id": "oZ1pSCBFb-ZS",
        "outputId": "70fbc544-9bb4-4a8e-9759-875476c1d2c5"
      },
      "outputs": [
        {
          "name": "stdout",
          "output_type": "stream",
          "text": [
            "Hello\n",
            "World\n",
            "----"
          ]
        }
      ],
      "source": [
        "print(string1, string2, end=\"\\n----\", sep=\"\\n\")\n",
        "\n",
        "# end is used to add a string at the end of the print statement. it can be anything.\n",
        "# in the above example, we added a new line and 4 hyphens at the end of the print statement"
      ]
    },
    {
      "cell_type": "markdown",
      "metadata": {
        "id": "EqG5yhRBb-ZS"
      },
      "source": [
        "## Operators"
      ]
    },
    {
      "cell_type": "markdown",
      "metadata": {
        "id": "v4YOXLHob-ZS"
      },
      "source": [
        "1. Arithmetic Operators\n",
        "- addition operator (+) can be used to add two numbers or concatenate two strings\n",
        "- subtraction operator (-) can be used to subtract two numbers\n",
        "- multiplication operator (*) can be used to multiply two numbers or repeat a string\n",
        "- division operator (/) can be used to divide two numbers\n",
        "- floor division operator (//) can be used to divide two numbers and get the integer part\n",
        "- modulus operator (%) can be used to get the remainder of a division operation\n",
        "- exponent operator (**) can be used to raise a number to the power of another number"
      ]
    },
    {
      "cell_type": "code",
      "execution_count": null,
      "metadata": {
        "id": "bHKdpWUsb-ZS",
        "outputId": "fe05c95e-33f6-4381-9553-def38efd3973"
      },
      "outputs": [
        {
          "name": "stdout",
          "output_type": "stream",
          "text": [
            "addition: 30\n",
            "subtraction: -10\n",
            "multiplication: 200\n",
            "division: 0.5\n",
            "floor division: 0\n",
            "modulus: 10\n",
            "power: 100000000000000000000\n"
          ]
        }
      ],
      "source": [
        "num1 = 10\n",
        "num2 = 20\n",
        "print(\"addition:\", num1 + num2)\n",
        "print(\"subtraction:\", num1 - num2)\n",
        "print(\"multiplication:\", num1 * num2)\n",
        "print(\"division:\", num1 / num2)\n",
        "print(\"floor division:\", num1 // num2)\n",
        "print(\"modulus:\", num1 % num2)\n",
        "print(\"power:\", num1 ** num2)"
      ]
    },
    {
      "cell_type": "markdown",
      "metadata": {
        "id": "Ie7RqbKFb-ZS"
      },
      "source": [
        "2. Assignment Operators\n",
        "- assignment operator (=) is used to assign a value to a variable\n",
        "- comparison operators (==, !=, <, >, <=, >=) are used to compare two values\n",
        "- logical operators (and, or, not) are used to combine two or more conditions\n",
        "- identity operators (is, is not) are used to compare the memory location of two objects\n",
        "- membership operators (in, not in) are used to check if a value exists in a sequence or not\n",
        "- binary or bitwise operators (<<, >>, &, |, ^, ~) are used to perform bitwise operations"
      ]
    },
    {
      "cell_type": "code",
      "execution_count": null,
      "metadata": {
        "id": "iUnLt7MKb-ZS",
        "outputId": "4384d678-0682-48b9-b49e-4d7060974304"
      },
      "outputs": [
        {
          "name": "stdout",
          "output_type": "stream",
          "text": [
            "True\n",
            "False\n",
            "False\n",
            "True\n",
            "False\n",
            "True\n"
          ]
        }
      ],
      "source": [
        "print(20 == 20)\n",
        "print(20 != 20)\n",
        "print(20 > 20)\n",
        "print(20 >= 20)\n",
        "print(20 < 20)\n",
        "print(20 <= 20)"
      ]
    },
    {
      "cell_type": "code",
      "execution_count": null,
      "metadata": {
        "id": "fPD76ORxb-ZT",
        "outputId": "346711b0-6d2e-4b40-fa72-c3f448451be5"
      },
      "outputs": [
        {
          "name": "stdout",
          "output_type": "stream",
          "text": [
            "True\n",
            "True\n",
            "False\n"
          ]
        }
      ],
      "source": [
        "print(20 == 20 and 20 > 10)\n",
        "print(20 == 20 or 20 > 10)\n",
        "print(not 20 == 20)"
      ]
    },
    {
      "cell_type": "code",
      "execution_count": null,
      "metadata": {
        "id": "Z3YVOEwxb-ZT",
        "outputId": "8e8813d0-4e7d-4b1a-be7f-d2991de9bea2"
      },
      "outputs": [
        {
          "name": "stdout",
          "output_type": "stream",
          "text": [
            "True\n",
            "False\n"
          ]
        }
      ],
      "source": [
        "print(\"Hello\" in \"Hello World\")\n",
        "print(\"Hello\" not in \"Hello World\")"
      ]
    },
    {
      "cell_type": "code",
      "execution_count": null,
      "metadata": {
        "id": "AFni8mNob-ZT",
        "outputId": "9cf35051-b466-4970-a70e-c3e97eb12b5f"
      },
      "outputs": [
        {
          "name": "stdout",
          "output_type": "stream",
          "text": [
            "5\n",
            "80\n",
            "0\n",
            "22\n",
            "22\n"
          ]
        }
      ],
      "source": [
        "# requires bit manipulation knowledge\n",
        "\n",
        "print(20 >> 2) # right shift, 20 / 2^2\n",
        "print(20 << 2) # left shift, 20 * 2^2\n",
        "print(20 & 2) # bitwise AND operator\n",
        "print(20 | 2) # bitwise OR operator\n",
        "print(20 ^ 2) # bitwise XOR operator"
      ]
    },
    {
      "cell_type": "markdown",
      "metadata": {
        "id": "IVjfuopyb-ZT"
      },
      "source": [
        "## Conditional Statements\n",
        "- if\n",
        "- elif\n",
        "- else"
      ]
    },
    {
      "cell_type": "code",
      "execution_count": null,
      "metadata": {
        "id": "hhxBQlkJb-ZT",
        "outputId": "ab762230-7870-4bcd-eb59-d03461ead998"
      },
      "outputs": [
        {
          "name": "stdout",
          "output_type": "stream",
          "text": [
            "number is greater than 10\n"
          ]
        }
      ],
      "source": [
        "number = 20\n",
        "if number < 10:\n",
        "    print(\"number is less than 10\")\n",
        "elif number > 5 and number < 10: # elif is short for else if, it is used to check multiple conditions\n",
        "    print(\"number is greater than 5 and less than 10\")\n",
        "else:\n",
        "    print(\"number is greater than 10\")"
      ]
    },
    {
      "cell_type": "code",
      "execution_count": null,
      "metadata": {
        "id": "tDi2orV1b-ZT",
        "outputId": "b5988075-8b03-457d-fcf6-a1aa547a7219"
      },
      "outputs": [
        {
          "name": "stdout",
          "output_type": "stream",
          "text": [
            "H is present in string\n"
          ]
        }
      ],
      "source": [
        "string = \"Hello\"\n",
        "if \"H\" in string:\n",
        "    print(\"H is present in string\")\n",
        "else:\n",
        "    print(\"H is not present in string\")"
      ]
    },
    {
      "cell_type": "markdown",
      "metadata": {
        "id": "Ib24abcdb-ZU"
      },
      "source": [
        "## Nested conditions"
      ]
    },
    {
      "cell_type": "code",
      "execution_count": null,
      "metadata": {
        "id": "bZA6zpIYb-ZU",
        "outputId": "4dd9cdc6-dcc2-4817-de49-74ae5f349522"
      },
      "outputs": [
        {
          "name": "stdout",
          "output_type": "stream",
          "text": [
            "20\n",
            "Condition 2\n",
            "number is greater than 10\n",
            "number is greater than 15\n"
          ]
        }
      ],
      "source": [
        "number = 20\n",
        "print(number)\n",
        "\n",
        "if number > 10 and number < 20:\n",
        "    print(\"Condition 1\")\n",
        "    print(\"number is greater than 10\")\n",
        "    if number == 15:\n",
        "        print(\"number is equal to 15\")\n",
        "    elif number > 15:\n",
        "        print(\"number is greater than 15\")\n",
        "    else:\n",
        "        print(\"number is less than 15\")\n",
        "\n",
        "elif number >= 10:\n",
        "    print(\"Condition 2\")\n",
        "    print(\"number is greater than 10\")\n",
        "    if number > 15:\n",
        "        print(\"number is greater than 15\")\n",
        "    else:\n",
        "        print(\"number is less than 15\")"
      ]
    },
    {
      "cell_type": "markdown",
      "metadata": {
        "id": "uvwPcSrtb-ZU"
      },
      "source": [
        "## Loops\n",
        "\n",
        "- for\n",
        "- while"
      ]
    },
    {
      "cell_type": "code",
      "execution_count": null,
      "metadata": {
        "id": "g53HsZtib-ZU",
        "outputId": "b4e30590-1864-4aba-fc8b-c2aee3b74168"
      },
      "outputs": [
        {
          "name": "stdout",
          "output_type": "stream",
          "text": [
            "0 1 2 3 4 5 6 7 8 9 "
          ]
        }
      ],
      "source": [
        "# for loop is to iterate over a sequence (list, tuple, string, etc.) or any iterable object\n",
        "\n",
        "for i in range(10): # range() function returns a sequence of numbers starting from 0 to the number passed as an argument\n",
        "    print(i, end=\" \") # 10 is not included in the sequence, stops at 9. because range(10) means 0 to 9 (10 numbers)"
      ]
    },
    {
      "cell_type": "code",
      "execution_count": null,
      "metadata": {
        "id": "oT2TqOscb-ZU",
        "outputId": "378eb754-7de6-4c05-9993-14aef98e17a2"
      },
      "outputs": [
        {
          "name": "stdout",
          "output_type": "stream",
          "text": [
            "0 2 4 6 8 10 12 14 16 18 20 22 24 26 28 30 32 34 36 38 40 42 44 46 48 50 52 54 56 58 60 62 64 66 68 70 72 74 76 78 80 82 84 86 88 90 92 94 96 98 "
          ]
        }
      ],
      "source": [
        "# range takes 3 arguments: start, stop, step\n",
        "# start is the starting number of the sequence\n",
        "# stop is the number at which the sequence should stop (not included)\n",
        "# step is the number by which the sequence should increment\n",
        "\n",
        "for i in range(0, 100, 2): # (0 is the start, 100 is the stop, 2 is the step, 100 is not included. it will stop at 98)\n",
        "    print(i, end=\" \") # prints even numbers from 0 to 100 (not included)"
      ]
    },
    {
      "cell_type": "code",
      "execution_count": null,
      "metadata": {
        "id": "BXpi-n8zb-ZU",
        "outputId": "b1c9c0c7-ea01-462f-df0e-f28aec24c294"
      },
      "outputs": [
        {
          "name": "stdout",
          "output_type": "stream",
          "text": [
            "1 3 5 7 9 11 13 15 17 19 21 23 25 27 29 31 33 35 37 39 41 43 45 47 49 51 53 55 57 59 61 63 65 67 69 71 73 75 77 79 81 83 85 87 89 91 93 95 97 99 "
          ]
        }
      ],
      "source": [
        "for i in range(1, 100, 2):\n",
        "    print(i, end=\" \") # prints odd numbers from 1 to 100 (not included)"
      ]
    },
    {
      "cell_type": "code",
      "execution_count": null,
      "metadata": {
        "id": "xYUq6qjib-ZU",
        "outputId": "47108955-0c0c-4081-89ea-9c975f702efc"
      },
      "outputs": [
        {
          "name": "stdout",
          "output_type": "stream",
          "text": [
            "range(0, 10)\n",
            "start = 0\n",
            "stop = 10\n",
            "step = 1\n"
          ]
        }
      ],
      "source": [
        "print(range(10)) # range() function returns a range object, not a list\n",
        "range_ = range(10)\n",
        "print(f\"start = {range_.start}\\nstop = {range_.stop}\\nstep = {range_.step}\") # to get the start, stop and step of a range object, use start, stop and step attributes"
      ]
    },
    {
      "cell_type": "code",
      "execution_count": null,
      "metadata": {
        "id": "lijmlcWTb-ZV",
        "outputId": "29fe3cad-8631-48e7-9698-64bb8af5b9ae"
      },
      "outputs": [
        {
          "name": "stdout",
          "output_type": "stream",
          "text": [
            "10\n",
            "9\n",
            "8\n",
            "7\n",
            "6\n",
            "5\n",
            "4\n",
            "3\n",
            "2\n",
            "1\n"
          ]
        }
      ],
      "source": [
        "# while loop\n",
        "# to execute a block of code until a condition is true\n",
        "\n",
        "number = 10\n",
        "while number > 0:\n",
        "    print(number)\n",
        "    number -= 1 # number = number - 1"
      ]
    },
    {
      "cell_type": "code",
      "execution_count": null,
      "metadata": {
        "id": "y5CjqDI5b-ZV",
        "outputId": "f5ef4956-c28e-4c91-bb3c-a1df32dcedc7"
      },
      "outputs": [
        {
          "name": "stdout",
          "output_type": "stream",
          "text": [
            "5 X 1 = 5\n",
            "5 X 2 = 10\n",
            "5 X 3 = 15\n",
            "5 X 4 = 20\n",
            "5 X 5 = 25\n",
            "5 X 6 = 30\n",
            "5 X 7 = 35\n",
            "5 X 8 = 40\n",
            "5 X 9 = 45\n",
            "5 X 10 = 50\n"
          ]
        }
      ],
      "source": [
        "# let's print a multiplication table of a number\n",
        "number = 5\n",
        "start = 1\n",
        "while start <= 10:\n",
        "    # print(number, \"X\", start, \"=\", number * start)\n",
        "    print(f\"{number} X {start} = {number * start}\") # f-strings, recommended to use this instead of concatenation.\n",
        "    start += 1"
      ]
    },
    {
      "cell_type": "markdown",
      "metadata": {
        "id": "z36M3SUFb-ZV"
      },
      "source": [
        "### Statements used in loops\n",
        "- break\n",
        "- continue"
      ]
    },
    {
      "cell_type": "code",
      "execution_count": null,
      "metadata": {
        "id": "c_aN2L-7b-ZV"
      },
      "outputs": [],
      "source": [
        "# break statement is used to break out of a loop\n",
        "# continue statement is used to skip the current iteration and continue with the next iteration"
      ]
    },
    {
      "cell_type": "code",
      "execution_count": null,
      "metadata": {
        "id": "5aoLoI92b-ZV",
        "outputId": "d41cde7a-b587-4ad3-8b35-83801c9f9229"
      },
      "outputs": [
        {
          "name": "stdout",
          "output_type": "stream",
          "text": [
            "1 3 5 7 9 11 13 15 17 19 "
          ]
        }
      ],
      "source": [
        "stop = 20\n",
        "for i in range(1, 100):\n",
        "    if i == stop:\n",
        "        break # breaks out of the loop\n",
        "    elif i % 2 == 0:\n",
        "        continue # skips the current iteration and continues with the next iteration, i.e., it skips even numbers\n",
        "    print(i, end=\" \") # prints odd numbers till stop"
      ]
    },
    {
      "cell_type": "markdown",
      "metadata": {
        "id": "-OF9nAO6b-ZV"
      },
      "source": [
        "## Functions (Very important)\n",
        "- functions are used to perform a specific task or a set of tasks that can be reused multiple times.\n",
        "- functions are used to avoid code repetition.\n",
        "- in python, we define a function using the `def` keyword."
      ]
    },
    {
      "cell_type": "code",
      "execution_count": null,
      "metadata": {
        "id": "yhMRjpnYb-ZV"
      },
      "outputs": [],
      "source": [
        "# we have already implemented a multiplication table using while loop. but let's do it using functions.\n",
        "# this print multiplication table function can be used anywhere in the program just by calling it."
      ]
    },
    {
      "cell_type": "code",
      "execution_count": null,
      "metadata": {
        "id": "MXQ8ZPlIb-ZV"
      },
      "outputs": [],
      "source": [
        "def print_multiplication_table(number):\n",
        "    start = 1\n",
        "    while start <= 10:\n",
        "        print(f\"{number} X {start} = {number * start}\")\n",
        "        start += 1\n"
      ]
    },
    {
      "cell_type": "code",
      "execution_count": null,
      "metadata": {
        "id": "6sTF1K4Cb-ZW",
        "outputId": "2d866fb9-3a3d-4b41-bf80-90f043bd7835"
      },
      "outputs": [
        {
          "name": "stdout",
          "output_type": "stream",
          "text": [
            "5 X 1 = 5\n",
            "5 X 2 = 10\n",
            "5 X 3 = 15\n",
            "5 X 4 = 20\n",
            "5 X 5 = 25\n",
            "5 X 6 = 30\n",
            "5 X 7 = 35\n",
            "5 X 8 = 40\n",
            "5 X 9 = 45\n",
            "5 X 10 = 50\n"
          ]
        }
      ],
      "source": [
        "print_multiplication_table(5)"
      ]
    },
    {
      "cell_type": "code",
      "execution_count": null,
      "metadata": {
        "id": "0dye3cgyb-ZW",
        "outputId": "399b3f9c-530c-409e-da4c-db940e383185"
      },
      "outputs": [
        {
          "name": "stdout",
          "output_type": "stream",
          "text": [
            "1 X 1 = 1\n",
            "1 X 2 = 2\n",
            "1 X 3 = 3\n",
            "1 X 4 = 4\n",
            "1 X 5 = 5\n",
            "1 X 6 = 6\n",
            "1 X 7 = 7\n",
            "1 X 8 = 8\n",
            "1 X 9 = 9\n",
            "1 X 10 = 10\n",
            "\n",
            "2 X 1 = 2\n",
            "2 X 2 = 4\n",
            "2 X 3 = 6\n",
            "2 X 4 = 8\n",
            "2 X 5 = 10\n",
            "2 X 6 = 12\n",
            "2 X 7 = 14\n",
            "2 X 8 = 16\n",
            "2 X 9 = 18\n",
            "2 X 10 = 20\n",
            "\n",
            "3 X 1 = 3\n",
            "3 X 2 = 6\n",
            "3 X 3 = 9\n",
            "3 X 4 = 12\n",
            "3 X 5 = 15\n",
            "3 X 6 = 18\n",
            "3 X 7 = 21\n",
            "3 X 8 = 24\n",
            "3 X 9 = 27\n",
            "3 X 10 = 30\n",
            "\n",
            "4 X 1 = 4\n",
            "4 X 2 = 8\n",
            "4 X 3 = 12\n",
            "4 X 4 = 16\n",
            "4 X 5 = 20\n",
            "4 X 6 = 24\n",
            "4 X 7 = 28\n",
            "4 X 8 = 32\n",
            "4 X 9 = 36\n",
            "4 X 10 = 40\n",
            "\n",
            "5 X 1 = 5\n",
            "5 X 2 = 10\n",
            "5 X 3 = 15\n",
            "5 X 4 = 20\n",
            "5 X 5 = 25\n",
            "5 X 6 = 30\n",
            "5 X 7 = 35\n",
            "5 X 8 = 40\n",
            "5 X 9 = 45\n",
            "5 X 10 = 50\n",
            "\n"
          ]
        }
      ],
      "source": [
        "# the best use of functions is we can call them multiple times without writing the same code again and again.\n",
        "# let's print multiplication tables of numbers from 1 to 5\n",
        "\n",
        "for i in range(1, 6):\n",
        "    print_multiplication_table(i)\n",
        "    print()"
      ]
    },
    {
      "cell_type": "code",
      "execution_count": null,
      "metadata": {
        "id": "WyIP2L92b-ZW"
      },
      "outputs": [],
      "source": [
        "# the value we pass to a function is called an argument, and the value we receive from a function is called a return value\n",
        "# in the above example, we passed 5 as an argument to the function print_multiplication_table()"
      ]
    },
    {
      "cell_type": "code",
      "execution_count": null,
      "metadata": {
        "id": "3ubGETDkb-ZW",
        "outputId": "ead8ba6e-d9e8-414c-923d-9c394621b1c2"
      },
      "outputs": [
        {
          "name": "stdout",
          "output_type": "stream",
          "text": [
            "1 2 3\n"
          ]
        }
      ],
      "source": [
        "# keyword arguments\n",
        "# when we pass arguments to a function, we can pass them in any order if we use keyword arguments\n",
        "# let's say we have a function that takes 3 arguments, a, b, and c\n",
        "def func(a, b, c):\n",
        "    print(a, b, c)\n",
        "\n",
        "# if we call the function like this, it will work fine\n",
        "func(1, 2, 3)"
      ]
    },
    {
      "cell_type": "code",
      "execution_count": null,
      "metadata": {
        "id": "xAI-ktjnb-ZW",
        "outputId": "03e9a458-eb38-4a72-ef18-0b89ce7224d0"
      },
      "outputs": [
        {
          "name": "stdout",
          "output_type": "stream",
          "text": [
            "1 2 3\n"
          ]
        }
      ],
      "source": [
        "# what if we want to pass the arguments in a different order?\n",
        "# we can use keyword arguments to pass the arguments in any order\n",
        "func(c=3, b=2, a=1)"
      ]
    },
    {
      "cell_type": "code",
      "execution_count": null,
      "metadata": {
        "id": "goB4k75Tb-ZW"
      },
      "outputs": [],
      "source": [
        "# default arguments\n",
        "# we can set default values for arguments in a function\n",
        "# if we don't pass a value for an argument, it will use the default value\n",
        "def func(a, b, c=10):\n",
        "    print(a, b, c)"
      ]
    },
    {
      "cell_type": "code",
      "execution_count": null,
      "metadata": {
        "id": "idj6gx6Gb-ZW",
        "outputId": "acf09f36-8024-4aa2-b37d-870ad6835c7f"
      },
      "outputs": [
        {
          "name": "stdout",
          "output_type": "stream",
          "text": [
            "1 2 10\n"
          ]
        }
      ],
      "source": [
        "func(1, 2) # c will use the default value 10"
      ]
    },
    {
      "cell_type": "code",
      "execution_count": null,
      "metadata": {
        "id": "VQi5svBzb-ZX"
      },
      "outputs": [],
      "source": [
        "# args and kwargs\n",
        "# sometimes we don't know how many arguments we are going to pass to a function\n",
        "# we can use *args and **kwargs to pass multiple arguments to a function\n",
        "# *args is used to pass multiple positional arguments\n",
        "# **kwargs is used to pass multiple keyword arguments"
      ]
    },
    {
      "cell_type": "code",
      "execution_count": null,
      "metadata": {
        "id": "Syc_WcLHb-ZX"
      },
      "outputs": [],
      "source": [
        "def func(*args):\n",
        "    print(args)"
      ]
    },
    {
      "cell_type": "code",
      "execution_count": null,
      "metadata": {
        "id": "0datumONb-ZX",
        "outputId": "8a88a083-510a-4583-e690-b34dba9f53c9"
      },
      "outputs": [
        {
          "name": "stdout",
          "output_type": "stream",
          "text": [
            "(1, 2, 3, 4, 5)\n"
          ]
        }
      ],
      "source": [
        "func(1, 2, 3, 4, 5) # args is a tuple"
      ]
    },
    {
      "cell_type": "code",
      "execution_count": null,
      "metadata": {
        "id": "jsbwOdQ4b-ZX"
      },
      "outputs": [],
      "source": [
        "# best example is the print() function\n",
        "# or let's create our own sum function that takes multiple arguments and returns the sum of all the arguments"
      ]
    },
    {
      "cell_type": "code",
      "execution_count": null,
      "metadata": {
        "id": "Y3hCrJCAb-ZX",
        "outputId": "2d89f2f9-5fda-4c80-8ea3-790a83693a9b"
      },
      "outputs": [
        {
          "data": {
            "text/plain": [
              "15"
            ]
          },
          "execution_count": 123,
          "metadata": {},
          "output_type": "execute_result"
        }
      ],
      "source": [
        "def custom_sum(*args):\n",
        "    total = 0\n",
        "    for i in args:\n",
        "        total += i\n",
        "    return total\n",
        "\n",
        "custom_sum(1, 2, 3, 4, 5)"
      ]
    },
    {
      "cell_type": "code",
      "execution_count": null,
      "metadata": {
        "id": "SE1MWvd3b-ZX",
        "outputId": "13caafc4-91a3-421c-a06c-66c22717d5d0"
      },
      "outputs": [
        {
          "name": "stdout",
          "output_type": "stream",
          "text": [
            "{'a': 1, 'b': 2, 'c': 3}\n"
          ]
        }
      ],
      "source": [
        "def kwargs(**kwargs):\n",
        "    print(kwargs)\n",
        "\n",
        "kwargs(a=1, b=2, c=3) # kwargs is a dictionary"
      ]
    },
    {
      "cell_type": "code",
      "execution_count": null,
      "metadata": {
        "id": "ZuJJMr1db-ZX"
      },
      "outputs": [],
      "source": [
        "# let's combine *args and **kwargs\n",
        "def func(*args, **kwargs):\n",
        "    if \"sum\" in kwargs and kwargs[\"sum\"] == True:\n",
        "        total = 0\n",
        "        for i in args:\n",
        "            total += i\n",
        "        return total\n",
        "    elif \"mul\" in kwargs:\n",
        "        prod = 1\n",
        "        for i in args:\n",
        "            prod *= i\n",
        "        return prod\n",
        "    else:\n",
        "        print(f\"Invalid operation, {kwargs}\")\n",
        "        return"
      ]
    },
    {
      "cell_type": "code",
      "execution_count": null,
      "metadata": {
        "id": "IcinQ4Yxb-ZY",
        "outputId": "73b397e4-02ee-4dc0-eed2-7b91641422bf"
      },
      "outputs": [
        {
          "data": {
            "text/plain": [
              "15"
            ]
          },
          "execution_count": 135,
          "metadata": {},
          "output_type": "execute_result"
        }
      ],
      "source": [
        "func(1, 2, 3, 4, 5, sum=True) # returns the sum of all the arguments, and we can only pass sum=True or sum=False"
      ]
    },
    {
      "cell_type": "code",
      "execution_count": null,
      "metadata": {
        "id": "V01TCT7eb-ZY",
        "outputId": "c66cfcf0-67de-4ecc-b059-90b10d46b1bc"
      },
      "outputs": [
        {
          "name": "stdout",
          "output_type": "stream",
          "text": [
            "120\n",
            "120\n"
          ]
        }
      ],
      "source": [
        "print(func(1, 2, 3, 4, 5, mul=True)) # we can pass mul = anything and it still works, all it checks is if mul is present in kwargs or not\n",
        "print(func(1, 2, 3, 4, 5, mul=1)) # returns the product of all the arguments"
      ]
    },
    {
      "cell_type": "code",
      "execution_count": null,
      "metadata": {
        "id": "QXB3oqh_b-ZY",
        "outputId": "c56b0052-e373-4983-f3d1-c3634a7bfd25"
      },
      "outputs": [
        {
          "name": "stdout",
          "output_type": "stream",
          "text": [
            "Invalid operation, {'div': True}\n"
          ]
        }
      ],
      "source": [
        "func(1, 2, 3, 4, 5, div=True)"
      ]
    },
    {
      "cell_type": "code",
      "execution_count": null,
      "metadata": {
        "id": "8_GGYfnKb-ZY"
      },
      "outputs": [],
      "source": [
        "# let's create a function that tells if number is prime or not\n",
        "def is_prime(number):\n",
        "    for i in range(2, int(number**0.5) + 1):\n",
        "        if number % i == 0: return False\n",
        "    return True"
      ]
    },
    {
      "cell_type": "code",
      "execution_count": null,
      "metadata": {
        "id": "mQOrkQCgb-ZY",
        "outputId": "df95a23f-d20a-4326-8c6a-7a785a0b5f3f"
      },
      "outputs": [
        {
          "data": {
            "text/plain": [
              "True"
            ]
          },
          "execution_count": 150,
          "metadata": {},
          "output_type": "execute_result"
        }
      ],
      "source": [
        "is_prime(5) # returns True"
      ]
    },
    {
      "cell_type": "code",
      "execution_count": null,
      "metadata": {
        "id": "0UIQ1Ix-b-ZY",
        "outputId": "d7e1cfa6-fab2-4a93-a09d-ce70844457eb"
      },
      "outputs": [
        {
          "name": "stdout",
          "output_type": "stream",
          "text": [
            "1 2 3 5 7 11 13 17 19 23 29 31 37 41 43 47 53 59 61 67 71 73 79 83 89 97 "
          ]
        }
      ],
      "source": [
        "# now using same function, let's print all the prime numbers from 1 to 100\n",
        "for i in range(1, 101):\n",
        "    if is_prime(i):\n",
        "        print(i, end=\" \")"
      ]
    },
    {
      "cell_type": "code",
      "execution_count": null,
      "metadata": {
        "id": "25mND2Mlb-ZY"
      },
      "outputs": [],
      "source": [
        "# a function can take another function as an argument\n",
        "# let's create a function that takes another function as an argument and returns the result of that function\n",
        "def func(function, range_):\n",
        "    for i in range(range_):\n",
        "        if function(i):\n",
        "            print(i, end=\" \")"
      ]
    },
    {
      "cell_type": "code",
      "execution_count": null,
      "metadata": {
        "id": "nON0DKfab-ZY",
        "outputId": "b3bb0ba6-07a8-4c04-d916-ede59b8c5567"
      },
      "outputs": [
        {
          "name": "stdout",
          "output_type": "stream",
          "text": [
            "0 1 2 3 5 7 11 13 17 19 23 29 31 37 41 43 47 53 59 61 67 71 73 79 83 89 97 "
          ]
        }
      ],
      "source": [
        "func(is_prime, 100) # prints all the prime numbers from 1 to 100"
      ]
    },
    {
      "cell_type": "code",
      "execution_count": null,
      "metadata": {
        "id": "I5FTiKLUb-ZZ"
      },
      "outputs": [],
      "source": [
        "# function taking another function as an argument is called a higher order function.\n",
        "# useful for functional programming, we will learn about it later.\n",
        "# also useful for decorators, we will learn about it later.\n",
        "# also useful for abstraction, we will learn about it later."
      ]
    },
    {
      "cell_type": "code",
      "execution_count": null,
      "metadata": {
        "id": "Z_BVKnwHb-ZZ"
      },
      "outputs": [],
      "source": []
    }
  ],
  "metadata": {
    "kernelspec": {
      "display_name": "Python 3",
      "language": "python",
      "name": "python3"
    },
    "language_info": {
      "codemirror_mode": {
        "name": "ipython",
        "version": 3
      },
      "file_extension": ".py",
      "mimetype": "text/x-python",
      "name": "python",
      "nbconvert_exporter": "python",
      "pygments_lexer": "ipython3",
      "version": "3.10.12"
    },
    "orig_nbformat": 4,
    "colab": {
      "provenance": [],
      "include_colab_link": true
    }
  },
  "nbformat": 4,
  "nbformat_minor": 0
}