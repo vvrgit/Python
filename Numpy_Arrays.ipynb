{
  "nbformat": 4,
  "nbformat_minor": 0,
  "metadata": {
    "colab": {
      "provenance": [],
      "authorship_tag": "ABX9TyNsujG2VE5vpqmuSNKeavem",
      "include_colab_link": true
    },
    "kernelspec": {
      "name": "python3",
      "display_name": "Python 3"
    },
    "language_info": {
      "name": "python"
    }
  },
  "cells": [
    {
      "cell_type": "markdown",
      "metadata": {
        "id": "view-in-github",
        "colab_type": "text"
      },
      "source": [
        "<a href=\"https://colab.research.google.com/github/vvrgit/Python/blob/main/Numpy_Arrays.ipynb\" target=\"_parent\"><img src=\"https://colab.research.google.com/assets/colab-badge.svg\" alt=\"Open In Colab\"/></a>"
      ]
    },
    {
      "cell_type": "code",
      "execution_count": null,
      "metadata": {
        "colab": {
          "base_uri": "https://localhost:8080/"
        },
        "id": "-oV8R6Lj7CaT",
        "outputId": "f2c2b091-5747-4350-ec72-4d1651f580cc"
      },
      "outputs": [
        {
          "output_type": "stream",
          "name": "stdout",
          "text": [
            "1.26.4\n"
          ]
        }
      ],
      "source": [
        "import numpy as np\n",
        "print(np.__version__)"
      ]
    },
    {
      "cell_type": "code",
      "source": [
        "import numpy as np\n",
        "a=np.array([10,20,30,40,50])\n",
        "print(\"a=\",a)\n",
        "print(type(a))"
      ],
      "metadata": {
        "colab": {
          "base_uri": "https://localhost:8080/"
        },
        "id": "nfJqMELu7L2d",
        "outputId": "f2620a27-8199-4ac7-d6b2-42e3b3189074"
      },
      "execution_count": null,
      "outputs": [
        {
          "output_type": "stream",
          "name": "stdout",
          "text": [
            "a= [10 20 30 40 50]\n",
            "<class 'numpy.ndarray'>\n"
          ]
        }
      ]
    },
    {
      "cell_type": "code",
      "source": [
        "import numpy as np\n",
        "b=np.array((1,2,3,4,5))\n",
        "print(\"b=\",b)\n",
        "print(type(a))"
      ],
      "metadata": {
        "colab": {
          "base_uri": "https://localhost:8080/"
        },
        "id": "HKsSykCM7dCV",
        "outputId": "401bd46a-b847-4be4-e3ce-2a0e3f008300"
      },
      "execution_count": null,
      "outputs": [
        {
          "output_type": "stream",
          "name": "stdout",
          "text": [
            "b= [1 2 3 4 5]\n",
            "<class 'numpy.ndarray'>\n"
          ]
        }
      ]
    },
    {
      "cell_type": "code",
      "source": [
        "import numpy as np\n",
        "c=np.array(10)\n",
        "print(\"c=\",c)\n",
        "print(type(c))"
      ],
      "metadata": {
        "colab": {
          "base_uri": "https://localhost:8080/"
        },
        "id": "U_VdHpnK-0JC",
        "outputId": "08fd0558-1235-4932-b9ab-baff2a750f47"
      },
      "execution_count": null,
      "outputs": [
        {
          "output_type": "stream",
          "name": "stdout",
          "text": [
            "c= 10\n",
            "<class 'numpy.ndarray'>\n"
          ]
        }
      ]
    },
    {
      "cell_type": "code",
      "source": [
        "import numpy as np\n",
        "d = np.array([1, 2, 3, 4, 5])\n",
        "print(d)\n",
        "print(type(d))"
      ],
      "metadata": {
        "colab": {
          "base_uri": "https://localhost:8080/"
        },
        "id": "C_0HkVsR_AlN",
        "outputId": "28e60806-8b94-4081-8a93-50080c272a87"
      },
      "execution_count": null,
      "outputs": [
        {
          "output_type": "stream",
          "name": "stdout",
          "text": [
            "[1 2 3 4 5]\n",
            "<class 'numpy.ndarray'>\n"
          ]
        }
      ]
    },
    {
      "cell_type": "code",
      "source": [
        "import numpy as np\n",
        "e=np.array([[1,2,3],[4,5,6],[7,8,9]])\n",
        "print(e)\n",
        "print(type(e))"
      ],
      "metadata": {
        "colab": {
          "base_uri": "https://localhost:8080/"
        },
        "id": "tGMDzbJH_qdP",
        "outputId": "b3d0cd8e-0f60-4f45-c08e-2f97318b22af"
      },
      "execution_count": null,
      "outputs": [
        {
          "output_type": "stream",
          "name": "stdout",
          "text": [
            "[[1 2 3]\n",
            " [4 5 6]\n",
            " [7 8 9]]\n",
            "<class 'numpy.ndarray'>\n"
          ]
        }
      ]
    },
    {
      "cell_type": "code",
      "source": [
        "import numpy as np\n",
        "f=np.array([[[1,2],[3,4]],[[5,6],[7,8]]])\n",
        "print(\"f=\",f)\n",
        "print(type(f))"
      ],
      "metadata": {
        "colab": {
          "base_uri": "https://localhost:8080/"
        },
        "id": "Pig2q5UP_zm1",
        "outputId": "9e937112-356e-473b-f1fe-c588698d25a3"
      },
      "execution_count": null,
      "outputs": [
        {
          "output_type": "stream",
          "name": "stdout",
          "text": [
            "f= [[[1 2]\n",
            "  [3 4]]\n",
            "\n",
            " [[5 6]\n",
            "  [7 8]]]\n",
            "<class 'numpy.ndarray'>\n"
          ]
        }
      ]
    },
    {
      "cell_type": "code",
      "source": [
        "import numpy as np\n",
        "a=np.array(2)\n",
        "b=np.array([2,3])\n",
        "c=np.array([[2,3],[4,5]])\n",
        "d=np.array([[[2,3],[4,5]],[[1,2],[3,4]]])\n",
        "print(a.ndim)\n",
        "print(b.ndim)\n",
        "print(c.ndim)\n",
        "print(d.ndim)"
      ],
      "metadata": {
        "colab": {
          "base_uri": "https://localhost:8080/"
        },
        "id": "GkusV8NiA-9e",
        "outputId": "5e7deedf-7e99-4892-a54b-d0f3ba3db04d"
      },
      "execution_count": null,
      "outputs": [
        {
          "output_type": "stream",
          "name": "stdout",
          "text": [
            "0\n",
            "1\n",
            "2\n",
            "3\n"
          ]
        }
      ]
    },
    {
      "cell_type": "code",
      "source": [
        "import numpy as np\n",
        "a=np.array([1,2,3],ndmin=5)\n",
        "print(\"a=\",a)\n",
        "print(type(a))"
      ],
      "metadata": {
        "colab": {
          "base_uri": "https://localhost:8080/"
        },
        "id": "TdZv0aJrJji5",
        "outputId": "5a8f0bf3-0f7d-41df-96f3-ac8bcac724bc"
      },
      "execution_count": null,
      "outputs": [
        {
          "output_type": "stream",
          "name": "stdout",
          "text": [
            "a= [[[[[1 2 3]]]]]\n",
            "<class 'numpy.ndarray'>\n"
          ]
        }
      ]
    },
    {
      "cell_type": "code",
      "source": [
        "import numpy as np\n",
        "a=np.array([10,20,30,40])\n",
        "print(\"first element:\",a[0])\n",
        "print(\"second element:\",a[1])\n",
        "print(\"third element:\",a[2])\n",
        "print(\"fourth element:\",a[3])"
      ],
      "metadata": {
        "colab": {
          "base_uri": "https://localhost:8080/"
        },
        "id": "h6H8XSawMV8B",
        "outputId": "63962aba-ebe3-4d2a-dfe0-3dfed30e84e7"
      },
      "execution_count": null,
      "outputs": [
        {
          "output_type": "stream",
          "name": "stdout",
          "text": [
            "first element: 10\n",
            "second element: 20\n",
            "third element: 30\n",
            "fourth element: 40\n"
          ]
        }
      ]
    },
    {
      "cell_type": "code",
      "source": [
        "import numpy as np\n",
        "a=np.array([[10,20,30],[40,50,60]])\n",
        "print(\"First row, third element:\",a[0,2])"
      ],
      "metadata": {
        "colab": {
          "base_uri": "https://localhost:8080/"
        },
        "id": "Zi_rm86UQH5B",
        "outputId": "92bb0cdd-ed0e-43e7-cfd3-1b10ff35723c"
      },
      "execution_count": null,
      "outputs": [
        {
          "output_type": "stream",
          "name": "stdout",
          "text": [
            "First row, third element: 30\n"
          ]
        }
      ]
    },
    {
      "cell_type": "code",
      "source": [
        "import numpy as np\n",
        "a=np.array([[[1,2,3],[2,3,4]],[[3,2,1],[4,3,2]]])\n",
        "print(\"Third element of the second array of the first array:\",a[0,1,2])"
      ],
      "metadata": {
        "colab": {
          "base_uri": "https://localhost:8080/"
        },
        "id": "vhCYdx9yRMWp",
        "outputId": "d4c56fd4-b7bc-4aa1-87b7-a19c0866c356"
      },
      "execution_count": null,
      "outputs": [
        {
          "output_type": "stream",
          "name": "stdout",
          "text": [
            "Third element of the second array of the first array: 4\n"
          ]
        }
      ]
    },
    {
      "cell_type": "code",
      "source": [
        "import numpy as np\n",
        "arr = np.array([[[1, 2, 3], [4, 5, 6]], [[7, 8, 9], [10, 11, 12]]])\n",
        "print(arr[0, 1, 2])"
      ],
      "metadata": {
        "colab": {
          "base_uri": "https://localhost:8080/"
        },
        "id": "5nhTvuP8SFJb",
        "outputId": "3381c6e8-53b9-4b85-a1c7-8e8eb16f46af"
      },
      "execution_count": null,
      "outputs": [
        {
          "output_type": "stream",
          "name": "stdout",
          "text": [
            "6\n"
          ]
        }
      ]
    },
    {
      "cell_type": "code",
      "source": [
        "import numpy as np\n",
        "arr = np.array([[1,2,3,4,5], [6,7,8,9,10]])\n",
        "print('5th element on 2nd row: ', arr[1, 4])"
      ],
      "metadata": {
        "colab": {
          "base_uri": "https://localhost:8080/"
        },
        "id": "EcUe4DQgSSwx",
        "outputId": "df494717-aa13-4637-8899-f2e3d95054ec"
      },
      "execution_count": null,
      "outputs": [
        {
          "output_type": "stream",
          "name": "stdout",
          "text": [
            "5th element on 2nd row:  10\n"
          ]
        }
      ]
    },
    {
      "cell_type": "code",
      "source": [
        "import numpy as np\n",
        "arr = np.array([[1,2,3,4,5], [6,7,8,9,10]])\n",
        "print('2nd element on 1st row: ', arr[0, 1])"
      ],
      "metadata": {
        "colab": {
          "base_uri": "https://localhost:8080/"
        },
        "id": "OZiXr2iHSZsz",
        "outputId": "aa9fa534-6967-47ca-8b47-9837cbd7ca34"
      },
      "execution_count": null,
      "outputs": [
        {
          "output_type": "stream",
          "name": "stdout",
          "text": [
            "2nd element on 1st row:  2\n"
          ]
        }
      ]
    },
    {
      "cell_type": "code",
      "source": [
        "import numpy as np\n",
        "arr = np.array([1, 2, 3, 4])\n",
        "print(arr[2] + arr[3])"
      ],
      "metadata": {
        "colab": {
          "base_uri": "https://localhost:8080/"
        },
        "id": "zm5TkncMSeiR",
        "outputId": "fdf1124a-c184-4665-a310-77625e102909"
      },
      "execution_count": null,
      "outputs": [
        {
          "output_type": "stream",
          "name": "stdout",
          "text": [
            "7\n"
          ]
        }
      ]
    },
    {
      "cell_type": "code",
      "source": [
        "import numpy as np\n",
        "arr = np.array([1, 2, 3, 4])\n",
        "print(arr[1])"
      ],
      "metadata": {
        "colab": {
          "base_uri": "https://localhost:8080/"
        },
        "id": "-KKZ_3JMTJsS",
        "outputId": "5b72ecc9-0c67-44eb-81da-bc4fe69a3d34"
      },
      "execution_count": null,
      "outputs": [
        {
          "output_type": "stream",
          "name": "stdout",
          "text": [
            "2\n"
          ]
        }
      ]
    },
    {
      "cell_type": "code",
      "source": [
        "import numpy as np\n",
        "a=np.array([[[1,2,3],[2,3,4]],[[3,2,1],[4,3,2]]])\n",
        "print(\"last element of the second array of the first array:\",a[0,1,-1])"
      ],
      "metadata": {
        "colab": {
          "base_uri": "https://localhost:8080/"
        },
        "id": "thqjPGJfTcwp",
        "outputId": "a3d2f983-c09a-40ec-f572-fd711b714783"
      },
      "execution_count": null,
      "outputs": [
        {
          "output_type": "stream",
          "name": "stdout",
          "text": [
            "last element of the second array of the first array: 4\n"
          ]
        }
      ]
    },
    {
      "cell_type": "code",
      "source": [
        "import numpy as np\n",
        "a=np.array([10,20,30,40,50])\n",
        "print(a[-3:-1])"
      ],
      "metadata": {
        "id": "n1quoi5UT-bJ",
        "colab": {
          "base_uri": "https://localhost:8080/"
        },
        "outputId": "9ee97e72-ea38-49cd-d530-b5baf60b6a45"
      },
      "execution_count": null,
      "outputs": [
        {
          "output_type": "stream",
          "name": "stdout",
          "text": [
            "[30 40]\n"
          ]
        }
      ]
    },
    {
      "cell_type": "code",
      "source": [
        "import numpy as np\n",
        "a=np.array([10,20,30,40,50])\n",
        "print(a[0:4:2])"
      ],
      "metadata": {
        "colab": {
          "base_uri": "https://localhost:8080/"
        },
        "id": "gCs9TsDQZIs-",
        "outputId": "88e7988e-17ac-4964-aadd-b60c72a22710"
      },
      "execution_count": null,
      "outputs": [
        {
          "output_type": "stream",
          "name": "stdout",
          "text": [
            "[10 30]\n"
          ]
        }
      ]
    },
    {
      "cell_type": "code",
      "source": [
        "import numpy as np\n",
        "\n",
        "arr = np.array([1, 2, 3, 4, 5, 6, 7])\n",
        "\n",
        "print(arr[::2])"
      ],
      "metadata": {
        "colab": {
          "base_uri": "https://localhost:8080/"
        },
        "id": "jUx80FqDZoCC",
        "outputId": "855b2295-197e-4bb8-fcaf-4a2f21d5f120"
      },
      "execution_count": null,
      "outputs": [
        {
          "output_type": "stream",
          "name": "stdout",
          "text": [
            "[1 3 5 7]\n"
          ]
        }
      ]
    },
    {
      "cell_type": "code",
      "source": [
        "import numpy as np\n",
        "a=np.array([[10,20,30],[40,50,60],[70,80,90]])\n",
        "print(a[0,1:3])"
      ],
      "metadata": {
        "colab": {
          "base_uri": "https://localhost:8080/"
        },
        "id": "S7MrDpD5Z8Se",
        "outputId": "790592fc-2404-4c95-8a46-5b465d92a7b8"
      },
      "execution_count": null,
      "outputs": [
        {
          "output_type": "stream",
          "name": "stdout",
          "text": [
            "[20 30]\n"
          ]
        }
      ]
    },
    {
      "cell_type": "code",
      "source": [
        "import numpy as np\n",
        "a=np.array([[10,20,30],[40,50,60],[70,80,90]])\n",
        "print(a[1:3,0])"
      ],
      "metadata": {
        "colab": {
          "base_uri": "https://localhost:8080/"
        },
        "id": "eZCvTRvObeTx",
        "outputId": "5ff04d49-ec72-416f-9e19-909285a6acfa"
      },
      "execution_count": null,
      "outputs": [
        {
          "output_type": "stream",
          "name": "stdout",
          "text": [
            "[40 70]\n"
          ]
        }
      ]
    },
    {
      "cell_type": "code",
      "source": [
        "import numpy as np\n",
        "a=np.array([[10,20,30],[40,50,60],[70,80,90]])\n",
        "print(a[1:3,0:2])\n"
      ],
      "metadata": {
        "colab": {
          "base_uri": "https://localhost:8080/"
        },
        "id": "MCDsH-AWcD9m",
        "outputId": "6f06b833-e56a-47e4-b8db-d2f595ea3246"
      },
      "execution_count": null,
      "outputs": [
        {
          "output_type": "stream",
          "name": "stdout",
          "text": [
            "[[40 50]\n",
            " [70 80]]\n"
          ]
        }
      ]
    },
    {
      "cell_type": "code",
      "source": [
        "import numpy as np\n",
        "marks=np.array([[101,35,98,43,65,78,96],[102,87,45,98,65,34,78],[103,45,26,78,45,67,34],[104,45,56,67,78,89,90],[105,23,34,45,56,76,87]])\n",
        "print(marks)\n",
        "students=marks.shape[0]"
      ],
      "metadata": {
        "id": "nAANeKYScepy",
        "colab": {
          "base_uri": "https://localhost:8080/"
        },
        "outputId": "d77d3178-776c-4aca-8aec-22e1cdeedcb6"
      },
      "execution_count": null,
      "outputs": [
        {
          "output_type": "stream",
          "name": "stdout",
          "text": [
            "[[101  35  98  43  65  78  96]\n",
            " [102  87  45  98  65  34  78]\n",
            " [103  45  26  78  45  67  34]\n",
            " [104  45  56  67  78  89  90]\n",
            " [105  23  34  45  56  76  87]]\n"
          ]
        }
      ]
    },
    {
      "cell_type": "code",
      "source": [
        "Hall_Ticket_No=int(input(\"enter hall ticket no.\"))\n",
        "for i in range(students):\n",
        "  if(Hall_Ticket_No==marks[i,0]):\n",
        "    break\n",
        "print(\"index=\",i)\n",
        "index=i"
      ],
      "metadata": {
        "colab": {
          "base_uri": "https://localhost:8080/"
        },
        "id": "v5nKxF8Rzzem",
        "outputId": "74774e4d-e644-45f7-8f2e-c13fccfe3b6e"
      },
      "execution_count": null,
      "outputs": [
        {
          "output_type": "stream",
          "name": "stdout",
          "text": [
            "enter hall ticket no.105\n",
            "index= 4\n"
          ]
        }
      ]
    },
    {
      "cell_type": "code",
      "source": [
        "marks_percentage=np.sum(marks[index,1:marks.shape[1]])*100/600\n",
        "print(marks_percentage)"
      ],
      "metadata": {
        "colab": {
          "base_uri": "https://localhost:8080/"
        },
        "id": "pdmIRNGZ039G",
        "outputId": "46b7c797-e8f6-4601-f68c-76530340e63b"
      },
      "execution_count": null,
      "outputs": [
        {
          "output_type": "stream",
          "name": "stdout",
          "text": [
            "53.5\n"
          ]
        }
      ]
    },
    {
      "cell_type": "code",
      "source": [
        "count=0\n",
        "failed_sub=[]\n",
        "for i in range(1,marks.shape[1]):\n",
        "  if(marks[index,i]<35):\n",
        "    count=count+1\n",
        "    failed_sub.append(i)\n",
        "\n",
        "print(failed_sub)\n",
        "if(count>0):\n",
        "  print(\"Fail\")\n",
        "else:\n",
        "  print(\"Pass\")\n"
      ],
      "metadata": {
        "colab": {
          "base_uri": "https://localhost:8080/"
        },
        "id": "ookMJxBS1tqH",
        "outputId": "8683246f-731e-4445-b58b-5dca6c3c8070"
      },
      "execution_count": null,
      "outputs": [
        {
          "output_type": "stream",
          "name": "stdout",
          "text": [
            "[1, 2]\n",
            "Fail\n"
          ]
        }
      ]
    },
    {
      "cell_type": "markdown",
      "source": [
        "# **Lab Assignment Based on Numpy and List**"
      ],
      "metadata": {
        "id": "XI4vMUlt7K7f"
      }
    },
    {
      "cell_type": "code",
      "source": [
        "import numpy as np\n",
        "marks=np.array([[101,35,98,43,65,78,96],[102,87,45,98,65,34,78],[103,45,26,78,45,67,34],[104,45,56,67,78,89,90],[105,23,34,45,56,76,87]])\n",
        "students=marks.shape[0]\n",
        "\n",
        "Hall_Ticket_No=int(input(\"enter hall ticket no.\"))\n",
        "for i in range(students):\n",
        "  if(Hall_Ticket_No==marks[i,0]):\n",
        "    break\n",
        "index=i\n",
        "\n",
        "marks_percentage=np.sum(marks[index,1:marks.shape[1]])*100/600\n",
        "\n",
        "count=0\n",
        "failed_sub=[]\n",
        "for i in range(1,marks.shape[1]):\n",
        "  if(marks[index,i]<35):\n",
        "    count=count+1\n",
        "    failed_sub.append(i)\n",
        "\n",
        "print(\"================================\")\n",
        "print(\"     KINDERLAND SCHOOL          \")\n",
        "print(\"       Score Card               \")\n",
        "print(\"================================\")\n",
        "print(\"Roll No:\",Hall_Ticket_No)\n",
        "print(\"Telugu:\",marks[index,1])\n",
        "print(\"English:\",marks[index,2])\n",
        "print(\"Hindi:\",marks[index,3])\n",
        "print(\"Maths:\",marks[index,4])\n",
        "print(\"Science:\",marks[index,5])\n",
        "print(\"social:\",marks[index,6])\n",
        "print(\"================================\")\n",
        "print(\"      Results Status              \")\n",
        "print(\"================================\")\n",
        "if(count>0):\n",
        "  print(\"Fail\")\n",
        "  print(\"Failed Subjects:\",)\n",
        "  for i in range(len(failed_sub)):\n",
        "    if(failed_sub[i]==1):\n",
        "      print(\"Telugu\")\n",
        "    if(failed_sub[i]==2):\n",
        "      print(\"English\")\n",
        "    if(failed_sub[i]==3):\n",
        "      print(\"Hindi\")\n",
        "    if(failed_sub[i]==4):\n",
        "      print(\"Maths\")\n",
        "    if(failed_sub[i]==5):\n",
        "      print(\"Science\")\n",
        "    if(failed_sub[i]==6):\n",
        "      print(\"Social\")\n",
        "else:\n",
        "  print(\"Pass\")\n",
        "  print(\"Percentage of marks:\",np.round(marks_percentage))\n",
        "print(\"================================\")"
      ],
      "metadata": {
        "colab": {
          "base_uri": "https://localhost:8080/"
        },
        "id": "3CWRwwKj2ZrN",
        "outputId": "c2b83823-48d4-4dd8-f5c6-05183a69d33d"
      },
      "execution_count": 24,
      "outputs": [
        {
          "output_type": "stream",
          "name": "stdout",
          "text": [
            "enter hall ticket no.101\n",
            "================================\n",
            "     KINDERLAND SCHOOL          \n",
            "       Score Card               \n",
            "================================\n",
            "Roll No: 101\n",
            "Telugu: 35\n",
            "English: 98\n",
            "Hindi: 43\n",
            "Maths: 65\n",
            "Science: 78\n",
            "social: 96\n",
            "================================\n",
            "      Results Status              \n",
            "================================\n",
            "Pass\n",
            "Percentage of marks: 69.0\n",
            "================================\n"
          ]
        }
      ]
    },
    {
      "cell_type": "code",
      "source": [],
      "metadata": {
        "id": "wVWrN3pE6GfO"
      },
      "execution_count": null,
      "outputs": []
    }
  ]
}