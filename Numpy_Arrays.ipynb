{
  "nbformat": 4,
  "nbformat_minor": 0,
  "metadata": {
    "colab": {
      "provenance": [],
      "authorship_tag": "ABX9TyM08qMa5qb3sY8662ACIkgl",
      "include_colab_link": true
    },
    "kernelspec": {
      "name": "python3",
      "display_name": "Python 3"
    },
    "language_info": {
      "name": "python"
    }
  },
  "cells": [
    {
      "cell_type": "markdown",
      "metadata": {
        "id": "view-in-github",
        "colab_type": "text"
      },
      "source": [
        "<a href=\"https://colab.research.google.com/github/vvrgit/Python/blob/main/Numpy_Arrays.ipynb\" target=\"_parent\"><img src=\"https://colab.research.google.com/assets/colab-badge.svg\" alt=\"Open In Colab\"/></a>"
      ]
    },
    {
      "cell_type": "code",
      "execution_count": null,
      "metadata": {
        "colab": {
          "base_uri": "https://localhost:8080/"
        },
        "id": "-oV8R6Lj7CaT",
        "outputId": "f2c2b091-5747-4350-ec72-4d1651f580cc"
      },
      "outputs": [
        {
          "output_type": "stream",
          "name": "stdout",
          "text": [
            "1.26.4\n"
          ]
        }
      ],
      "source": [
        "import numpy as np\n",
        "print(np.__version__)"
      ]
    },
    {
      "cell_type": "code",
      "source": [
        "import numpy as np\n",
        "a=np.array([10,20,30,40,50])\n",
        "print(\"a=\",a)\n",
        "print(type(a))"
      ],
      "metadata": {
        "colab": {
          "base_uri": "https://localhost:8080/"
        },
        "id": "nfJqMELu7L2d",
        "outputId": "f2620a27-8199-4ac7-d6b2-42e3b3189074"
      },
      "execution_count": null,
      "outputs": [
        {
          "output_type": "stream",
          "name": "stdout",
          "text": [
            "a= [10 20 30 40 50]\n",
            "<class 'numpy.ndarray'>\n"
          ]
        }
      ]
    },
    {
      "cell_type": "code",
      "source": [
        "import numpy as np\n",
        "b=np.array((1,2,3,4,5))\n",
        "print(\"b=\",b)\n",
        "print(type(a))"
      ],
      "metadata": {
        "colab": {
          "base_uri": "https://localhost:8080/"
        },
        "id": "HKsSykCM7dCV",
        "outputId": "401bd46a-b847-4be4-e3ce-2a0e3f008300"
      },
      "execution_count": null,
      "outputs": [
        {
          "output_type": "stream",
          "name": "stdout",
          "text": [
            "b= [1 2 3 4 5]\n",
            "<class 'numpy.ndarray'>\n"
          ]
        }
      ]
    },
    {
      "cell_type": "code",
      "source": [
        "import numpy as np\n",
        "c=np.array(10)\n",
        "print(\"c=\",c)\n",
        "print(type(c))"
      ],
      "metadata": {
        "colab": {
          "base_uri": "https://localhost:8080/"
        },
        "id": "U_VdHpnK-0JC",
        "outputId": "08fd0558-1235-4932-b9ab-baff2a750f47"
      },
      "execution_count": null,
      "outputs": [
        {
          "output_type": "stream",
          "name": "stdout",
          "text": [
            "c= 10\n",
            "<class 'numpy.ndarray'>\n"
          ]
        }
      ]
    },
    {
      "cell_type": "code",
      "source": [
        "import numpy as np\n",
        "d = np.array([1, 2, 3, 4, 5])\n",
        "print(d)\n",
        "print(type(d))"
      ],
      "metadata": {
        "colab": {
          "base_uri": "https://localhost:8080/"
        },
        "id": "C_0HkVsR_AlN",
        "outputId": "28e60806-8b94-4081-8a93-50080c272a87"
      },
      "execution_count": null,
      "outputs": [
        {
          "output_type": "stream",
          "name": "stdout",
          "text": [
            "[1 2 3 4 5]\n",
            "<class 'numpy.ndarray'>\n"
          ]
        }
      ]
    },
    {
      "cell_type": "code",
      "source": [
        "import numpy as np\n",
        "e=np.array([[1,2,3],[4,5,6],[7,8,9]])\n",
        "print(e)\n",
        "print(type(e))"
      ],
      "metadata": {
        "colab": {
          "base_uri": "https://localhost:8080/"
        },
        "id": "tGMDzbJH_qdP",
        "outputId": "b3d0cd8e-0f60-4f45-c08e-2f97318b22af"
      },
      "execution_count": null,
      "outputs": [
        {
          "output_type": "stream",
          "name": "stdout",
          "text": [
            "[[1 2 3]\n",
            " [4 5 6]\n",
            " [7 8 9]]\n",
            "<class 'numpy.ndarray'>\n"
          ]
        }
      ]
    },
    {
      "cell_type": "code",
      "source": [
        "import numpy as np\n",
        "f=np.array([[[1,2],[3,4]],[[5,6],[7,8]]])\n",
        "print(\"f=\",f)\n",
        "print(type(f))"
      ],
      "metadata": {
        "colab": {
          "base_uri": "https://localhost:8080/"
        },
        "id": "Pig2q5UP_zm1",
        "outputId": "9e937112-356e-473b-f1fe-c588698d25a3"
      },
      "execution_count": null,
      "outputs": [
        {
          "output_type": "stream",
          "name": "stdout",
          "text": [
            "f= [[[1 2]\n",
            "  [3 4]]\n",
            "\n",
            " [[5 6]\n",
            "  [7 8]]]\n",
            "<class 'numpy.ndarray'>\n"
          ]
        }
      ]
    },
    {
      "cell_type": "code",
      "source": [
        "import numpy as np\n",
        "a=np.array(2)\n",
        "b=np.array([2,3])\n",
        "c=np.array([[2,3],[4,5]])\n",
        "d=np.array([[[2,3],[4,5]],[[1,2],[3,4]]])\n",
        "print(a.ndim)\n",
        "print(b.ndim)\n",
        "print(c.ndim)\n",
        "print(d.ndim)"
      ],
      "metadata": {
        "colab": {
          "base_uri": "https://localhost:8080/"
        },
        "id": "GkusV8NiA-9e",
        "outputId": "5e7deedf-7e99-4892-a54b-d0f3ba3db04d"
      },
      "execution_count": null,
      "outputs": [
        {
          "output_type": "stream",
          "name": "stdout",
          "text": [
            "0\n",
            "1\n",
            "2\n",
            "3\n"
          ]
        }
      ]
    },
    {
      "cell_type": "code",
      "source": [
        "import numpy as np\n",
        "a=np.array([1,2,3],ndmin=5)\n",
        "print(\"a=\",a)\n",
        "print(type(a))"
      ],
      "metadata": {
        "colab": {
          "base_uri": "https://localhost:8080/"
        },
        "id": "TdZv0aJrJji5",
        "outputId": "5a8f0bf3-0f7d-41df-96f3-ac8bcac724bc"
      },
      "execution_count": null,
      "outputs": [
        {
          "output_type": "stream",
          "name": "stdout",
          "text": [
            "a= [[[[[1 2 3]]]]]\n",
            "<class 'numpy.ndarray'>\n"
          ]
        }
      ]
    },
    {
      "cell_type": "code",
      "source": [
        "import numpy as np\n",
        "a=np.array([10,20,30,40])\n",
        "print(\"first element:\",a[0])\n",
        "print(\"second element:\",a[1])\n",
        "print(\"third element:\",a[2])\n",
        "print(\"fourth element:\",a[3])"
      ],
      "metadata": {
        "colab": {
          "base_uri": "https://localhost:8080/"
        },
        "id": "h6H8XSawMV8B",
        "outputId": "63962aba-ebe3-4d2a-dfe0-3dfed30e84e7"
      },
      "execution_count": null,
      "outputs": [
        {
          "output_type": "stream",
          "name": "stdout",
          "text": [
            "first element: 10\n",
            "second element: 20\n",
            "third element: 30\n",
            "fourth element: 40\n"
          ]
        }
      ]
    },
    {
      "cell_type": "code",
      "source": [
        "import numpy as np\n",
        "a=np.array([[10,20,30],[40,50,60]])\n",
        "print(\"First row, third element:\",a[0,2])"
      ],
      "metadata": {
        "colab": {
          "base_uri": "https://localhost:8080/"
        },
        "id": "Zi_rm86UQH5B",
        "outputId": "92bb0cdd-ed0e-43e7-cfd3-1b10ff35723c"
      },
      "execution_count": null,
      "outputs": [
        {
          "output_type": "stream",
          "name": "stdout",
          "text": [
            "First row, third element: 30\n"
          ]
        }
      ]
    },
    {
      "cell_type": "code",
      "source": [
        "import numpy as np\n",
        "a=np.array([[[1,2,3],[2,3,4]],[[3,2,1],[4,3,2]]])\n",
        "print(\"Third element of the second array of the first array:\",a[0,1,2])"
      ],
      "metadata": {
        "colab": {
          "base_uri": "https://localhost:8080/"
        },
        "id": "vhCYdx9yRMWp",
        "outputId": "d4c56fd4-b7bc-4aa1-87b7-a19c0866c356"
      },
      "execution_count": null,
      "outputs": [
        {
          "output_type": "stream",
          "name": "stdout",
          "text": [
            "Third element of the second array of the first array: 4\n"
          ]
        }
      ]
    },
    {
      "cell_type": "code",
      "source": [
        "import numpy as np\n",
        "arr = np.array([[[1, 2, 3], [4, 5, 6]], [[7, 8, 9], [10, 11, 12]]])\n",
        "print(arr[0, 1, 2])"
      ],
      "metadata": {
        "colab": {
          "base_uri": "https://localhost:8080/"
        },
        "id": "5nhTvuP8SFJb",
        "outputId": "3381c6e8-53b9-4b85-a1c7-8e8eb16f46af"
      },
      "execution_count": null,
      "outputs": [
        {
          "output_type": "stream",
          "name": "stdout",
          "text": [
            "6\n"
          ]
        }
      ]
    },
    {
      "cell_type": "code",
      "source": [
        "import numpy as np\n",
        "arr = np.array([[1,2,3,4,5], [6,7,8,9,10]])\n",
        "print('5th element on 2nd row: ', arr[1, 4])"
      ],
      "metadata": {
        "colab": {
          "base_uri": "https://localhost:8080/"
        },
        "id": "EcUe4DQgSSwx",
        "outputId": "df494717-aa13-4637-8899-f2e3d95054ec"
      },
      "execution_count": null,
      "outputs": [
        {
          "output_type": "stream",
          "name": "stdout",
          "text": [
            "5th element on 2nd row:  10\n"
          ]
        }
      ]
    },
    {
      "cell_type": "code",
      "source": [
        "import numpy as np\n",
        "arr = np.array([[1,2,3,4,5], [6,7,8,9,10]])\n",
        "print('2nd element on 1st row: ', arr[0, 1])"
      ],
      "metadata": {
        "colab": {
          "base_uri": "https://localhost:8080/"
        },
        "id": "OZiXr2iHSZsz",
        "outputId": "aa9fa534-6967-47ca-8b47-9837cbd7ca34"
      },
      "execution_count": null,
      "outputs": [
        {
          "output_type": "stream",
          "name": "stdout",
          "text": [
            "2nd element on 1st row:  2\n"
          ]
        }
      ]
    },
    {
      "cell_type": "code",
      "source": [
        "import numpy as np\n",
        "arr = np.array([1, 2, 3, 4])\n",
        "print(arr[2] + arr[3])"
      ],
      "metadata": {
        "colab": {
          "base_uri": "https://localhost:8080/"
        },
        "id": "zm5TkncMSeiR",
        "outputId": "fdf1124a-c184-4665-a310-77625e102909"
      },
      "execution_count": null,
      "outputs": [
        {
          "output_type": "stream",
          "name": "stdout",
          "text": [
            "7\n"
          ]
        }
      ]
    },
    {
      "cell_type": "code",
      "source": [
        "import numpy as np\n",
        "arr = np.array([1, 2, 3, 4])\n",
        "print(arr[1])"
      ],
      "metadata": {
        "colab": {
          "base_uri": "https://localhost:8080/"
        },
        "id": "-KKZ_3JMTJsS",
        "outputId": "5b72ecc9-0c67-44eb-81da-bc4fe69a3d34"
      },
      "execution_count": null,
      "outputs": [
        {
          "output_type": "stream",
          "name": "stdout",
          "text": [
            "2\n"
          ]
        }
      ]
    },
    {
      "cell_type": "code",
      "source": [
        "import numpy as np\n",
        "a=np.array([[[1,2,3],[2,3,4]],[[3,2,1],[4,3,2]]])\n",
        "print(\"last element of the second array of the first array:\",a[0,1,-1])"
      ],
      "metadata": {
        "colab": {
          "base_uri": "https://localhost:8080/"
        },
        "id": "thqjPGJfTcwp",
        "outputId": "a3d2f983-c09a-40ec-f572-fd711b714783"
      },
      "execution_count": null,
      "outputs": [
        {
          "output_type": "stream",
          "name": "stdout",
          "text": [
            "last element of the second array of the first array: 4\n"
          ]
        }
      ]
    },
    {
      "cell_type": "code",
      "source": [
        "import numpy as np\n",
        "a=np.array([10,20,30,40,50])\n",
        "print(a[-3:-1])"
      ],
      "metadata": {
        "id": "n1quoi5UT-bJ",
        "colab": {
          "base_uri": "https://localhost:8080/"
        },
        "outputId": "9ee97e72-ea38-49cd-d530-b5baf60b6a45"
      },
      "execution_count": null,
      "outputs": [
        {
          "output_type": "stream",
          "name": "stdout",
          "text": [
            "[30 40]\n"
          ]
        }
      ]
    },
    {
      "cell_type": "code",
      "source": [
        "import numpy as np\n",
        "a=np.array([10,20,30,40,50])\n",
        "print(a[0:4:2])"
      ],
      "metadata": {
        "colab": {
          "base_uri": "https://localhost:8080/"
        },
        "id": "gCs9TsDQZIs-",
        "outputId": "88e7988e-17ac-4964-aadd-b60c72a22710"
      },
      "execution_count": null,
      "outputs": [
        {
          "output_type": "stream",
          "name": "stdout",
          "text": [
            "[10 30]\n"
          ]
        }
      ]
    },
    {
      "cell_type": "code",
      "source": [
        "import numpy as np\n",
        "\n",
        "arr = np.array([1, 2, 3, 4, 5, 6, 7])\n",
        "\n",
        "print(arr[::2])"
      ],
      "metadata": {
        "colab": {
          "base_uri": "https://localhost:8080/"
        },
        "id": "jUx80FqDZoCC",
        "outputId": "855b2295-197e-4bb8-fcaf-4a2f21d5f120"
      },
      "execution_count": null,
      "outputs": [
        {
          "output_type": "stream",
          "name": "stdout",
          "text": [
            "[1 3 5 7]\n"
          ]
        }
      ]
    },
    {
      "cell_type": "code",
      "source": [
        "import numpy as np\n",
        "a=np.array([[10,20,30],[40,50,60],[70,80,90]])\n",
        "print(a[0,1:3])"
      ],
      "metadata": {
        "colab": {
          "base_uri": "https://localhost:8080/"
        },
        "id": "S7MrDpD5Z8Se",
        "outputId": "790592fc-2404-4c95-8a46-5b465d92a7b8"
      },
      "execution_count": null,
      "outputs": [
        {
          "output_type": "stream",
          "name": "stdout",
          "text": [
            "[20 30]\n"
          ]
        }
      ]
    },
    {
      "cell_type": "code",
      "source": [
        "import numpy as np\n",
        "a=np.array([[10,20,30],[40,50,60],[70,80,90]])\n",
        "print(a[1:3,0])"
      ],
      "metadata": {
        "colab": {
          "base_uri": "https://localhost:8080/"
        },
        "id": "eZCvTRvObeTx",
        "outputId": "5ff04d49-ec72-416f-9e19-909285a6acfa"
      },
      "execution_count": null,
      "outputs": [
        {
          "output_type": "stream",
          "name": "stdout",
          "text": [
            "[40 70]\n"
          ]
        }
      ]
    },
    {
      "cell_type": "code",
      "source": [
        "import numpy as np\n",
        "a=np.array([[10,20,30],[40,50,60],[70,80,90]])\n",
        "print(a[1:3,0:2])\n"
      ],
      "metadata": {
        "colab": {
          "base_uri": "https://localhost:8080/"
        },
        "id": "MCDsH-AWcD9m",
        "outputId": "6f06b833-e56a-47e4-b8db-d2f595ea3246"
      },
      "execution_count": null,
      "outputs": [
        {
          "output_type": "stream",
          "name": "stdout",
          "text": [
            "[[40 50]\n",
            " [70 80]]\n"
          ]
        }
      ]
    },
    {
      "cell_type": "code",
      "source": [
        "import numpy as np\n",
        "marks=np.array([[101,35,98,43,65,78,96],[102,87,45,98,65,34,78],[103,45,26,78,45,67,34],[104,45,56,67,78,89,90],[105,23,34,45,56,76,87]])\n",
        "print(marks)\n",
        "students=marks.shape[0]"
      ],
      "metadata": {
        "id": "nAANeKYScepy",
        "colab": {
          "base_uri": "https://localhost:8080/"
        },
        "outputId": "d77d3178-776c-4aca-8aec-22e1cdeedcb6"
      },
      "execution_count": null,
      "outputs": [
        {
          "output_type": "stream",
          "name": "stdout",
          "text": [
            "[[101  35  98  43  65  78  96]\n",
            " [102  87  45  98  65  34  78]\n",
            " [103  45  26  78  45  67  34]\n",
            " [104  45  56  67  78  89  90]\n",
            " [105  23  34  45  56  76  87]]\n"
          ]
        }
      ]
    },
    {
      "cell_type": "code",
      "source": [
        "Hall_Ticket_No=int(input(\"enter hall ticket no.\"))\n",
        "for i in range(students):\n",
        "  if(Hall_Ticket_No==marks[i,0]):\n",
        "    break\n",
        "print(\"index=\",i)\n",
        "index=i"
      ],
      "metadata": {
        "colab": {
          "base_uri": "https://localhost:8080/"
        },
        "id": "v5nKxF8Rzzem",
        "outputId": "74774e4d-e644-45f7-8f2e-c13fccfe3b6e"
      },
      "execution_count": null,
      "outputs": [
        {
          "output_type": "stream",
          "name": "stdout",
          "text": [
            "enter hall ticket no.105\n",
            "index= 4\n"
          ]
        }
      ]
    },
    {
      "cell_type": "code",
      "source": [
        "marks_percentage=np.sum(marks[index,1:marks.shape[1]])*100/600\n",
        "print(marks_percentage)"
      ],
      "metadata": {
        "colab": {
          "base_uri": "https://localhost:8080/"
        },
        "id": "pdmIRNGZ039G",
        "outputId": "46b7c797-e8f6-4601-f68c-76530340e63b"
      },
      "execution_count": null,
      "outputs": [
        {
          "output_type": "stream",
          "name": "stdout",
          "text": [
            "53.5\n"
          ]
        }
      ]
    },
    {
      "cell_type": "code",
      "source": [
        "count=0\n",
        "failed_sub=[]\n",
        "for i in range(1,marks.shape[1]):\n",
        "  if(marks[index,i]<35):\n",
        "    count=count+1\n",
        "    failed_sub.append(i)\n",
        "\n",
        "print(failed_sub)\n",
        "if(count>0):\n",
        "  print(\"Fail\")\n",
        "else:\n",
        "  print(\"Pass\")\n"
      ],
      "metadata": {
        "colab": {
          "base_uri": "https://localhost:8080/"
        },
        "id": "ookMJxBS1tqH",
        "outputId": "8683246f-731e-4445-b58b-5dca6c3c8070"
      },
      "execution_count": null,
      "outputs": [
        {
          "output_type": "stream",
          "name": "stdout",
          "text": [
            "[1, 2]\n",
            "Fail\n"
          ]
        }
      ]
    },
    {
      "cell_type": "markdown",
      "source": [
        "# **Lab Assignment Based on Numpy and List**"
      ],
      "metadata": {
        "id": "XI4vMUlt7K7f"
      }
    },
    {
      "cell_type": "code",
      "source": [
        "import numpy as np\n",
        "marks=np.array([[101,35,98,43,65,78,96],[102,87,45,98,65,34,78],[103,45,26,78,45,67,34],[104,45,56,67,78,89,90],[105,23,34,45,56,76,87]])\n",
        "students=marks.shape[0]\n",
        "\n",
        "Hall_Ticket_No=int(input(\"enter hall ticket no.\"))\n",
        "for i in range(students):\n",
        "  if(Hall_Ticket_No==marks[i,0]):\n",
        "    break\n",
        "index=i\n",
        "\n",
        "marks_percentage=np.sum(marks[index,1:marks.shape[1]])*100/600\n",
        "\n",
        "count=0\n",
        "failed_sub=[]\n",
        "for i in range(1,marks.shape[1]):\n",
        "  if(marks[index,i]<35):\n",
        "    count=count+1\n",
        "    failed_sub.append(i)\n",
        "\n",
        "print(\"================================\")\n",
        "print(\"     KINDERLAND SCHOOL          \")\n",
        "print(\"       Score Card               \")\n",
        "print(\"================================\")\n",
        "print(\"Roll No:\",Hall_Ticket_No)\n",
        "print(\"Telugu:\",marks[index,1])\n",
        "print(\"English:\",marks[index,2])\n",
        "print(\"Hindi:\",marks[index,3])\n",
        "print(\"Maths:\",marks[index,4])\n",
        "print(\"Science:\",marks[index,5])\n",
        "print(\"social:\",marks[index,6])\n",
        "print(\"================================\")\n",
        "print(\"      Results Status              \")\n",
        "print(\"================================\")\n",
        "if(count>0):\n",
        "  print(\"Fail\")\n",
        "  print(\"Failed Subjects:\",)\n",
        "  for i in range(len(failed_sub)):\n",
        "    if(failed_sub[i]==1):\n",
        "      print(\"Telugu\")\n",
        "    if(failed_sub[i]==2):\n",
        "      print(\"English\")\n",
        "    if(failed_sub[i]==3):\n",
        "      print(\"Hindi\")\n",
        "    if(failed_sub[i]==4):\n",
        "      print(\"Maths\")\n",
        "    if(failed_sub[i]==5):\n",
        "      print(\"Science\")\n",
        "    if(failed_sub[i]==6):\n",
        "      print(\"Social\")\n",
        "else:\n",
        "  print(\"Pass\")\n",
        "  print(\"Percentage of marks:\",np.round(marks_percentage))\n",
        "print(\"================================\")"
      ],
      "metadata": {
        "colab": {
          "base_uri": "https://localhost:8080/"
        },
        "id": "3CWRwwKj2ZrN",
        "outputId": "c2b83823-48d4-4dd8-f5c6-05183a69d33d"
      },
      "execution_count": null,
      "outputs": [
        {
          "output_type": "stream",
          "name": "stdout",
          "text": [
            "enter hall ticket no.101\n",
            "================================\n",
            "     KINDERLAND SCHOOL          \n",
            "       Score Card               \n",
            "================================\n",
            "Roll No: 101\n",
            "Telugu: 35\n",
            "English: 98\n",
            "Hindi: 43\n",
            "Maths: 65\n",
            "Science: 78\n",
            "social: 96\n",
            "================================\n",
            "      Results Status              \n",
            "================================\n",
            "Pass\n",
            "Percentage of marks: 69.0\n",
            "================================\n"
          ]
        }
      ]
    },
    {
      "cell_type": "code",
      "source": [
        "import numpy as np\n",
        "a = np.array([1, 2, 3, 4])\n",
        "print(a.dtype)"
      ],
      "metadata": {
        "id": "wVWrN3pE6GfO",
        "outputId": "e3729a29-7bd8-4e1f-b328-7517be66d267",
        "colab": {
          "base_uri": "https://localhost:8080/"
        }
      },
      "execution_count": null,
      "outputs": [
        {
          "output_type": "stream",
          "name": "stdout",
          "text": [
            "int64\n"
          ]
        }
      ]
    },
    {
      "cell_type": "code",
      "source": [
        "import numpy as np\n",
        "b = np.array(['apple', 'banana', 'cherry'])\n",
        "print(b.dtype)"
      ],
      "metadata": {
        "id": "gQC5Ucw_gEmZ",
        "outputId": "d4a77a28-130a-4bf0-c4b0-f6c2734b38b6",
        "colab": {
          "base_uri": "https://localhost:8080/"
        }
      },
      "execution_count": null,
      "outputs": [
        {
          "output_type": "stream",
          "name": "stdout",
          "text": [
            "<U6\n"
          ]
        }
      ]
    },
    {
      "cell_type": "code",
      "source": [
        "import numpy as np\n",
        "a = np.array([1, 2, 3, 4], dtype='i')\n",
        "print(a)\n",
        "print(a.dtype)"
      ],
      "metadata": {
        "id": "7cESj0GKgYzE",
        "outputId": "4a032978-6847-4291-d904-73277b3d2fe1",
        "colab": {
          "base_uri": "https://localhost:8080/"
        }
      },
      "execution_count": null,
      "outputs": [
        {
          "output_type": "stream",
          "name": "stdout",
          "text": [
            "[1 2 3 4]\n",
            "int32\n"
          ]
        }
      ]
    },
    {
      "cell_type": "code",
      "source": [
        "import numpy as np\n",
        "a = np.array([1, 2, 3, 4], dtype='S')\n",
        "print(a)\n",
        "print(a.dtype)"
      ],
      "metadata": {
        "id": "Szd0nol4hAM_",
        "outputId": "4ed64970-a73e-4fae-e6a5-49aa31c1a561",
        "colab": {
          "base_uri": "https://localhost:8080/"
        }
      },
      "execution_count": null,
      "outputs": [
        {
          "output_type": "stream",
          "name": "stdout",
          "text": [
            "[b'1' b'2' b'3' b'4']\n",
            "|S1\n"
          ]
        }
      ]
    },
    {
      "cell_type": "code",
      "source": [
        "import numpy as np\n",
        "arr = np.array([1, 2, 3, 4, 5])\n",
        "x = arr.copy()\n",
        "arr[0] = 42\n",
        "\n",
        "print(arr)\n",
        "print(x)"
      ],
      "metadata": {
        "id": "YisvuYubhVR0",
        "outputId": "8e7648ae-9d90-4309-afa4-eda47335eb08",
        "colab": {
          "base_uri": "https://localhost:8080/"
        }
      },
      "execution_count": null,
      "outputs": [
        {
          "output_type": "stream",
          "name": "stdout",
          "text": [
            "[42  2  3  4  5]\n",
            "[1 2 3 4 5]\n"
          ]
        }
      ]
    },
    {
      "cell_type": "code",
      "source": [
        "import numpy as np\n",
        "\n",
        "arr = np.array([1, 2, 3, 4, 5])\n",
        "x = arr.view()\n",
        "arr[0] = 42\n",
        "\n",
        "print(arr)\n",
        "print(x)"
      ],
      "metadata": {
        "id": "JUyssMQUiWX_",
        "outputId": "c707ab15-8836-4f71-f69d-06fca8f3724a",
        "colab": {
          "base_uri": "https://localhost:8080/"
        }
      },
      "execution_count": null,
      "outputs": [
        {
          "output_type": "stream",
          "name": "stdout",
          "text": [
            "[42  2  3  4  5]\n",
            "[42  2  3  4  5]\n"
          ]
        }
      ]
    },
    {
      "cell_type": "code",
      "source": [
        "import numpy as np\n",
        "arr = np.array([1, 2, 3, 4, 5])\n",
        "x = arr.view()\n",
        "x[0] = 24\n",
        "print(arr)\n",
        "print(x)"
      ],
      "metadata": {
        "id": "J5YQQEMoiaqX",
        "outputId": "4e76eded-51ab-4508-e1e5-4840ebb9cf5e",
        "colab": {
          "base_uri": "https://localhost:8080/"
        }
      },
      "execution_count": null,
      "outputs": [
        {
          "output_type": "stream",
          "name": "stdout",
          "text": [
            "[24  2  3  4  5]\n",
            "[24  2  3  4  5]\n"
          ]
        }
      ]
    },
    {
      "cell_type": "code",
      "source": [
        "import numpy as np\n",
        "arr = np.array([1, 2, 3, 4, 5])\n",
        "x = arr.copy()\n",
        "x[0] = 24\n",
        "print(arr)\n",
        "print(x)"
      ],
      "metadata": {
        "id": "k7ziY_WtkMt1",
        "outputId": "5a45ff82-5c63-4902-b3a0-d2dd5438f009",
        "colab": {
          "base_uri": "https://localhost:8080/"
        }
      },
      "execution_count": null,
      "outputs": [
        {
          "output_type": "stream",
          "name": "stdout",
          "text": [
            "[1 2 3 4 5]\n",
            "[24  2  3  4  5]\n"
          ]
        }
      ]
    },
    {
      "cell_type": "code",
      "source": [
        "import numpy as np\n",
        "arr = np.array([1, 2, 3, 4, 5])\n",
        "x = arr.copy()\n",
        "y = arr.view()\n",
        "print(x.base)\n",
        "print(y.base)"
      ],
      "metadata": {
        "id": "A3XCnImukUfM",
        "outputId": "f8a55e66-a58e-4b61-e205-4384bc7604c7",
        "colab": {
          "base_uri": "https://localhost:8080/"
        }
      },
      "execution_count": null,
      "outputs": [
        {
          "output_type": "stream",
          "name": "stdout",
          "text": [
            "None\n",
            "[1 2 3 4 5]\n"
          ]
        }
      ]
    },
    {
      "cell_type": "code",
      "source": [
        "import numpy as np\n",
        "arr = np.array([[1, 2, 3, 4], [5, 6, 7, 8]])\n",
        "print(arr.shape)"
      ],
      "metadata": {
        "id": "suRJMku7lRHi",
        "outputId": "151a2eb5-eac4-4730-8574-a7190002c779",
        "colab": {
          "base_uri": "https://localhost:8080/"
        }
      },
      "execution_count": null,
      "outputs": [
        {
          "output_type": "stream",
          "name": "stdout",
          "text": [
            "(2, 4)\n"
          ]
        }
      ]
    },
    {
      "cell_type": "code",
      "source": [
        "import numpy as np\n",
        "arr = np.array([1, 2, 3, 4, 5, 6, 7, 8, 9, 10, 11, 12])\n",
        "newarr = arr.reshape(4, 3)\n",
        "print(newarr)"
      ],
      "metadata": {
        "id": "Zp3ejNzzm7q5",
        "outputId": "d7dc9ebb-8948-441b-a8d8-172ec8cde255",
        "colab": {
          "base_uri": "https://localhost:8080/"
        }
      },
      "execution_count": null,
      "outputs": [
        {
          "output_type": "stream",
          "name": "stdout",
          "text": [
            "[[ 1  2  3]\n",
            " [ 4  5  6]\n",
            " [ 7  8  9]\n",
            " [10 11 12]]\n"
          ]
        }
      ]
    },
    {
      "cell_type": "code",
      "source": [
        "import numpy as np\n",
        "arr = np.array([1, 2, 3, 4, 5, 6, 7, 8, 9, 10, 11, 12])\n",
        "newarr = arr.reshape(3,2,2)\n",
        "print(newarr)"
      ],
      "metadata": {
        "id": "xgmIrIglozLa",
        "outputId": "2f20fab5-8c18-43c1-d419-89202592f4c6",
        "colab": {
          "base_uri": "https://localhost:8080/"
        }
      },
      "execution_count": null,
      "outputs": [
        {
          "output_type": "stream",
          "name": "stdout",
          "text": [
            "[[[ 1  2]\n",
            "  [ 3  4]]\n",
            "\n",
            " [[ 5  6]\n",
            "  [ 7  8]]\n",
            "\n",
            " [[ 9 10]\n",
            "  [11 12]]]\n"
          ]
        }
      ]
    },
    {
      "cell_type": "code",
      "source": [
        "import numpy as np\n",
        "\n",
        "arr = np.array([1, 2, 3, 4, 5, 6, 7, 8])\n",
        "\n",
        "print(arr.reshape(2, 4).base)"
      ],
      "metadata": {
        "id": "eubK59YQpNNr",
        "outputId": "ee27fb76-6b0b-44e4-aa5d-2195745f9061",
        "colab": {
          "base_uri": "https://localhost:8080/"
        }
      },
      "execution_count": null,
      "outputs": [
        {
          "output_type": "stream",
          "name": "stdout",
          "text": [
            "[1 2 3 4 5 6 7 8]\n"
          ]
        }
      ]
    },
    {
      "cell_type": "code",
      "source": [
        "import numpy as np\n",
        "arr = np.array([1, 2, 3, 4, 5, 6, 7, 8])\n",
        "newarr = arr.reshape(2, 2, -1)\n",
        "print(newarr)"
      ],
      "metadata": {
        "id": "eIzBoXBqpj2D",
        "outputId": "c240115b-143b-49a0-e935-938353448be6",
        "colab": {
          "base_uri": "https://localhost:8080/"
        }
      },
      "execution_count": null,
      "outputs": [
        {
          "output_type": "stream",
          "name": "stdout",
          "text": [
            "[[[1 2]\n",
            "  [3 4]]\n",
            "\n",
            " [[5 6]\n",
            "  [7 8]]]\n"
          ]
        }
      ]
    },
    {
      "cell_type": "code",
      "source": [
        "import numpy as np\n",
        "arr = np.array([[1, 2, 3], [4, 5, 6]])\n",
        "newarr = arr.reshape(-1)\n",
        "print(newarr)"
      ],
      "metadata": {
        "id": "4kC13AV8qnSx",
        "outputId": "e7e0af26-275d-4a95-a666-36e51c714a24",
        "colab": {
          "base_uri": "https://localhost:8080/"
        }
      },
      "execution_count": null,
      "outputs": [
        {
          "output_type": "stream",
          "name": "stdout",
          "text": [
            "[1 2 3 4 5 6]\n"
          ]
        }
      ]
    },
    {
      "cell_type": "code",
      "source": [
        "import numpy as np\n",
        "a=np.array([1,2,3,4,5])\n",
        "for x in a:\n",
        "  print(x)"
      ],
      "metadata": {
        "id": "UPTjITR3rDnz",
        "outputId": "0caa6f3f-bd05-4027-dbf2-8675f0b35573",
        "colab": {
          "base_uri": "https://localhost:8080/"
        }
      },
      "execution_count": null,
      "outputs": [
        {
          "output_type": "stream",
          "name": "stdout",
          "text": [
            "1\n",
            "2\n",
            "3\n",
            "4\n",
            "5\n"
          ]
        }
      ]
    },
    {
      "cell_type": "code",
      "source": [
        "import numpy as np\n",
        "b=np.array([[1,2],[4,5]])\n",
        "for x in b:\n",
        "  print(x)"
      ],
      "metadata": {
        "id": "c0Lsm0xYpz0i",
        "outputId": "69284fcf-50c8-4e17-a13a-f0bc10d33bf5",
        "colab": {
          "base_uri": "https://localhost:8080/"
        }
      },
      "execution_count": null,
      "outputs": [
        {
          "output_type": "stream",
          "name": "stdout",
          "text": [
            "[1 2]\n",
            "[4 5]\n"
          ]
        }
      ]
    },
    {
      "cell_type": "code",
      "source": [
        "import numpy as np\n",
        "b=np.array([[[1,2],[4,5]],[[3,4],[5,6]]])\n",
        "for x in b:\n",
        "  print(x)"
      ],
      "metadata": {
        "id": "jpfPD8CPqJNo",
        "outputId": "20a0c521-4de7-47e4-d779-fb414b2839d0",
        "colab": {
          "base_uri": "https://localhost:8080/"
        }
      },
      "execution_count": null,
      "outputs": [
        {
          "output_type": "stream",
          "name": "stdout",
          "text": [
            "[[1 2]\n",
            " [4 5]]\n",
            "[[3 4]\n",
            " [5 6]]\n"
          ]
        }
      ]
    },
    {
      "cell_type": "code",
      "source": [
        "import numpy as np\n",
        "b=np.array([[1,2],[4,5]])\n",
        "for x in b:\n",
        "  for y in x:\n",
        "    print(y)"
      ],
      "metadata": {
        "id": "RZy7n9yMqnMK",
        "outputId": "90a467ce-63a9-46d2-9a19-4f278543aaf1",
        "colab": {
          "base_uri": "https://localhost:8080/"
        }
      },
      "execution_count": null,
      "outputs": [
        {
          "output_type": "stream",
          "name": "stdout",
          "text": [
            "1\n",
            "2\n",
            "4\n",
            "5\n"
          ]
        }
      ]
    },
    {
      "cell_type": "code",
      "source": [
        "import numpy as np\n",
        "b=np.array([[[1,2],[4,5]],[[3,4],[5,6]]])\n",
        "for x in b:\n",
        "  for y in x:\n",
        "    for z in y:\n",
        "      print(z)"
      ],
      "metadata": {
        "id": "LxkzIvIlq8XG",
        "outputId": "c403c678-6794-49d0-dd91-23a880a4deb2",
        "colab": {
          "base_uri": "https://localhost:8080/"
        }
      },
      "execution_count": null,
      "outputs": [
        {
          "output_type": "stream",
          "name": "stdout",
          "text": [
            "1\n",
            "2\n",
            "4\n",
            "5\n",
            "3\n",
            "4\n",
            "5\n",
            "6\n"
          ]
        }
      ]
    },
    {
      "cell_type": "code",
      "source": [
        "import numpy as np\n",
        "\n",
        "arr = np.array([[[1, 2], [3, 4]], [[5, 6], [7, 8]]])\n",
        "\n",
        "for x in np.nditer(arr):\n",
        "  print(x)"
      ],
      "metadata": {
        "id": "ckOnaq5YrMC4",
        "outputId": "9928324a-fbdb-4bfc-83c6-147199b6ff81",
        "colab": {
          "base_uri": "https://localhost:8080/"
        }
      },
      "execution_count": null,
      "outputs": [
        {
          "output_type": "stream",
          "name": "stdout",
          "text": [
            "1\n",
            "2\n",
            "3\n",
            "4\n",
            "5\n",
            "6\n",
            "7\n",
            "8\n"
          ]
        }
      ]
    },
    {
      "cell_type": "code",
      "source": [
        "import numpy as np\n",
        "\n",
        "arr = np.array([[1, 2, 3, 4], [5, 6, 7, 8]])\n",
        "\n",
        "for x in np.nditer(arr[:, ::2]):\n",
        "  print(x)"
      ],
      "metadata": {
        "id": "EJ1-_w9nrd03",
        "outputId": "ca086055-ce56-4763-809e-fcc01021ea94",
        "colab": {
          "base_uri": "https://localhost:8080/"
        }
      },
      "execution_count": null,
      "outputs": [
        {
          "output_type": "stream",
          "name": "stdout",
          "text": [
            "1\n",
            "3\n",
            "5\n",
            "7\n"
          ]
        }
      ]
    },
    {
      "cell_type": "code",
      "source": [
        "import numpy as np\n",
        "\n",
        "arr = np.array([1, 2, 3])\n",
        "\n",
        "for idx, x in np.ndenumerate(arr):\n",
        "  print(idx, x)"
      ],
      "metadata": {
        "id": "E84Plrursz9c",
        "outputId": "60d1d9ae-0b53-48b1-cee3-99b02847e0d2",
        "colab": {
          "base_uri": "https://localhost:8080/"
        }
      },
      "execution_count": null,
      "outputs": [
        {
          "output_type": "stream",
          "name": "stdout",
          "text": [
            "(0,) 1\n",
            "(1,) 2\n",
            "(2,) 3\n"
          ]
        }
      ]
    },
    {
      "cell_type": "code",
      "source": [
        "import numpy as np\n",
        "\n",
        "arr = np.array([[1, 2],[3,4]])\n",
        "\n",
        "for idx, x in np.ndenumerate(arr):\n",
        "  print(idx, x)"
      ],
      "metadata": {
        "id": "5eyuoadnuAmm",
        "outputId": "2fe0c904-938e-40a0-c53a-8540be6b3bad",
        "colab": {
          "base_uri": "https://localhost:8080/"
        }
      },
      "execution_count": null,
      "outputs": [
        {
          "output_type": "stream",
          "name": "stdout",
          "text": [
            "(0, 0) 1\n",
            "(0, 1) 2\n",
            "(1, 0) 3\n",
            "(1, 1) 4\n"
          ]
        }
      ]
    },
    {
      "cell_type": "code",
      "source": [
        "import numpy as np\n",
        "\n",
        "arr = np.array([[[1,2],[3,4]],[[5,6],[7,8]]])\n",
        "\n",
        "for idx, x in np.ndenumerate(arr):\n",
        "  print(idx, x)"
      ],
      "metadata": {
        "id": "6an6vvRFut_L",
        "outputId": "682388bb-474e-4634-db38-5e3302f94255",
        "colab": {
          "base_uri": "https://localhost:8080/"
        }
      },
      "execution_count": null,
      "outputs": [
        {
          "output_type": "stream",
          "name": "stdout",
          "text": [
            "(0, 0, 0) 1\n",
            "(0, 0, 1) 2\n",
            "(0, 1, 0) 3\n",
            "(0, 1, 1) 4\n",
            "(1, 0, 0) 5\n",
            "(1, 0, 1) 6\n",
            "(1, 1, 0) 7\n",
            "(1, 1, 1) 8\n"
          ]
        }
      ]
    },
    {
      "cell_type": "code",
      "source": [
        "import numpy as np\n",
        "a = np.array([1, 2, 3])\n",
        "b = np.array([4, 5, 6])\n",
        "c = np.concatenate((a, b))\n",
        "print(c)"
      ],
      "metadata": {
        "id": "Yd8QDieCvW_8",
        "outputId": "dbfc0d0a-be91-4acb-9a2c-a1292c74b59a",
        "colab": {
          "base_uri": "https://localhost:8080/"
        }
      },
      "execution_count": null,
      "outputs": [
        {
          "output_type": "stream",
          "name": "stdout",
          "text": [
            "[1 2 3 4 5 6]\n"
          ]
        }
      ]
    },
    {
      "cell_type": "code",
      "source": [
        "import numpy as np\n",
        "a = np.array([1, 2, 3])\n",
        "b = np.array([4, 5, 6])\n",
        "c = np.concatenate((a, b))\n",
        "print(c)"
      ],
      "metadata": {
        "id": "qJ22Ak_-1t4A",
        "outputId": "13bb628b-7161-4b20-bfa1-8337fa7e630b",
        "colab": {
          "base_uri": "https://localhost:8080/"
        }
      },
      "execution_count": null,
      "outputs": [
        {
          "output_type": "stream",
          "name": "stdout",
          "text": [
            "[1 2 3 4 5 6]\n"
          ]
        }
      ]
    },
    {
      "cell_type": "code",
      "source": [
        "import numpy as np\n",
        "a=np.array([[1,2],[3,4]])\n",
        "b=np.array([[10,20],[30,40]])\n",
        "c = np.concatenate((a, b),axis=0) #Column\n",
        "print(c)"
      ],
      "metadata": {
        "id": "LwWYQ8Y12BQE",
        "outputId": "bac68151-6fe3-4d39-fe6b-a7da95419f1c",
        "colab": {
          "base_uri": "https://localhost:8080/"
        }
      },
      "execution_count": null,
      "outputs": [
        {
          "output_type": "stream",
          "name": "stdout",
          "text": [
            "[[ 1  2]\n",
            " [ 3  4]\n",
            " [10 20]\n",
            " [30 40]]\n"
          ]
        }
      ]
    },
    {
      "cell_type": "code",
      "source": [
        "import numpy as np\n",
        "a=np.array([[1,2],[3,4]])\n",
        "b=np.array([[10,20],[30,40]])\n",
        "c = np.concatenate((a, b),axis=1) #ROW\n",
        "print(c)"
      ],
      "metadata": {
        "id": "tq7wTXYP2ZUA",
        "outputId": "30dad419-2142-4da2-b7fe-d353285f2649",
        "colab": {
          "base_uri": "https://localhost:8080/"
        }
      },
      "execution_count": null,
      "outputs": [
        {
          "output_type": "stream",
          "name": "stdout",
          "text": [
            "[[ 1  2 10 20]\n",
            " [ 3  4 30 40]]\n"
          ]
        }
      ]
    },
    {
      "cell_type": "code",
      "source": [
        "import numpy as np\n",
        "arr1 = np.array([1, 2, 3])\n",
        "arr2 = np.array([4, 5, 6])\n",
        "arr = np.stack((arr1, arr2), axis=1)\n",
        "print(arr)"
      ],
      "metadata": {
        "id": "pNxSf_EZ4wID",
        "outputId": "440f3d77-f3c4-4367-f78b-1aa07f1a47de",
        "colab": {
          "base_uri": "https://localhost:8080/"
        }
      },
      "execution_count": null,
      "outputs": [
        {
          "output_type": "stream",
          "name": "stdout",
          "text": [
            "[[1 4]\n",
            " [2 5]\n",
            " [3 6]]\n"
          ]
        }
      ]
    },
    {
      "cell_type": "code",
      "source": [
        "import numpy as np\n",
        "arr1 = np.array([1, 2, 3])\n",
        "arr2 = np.array([4, 5, 6])\n",
        "arr = np.stack((arr1, arr2), axis=0)\n",
        "print(arr)"
      ],
      "metadata": {
        "id": "moERDuxF5WjN",
        "outputId": "93886f77-a82e-4f5c-c01d-bb2def776410",
        "colab": {
          "base_uri": "https://localhost:8080/"
        }
      },
      "execution_count": null,
      "outputs": [
        {
          "output_type": "stream",
          "name": "stdout",
          "text": [
            "[[1 2 3]\n",
            " [4 5 6]]\n"
          ]
        }
      ]
    },
    {
      "cell_type": "code",
      "source": [
        "import numpy as np\n",
        "a=np.array([[1,2],[3,4]])\n",
        "b=np.array([[10,20],[30,40]])\n",
        "c = np.stack((a, b),axis=0) #Column\n",
        "print(c)"
      ],
      "metadata": {
        "id": "S4B9IKpJ5kg7",
        "outputId": "2d9f3621-99d8-4f3d-a416-b7d44f1c0ed1",
        "colab": {
          "base_uri": "https://localhost:8080/"
        }
      },
      "execution_count": null,
      "outputs": [
        {
          "output_type": "stream",
          "name": "stdout",
          "text": [
            "[[[ 1  2]\n",
            "  [ 3  4]]\n",
            "\n",
            " [[10 20]\n",
            "  [30 40]]]\n"
          ]
        }
      ]
    },
    {
      "cell_type": "code",
      "source": [
        "import numpy as np\n",
        "a=np.array([[1,2],[3,4]])\n",
        "b=np.array([[10,20],[30,40]])\n",
        "c = np.stack((a, b),axis=1) #ROW\n",
        "print(c)"
      ],
      "metadata": {
        "id": "jvdFDs8d7OsK",
        "outputId": "78d00151-8136-42c1-a579-3210bb1feb10",
        "colab": {
          "base_uri": "https://localhost:8080/"
        }
      },
      "execution_count": null,
      "outputs": [
        {
          "output_type": "stream",
          "name": "stdout",
          "text": [
            "[[[ 1  2]\n",
            "  [10 20]]\n",
            "\n",
            " [[ 3  4]\n",
            "  [30 40]]]\n"
          ]
        }
      ]
    },
    {
      "cell_type": "code",
      "source": [
        "import numpy as np\n",
        "a=np.array([[1,2],[3,4]])\n",
        "b=np.array([[10,20],[30,40]])\n",
        "c = np.stack((a, b),axis=0) #Column\n",
        "print(c)"
      ],
      "metadata": {
        "id": "hx7xQzUS7cYt",
        "outputId": "6f88f2e0-dffe-43c6-f5a7-8317dbf7d2f9",
        "colab": {
          "base_uri": "https://localhost:8080/"
        }
      },
      "execution_count": null,
      "outputs": [
        {
          "output_type": "stream",
          "name": "stdout",
          "text": [
            "[[[ 1  2]\n",
            "  [ 3  4]]\n",
            "\n",
            " [[10 20]\n",
            "  [30 40]]]\n"
          ]
        }
      ]
    },
    {
      "cell_type": "code",
      "source": [
        "import numpy as np\n",
        "a=np.array([[1,2],[3,4]])\n",
        "b=np.array([[10,20],[30,40]])\n",
        "c = np.hstack((a, b))\n",
        "print(c)"
      ],
      "metadata": {
        "id": "rhnhmSc58VEE",
        "outputId": "508326e3-34a9-4a37-b0af-1a9ea45c36cd",
        "colab": {
          "base_uri": "https://localhost:8080/"
        }
      },
      "execution_count": null,
      "outputs": [
        {
          "output_type": "stream",
          "name": "stdout",
          "text": [
            "[[ 1  2 10 20]\n",
            " [ 3  4 30 40]]\n"
          ]
        }
      ]
    },
    {
      "cell_type": "code",
      "source": [
        "import numpy as np\n",
        "a=np.array([[1,2],[3,4]])\n",
        "b=np.array([[10,20],[30,40]])\n",
        "c = np.vstack((a, b))\n",
        "print(c)"
      ],
      "metadata": {
        "id": "8hcVAQ3l9DmR",
        "outputId": "347f1f84-bc34-4384-aece-68d5fbae4ce5",
        "colab": {
          "base_uri": "https://localhost:8080/"
        }
      },
      "execution_count": null,
      "outputs": [
        {
          "output_type": "stream",
          "name": "stdout",
          "text": [
            "[[ 1  2]\n",
            " [ 3  4]\n",
            " [10 20]\n",
            " [30 40]]\n"
          ]
        }
      ]
    },
    {
      "cell_type": "code",
      "source": [
        "import numpy as np\n",
        "\n",
        "arr1 = np.array([1, 2, 3])\n",
        "\n",
        "arr2 = np.array([4, 5, 6])\n",
        "\n",
        "arr = np.dstack((arr1, arr2))\n",
        "\n",
        "print(arr)"
      ],
      "metadata": {
        "id": "OzvxpGLr9IfN",
        "outputId": "826b7224-e152-4328-e94f-df30e24de77f",
        "colab": {
          "base_uri": "https://localhost:8080/"
        }
      },
      "execution_count": null,
      "outputs": [
        {
          "output_type": "stream",
          "name": "stdout",
          "text": [
            "[[[1 4]\n",
            "  [2 5]\n",
            "  [3 6]]]\n"
          ]
        }
      ]
    },
    {
      "cell_type": "code",
      "source": [
        "import numpy as np\n",
        "\n",
        "arr1 = np.array([1, 2, 3])\n",
        "\n",
        "arr2 = np.array([4, 5, 6])\n",
        "\n",
        "arr = np.concatenate((arr1, arr2))\n",
        "\n",
        "print(arr)"
      ],
      "metadata": {
        "id": "Xb0GXIWJ9fep"
      },
      "execution_count": null,
      "outputs": []
    },
    {
      "cell_type": "code",
      "source": [
        "import numpy as np\n",
        "a = np.array([1, 2, 3, 4, 5, 6])\n",
        "b = np.array_split(a, 3)\n",
        "print(b[0])\n",
        "print(b[1])\n",
        "print(b[2])"
      ],
      "metadata": {
        "id": "xE3bSGM5GU9-",
        "outputId": "fe069aea-d978-4907-9c65-b221b40d99d6",
        "colab": {
          "base_uri": "https://localhost:8080/"
        }
      },
      "execution_count": null,
      "outputs": [
        {
          "output_type": "stream",
          "name": "stdout",
          "text": [
            "[1 2]\n",
            "[3 4]\n",
            "[5 6]\n"
          ]
        }
      ]
    },
    {
      "cell_type": "code",
      "source": [
        "import numpy as np\n",
        "a = np.array([1, 2, 3, 4, 5])\n",
        "b = np.array_split(a, 4)\n",
        "print(b[0])\n",
        "print(b[1])\n",
        "print(b[2])\n",
        "print(b[3])"
      ],
      "metadata": {
        "id": "HUllFXv7CNZU",
        "outputId": "bd0c016c-27fc-4633-c7cd-e17a6821b39a",
        "colab": {
          "base_uri": "https://localhost:8080/"
        }
      },
      "execution_count": null,
      "outputs": [
        {
          "output_type": "stream",
          "name": "stdout",
          "text": [
            "[1 2]\n",
            "[3]\n",
            "[4]\n",
            "[5]\n"
          ]
        }
      ]
    },
    {
      "cell_type": "code",
      "source": [
        "import numpy as np\n",
        "a = np.array([[1, 2], [3, 4], [5, 6], [7, 8], [9, 10], [11, 12]])\n",
        "b = np.array_split(a, 3)\n",
        "print(b[0])\n",
        "print(b[1])\n",
        "print(b[2])"
      ],
      "metadata": {
        "id": "YSyT2rJpCrvL",
        "outputId": "8558799f-3180-4c15-9cef-a6fa0f9fa8bf",
        "colab": {
          "base_uri": "https://localhost:8080/"
        }
      },
      "execution_count": null,
      "outputs": [
        {
          "output_type": "stream",
          "name": "stdout",
          "text": [
            "[[1 2]\n",
            " [3 4]]\n",
            "[[5 6]\n",
            " [7 8]]\n",
            "[[ 9 10]\n",
            " [11 12]]\n"
          ]
        }
      ]
    },
    {
      "cell_type": "code",
      "source": [
        "import numpy as np\n",
        "a = np.array([[1, 2, 3], [4, 5, 6], [7, 8, 9], [10, 11, 12], [13, 14, 15], [16, 17, 18]])\n",
        "b = np.array_split(a, 3)\n",
        "print(b[0])\n",
        "print(b[1])\n",
        "print(b[2])"
      ],
      "metadata": {
        "id": "Te6C6TDTDY3T",
        "outputId": "4cc114a9-3782-4b94-bb81-624d6d41a45a",
        "colab": {
          "base_uri": "https://localhost:8080/"
        }
      },
      "execution_count": null,
      "outputs": [
        {
          "output_type": "stream",
          "name": "stdout",
          "text": [
            "[[1 2 3]\n",
            " [4 5 6]]\n",
            "[[ 7  8  9]\n",
            " [10 11 12]]\n",
            "[[13 14 15]\n",
            " [16 17 18]]\n"
          ]
        }
      ]
    },
    {
      "cell_type": "code",
      "source": [
        "import numpy as np\n",
        "a = np.array([[1, 2, 3], [4, 5, 6], [7, 8, 9], [10, 11, 12], [13, 14, 15], [16, 17, 18],[19,20,21]])\n",
        "b = np.array_split(a, 3)\n",
        "print(b[0])\n",
        "print(b[1])\n",
        "print(b[2])"
      ],
      "metadata": {
        "id": "sxfVS2v8EWl0",
        "outputId": "e8aa2e7d-a0bb-43c0-ae31-d1fc27738ab8",
        "colab": {
          "base_uri": "https://localhost:8080/"
        }
      },
      "execution_count": null,
      "outputs": [
        {
          "output_type": "stream",
          "name": "stdout",
          "text": [
            "[[1 2 3]\n",
            " [4 5 6]\n",
            " [7 8 9]]\n",
            "[[10 11 12]\n",
            " [13 14 15]]\n",
            "[[16 17 18]\n",
            " [19 20 21]]\n"
          ]
        }
      ]
    },
    {
      "cell_type": "code",
      "source": [
        "import numpy as np\n",
        "a = np.array([[1, 2, 3], [4, 5, 6], [7, 8, 9], [10, 11, 12], [13, 14, 15], [16, 17, 18]])\n",
        "b = np.array_split(a, 3, axis=1)\n",
        "print(b[0])\n",
        "print(b[1])\n",
        "print(b[2])"
      ],
      "metadata": {
        "id": "U0nZJ_AaEeNk",
        "outputId": "55143f81-c293-46d3-e092-c4247ce08353",
        "colab": {
          "base_uri": "https://localhost:8080/"
        }
      },
      "execution_count": null,
      "outputs": [
        {
          "output_type": "stream",
          "name": "stdout",
          "text": [
            "[[ 1]\n",
            " [ 4]\n",
            " [ 7]\n",
            " [10]\n",
            " [13]\n",
            " [16]]\n",
            "[[ 2]\n",
            " [ 5]\n",
            " [ 8]\n",
            " [11]\n",
            " [14]\n",
            " [17]]\n",
            "[[ 3]\n",
            " [ 6]\n",
            " [ 9]\n",
            " [12]\n",
            " [15]\n",
            " [18]]\n"
          ]
        }
      ]
    },
    {
      "cell_type": "markdown",
      "source": [
        "# **Thevenin's Theorem**"
      ],
      "metadata": {
        "id": "fi-guS9avZge"
      }
    },
    {
      "cell_type": "code",
      "source": [
        "vth=float(input(\"enter thevenin's voltage\"))\n",
        "Rth=float(input(\"enter thevenin's resistance\"))\n",
        "RL=float(input(\"enter load resitance\"))\n",
        "IL=vth/(Rth+RL)\n",
        "PL=(IL**2)*RL\n",
        "print(\"current=\",IL,\"Amps\")\n",
        "print(\"power=\",PL,\"Watts\")"
      ],
      "metadata": {
        "id": "FXuSDi5HFVIg",
        "outputId": "ceea8faa-6e63-42e9-8482-ade116f00c38",
        "colab": {
          "base_uri": "https://localhost:8080/"
        }
      },
      "execution_count": null,
      "outputs": [
        {
          "output_type": "stream",
          "name": "stdout",
          "text": [
            "enter thevenen's voltage100\n",
            "enter thevenen's resistance200\n",
            "enter load resitance100\n",
            "current= 0.3333333333333333 Amps\n",
            "power= 11.11111111111111 Watts\n"
          ]
        }
      ]
    },
    {
      "cell_type": "markdown",
      "source": [
        "# ***Norton's Theorem***"
      ],
      "metadata": {
        "id": "qOB-K3dAv24j"
      }
    },
    {
      "cell_type": "code",
      "source": [
        "IN=float(input(\"enter nortons's current\"))\n",
        "Rn=float(input(\"enter nortons's resistance\"))\n",
        "RL=float(input(\"enter load resitance\"))\n",
        "IL=IN*Rn/(Rn+RL)1\n",
        "PL=(IL**2)*RL\n",
        "print(\"current=\",IL,\"Amps\")\n",
        "print(\"power=\",PL,\"Watts\")"
      ],
      "metadata": {
        "id": "0zTpjEvrvmUN",
        "outputId": "b47e433a-0b7a-431b-89cf-8a1fc32e3f9f",
        "colab": {
          "base_uri": "https://localhost:8080/"
        }
      },
      "execution_count": null,
      "outputs": [
        {
          "output_type": "stream",
          "name": "stdout",
          "text": [
            "enter nortons's voltage10\n",
            "enter nortons's resistance200\n",
            "enter load resitance100\n",
            "current= 6.666666666666667 Amps\n",
            "power= 4444.444444444445 Watts\n"
          ]
        }
      ]
    },
    {
      "cell_type": "code",
      "source": [
        "import numpy as np\n",
        "a = np.array([[1, 2, 3], [4, 5, 6], [7, 8, 9], [10, 11, 12], [13, 14, 15], [16, 17, 18]])\n",
        "b = np.array_split(a, 2, axis=1)\n",
        "print(b[0])\n",
        "print(b[1])"
      ],
      "metadata": {
        "id": "T_72KWVY81Uc",
        "outputId": "e4f3851d-dd14-457a-8c29-f21504d49d0b",
        "colab": {
          "base_uri": "https://localhost:8080/"
        }
      },
      "execution_count": null,
      "outputs": [
        {
          "output_type": "stream",
          "name": "stdout",
          "text": [
            "[[ 1  2]\n",
            " [ 4  5]\n",
            " [ 7  8]\n",
            " [10 11]\n",
            " [13 14]\n",
            " [16 17]]\n",
            "[[ 3]\n",
            " [ 6]\n",
            " [ 9]\n",
            " [12]\n",
            " [15]\n",
            " [18]]\n"
          ]
        }
      ]
    },
    {
      "cell_type": "code",
      "source": [
        "import numpy as np\n",
        "a = np.array([[1, 2, 3,4], [4, 5, 6,7], [7, 8, 9,10]])\n",
        "b = np.hsplit(a, 2)\n",
        "print(b[0])\n",
        "print(b[1])"
      ],
      "metadata": {
        "id": "qd59G7Hc9MdY",
        "outputId": "37794bb4-6d0e-4df6-e9ec-9a10a9c9a267",
        "colab": {
          "base_uri": "https://localhost:8080/"
        }
      },
      "execution_count": null,
      "outputs": [
        {
          "output_type": "stream",
          "name": "stdout",
          "text": [
            "[[1 2]\n",
            " [4 5]\n",
            " [7 8]]\n",
            "[[ 3  4]\n",
            " [ 6  7]\n",
            " [ 9 10]]\n"
          ]
        }
      ]
    },
    {
      "cell_type": "code",
      "source": [
        "import numpy as np\n",
        "a = np.array([1, 2, 3, 4, 5, 4, 4])\n",
        "x = np.where(a == 3)\n",
        "print(x)"
      ],
      "metadata": {
        "id": "lxUCp_1q-RRC",
        "outputId": "a1f4de3b-8d2c-4da8-88a6-165ed757dc4e",
        "colab": {
          "base_uri": "https://localhost:8080/"
        }
      },
      "execution_count": null,
      "outputs": [
        {
          "output_type": "stream",
          "name": "stdout",
          "text": [
            "(array([2]),)\n"
          ]
        }
      ]
    },
    {
      "cell_type": "code",
      "source": [
        "import numpy as np\n",
        "a=np.array([[1,2,3],[4,5,6],[7,8,9]])\n",
        "print(np.where(a==6))"
      ],
      "metadata": {
        "id": "TPggNHSg-Sod",
        "outputId": "d4b20c7d-551a-49d4-b794-9462fdcfc94f",
        "colab": {
          "base_uri": "https://localhost:8080/"
        }
      },
      "execution_count": null,
      "outputs": [
        {
          "output_type": "stream",
          "name": "stdout",
          "text": [
            "(array([1]), array([2]))\n"
          ]
        }
      ]
    },
    {
      "cell_type": "code",
      "source": [
        "import numpy as np\n",
        "a=np.array([[1,2,3],[4,5,6],[7,8,9]])\n",
        "print(np.where(a%2==0))"
      ],
      "metadata": {
        "id": "gXf9PfiA_8TE",
        "outputId": "93dc19ae-9ee6-4530-b713-92434473612f",
        "colab": {
          "base_uri": "https://localhost:8080/"
        }
      },
      "execution_count": null,
      "outputs": [
        {
          "output_type": "stream",
          "name": "stdout",
          "text": [
            "(array([0, 1, 1, 2]), array([1, 0, 2, 1]))\n"
          ]
        }
      ]
    },
    {
      "cell_type": "code",
      "source": [
        "import numpy as np\n",
        "a=np.array([[1,2,3],[4,5,6],[7,8,9]])\n",
        "print(np.where(a%2==1))"
      ],
      "metadata": {
        "id": "B0CGM4iLAY9J",
        "outputId": "d29a3c77-7c12-4275-f73a-2481e7f95a11",
        "colab": {
          "base_uri": "https://localhost:8080/"
        }
      },
      "execution_count": null,
      "outputs": [
        {
          "output_type": "stream",
          "name": "stdout",
          "text": [
            "(array([0, 0, 1, 2, 2]), array([0, 2, 1, 0, 2]))\n"
          ]
        }
      ]
    },
    {
      "cell_type": "code",
      "source": [
        "import numpy as np\n",
        "\n",
        "a = np.array([6, 7, 8, 9])\n",
        "\n",
        "x = np.searchsorted(a, 7)\n",
        "\n",
        "print(x)"
      ],
      "metadata": {
        "id": "kQ3LiRfqAkKn",
        "outputId": "2a6c678f-941a-4209-e337-23e481c8540b",
        "colab": {
          "base_uri": "https://localhost:8080/"
        }
      },
      "execution_count": null,
      "outputs": [
        {
          "output_type": "stream",
          "name": "stdout",
          "text": [
            "1\n"
          ]
        }
      ]
    },
    {
      "cell_type": "code",
      "source": [
        "import numpy as np\n",
        "a = np.array([1, 2, 3, 4, 5, 4, 4])\n",
        "x = np.searchsorted(a,4)\n",
        "print(x)"
      ],
      "metadata": {
        "id": "ro7YUsuKA1Qx",
        "outputId": "8da44fdd-5959-4516-d04d-3abb01607cf8",
        "colab": {
          "base_uri": "https://localhost:8080/"
        }
      },
      "execution_count": null,
      "outputs": [
        {
          "output_type": "stream",
          "name": "stdout",
          "text": [
            "3\n"
          ]
        }
      ]
    },
    {
      "cell_type": "code",
      "source": [
        "import numpy as np\n",
        "a=np.array([12,98,34,21])\n",
        "b=np.sort(a)\n",
        "print(a)\n",
        "print(b)"
      ],
      "metadata": {
        "id": "0I1V8EYLBCvP",
        "outputId": "2e8d1c94-82aa-4525-f5e6-99f5d3040854",
        "colab": {
          "base_uri": "https://localhost:8080/"
        }
      },
      "execution_count": null,
      "outputs": [
        {
          "output_type": "stream",
          "name": "stdout",
          "text": [
            "[12 98 34 21]\n",
            "[12 21 34 98]\n"
          ]
        }
      ]
    },
    {
      "cell_type": "code",
      "source": [
        "import numpy as np\n",
        "a = np.array(['banana', 'cherry', 'apple'])\n",
        "print(np.sort(a))"
      ],
      "metadata": {
        "id": "AQFy-o09Bk9J",
        "outputId": "5f76e2e6-dccf-4360-ce85-e6b1fcb84ffe",
        "colab": {
          "base_uri": "https://localhost:8080/"
        }
      },
      "execution_count": null,
      "outputs": [
        {
          "output_type": "stream",
          "name": "stdout",
          "text": [
            "['apple' 'banana' 'cherry']\n"
          ]
        }
      ]
    },
    {
      "cell_type": "code",
      "source": [
        "import numpy as np\n",
        "a = np.array([True, False, True])\n",
        "print(np.sort(a))"
      ],
      "metadata": {
        "id": "MFM5SB8fE1eh",
        "outputId": "e55f338e-b09f-458b-c07a-55f5f14a4455",
        "colab": {
          "base_uri": "https://localhost:8080/"
        }
      },
      "execution_count": null,
      "outputs": [
        {
          "output_type": "stream",
          "name": "stdout",
          "text": [
            "[False  True  True]\n"
          ]
        }
      ]
    },
    {
      "cell_type": "code",
      "source": [
        "import numpy as np\n",
        "a = np.array([[3, 2, 4], [5, 0, 1]])\n",
        "print(np.sort(a))"
      ],
      "metadata": {
        "id": "MqkQV8gGE7vT",
        "outputId": "10551dd6-17b6-421e-833a-30e97e773466",
        "colab": {
          "base_uri": "https://localhost:8080/"
        }
      },
      "execution_count": null,
      "outputs": [
        {
          "output_type": "stream",
          "name": "stdout",
          "text": [
            "[[2 3 4]\n",
            " [0 1 5]]\n"
          ]
        }
      ]
    },
    {
      "cell_type": "code",
      "source": [
        "import numpy as np\n",
        "a = np.array([[[3, 2, 4], [5, 0, 1]],[[30, 20, 40], [50, 0, 10]]])\n",
        "print(np.sort(a))"
      ],
      "metadata": {
        "id": "rjtUcp1BFJEV",
        "outputId": "5a199a4a-83b5-4b58-ebe5-38d0186d4619",
        "colab": {
          "base_uri": "https://localhost:8080/"
        }
      },
      "execution_count": null,
      "outputs": [
        {
          "output_type": "stream",
          "name": "stdout",
          "text": [
            "[[[ 2  3  4]\n",
            "  [ 0  1  5]]\n",
            "\n",
            " [[20 30 40]\n",
            "  [ 0 10 50]]]\n"
          ]
        }
      ]
    },
    {
      "cell_type": "code",
      "source": [
        "import numpy as np\n",
        "marks=np.array([[[101,35,98,43,65,78,96],\n",
        "                 [102,87,45,98,65,34,78],\n",
        "                 [103,45,26,78,45,67,34],\n",
        "                 [104,45,56,67,78,89,90],\n",
        "                 [105,23,34,45,56,76,87]],\n",
        "                [[101,53,89,43,56,87,69],\n",
        "                 [102,78,54,89,56,43,87],\n",
        "                 [103,54,62,87,54,76,43],\n",
        "                 [104,35,65,76,87,98,9],\n",
        "                 [105,32,43,54,65,67,78]]])\n",
        "\n",
        "stud=marks.shape[1]\n",
        "sem=marks.shape[0]\n",
        "\n",
        "\n",
        "Hall_Ticket_No=int(input(\"enter hall ticket no.\"))\n",
        "semester=int(input(\"enter semester no.\"))\n",
        "\n",
        "for i in range(sem):\n",
        "  if(semester==i+1):\n",
        "    break\n",
        "index_sem=i\n",
        "\n",
        "for j in range(stud):\n",
        "  if(Hall_Ticket_No==marks[index_sem,j,0]):\n",
        "    break\n",
        "index_stud=j\n",
        "print(index_sem,index_stud)\n",
        "\n",
        "marks_percentage=np.sum(marks[index_sem,index_stud,1:marks.shape[2]])*100/600\n",
        "\n",
        "count=0\n",
        "failed_sub=[]\n",
        "for i in range(1,marks.shape[2]):\n",
        "  if(marks[index_sem,index_stud,i]<40):\n",
        "    count=count+1\n",
        "    failed_sub.append(i)\n",
        "\n",
        "\n",
        "print(\"================================\")\n",
        "print(\"       SR University            \")\n",
        "print(\"       Score Card               \")\n",
        "print(\"================================\")\n",
        "print(\"Roll No:\",Hall_Ticket_No)\n",
        "print(\"Semester:\",semester)\n",
        "print(\"Telugu:\",marks[index,1])\n",
        "print(\"English:\",marks[index,2])\n",
        "print(\"Hindi:\",marks[index,3])\n",
        "print(\"Maths:\",marks[index,4])\n",
        "print(\"Science:\",marks[index,5])\n",
        "print(\"social:\",marks[index,6])\n",
        "print(\"================================\")\n",
        "print(\"      Results Status              \")\n",
        "print(\"================================\")\n",
        "if(count>0):\n",
        "  print(\"Fail\")\n",
        "  print(\"Failed Subjects:\",)\n",
        "  for i in range(len(failed_sub)):\n",
        "    if(failed_sub[i]==1):\n",
        "      print(\"Telugu\")\n",
        "    if(failed_sub[i]==2):\n",
        "      print(\"English\")\n",
        "    if(failed_sub[i]==3):\n",
        "      print(\"Hindi\")\n",
        "    if(failed_sub[i]==4):\n",
        "      print(\"Maths\")\n",
        "    if(failed_sub[i]==5):\n",
        "      print(\"Science\")\n",
        "    if(failed_sub[i]==6):\n",
        "      print(\"Social\")\n",
        "else:\n",
        "  print(\"Pass\")\n",
        "  print(\"Percentage of marks:\",np.round(marks_percentage))\n",
        "print(\"================================\")"
      ],
      "metadata": {
        "id": "MUtYnpPI4Saj",
        "outputId": "a1ff8153-bfbb-4560-fd9b-dd488afa59e6",
        "colab": {
          "base_uri": "https://localhost:8080/"
        }
      },
      "execution_count": 4,
      "outputs": [
        {
          "output_type": "stream",
          "name": "stdout",
          "text": [
            "enter hall ticket no.101\n",
            "enter semester no.2\n",
            "1 0\n"
          ]
        }
      ]
    },
    {
      "cell_type": "code",
      "source": [],
      "metadata": {
        "id": "SZEhuQn-4VHT"
      },
      "execution_count": null,
      "outputs": []
    }
  ]
}