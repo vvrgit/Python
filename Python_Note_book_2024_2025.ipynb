{
  "nbformat": 4,
  "nbformat_minor": 0,
  "metadata": {
    "colab": {
      "provenance": [],
      "mount_file_id": "https://github.com/vvrgit/Python/blob/main/Python_Note_book_2024_2025.ipynb",
      "authorship_tag": "ABX9TyMV2PfW5PfKMuNzh8uu8ya0",
      "include_colab_link": true
    },
    "kernelspec": {
      "name": "python3",
      "display_name": "Python 3"
    },
    "language_info": {
      "name": "python"
    }
  },
  "cells": [
    {
      "cell_type": "markdown",
      "metadata": {
        "id": "view-in-github",
        "colab_type": "text"
      },
      "source": [
        "<a href=\"https://colab.research.google.com/github/vvrgit/Python/blob/main/Python_Note_book_2024_2025.ipynb\" target=\"_parent\"><img src=\"https://colab.research.google.com/assets/colab-badge.svg\" alt=\"Open In Colab\"/></a>"
      ]
    },
    {
      "cell_type": "markdown",
      "source": [
        "# ***Arithmetic Operations***"
      ],
      "metadata": {
        "id": "jDOB903Z1brI"
      }
    },
    {
      "cell_type": "code",
      "source": [
        "x=10\n",
        "y=2\n",
        "print(\"x+y=\",x+y)\n",
        "print(\"x-y=\",x-y)\n",
        "print(\"x*y=\",x*y)\n",
        "print(\"x/y=\",x/y)\n",
        "print(\"x%y=\",x*y)\n",
        "print(\"x**y=\",x**y)"
      ],
      "metadata": {
        "id": "nzyJO9aA1Z3R",
        "outputId": "c40b2204-ab67-4349-aa96-b6f8c09dfea5",
        "colab": {
          "base_uri": "https://localhost:8080/"
        }
      },
      "execution_count": null,
      "outputs": [
        {
          "output_type": "stream",
          "name": "stdout",
          "text": [
            "x+y= 12\n",
            "x-y= 8\n",
            "x*y= 20\n",
            "x/y= 5.0\n",
            "x%y= 20\n",
            "x**y= 100\n"
          ]
        }
      ]
    },
    {
      "cell_type": "code",
      "source": [
        "print('======================')\n",
        "print(\"14/3=\",14/3)\n",
        "print(\"14%3=\",14%3)\n",
        "print('======================')\n",
        "print(\"14.0/3.0=\",14.0/3.0)\n",
        "print(\"14.0%3.0=\",14.0%3.0)\n",
        "print('======================')\n",
        "print(\"14.0/3=\",14.0/3)\n",
        "print(\"14.0%3=\",14.0%3)\n",
        "print('======================')\n",
        "print(\"14/3.0=\",14/3.0)\n",
        "print(\"14%3.0=\",14%3.0)\n",
        "print('======================')"
      ],
      "metadata": {
        "id": "cgy5vuHI2CX0",
        "outputId": "498f6b33-7751-4035-ce19-b3ff3f2fbb53",
        "colab": {
          "base_uri": "https://localhost:8080/"
        }
      },
      "execution_count": null,
      "outputs": [
        {
          "output_type": "stream",
          "name": "stdout",
          "text": [
            "======================\n",
            "14/3= 4.666666666666667\n",
            "14%3= 2\n",
            "======================\n",
            "14.0/3.0= 4.666666666666667\n",
            "14.0%3.0= 2.0\n",
            "======================\n",
            "14.0/3= 4.666666666666667\n",
            "14.0%3= 2.0\n",
            "======================\n",
            "14/3.0= 4.666666666666667\n",
            "14%3.0= 2.0\n",
            "======================\n"
          ]
        }
      ]
    },
    {
      "cell_type": "markdown",
      "source": [
        "# **Random Number Generation**"
      ],
      "metadata": {
        "id": "X-h4UFarVUWq"
      }
    },
    {
      "cell_type": "code",
      "execution_count": null,
      "metadata": {
        "colab": {
          "base_uri": "https://localhost:8080/"
        },
        "id": "Hv4wInP4Sy38",
        "outputId": "844f36ab-647d-47c0-a2db-be536bc97e78"
      },
      "outputs": [
        {
          "output_type": "stream",
          "name": "stdout",
          "text": [
            "6\n"
          ]
        }
      ],
      "source": [
        "import random\n",
        "a=random.randrange(0,10)\n",
        "print(a)"
      ]
    },
    {
      "cell_type": "code",
      "source": [
        "b=random.uniform(0,10)\n",
        "print(b)"
      ],
      "metadata": {
        "colab": {
          "base_uri": "https://localhost:8080/"
        },
        "id": "rWv99TmVVXX6",
        "outputId": "a3d212b8-44c0-436a-d263-051f89a819c6"
      },
      "execution_count": null,
      "outputs": [
        {
          "output_type": "stream",
          "name": "stdout",
          "text": [
            "6.832542296471856\n"
          ]
        }
      ]
    },
    {
      "cell_type": "code",
      "source": [
        "#Use the seed() method to customize\n",
        "#the start number of the random number generator.\n",
        "\n",
        "random.seed(10)\n",
        "print(random.random())\n",
        "\n",
        "random.seed(10)\n",
        "print(random.random())"
      ],
      "metadata": {
        "colab": {
          "base_uri": "https://localhost:8080/"
        },
        "id": "RH_HFCY1VxaL",
        "outputId": "96cb8929-5789-4449-9a0b-d898235098b1"
      },
      "execution_count": null,
      "outputs": [
        {
          "output_type": "stream",
          "name": "stdout",
          "text": [
            "0.5714025946899135\n",
            "0.5714025946899135\n"
          ]
        }
      ]
    },
    {
      "cell_type": "code",
      "source": [
        "#randint: Returns a random number between the given range\n",
        "a=random.randint(1,10)\n",
        "print(a)"
      ],
      "metadata": {
        "colab": {
          "base_uri": "https://localhost:8080/"
        },
        "id": "v0l20mD0XIXT",
        "outputId": "b9e39680-283a-4ded-8a4d-c77ffd1f0e03"
      },
      "execution_count": null,
      "outputs": [
        {
          "output_type": "stream",
          "name": "stdout",
          "text": [
            "7\n"
          ]
        }
      ]
    },
    {
      "cell_type": "code",
      "source": [
        "#choice: Returns a random element from the given sequence\n",
        "mylist = [\"apple\", \"banana\", \"cherry\"]\n",
        "\n",
        "print(random.choice(mylist))"
      ],
      "metadata": {
        "colab": {
          "base_uri": "https://localhost:8080/"
        },
        "id": "98PiqGdTX2i3",
        "outputId": "0254b46b-88b8-42bd-86be-7cdf9e15bc76"
      },
      "execution_count": null,
      "outputs": [
        {
          "output_type": "stream",
          "name": "stdout",
          "text": [
            "cherry\n"
          ]
        }
      ]
    },
    {
      "cell_type": "code",
      "source": [
        "#choices()\tReturns a list with a random selection from the given sequence\n",
        "mylist = [\"apple\", \"banana\", \"cherry\", 100]\n",
        "\n",
        "print(random.choices(mylist, k = 14))"
      ],
      "metadata": {
        "colab": {
          "base_uri": "https://localhost:8080/"
        },
        "id": "A_qsOke7YbG3",
        "outputId": "a2923c67-5b4c-44ae-851f-c3275abc6345"
      },
      "execution_count": null,
      "outputs": [
        {
          "output_type": "stream",
          "name": "stdout",
          "text": [
            "['banana', 'cherry', 'apple', 100, 'apple', 'banana', 100, 100, 'apple', 100, 100, 'banana', 100, 'apple']\n"
          ]
        }
      ]
    },
    {
      "cell_type": "code",
      "source": [
        "#shuffle()\tTakes a sequence and returns the sequence in a random order\n",
        "mylist = [\"apple\", \"banana\", \"cherry\"]\n",
        "random.shuffle(mylist)\n",
        "\n",
        "print(mylist)"
      ],
      "metadata": {
        "colab": {
          "base_uri": "https://localhost:8080/"
        },
        "id": "4rfcWaFIY0TE",
        "outputId": "7719e29d-1cab-4b70-9aec-83c006464030"
      },
      "execution_count": null,
      "outputs": [
        {
          "output_type": "stream",
          "name": "stdout",
          "text": [
            "['apple', 'cherry', 'banana']\n"
          ]
        }
      ]
    },
    {
      "cell_type": "code",
      "source": [
        "#sample()\tReturns a given sample of a sequence\n",
        "\n",
        "mylist = [\"apple\", \"banana\", \"cherry\"]\n",
        "\n",
        "print(random.sample(mylist, k=2))"
      ],
      "metadata": {
        "colab": {
          "base_uri": "https://localhost:8080/"
        },
        "id": "P6NRz2QyZvK9",
        "outputId": "bac0884d-12a7-47e3-b2ab-b83770530eb1"
      },
      "execution_count": null,
      "outputs": [
        {
          "output_type": "stream",
          "name": "stdout",
          "text": [
            "['cherry', 'apple']\n"
          ]
        }
      ]
    },
    {
      "cell_type": "code",
      "source": [
        "#random()\tReturns a random float number between 0 and 1\n",
        "a=random.random()\n",
        "print(a)"
      ],
      "metadata": {
        "colab": {
          "base_uri": "https://localhost:8080/"
        },
        "id": "Do8WHNBLaCNh",
        "outputId": "97088fc8-bdd2-49f2-b737-83b62b6bcbab"
      },
      "execution_count": null,
      "outputs": [
        {
          "output_type": "stream",
          "name": "stdout",
          "text": [
            "0.17430797798567554\n"
          ]
        }
      ]
    },
    {
      "cell_type": "code",
      "source": [
        "#uniform()\tReturns a random float number between two given parameters\n",
        "a=random.uniform(10,20)\n",
        "print(a)"
      ],
      "metadata": {
        "colab": {
          "base_uri": "https://localhost:8080/"
        },
        "id": "AK7KVgJOaRRu",
        "outputId": "a8d29860-fc39-48c1-b81f-368dba27c2ee"
      },
      "execution_count": null,
      "outputs": [
        {
          "output_type": "stream",
          "name": "stdout",
          "text": [
            "12.670270685533795\n"
          ]
        }
      ]
    },
    {
      "cell_type": "markdown",
      "source": [
        "# ***Python Strings***"
      ],
      "metadata": {
        "id": "SRJ0Yrt0dAmS"
      }
    },
    {
      "cell_type": "code",
      "source": [
        "'''\n",
        "Strings in python are surrounded by either single quotation marks, or double quotation marks.\n",
        "\n",
        "'hello' is the same as \"hello\".\n",
        "\n",
        "You can display a string literal with the print() function:\n",
        "'''\n",
        "\n",
        "print(\"Hello\")\n",
        "print('Hello')"
      ],
      "metadata": {
        "colab": {
          "base_uri": "https://localhost:8080/"
        },
        "id": "AhpbkHpPcUnX",
        "outputId": "84d54650-4737-4138-a11c-2496e9b2f138"
      },
      "execution_count": null,
      "outputs": [
        {
          "output_type": "stream",
          "name": "stdout",
          "text": [
            "Hello\n",
            "Hello\n"
          ]
        }
      ]
    },
    {
      "cell_type": "code",
      "source": [
        "'''\n",
        "You can use quotes inside a string, as long as they don't match the quotes surrounding the string:\n",
        "'''\n",
        "\n",
        "print(\"It's alright\")\n",
        "print(\"He is called 'Johnny'\")\n",
        "print('He is called \"Johnny\"')"
      ],
      "metadata": {
        "colab": {
          "base_uri": "https://localhost:8080/"
        },
        "id": "JdGHAUTQdZak",
        "outputId": "aa79b276-d395-4032-c87d-052250c4b02f"
      },
      "execution_count": null,
      "outputs": [
        {
          "output_type": "stream",
          "name": "stdout",
          "text": [
            "It's alright\n",
            "He is called 'Johnny'\n",
            "He is called \"Johnny\"\n"
          ]
        }
      ]
    },
    {
      "cell_type": "code",
      "source": [
        "'''\n",
        "You can assign a multiline string to a variable by using\n",
        "three single or double quotes\n",
        "'''\n",
        "a=''' HI! I am\n",
        "Dr. Venkataramana\n",
        "SR University'''\n",
        "print(a)\n",
        "\n",
        "\n",
        "b=\"\"\" I am Teaching\n",
        "Python Program\"\"\"\n",
        "\n",
        "print(b)\n"
      ],
      "metadata": {
        "colab": {
          "base_uri": "https://localhost:8080/"
        },
        "id": "56PqR3JNdnST",
        "outputId": "df755c2e-64ee-42e0-b60a-f4089da686f6"
      },
      "execution_count": null,
      "outputs": [
        {
          "output_type": "stream",
          "name": "stdout",
          "text": [
            " HI! I am\n",
            "Dr. Venkataramana\n",
            "SR University\n",
            " I am Teaching\n",
            "Python Program\n"
          ]
        }
      ]
    },
    {
      "cell_type": "code",
      "source": [
        "a = \"Hello, World!\"\n",
        "print(a[1])"
      ],
      "metadata": {
        "colab": {
          "base_uri": "https://localhost:8080/"
        },
        "id": "Ao_GSMHEeCHZ",
        "outputId": "0319e676-71e2-4c26-9f1c-48888ff74d76"
      },
      "execution_count": null,
      "outputs": [
        {
          "output_type": "stream",
          "name": "stdout",
          "text": [
            "e\n"
          ]
        }
      ]
    },
    {
      "cell_type": "code",
      "source": [
        "#Looping Through a String\n",
        "for x in \"banana\":\n",
        "  print(x)"
      ],
      "metadata": {
        "colab": {
          "base_uri": "https://localhost:8080/"
        },
        "id": "qSNRdkYdfhW-",
        "outputId": "2bb86f56-0bb8-4a06-9743-bcd46b7b7a92"
      },
      "execution_count": null,
      "outputs": [
        {
          "output_type": "stream",
          "name": "stdout",
          "text": [
            "b\n",
            "a\n",
            "n\n",
            "a\n",
            "n\n",
            "a\n"
          ]
        }
      ]
    },
    {
      "cell_type": "code",
      "source": [
        "#To get the length of a string, use the len() function.\n",
        "a = \"Hello, World!\"\n",
        "print(len(a))"
      ],
      "metadata": {
        "colab": {
          "base_uri": "https://localhost:8080/"
        },
        "id": "yphWHGEJfvML",
        "outputId": "6ade5ee7-e63c-4270-fb34-5e2245a53d8b"
      },
      "execution_count": null,
      "outputs": [
        {
          "output_type": "stream",
          "name": "stdout",
          "text": [
            "13\n"
          ]
        }
      ]
    },
    {
      "cell_type": "code",
      "source": [
        "txt = \"The best things in life are free!\"\n",
        "print(\"free\" in txt)"
      ],
      "metadata": {
        "colab": {
          "base_uri": "https://localhost:8080/"
        },
        "id": "wns5XFsyf1dv",
        "outputId": "20845648-d28d-4fa7-813b-8998f0a0c352"
      },
      "execution_count": null,
      "outputs": [
        {
          "output_type": "stream",
          "name": "stdout",
          "text": [
            "True\n"
          ]
        }
      ]
    },
    {
      "cell_type": "code",
      "source": [
        "My_self='''I am Teaching Python\n",
        "for 3rd year EEE students\n",
        "of SR University'''\n",
        "\n",
        "print(len(My_self))"
      ],
      "metadata": {
        "id": "HcK7DShwib3k",
        "outputId": "946b1601-8507-4325-ffb6-252682cd0695",
        "colab": {
          "base_uri": "https://localhost:8080/"
        }
      },
      "execution_count": null,
      "outputs": [
        {
          "output_type": "stream",
          "name": "stdout",
          "text": [
            "63\n"
          ]
        }
      ]
    },
    {
      "cell_type": "code",
      "source": [
        "print(My_self[0])"
      ],
      "metadata": {
        "id": "mnk-wefRdPKS",
        "outputId": "b4447f38-b441-41ff-bf0f-80402f659de8",
        "colab": {
          "base_uri": "https://localhost:8080/"
        }
      },
      "execution_count": null,
      "outputs": [
        {
          "output_type": "stream",
          "name": "stdout",
          "text": [
            "I\n"
          ]
        }
      ]
    },
    {
      "cell_type": "code",
      "source": [
        "print(My_self[1:])"
      ],
      "metadata": {
        "id": "QdpQc6LXdofb",
        "outputId": "7d03e0b5-3bb2-45fb-8297-bc8cbed340f5",
        "colab": {
          "base_uri": "https://localhost:8080/"
        }
      },
      "execution_count": null,
      "outputs": [
        {
          "output_type": "stream",
          "name": "stdout",
          "text": [
            " am  Teaching Python\n",
            "for 3rd year EEE students\n",
            "of SR University\n"
          ]
        }
      ]
    },
    {
      "cell_type": "code",
      "source": [
        "print(My_self[1:6])"
      ],
      "metadata": {
        "id": "2daEVzGgdrlq",
        "outputId": "07d3ced5-76af-433c-e4fa-c25ed81ac550",
        "colab": {
          "base_uri": "https://localhost:8080/"
        }
      },
      "execution_count": null,
      "outputs": [
        {
          "output_type": "stream",
          "name": "stdout",
          "text": [
            " am  \n"
          ]
        }
      ]
    },
    {
      "cell_type": "code",
      "source": [
        "print(My_self[::-1])"
      ],
      "metadata": {
        "id": "E7UC3ZV9dtyM",
        "outputId": "bae7e632-e000-4454-9c13-08b27dcfadb4",
        "colab": {
          "base_uri": "https://localhost:8080/"
        }
      },
      "execution_count": null,
      "outputs": [
        {
          "output_type": "stream",
          "name": "stdout",
          "text": [
            "ytisrevinU RS fo\n",
            "stneduts EEE raey dr3 rof\n",
            "nohtyP gnihcaeT ma I\n"
          ]
        }
      ]
    },
    {
      "cell_type": "code",
      "source": [
        "print(My_self[20:0:-1])"
      ],
      "metadata": {
        "id": "9MUJG0Tyd67s",
        "outputId": "3f91dcf3-24af-4698-cf61-975d25ba9204",
        "colab": {
          "base_uri": "https://localhost:8080/"
        }
      },
      "execution_count": null,
      "outputs": [
        {
          "output_type": "stream",
          "name": "stdout",
          "text": [
            "\n",
            "nohtyP gnihcaeT ma \n"
          ]
        }
      ]
    },
    {
      "cell_type": "code",
      "source": [
        "Language_1=\"Python\"\n",
        "Language_2=\"MATLAB\"\n",
        "print(Language_1+' '+Language_2)\n",
        "print(Language_1*2)"
      ],
      "metadata": {
        "id": "asHLNHtOeHeK",
        "outputId": "1bd27a4d-d1d3-4f0f-c7d9-041746e1d5c9",
        "colab": {
          "base_uri": "https://localhost:8080/"
        }
      },
      "execution_count": null,
      "outputs": [
        {
          "output_type": "stream",
          "name": "stdout",
          "text": [
            "Python MATLAB\n",
            "PythonPython\n"
          ]
        }
      ]
    },
    {
      "cell_type": "code",
      "source": [
        "Language_1=\"Python\"\n",
        "Language_2=\"MATLAB\"\n",
        "print(Language_1+' '+Language_2)\n",
        "del Language_1\n",
        "print(Language_1)"
      ],
      "metadata": {
        "id": "DZKfOMJieauK",
        "outputId": "2da260cc-f148-4304-8eab-7ed13ea6b64e",
        "colab": {
          "base_uri": "https://localhost:8080/",
          "height": 203
        }
      },
      "execution_count": null,
      "outputs": [
        {
          "output_type": "stream",
          "name": "stdout",
          "text": [
            "Python MATLAB\n"
          ]
        },
        {
          "output_type": "error",
          "ename": "NameError",
          "evalue": "name 'Language_1' is not defined",
          "traceback": [
            "\u001b[0;31m---------------------------------------------------------------------------\u001b[0m",
            "\u001b[0;31mNameError\u001b[0m                                 Traceback (most recent call last)",
            "\u001b[0;32m<ipython-input-23-f193cb5140aa>\u001b[0m in \u001b[0;36m<cell line: 5>\u001b[0;34m()\u001b[0m\n\u001b[1;32m      3\u001b[0m \u001b[0mprint\u001b[0m\u001b[0;34m(\u001b[0m\u001b[0mLanguage_1\u001b[0m\u001b[0;34m+\u001b[0m\u001b[0;34m' '\u001b[0m\u001b[0;34m+\u001b[0m\u001b[0mLanguage_2\u001b[0m\u001b[0;34m)\u001b[0m\u001b[0;34m\u001b[0m\u001b[0;34m\u001b[0m\u001b[0m\n\u001b[1;32m      4\u001b[0m \u001b[0;32mdel\u001b[0m \u001b[0mLanguage_1\u001b[0m\u001b[0;34m\u001b[0m\u001b[0;34m\u001b[0m\u001b[0m\n\u001b[0;32m----> 5\u001b[0;31m \u001b[0mprint\u001b[0m\u001b[0;34m(\u001b[0m\u001b[0mLanguage_1\u001b[0m\u001b[0;34m)\u001b[0m\u001b[0;34m\u001b[0m\u001b[0;34m\u001b[0m\u001b[0m\n\u001b[0m",
            "\u001b[0;31mNameError\u001b[0m: name 'Language_1' is not defined"
          ]
        }
      ]
    },
    {
      "cell_type": "markdown",
      "source": [
        "# ***Complex Numbers***"
      ],
      "metadata": {
        "id": "2qr9ulPYfYPt"
      }
    },
    {
      "cell_type": "code",
      "source": [
        "z=complex(2,3)\n",
        "print(z)\n",
        "w=20+30j\n",
        "print(w)"
      ],
      "metadata": {
        "id": "IiRVDxkXfI1q",
        "outputId": "d8e79cfc-6b71-4f3b-ebf9-f222269ce8f7",
        "colab": {
          "base_uri": "https://localhost:8080/"
        }
      },
      "execution_count": null,
      "outputs": [
        {
          "output_type": "stream",
          "name": "stdout",
          "text": [
            "(2+3j)\n",
            "(20+30j)\n"
          ]
        }
      ]
    },
    {
      "cell_type": "code",
      "source": [
        "real_no=z.real\n",
        "imag_no=z.imag\n",
        "print(\"real_no\",real_no)\n",
        "print(\"imag_no\",imag_no)"
      ],
      "metadata": {
        "id": "3XFKkGXMfhYC",
        "outputId": "da1de637-e35c-49e9-ebe8-9f563aba92ac",
        "colab": {
          "base_uri": "https://localhost:8080/"
        }
      },
      "execution_count": null,
      "outputs": [
        {
          "output_type": "stream",
          "name": "stdout",
          "text": [
            "real_no 2.0\n",
            "imag_no 3.0\n"
          ]
        }
      ]
    },
    {
      "cell_type": "code",
      "source": [
        "complex_conjugate=z.conjugate()\n",
        "magnitude=abs(z)\n",
        "print(\"complex_conjugate\",complex_conjugate)\n",
        "print(\"magnitude\",magnitude)"
      ],
      "metadata": {
        "id": "qFMF4aOYgBOh",
        "outputId": "1721ccc9-efae-45ae-f42a-ae92149c2aff",
        "colab": {
          "base_uri": "https://localhost:8080/"
        }
      },
      "execution_count": null,
      "outputs": [
        {
          "output_type": "stream",
          "name": "stdout",
          "text": [
            "complex_conjugate (2-3j)\n",
            "magnitude 3.605551275463989\n"
          ]
        }
      ]
    },
    {
      "cell_type": "code",
      "source": [
        "z1=complex(2,3)\n",
        "z2=complex(4,5)\n",
        "print(\"z1+z2=\",z1+z2)\n",
        "print(\"z1-z2=\",z1-z2)\n",
        "print(\"z1*z2=\",z1*z2)\n",
        "print(\"z1/z2=\",z1/z2)"
      ],
      "metadata": {
        "id": "mfZViLtEhEMi",
        "outputId": "81c527d2-ec0a-4f4d-e896-63e773c2fc86",
        "colab": {
          "base_uri": "https://localhost:8080/"
        }
      },
      "execution_count": null,
      "outputs": [
        {
          "output_type": "stream",
          "name": "stdout",
          "text": [
            "z1+z2= (6+8j)\n",
            "z1-z2= (-2-2j)\n",
            "z1*z2= (-7+22j)\n",
            "z1/z2= (0.5609756097560976+0.0487804878048781j)\n"
          ]
        }
      ]
    },
    {
      "cell_type": "code",
      "source": [
        "import cmath as cm\n",
        "z1=complex(2,3)\n",
        "\n",
        "angle=cm.phase(z1)\n",
        "polar_form=cm.polar(z1)\n",
        "rect_form=cm.rect(polar_form[0],polar_form[1])\n",
        "\n",
        "\n",
        "print(\"angle in Radians=\",angle)\n",
        "print(\"polar_form=\",polar_form)\n",
        "print(\"rect_form=\",rect_form)\n"
      ],
      "metadata": {
        "id": "v9HhtR_EhhA4",
        "outputId": "9b17af6a-e0dd-4c9b-85ed-70d332bea98d",
        "colab": {
          "base_uri": "https://localhost:8080/"
        }
      },
      "execution_count": null,
      "outputs": [
        {
          "output_type": "stream",
          "name": "stdout",
          "text": [
            "angle in Radians= 0.982793723247329\n",
            "polar_form= (3.605551275463989, 0.982793723247329)\n",
            "rect_form= (2+3j)\n"
          ]
        }
      ]
    },
    {
      "cell_type": "code",
      "source": [
        "import math as mt\n",
        "import cmath as cm\n",
        "\n",
        "z1=complex(10,20)\n",
        "angle=cm.phase(z1)\n",
        "\n",
        "angle_degree=mt.degrees(angle)\n",
        "\n",
        "print(\"angle in Radians=\",angle)\n",
        "print(\"angle in degrees=\",angle_degree)"
      ],
      "metadata": {
        "id": "RDYdBg2Oh8ry",
        "outputId": "cd12e4e0-f954-4c95-a1e8-1f35fc8e1a83",
        "colab": {
          "base_uri": "https://localhost:8080/"
        }
      },
      "execution_count": null,
      "outputs": [
        {
          "output_type": "stream",
          "name": "stdout",
          "text": [
            "angle in Radians= 1.1071487177940904\n",
            "angle in degrees= 63.43494882292201\n"
          ]
        }
      ]
    },
    {
      "cell_type": "markdown",
      "source": [
        "# ***Power and logarithmic functions***"
      ],
      "metadata": {
        "id": "deqNTIZKmQ2N"
      }
    },
    {
      "cell_type": "code",
      "source": [
        "import cmath as cm\n",
        "\n",
        "exp_01= cm.exp(1)\n",
        "log_01= cm.log(cm.exp(1))\n",
        "log10_01=cm.log10(1000)\n",
        "sqrt_01=cm.sqrt(4)\n",
        "\n",
        "print(\"Exponential=\",exp_01)\n",
        "print(\"Log_e=\",log_01)\n",
        "print(\"square root=\",sqrt_01)\n",
        "print(\"Log_10=\",log10_01)"
      ],
      "metadata": {
        "id": "Vzx9rp38jSCY",
        "outputId": "8c174e0d-31e6-461a-fcf6-9390ff0cac13",
        "colab": {
          "base_uri": "https://localhost:8080/"
        }
      },
      "execution_count": null,
      "outputs": [
        {
          "output_type": "stream",
          "name": "stdout",
          "text": [
            "Exponential= (2.718281828459045+0j)\n",
            "Log_e= (1+0j)\n",
            "square root= (2+0j)\n",
            "Log_10= (2.9999999999999996+0j)\n"
          ]
        }
      ]
    },
    {
      "cell_type": "code",
      "source": [
        "import math as mt\n",
        "\n",
        "exp_01= mt.exp(1)\n",
        "log_01= mt.log(mt.exp(1))\n",
        "log10_01=mt.log10(1000)\n",
        "sqrt_01=mt.sqrt(4)\n",
        "\n",
        "print(\"Exponential=\",exp_01)\n",
        "print(\"Log_e=\",log_01)\n",
        "print(\"square root=\",sqrt_01)\n",
        "print(\"Log_10=\",log10_01)"
      ],
      "metadata": {
        "id": "RtMf2ipuqFxe",
        "outputId": "b9546365-f4d5-40ac-8b81-4e776dc5cc4a",
        "colab": {
          "base_uri": "https://localhost:8080/"
        }
      },
      "execution_count": null,
      "outputs": [
        {
          "output_type": "stream",
          "name": "stdout",
          "text": [
            "Exponential= 2.718281828459045\n",
            "Log_e= 1.0\n",
            "square root= 2.0\n",
            "Log_10= 3.0\n"
          ]
        }
      ]
    },
    {
      "cell_type": "markdown",
      "source": [
        "# ***Trigonometric functions***"
      ],
      "metadata": {
        "id": "rmRRRnGrq-OT"
      }
    },
    {
      "cell_type": "code",
      "source": [
        "import math as mt\n",
        "\n",
        "sin_value= mt.sin(1.57)\n",
        "cos_value= mt.cos(1.57)\n",
        "tan_value=mt.tan(1.57/2)\n",
        "\n",
        "\n",
        "print(\"sin_value=\",sin_value)\n",
        "print(\"cos_value=\",cos_value)\n",
        "print(\"tan_value=\",tan_value)\n"
      ],
      "metadata": {
        "id": "uFYU3G-tqpVv",
        "outputId": "b46e90c6-2b4d-4a6c-84e8-1b5b024dc687",
        "colab": {
          "base_uri": "https://localhost:8080/"
        }
      },
      "execution_count": null,
      "outputs": [
        {
          "output_type": "stream",
          "name": "stdout",
          "text": [
            "sin_value= 0.9999996829318346\n",
            "cos_value= 0.0007963267107332633\n",
            "tan_value= 0.9992039901050427\n"
          ]
        }
      ]
    },
    {
      "cell_type": "code",
      "source": [
        "import math as mt\n",
        "\n",
        "sin_value= mt.sin(1.57)\n",
        "cos_value= mt.cos(1.57)\n",
        "tan_value=mt.tan(1.57/2)\n",
        "\n",
        "\n",
        "print(\"sin_value=\",sin_value)\n",
        "print(\"cos_value=\",cos_value)\n",
        "print(\"tan_value=\",tan_value)"
      ],
      "metadata": {
        "id": "TcZLLPPqraW-",
        "outputId": "dcd4b5fe-6028-4a26-8a37-0d6d20ededad",
        "colab": {
          "base_uri": "https://localhost:8080/"
        }
      },
      "execution_count": null,
      "outputs": [
        {
          "output_type": "stream",
          "name": "stdout",
          "text": [
            "sin_value= 0.9999996829318346\n",
            "cos_value= 0.0007963267107332633\n",
            "tan_value= 0.9992039901050427\n"
          ]
        }
      ]
    },
    {
      "cell_type": "code",
      "source": [
        "import math as mt\n",
        "\n",
        "sin_value= mt.sin(mt.radians(90))\n",
        "cos_value= mt.cos(mt.radians(90))\n",
        "tan_value=mt.tan(mt.radians(45))\n",
        "\n",
        "\n",
        "print(\"sin_value=\",sin_value)\n",
        "print(\"cos_value=\",cos_value)\n",
        "print(\"tan_value=\",tan_value)"
      ],
      "metadata": {
        "id": "NdRwqRGKrpAu",
        "outputId": "5954a4b2-291b-4868-85a7-2502afaf26cf",
        "colab": {
          "base_uri": "https://localhost:8080/"
        }
      },
      "execution_count": null,
      "outputs": [
        {
          "output_type": "stream",
          "name": "stdout",
          "text": [
            "sin_value= 1.0\n",
            "cos_value= 6.123233995736766e-17\n",
            "tan_value= 0.9999999999999999\n"
          ]
        }
      ]
    },
    {
      "cell_type": "code",
      "source": [
        "import math as mt\n",
        "import cmath as cm\n",
        "\n",
        "sin_value= cm.sin(1.57)\n",
        "cos_value= cm.cos(1.57)\n",
        "tan_value=cm.tan(1.57/2)\n",
        "\n",
        "\n",
        "print(\"sin_value=\",sin_value)\n",
        "print(\"cos_value=\",cos_value)\n",
        "print(\"tan_value=\",tan_value)"
      ],
      "metadata": {
        "id": "lyWPFcDyr1e2",
        "outputId": "02bcf15d-b8e3-401a-ee19-6d45a540b899",
        "colab": {
          "base_uri": "https://localhost:8080/"
        }
      },
      "execution_count": null,
      "outputs": [
        {
          "output_type": "stream",
          "name": "stdout",
          "text": [
            "sin_value= (0.9999996829318346+0j)\n",
            "cos_value= (0.0007963267107332633-0j)\n",
            "tan_value= (0.9992039901050427+0j)\n"
          ]
        }
      ]
    },
    {
      "cell_type": "code",
      "source": [
        "import math as mt\n",
        "import cmath as cm\n",
        "\n",
        "sin_value= cm.sin(mt.radians(90))\n",
        "cos_value= cm.cos(mt.radians(90))\n",
        "tan_value=cm.tan(mt.radians(45))\n",
        "\n",
        "\n",
        "print(\"sin_value=\",sin_value)\n",
        "print(\"cos_value=\",cos_value)\n",
        "print(\"tan_value=\",tan_value)"
      ],
      "metadata": {
        "id": "dnchQPDttEn2",
        "outputId": "cdf2b0aa-f69b-4a01-cd90-4fc97e916a6e",
        "colab": {
          "base_uri": "https://localhost:8080/"
        }
      },
      "execution_count": null,
      "outputs": [
        {
          "output_type": "stream",
          "name": "stdout",
          "text": [
            "sin_value= (1+0j)\n",
            "cos_value= (6.123233995736766e-17-0j)\n",
            "tan_value= (0.9999999999999999+0j)\n"
          ]
        }
      ]
    },
    {
      "cell_type": "code",
      "source": [
        "import cmath as cm\n",
        "\n",
        "sin_angle= cm.asin(1)\n",
        "cos_angle= cm.acos(0)\n",
        "tan_angle=cm.atan(1)\n",
        "\n",
        "\n",
        "print(\"sin_value=\",sin_angle)\n",
        "print(\"cos_value=\",cos_angle)\n",
        "print(\"tan_value=\",tan_angle)"
      ],
      "metadata": {
        "id": "bb4Cj67ntKbm",
        "outputId": "e1ad77f5-90aa-44d5-f0b5-09dbb1a640b9",
        "colab": {
          "base_uri": "https://localhost:8080/"
        }
      },
      "execution_count": null,
      "outputs": [
        {
          "output_type": "stream",
          "name": "stdout",
          "text": [
            "sin_value= (1.5707963267948966+0j)\n",
            "cos_value= (1.5707963267948966-0j)\n",
            "tan_value= (0.7853981633974483+0j)\n"
          ]
        }
      ]
    },
    {
      "cell_type": "code",
      "source": [
        "import math as mt\n",
        "\n",
        "sin_angle= mt.asin(1)\n",
        "cos_angle= mt.acos(0)\n",
        "tan_angle=mt.atan(1)\n",
        "\n",
        "\n",
        "print(\"sin_value=\",sin_angle)\n",
        "print(\"cos_value=\",cos_angle)\n",
        "print(\"tan_value=\",tan_angle)"
      ],
      "metadata": {
        "id": "2m60XzQ6tlI1",
        "outputId": "ea520e62-fd87-45ed-d8d8-1687f5866f32",
        "colab": {
          "base_uri": "https://localhost:8080/"
        }
      },
      "execution_count": null,
      "outputs": [
        {
          "output_type": "stream",
          "name": "stdout",
          "text": [
            "sin_value= 1.5707963267948966\n",
            "cos_value= 1.5707963267948966\n",
            "tan_value= 0.7853981633974483\n"
          ]
        }
      ]
    },
    {
      "cell_type": "code",
      "source": [
        "import math as mt\n",
        "\n",
        "sin_value= mt.sinh(1.57)\n",
        "cos_value= mt.cosh(1.57)\n",
        "tan_value=mt.tanh(1.57/2)\n",
        "\n",
        "\n",
        "print(\"sin_value=\",sin_value)\n",
        "print(\"cos_value=\",cos_value)\n",
        "print(\"tan_value=\",tan_value)"
      ],
      "metadata": {
        "id": "ueubEFFBtuoG",
        "outputId": "d7bbf08a-8d06-4602-ff57-b92dd136f0c9",
        "colab": {
          "base_uri": "https://localhost:8080/"
        }
      },
      "execution_count": null,
      "outputs": [
        {
          "output_type": "stream",
          "name": "stdout",
          "text": [
            "sin_value= 2.299301505709079\n",
            "cos_value= 2.5073466880660993\n",
            "tan_value= 0.6555672165322445\n"
          ]
        }
      ]
    },
    {
      "cell_type": "code",
      "source": [
        "import cmath as cm\n",
        "\n",
        "sin_value= cm.sinh(1.57)\n",
        "cos_value= cm.cosh(1.57)\n",
        "tan_value=cm.tanh(1.57/2)\n",
        "\n",
        "\n",
        "print(\"sin_value=\",sin_value)\n",
        "print(\"cos_value=\",cos_value)\n",
        "print(\"tan_value=\",tan_value)"
      ],
      "metadata": {
        "id": "rLZyPCnsun42",
        "outputId": "0ea79ec2-572b-48d6-ae24-05ab9bef66ea",
        "colab": {
          "base_uri": "https://localhost:8080/"
        }
      },
      "execution_count": null,
      "outputs": [
        {
          "output_type": "stream",
          "name": "stdout",
          "text": [
            "sin_value= (2.299301505709079+0j)\n",
            "cos_value= (2.5073466880660993+0j)\n",
            "tan_value= (0.6555672165322445+0j)\n"
          ]
        }
      ]
    },
    {
      "cell_type": "code",
      "source": [
        "import math as mt\n",
        "\n",
        "sin_angle= mt.asinh(1)\n",
        "cos_angle= mt.acosh(1)\n",
        "tan_angle=mt.atanh(0.5)\n",
        "\n",
        "\n",
        "print(\"sin_value=\",sin_angle)\n",
        "print(\"cos_value=\",cos_angle)\n",
        "print(\"tan_value=\",tan_angle)"
      ],
      "metadata": {
        "id": "4fRSAYwuutGN",
        "outputId": "7f2b6fc6-2d24-4c7c-aa98-5fb48d9c15f5",
        "colab": {
          "base_uri": "https://localhost:8080/"
        }
      },
      "execution_count": null,
      "outputs": [
        {
          "output_type": "stream",
          "name": "stdout",
          "text": [
            "sin_value= 0.881373587019543\n",
            "cos_value= 0.0\n",
            "tan_value= 0.5493061443340548\n"
          ]
        }
      ]
    },
    {
      "cell_type": "code",
      "source": [
        "import cmath as cm\n",
        "\n",
        "\n",
        "sin_angle= cm.asinh(1)\n",
        "cos_angle= cm.acosh(1)\n",
        "tan_angle=cm.atanh(0.5)\n",
        "\n",
        "\n",
        "print(\"sin_value=\",sin_angle)\n",
        "print(\"cos_value=\",cos_angle)\n",
        "print(\"tan_value=\",tan_angle)"
      ],
      "metadata": {
        "id": "bqTfjQqfuxc9",
        "outputId": "bdbafdef-0381-446e-c9bb-2ef5383015a4",
        "colab": {
          "base_uri": "https://localhost:8080/"
        }
      },
      "execution_count": null,
      "outputs": [
        {
          "output_type": "stream",
          "name": "stdout",
          "text": [
            "sin_value= (0.881373587019543+0j)\n",
            "cos_value= 0j\n",
            "tan_value= (0.5493061443340549+0j)\n"
          ]
        }
      ]
    },
    {
      "cell_type": "markdown",
      "source": [
        "# ***Classification functions***"
      ],
      "metadata": {
        "id": "upqXInHJvp3g"
      }
    },
    {
      "cell_type": "code",
      "source": [
        "x=complex(10,20)\n",
        "\n",
        "import cmath as cm\n",
        "print(cm.isfinite(x)) #Return True if both the real and imaginary parts of x are finite, and False otherwise."
      ],
      "metadata": {
        "id": "sQUPsizxvBHt",
        "outputId": "a7f1e473-bd8e-46c8-82d0-f87fe31e137e",
        "colab": {
          "base_uri": "https://localhost:8080/"
        }
      },
      "execution_count": null,
      "outputs": [
        {
          "output_type": "stream",
          "name": "stdout",
          "text": [
            "True\n"
          ]
        }
      ]
    },
    {
      "cell_type": "code",
      "source": [
        "x=10\n",
        "\n",
        "import math as mt\n",
        "print(mt.isfinite(x)) #Return True if  x is finite, and False otherwise."
      ],
      "metadata": {
        "id": "VNL8O7h6v1E9",
        "outputId": "e4e77a69-0021-47d5-d0fc-b358a8fd34ca",
        "colab": {
          "base_uri": "https://localhost:8080/"
        }
      },
      "execution_count": null,
      "outputs": [
        {
          "output_type": "stream",
          "name": "stdout",
          "text": [
            "True\n"
          ]
        }
      ]
    },
    {
      "cell_type": "code",
      "source": [
        "y=complex(float('inf'),20)\n",
        "\n",
        "import cmath as cm\n",
        "print(cm.isfinite(y)) #Return True if both the real and imaginary parts of x are finite, and False otherwise.\n",
        "print(cm.isinf(y)) #Return True if either the real and imaginary parts of x are infinite, and False otherwise."
      ],
      "metadata": {
        "id": "9XkGDT5IwDn2",
        "outputId": "7aaafda6-121a-42e5-e2de-5554e718bd90",
        "colab": {
          "base_uri": "https://localhost:8080/"
        }
      },
      "execution_count": null,
      "outputs": [
        {
          "output_type": "stream",
          "name": "stdout",
          "text": [
            "False\n",
            "True\n"
          ]
        }
      ]
    },
    {
      "cell_type": "code",
      "source": [
        "y=float('inf')\n",
        "\n",
        "import math as m\n",
        "print(m.isfinite(y))       #Return True if  x is finite, and False otherwise.\n",
        "print(m.isinf(y))          #Return True if  x is infinite, and False otherwise."
      ],
      "metadata": {
        "id": "oB-7OjZCwbQ-",
        "outputId": "468a7083-6e32-4685-96ff-3932d8aa4857",
        "colab": {
          "base_uri": "https://localhost:8080/"
        }
      },
      "execution_count": null,
      "outputs": [
        {
          "output_type": "stream",
          "name": "stdout",
          "text": [
            "False\n",
            "True\n"
          ]
        }
      ]
    },
    {
      "cell_type": "code",
      "source": [
        "n1 = float(\"nan\")\n",
        "\n",
        "import math as m\n",
        "print(m.isnan(n1))    #Return True if  n1 is nan, and False otherwise.\n",
        "\n",
        "n2=complex(float('nan'),20)\n",
        "\n",
        "import cmath as cm\n",
        "print(cm.isnan(n2)) #Return True if either the real and imaginary parts of n2 are nan, and False otherwise.\n"
      ],
      "metadata": {
        "id": "LD_muFkLwiEm",
        "outputId": "4ea3d4f1-1d6e-472b-e1d1-aaeca147239a",
        "colab": {
          "base_uri": "https://localhost:8080/"
        }
      },
      "execution_count": null,
      "outputs": [
        {
          "output_type": "stream",
          "name": "stdout",
          "text": [
            "True\n",
            "True\n"
          ]
        }
      ]
    },
    {
      "cell_type": "markdown",
      "source": [
        "# ***User Defined Functions***"
      ],
      "metadata": {
        "id": "YvlnIJgaXlEq"
      }
    },
    {
      "cell_type": "code",
      "source": [
        "def print_details():\n",
        "  print(\"Name: Venkat\")\n",
        "  print(\"Course: Python\")\n",
        "  print(\"Class: 3rd B1 B2\")"
      ],
      "metadata": {
        "id": "xnUpQDbeXkLm"
      },
      "execution_count": null,
      "outputs": []
    },
    {
      "cell_type": "code",
      "source": [
        "print_details()"
      ],
      "metadata": {
        "id": "A0X1VCyRzQs7",
        "outputId": "a9013aac-4945-4237-fba4-48d474ba2dcf",
        "colab": {
          "base_uri": "https://localhost:8080/"
        }
      },
      "execution_count": null,
      "outputs": [
        {
          "output_type": "stream",
          "name": "stdout",
          "text": [
            "Name: Venkat\n",
            "Course: Python\n",
            "Class: 3rd B1 B2\n"
          ]
        }
      ]
    },
    {
      "cell_type": "code",
      "source": [
        "def calculator(x,y):\n",
        "  add=x+y\n",
        "  sub=x-y\n",
        "  mul=x*y\n",
        "  div=x/y\n",
        "  rem=x%y\n",
        "  power=x**y\n",
        "  return add,sub,mul,div,rem,power"
      ],
      "metadata": {
        "id": "YAYCI2A_YFzB"
      },
      "execution_count": null,
      "outputs": []
    },
    {
      "cell_type": "code",
      "source": [
        "[a,s,m,d,r,p]=calculator(4,2)\n",
        "print(\"addition=\",a)\n",
        "print(\"substration=\",s)\n",
        "print(\"multiplication=\",m)\n",
        "print(\"division=\",d)\n",
        "print(\"remainder=\",r)\n",
        "print(\"power=\",p)"
      ],
      "metadata": {
        "id": "MB3WUidcY96I",
        "outputId": "f6ec11eb-5ca7-4187-8e1d-cc0bc391c086",
        "colab": {
          "base_uri": "https://localhost:8080/"
        }
      },
      "execution_count": null,
      "outputs": [
        {
          "output_type": "stream",
          "name": "stdout",
          "text": [
            "addition= 6\n",
            "substration= 2\n",
            "multiplication= 8\n",
            "division= 2.0\n",
            "remainder= 0\n",
            "power= 16\n"
          ]
        }
      ]
    },
    {
      "cell_type": "code",
      "source": [
        "def func(y):\n",
        "  global x\n",
        "  x=2\n",
        "  print(x)"
      ],
      "metadata": {
        "id": "H8U2N4F_ZDZG"
      },
      "execution_count": null,
      "outputs": []
    },
    {
      "cell_type": "code",
      "source": [
        "func()"
      ],
      "metadata": {
        "id": "84F_2wbUbZ3T",
        "outputId": "53fbe95d-f0ac-4861-998c-1e0797452b62",
        "colab": {
          "base_uri": "https://localhost:8080/"
        }
      },
      "execution_count": null,
      "outputs": [
        {
          "output_type": "stream",
          "name": "stdout",
          "text": [
            "2\n"
          ]
        }
      ]
    },
    {
      "cell_type": "code",
      "source": [
        "def mydetails(Name, rollno):\n",
        "  print(\"Name:\",Name)\n",
        "  print(\"rollno:\",rollno)"
      ],
      "metadata": {
        "id": "_j8QYQmRbf9z"
      },
      "execution_count": null,
      "outputs": []
    },
    {
      "cell_type": "code",
      "source": [
        "mydetails(\"Venkat\")"
      ],
      "metadata": {
        "id": "zAIHz3xzdU16",
        "outputId": "c29d5969-503b-4f42-da0e-fb6ee9ca94db",
        "colab": {
          "base_uri": "https://localhost:8080/",
          "height": 146
        }
      },
      "execution_count": null,
      "outputs": [
        {
          "output_type": "error",
          "ename": "TypeError",
          "evalue": "mydetails() missing 1 required positional argument: 'rollno'",
          "traceback": [
            "\u001b[0;31m---------------------------------------------------------------------------\u001b[0m",
            "\u001b[0;31mTypeError\u001b[0m                                 Traceback (most recent call last)",
            "\u001b[0;32m<ipython-input-14-5e63b4a0e874>\u001b[0m in \u001b[0;36m<cell line: 1>\u001b[0;34m()\u001b[0m\n\u001b[0;32m----> 1\u001b[0;31m \u001b[0mmydetails\u001b[0m\u001b[0;34m(\u001b[0m\u001b[0;34m\"Venkat\"\u001b[0m\u001b[0;34m)\u001b[0m\u001b[0;34m\u001b[0m\u001b[0;34m\u001b[0m\u001b[0m\n\u001b[0m",
            "\u001b[0;31mTypeError\u001b[0m: mydetails() missing 1 required positional argument: 'rollno'"
          ]
        }
      ]
    },
    {
      "cell_type": "code",
      "source": [
        "def bill(no_items,price=10):\n",
        "  bill_amount=no_items*price\n",
        "  print(\"bill_amount:Rs.\",bill_amount)"
      ],
      "metadata": {
        "id": "0K1x7zR5daWU"
      },
      "execution_count": null,
      "outputs": []
    },
    {
      "cell_type": "code",
      "source": [
        "items=int(input(\"enter no. of items\"))\n",
        "bill(items)"
      ],
      "metadata": {
        "id": "8CgXry5Jfe1d",
        "outputId": "da799e29-6261-4c0a-bfe4-46f0198c7241",
        "colab": {
          "base_uri": "https://localhost:8080/"
        }
      },
      "execution_count": null,
      "outputs": [
        {
          "output_type": "stream",
          "name": "stdout",
          "text": [
            "enter no. of items10\n",
            "bill_amount:Rs. 100\n"
          ]
        }
      ]
    },
    {
      "cell_type": "code",
      "source": [
        "items=int(input(\"enter no. of items\"))\n",
        "bill(items,30)"
      ],
      "metadata": {
        "id": "2ayM9gHMfpcU",
        "outputId": "34d39ef7-690a-4d81-8d29-255194dcee08",
        "colab": {
          "base_uri": "https://localhost:8080/"
        }
      },
      "execution_count": null,
      "outputs": [
        {
          "output_type": "stream",
          "name": "stdout",
          "text": [
            "enter no. of items10\n",
            "bill_amount:Rs. 300\n"
          ]
        }
      ]
    },
    {
      "cell_type": "code",
      "source": [
        "def bill(no_items,price):\n",
        "  bill_amount=no_items*price\n",
        "  print(\"bill_amount:Rs.\",bill_amount)"
      ],
      "metadata": {
        "id": "__F4p1jcmr7d"
      },
      "execution_count": null,
      "outputs": []
    },
    {
      "cell_type": "code",
      "source": [
        "bill(no_items=10,price=10)"
      ],
      "metadata": {
        "id": "Ywts_B6Old0Q",
        "outputId": "d7eb11cb-7400-41a2-c3dd-c93a9d1a64da",
        "colab": {
          "base_uri": "https://localhost:8080/"
        }
      },
      "execution_count": null,
      "outputs": [
        {
          "output_type": "stream",
          "name": "stdout",
          "text": [
            "bill_amount:Rs. 100\n"
          ]
        }
      ]
    },
    {
      "cell_type": "code",
      "source": [
        "bill(price=10,no_items=10)"
      ],
      "metadata": {
        "id": "-itBO4Vcm3QM",
        "outputId": "f185cada-ca5a-43ec-fd1e-42932569b861",
        "colab": {
          "base_uri": "https://localhost:8080/"
        }
      },
      "execution_count": null,
      "outputs": [
        {
          "output_type": "stream",
          "name": "stdout",
          "text": [
            "bill_amount:Rs. 100\n"
          ]
        }
      ]
    },
    {
      "cell_type": "code",
      "source": [
        "def student_report(Name,*Marks):\n",
        "  print('Name:',Name)\n",
        "  print('Python Marks:',Marks[0])\n",
        "  print('FIoT Marks:',Marks[1])"
      ],
      "metadata": {
        "id": "QbFxr_zunI7g"
      },
      "execution_count": null,
      "outputs": []
    },
    {
      "cell_type": "code",
      "source": [
        "student_report(\"Venkat\",50,30)"
      ],
      "metadata": {
        "id": "CC4hhX-OygUX",
        "outputId": "4a745f5f-b55c-4108-ccba-93e0df3e6842",
        "colab": {
          "base_uri": "https://localhost:8080/"
        }
      },
      "execution_count": null,
      "outputs": [
        {
          "output_type": "stream",
          "name": "stdout",
          "text": [
            "Name: Venkat\n",
            "Python Marks: 50\n",
            "FIoT Marks: 30\n"
          ]
        }
      ]
    },
    {
      "cell_type": "code",
      "source": [
        "def calculator(a,b):\n",
        "  add=a+b\n",
        "  sub=a-b\n",
        "  mul=a*b\n",
        "  div=a/b\n",
        "  return add,sub,mul,div"
      ],
      "metadata": {
        "id": "wOuF0cVfyY7d"
      },
      "execution_count": null,
      "outputs": []
    },
    {
      "cell_type": "code",
      "source": [
        "[add,sub,mul,div]=calculator(4,2)\n",
        "print(\"Addition:\",add)\n",
        "print(\"Substration:\",sub)\n",
        "print(\"Multiplication:\",mul)\n",
        "print(\"Division:\",div)"
      ],
      "metadata": {
        "id": "6MmYgdJsyr2i",
        "outputId": "a6d93f6a-aa4a-4ef1-acdb-9ec3b5bdd63b",
        "colab": {
          "base_uri": "https://localhost:8080/"
        }
      },
      "execution_count": null,
      "outputs": [
        {
          "output_type": "stream",
          "name": "stdout",
          "text": [
            "Addition: 6\n",
            "Substration: 2\n",
            "Multiplication: 8\n",
            "Division: 2.0\n"
          ]
        }
      ]
    },
    {
      "cell_type": "code",
      "source": [
        "def calc(a,b):\n",
        "  return a+b,a-b,a*b,a/b"
      ],
      "metadata": {
        "id": "kTz7fF21zFNs"
      },
      "execution_count": null,
      "outputs": []
    },
    {
      "cell_type": "code",
      "source": [
        "[_,sub,mul,div]=calc(410,5)\n",
        "print(\"Substration:\",sub)\n",
        "print(\"Multiplication:\",mul)\n",
        "print(\"Division:\",div)"
      ],
      "metadata": {
        "id": "WnVVCtmfzW0x",
        "outputId": "f3a44bca-cfb3-4535-d2ac-873a6ba958fe",
        "colab": {
          "base_uri": "https://localhost:8080/"
        }
      },
      "execution_count": null,
      "outputs": [
        {
          "output_type": "stream",
          "name": "stdout",
          "text": [
            "Substration: 405\n",
            "Multiplication: 2050\n",
            "Division: 82.0\n"
          ]
        }
      ]
    },
    {
      "cell_type": "code",
      "source": [
        "def greet(Name):\n",
        "  ''' This function is used to greet a person.\n",
        "\n",
        "  This function greets\n",
        "  the person passed in the parameter.'''\n",
        "  print(\"Hello\", Name ,\"Good Morning\")\n",
        "\n",
        "print(greet.__doc__)\n",
        "greet(\"Venkat\")"
      ],
      "metadata": {
        "id": "4A1ow0TQze62",
        "outputId": "5605d97d-35c4-4661-f820-91390175f651",
        "colab": {
          "base_uri": "https://localhost:8080/"
        }
      },
      "execution_count": null,
      "outputs": [
        {
          "output_type": "stream",
          "name": "stdout",
          "text": [
            " This function is used to greet a person.\n",
            "\n",
            "  This function greets \n",
            "  the person passed in the parameter.\n",
            "Hello Venkat Good Morning\n"
          ]
        }
      ]
    },
    {
      "cell_type": "code",
      "source": [
        "calculator = lambda a,b: [a+b,a-b,a*b,a/b]\n",
        "\n",
        "[add,sub,mul,div]=calculator(4,2)\n",
        "print(\"Addition:\",add)\n",
        "print(\"Substration:\",sub)\n",
        "print(\"Multiplication:\",mul)\n",
        "print(\"Division:\",div)"
      ],
      "metadata": {
        "id": "ffacXACs2HKF",
        "outputId": "f710894c-8b67-4cd4-8017-8c0d4bd8b1a9",
        "colab": {
          "base_uri": "https://localhost:8080/"
        }
      },
      "execution_count": null,
      "outputs": [
        {
          "output_type": "stream",
          "name": "stdout",
          "text": [
            "Addition: 6\n",
            "Substration: 2\n",
            "Multiplication: 8\n",
            "Division: 2.0\n"
          ]
        }
      ]
    },
    {
      "cell_type": "markdown",
      "source": [
        "# ***User Defined Python Module***"
      ],
      "metadata": {
        "id": "O8-0TvglEa5v"
      }
    },
    {
      "cell_type": "code",
      "source": [
        "from calculator import add\n",
        "a=float(input(\"enter a value\"))\n",
        "b=float(input(\"enter b value\"))\n",
        "sum_value=add(a,b)\n",
        "print(\"Addition=\",sum_value)"
      ],
      "metadata": {
        "id": "Hhp2avNo7vRw",
        "outputId": "860f43a9-3407-43cd-fe24-47cfa6f147cf",
        "colab": {
          "base_uri": "https://localhost:8080/"
        }
      },
      "execution_count": 2,
      "outputs": [
        {
          "output_type": "stream",
          "name": "stdout",
          "text": [
            "enter a value4\n",
            "enter b value3\n",
            "Addition= 7.0\n"
          ]
        }
      ]
    },
    {
      "cell_type": "code",
      "source": [
        "import calculator as cal\n",
        "a=float(input(\"enter a value\"))\n",
        "b=float(input(\"enter b value\"))\n",
        "addition=cal.add(a,b)\n",
        "substraction=cal.sub(a,b)\n",
        "multiplication=cal.mul(a,b)\n",
        "print(\"Addition=\",addition)\n",
        "print(\"substraction=\",substraction)\n",
        "print(\"multiplication=\",multiplication)\n"
      ],
      "metadata": {
        "id": "tCnOKVfuD9pB",
        "outputId": "a7eefcdd-fcb6-4cdb-8196-7b95f4ef5cc4",
        "colab": {
          "base_uri": "https://localhost:8080/"
        }
      },
      "execution_count": 3,
      "outputs": [
        {
          "output_type": "stream",
          "name": "stdout",
          "text": [
            "enter a value4\n",
            "enter b value2\n",
            "Addition= 6.0\n",
            "substraction= 2.0\n",
            "multiplication= 8.0\n"
          ]
        }
      ]
    },
    {
      "cell_type": "code",
      "source": [
        "# Mount your google drive in google colab\n",
        "from google.colab import drive\n",
        "drive.mount('/content/drive')"
      ],
      "metadata": {
        "id": "8JKCiXRFEQ8j",
        "outputId": "73f8e823-1de4-4808-84a1-710ba0e7a4c4",
        "colab": {
          "base_uri": "https://localhost:8080/"
        }
      },
      "execution_count": 4,
      "outputs": [
        {
          "output_type": "stream",
          "name": "stdout",
          "text": [
            "Drive already mounted at /content/drive; to attempt to forcibly remount, call drive.mount(\"/content/drive\", force_remount=True).\n"
          ]
        }
      ]
    },
    {
      "cell_type": "code",
      "source": [
        "!cp /content/drive/MyDrive/AI Data/calculator.py /content/drive/calculator.py"
      ],
      "metadata": {
        "id": "dQkkazyOLqUg",
        "outputId": "1c51d966-ddf3-4078-de43-2a30691b200a",
        "colab": {
          "base_uri": "https://localhost:8080/"
        }
      },
      "execution_count": 5,
      "outputs": [
        {
          "output_type": "stream",
          "name": "stdout",
          "text": [
            "cp: target '/content/drive/calculator.py' is not a directory\n"
          ]
        }
      ]
    },
    {
      "cell_type": "code",
      "source": [
        "import calculator as cal\n",
        "a=float(input(\"enter a value\"))\n",
        "b=float(input(\"enter b value\"))\n",
        "addition=cal.add(a,b)\n",
        "substraction=cal.sub(a,b)\n",
        "multiplication=cal.mul(a,b)\n",
        "print(\"Addition=\",addition)\n",
        "print(\"substraction=\",substraction)\n",
        "print(\"multiplication=\",multiplication)"
      ],
      "metadata": {
        "id": "gNa4Amb7LM9C",
        "outputId": "625684ce-ebd2-4e13-ffa2-46577c006a83",
        "colab": {
          "base_uri": "https://localhost:8080/",
          "height": 384
        }
      },
      "execution_count": 1,
      "outputs": [
        {
          "output_type": "error",
          "ename": "ModuleNotFoundError",
          "evalue": "No module named 'calculator'",
          "traceback": [
            "\u001b[0;31m---------------------------------------------------------------------------\u001b[0m",
            "\u001b[0;31mModuleNotFoundError\u001b[0m                       Traceback (most recent call last)",
            "\u001b[0;32m<ipython-input-1-ff92038e519b>\u001b[0m in \u001b[0;36m<cell line: 1>\u001b[0;34m()\u001b[0m\n\u001b[0;32m----> 1\u001b[0;31m \u001b[0;32mimport\u001b[0m \u001b[0mcalculator\u001b[0m \u001b[0;32mas\u001b[0m \u001b[0mcal\u001b[0m\u001b[0;34m\u001b[0m\u001b[0;34m\u001b[0m\u001b[0m\n\u001b[0m\u001b[1;32m      2\u001b[0m \u001b[0ma\u001b[0m\u001b[0;34m=\u001b[0m\u001b[0mfloat\u001b[0m\u001b[0;34m(\u001b[0m\u001b[0minput\u001b[0m\u001b[0;34m(\u001b[0m\u001b[0;34m\"enter a value\"\u001b[0m\u001b[0;34m)\u001b[0m\u001b[0;34m)\u001b[0m\u001b[0;34m\u001b[0m\u001b[0;34m\u001b[0m\u001b[0m\n\u001b[1;32m      3\u001b[0m \u001b[0mb\u001b[0m\u001b[0;34m=\u001b[0m\u001b[0mfloat\u001b[0m\u001b[0;34m(\u001b[0m\u001b[0minput\u001b[0m\u001b[0;34m(\u001b[0m\u001b[0;34m\"enter b value\"\u001b[0m\u001b[0;34m)\u001b[0m\u001b[0;34m)\u001b[0m\u001b[0;34m\u001b[0m\u001b[0;34m\u001b[0m\u001b[0m\n\u001b[1;32m      4\u001b[0m \u001b[0maddition\u001b[0m\u001b[0;34m=\u001b[0m\u001b[0mcal\u001b[0m\u001b[0;34m.\u001b[0m\u001b[0madd\u001b[0m\u001b[0;34m(\u001b[0m\u001b[0ma\u001b[0m\u001b[0;34m,\u001b[0m\u001b[0mb\u001b[0m\u001b[0;34m)\u001b[0m\u001b[0;34m\u001b[0m\u001b[0;34m\u001b[0m\u001b[0m\n\u001b[1;32m      5\u001b[0m \u001b[0msubstraction\u001b[0m\u001b[0;34m=\u001b[0m\u001b[0mcal\u001b[0m\u001b[0;34m.\u001b[0m\u001b[0msub\u001b[0m\u001b[0;34m(\u001b[0m\u001b[0ma\u001b[0m\u001b[0;34m,\u001b[0m\u001b[0mb\u001b[0m\u001b[0;34m)\u001b[0m\u001b[0;34m\u001b[0m\u001b[0;34m\u001b[0m\u001b[0m\n",
            "\u001b[0;31mModuleNotFoundError\u001b[0m: No module named 'calculator'",
            "",
            "\u001b[0;31m---------------------------------------------------------------------------\u001b[0;32m\nNOTE: If your import is failing due to a missing package, you can\nmanually install dependencies using either !pip or !apt.\n\nTo view examples of installing some common dependencies, click the\n\"Open Examples\" button below.\n\u001b[0;31m---------------------------------------------------------------------------\u001b[0m\n"
          ],
          "errorDetails": {
            "actions": [
              {
                "action": "open_url",
                "actionText": "Open Examples",
                "url": "/notebooks/snippets/importing_libraries.ipynb"
              }
            ]
          }
        }
      ]
    },
    {
      "cell_type": "code",
      "source": [],
      "metadata": {
        "id": "iAl7kJgrLXWL"
      },
      "execution_count": null,
      "outputs": []
    }
  ]
}