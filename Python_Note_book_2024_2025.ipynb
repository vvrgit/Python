{
  "nbformat": 4,
  "nbformat_minor": 0,
  "metadata": {
    "colab": {
      "provenance": [],
      "authorship_tag": "ABX9TyOgcu3kr4Ru78huWjA7XLQr",
      "include_colab_link": true
    },
    "kernelspec": {
      "name": "python3",
      "display_name": "Python 3"
    },
    "language_info": {
      "name": "python"
    }
  },
  "cells": [
    {
      "cell_type": "markdown",
      "metadata": {
        "id": "view-in-github",
        "colab_type": "text"
      },
      "source": [
        "<a href=\"https://colab.research.google.com/github/vvrgit/Python/blob/main/Python_Note_book_2024_2025.ipynb\" target=\"_parent\"><img src=\"https://colab.research.google.com/assets/colab-badge.svg\" alt=\"Open In Colab\"/></a>"
      ]
    },
    {
      "cell_type": "markdown",
      "source": [
        "# **Random Number Generation**"
      ],
      "metadata": {
        "id": "X-h4UFarVUWq"
      }
    },
    {
      "cell_type": "code",
      "execution_count": null,
      "metadata": {
        "colab": {
          "base_uri": "https://localhost:8080/"
        },
        "id": "Hv4wInP4Sy38",
        "outputId": "844f36ab-647d-47c0-a2db-be536bc97e78"
      },
      "outputs": [
        {
          "output_type": "stream",
          "name": "stdout",
          "text": [
            "6\n"
          ]
        }
      ],
      "source": [
        "import random\n",
        "a=random.randrange(0,10)\n",
        "print(a)"
      ]
    },
    {
      "cell_type": "code",
      "source": [
        "b=random.uniform(0,10)\n",
        "print(b)"
      ],
      "metadata": {
        "colab": {
          "base_uri": "https://localhost:8080/"
        },
        "id": "rWv99TmVVXX6",
        "outputId": "a3d212b8-44c0-436a-d263-051f89a819c6"
      },
      "execution_count": null,
      "outputs": [
        {
          "output_type": "stream",
          "name": "stdout",
          "text": [
            "6.832542296471856\n"
          ]
        }
      ]
    },
    {
      "cell_type": "code",
      "source": [
        "#Use the seed() method to customize\n",
        "#the start number of the random number generator.\n",
        "\n",
        "random.seed(10)\n",
        "print(random.random())\n",
        "\n",
        "random.seed(10)\n",
        "print(random.random())"
      ],
      "metadata": {
        "colab": {
          "base_uri": "https://localhost:8080/"
        },
        "id": "RH_HFCY1VxaL",
        "outputId": "96cb8929-5789-4449-9a0b-d898235098b1"
      },
      "execution_count": null,
      "outputs": [
        {
          "output_type": "stream",
          "name": "stdout",
          "text": [
            "0.5714025946899135\n",
            "0.5714025946899135\n"
          ]
        }
      ]
    },
    {
      "cell_type": "code",
      "source": [
        "#randint: Returns a random number between the given range\n",
        "a=random.randint(1,10)\n",
        "print(a)"
      ],
      "metadata": {
        "colab": {
          "base_uri": "https://localhost:8080/"
        },
        "id": "v0l20mD0XIXT",
        "outputId": "b9e39680-283a-4ded-8a4d-c77ffd1f0e03"
      },
      "execution_count": null,
      "outputs": [
        {
          "output_type": "stream",
          "name": "stdout",
          "text": [
            "7\n"
          ]
        }
      ]
    },
    {
      "cell_type": "code",
      "source": [
        "#choice: Returns a random element from the given sequence\n",
        "mylist = [\"apple\", \"banana\", \"cherry\"]\n",
        "\n",
        "print(random.choice(mylist))"
      ],
      "metadata": {
        "colab": {
          "base_uri": "https://localhost:8080/"
        },
        "id": "98PiqGdTX2i3",
        "outputId": "0254b46b-88b8-42bd-86be-7cdf9e15bc76"
      },
      "execution_count": null,
      "outputs": [
        {
          "output_type": "stream",
          "name": "stdout",
          "text": [
            "cherry\n"
          ]
        }
      ]
    },
    {
      "cell_type": "code",
      "source": [
        "#choices()\tReturns a list with a random selection from the given sequence\n",
        "mylist = [\"apple\", \"banana\", \"cherry\", 100]\n",
        "\n",
        "print(random.choices(mylist, k = 14))"
      ],
      "metadata": {
        "colab": {
          "base_uri": "https://localhost:8080/"
        },
        "id": "A_qsOke7YbG3",
        "outputId": "a2923c67-5b4c-44ae-851f-c3275abc6345"
      },
      "execution_count": null,
      "outputs": [
        {
          "output_type": "stream",
          "name": "stdout",
          "text": [
            "['banana', 'cherry', 'apple', 100, 'apple', 'banana', 100, 100, 'apple', 100, 100, 'banana', 100, 'apple']\n"
          ]
        }
      ]
    },
    {
      "cell_type": "code",
      "source": [
        "#shuffle()\tTakes a sequence and returns the sequence in a random order\n",
        "mylist = [\"apple\", \"banana\", \"cherry\"]\n",
        "random.shuffle(mylist)\n",
        "\n",
        "print(mylist)"
      ],
      "metadata": {
        "colab": {
          "base_uri": "https://localhost:8080/"
        },
        "id": "4rfcWaFIY0TE",
        "outputId": "7719e29d-1cab-4b70-9aec-83c006464030"
      },
      "execution_count": null,
      "outputs": [
        {
          "output_type": "stream",
          "name": "stdout",
          "text": [
            "['apple', 'cherry', 'banana']\n"
          ]
        }
      ]
    },
    {
      "cell_type": "code",
      "source": [
        "#sample()\tReturns a given sample of a sequence\n",
        "\n",
        "mylist = [\"apple\", \"banana\", \"cherry\"]\n",
        "\n",
        "print(random.sample(mylist, k=2))"
      ],
      "metadata": {
        "colab": {
          "base_uri": "https://localhost:8080/"
        },
        "id": "P6NRz2QyZvK9",
        "outputId": "bac0884d-12a7-47e3-b2ab-b83770530eb1"
      },
      "execution_count": null,
      "outputs": [
        {
          "output_type": "stream",
          "name": "stdout",
          "text": [
            "['cherry', 'apple']\n"
          ]
        }
      ]
    },
    {
      "cell_type": "code",
      "source": [
        "#random()\tReturns a random float number between 0 and 1\n",
        "a=random.random()\n",
        "print(a)"
      ],
      "metadata": {
        "colab": {
          "base_uri": "https://localhost:8080/"
        },
        "id": "Do8WHNBLaCNh",
        "outputId": "97088fc8-bdd2-49f2-b737-83b62b6bcbab"
      },
      "execution_count": null,
      "outputs": [
        {
          "output_type": "stream",
          "name": "stdout",
          "text": [
            "0.17430797798567554\n"
          ]
        }
      ]
    },
    {
      "cell_type": "code",
      "source": [
        "#uniform()\tReturns a random float number between two given parameters\n",
        "a=random.uniform(10,20)\n",
        "print(a)"
      ],
      "metadata": {
        "colab": {
          "base_uri": "https://localhost:8080/"
        },
        "id": "AK7KVgJOaRRu",
        "outputId": "a8d29860-fc39-48c1-b81f-368dba27c2ee"
      },
      "execution_count": null,
      "outputs": [
        {
          "output_type": "stream",
          "name": "stdout",
          "text": [
            "12.670270685533795\n"
          ]
        }
      ]
    },
    {
      "cell_type": "markdown",
      "source": [
        "# ***Python Strings***"
      ],
      "metadata": {
        "id": "SRJ0Yrt0dAmS"
      }
    },
    {
      "cell_type": "code",
      "source": [
        "'''\n",
        "Strings in python are surrounded by either single quotation marks, or double quotation marks.\n",
        "\n",
        "'hello' is the same as \"hello\".\n",
        "\n",
        "You can display a string literal with the print() function:\n",
        "'''\n",
        "\n",
        "print(\"Hello\")\n",
        "print('Hello')"
      ],
      "metadata": {
        "colab": {
          "base_uri": "https://localhost:8080/"
        },
        "id": "AhpbkHpPcUnX",
        "outputId": "84d54650-4737-4138-a11c-2496e9b2f138"
      },
      "execution_count": null,
      "outputs": [
        {
          "output_type": "stream",
          "name": "stdout",
          "text": [
            "Hello\n",
            "Hello\n"
          ]
        }
      ]
    },
    {
      "cell_type": "code",
      "source": [
        "'''\n",
        "You can use quotes inside a string, as long as they don't match the quotes surrounding the string:\n",
        "'''\n",
        "\n",
        "print(\"It's alright\")\n",
        "print(\"He is called 'Johnny'\")\n",
        "print('He is called \"Johnny\"')"
      ],
      "metadata": {
        "colab": {
          "base_uri": "https://localhost:8080/"
        },
        "id": "JdGHAUTQdZak",
        "outputId": "aa79b276-d395-4032-c87d-052250c4b02f"
      },
      "execution_count": null,
      "outputs": [
        {
          "output_type": "stream",
          "name": "stdout",
          "text": [
            "It's alright\n",
            "He is called 'Johnny'\n",
            "He is called \"Johnny\"\n"
          ]
        }
      ]
    },
    {
      "cell_type": "code",
      "source": [
        "'''\n",
        "You can assign a multiline string to a variable by using\n",
        "three single or double quotes\n",
        "'''\n",
        "a=''' HI! I am\n",
        "Dr. Venkataramana\n",
        "SR University'''\n",
        "print(a)\n",
        "\n",
        "\n",
        "b=\"\"\" I am Teaching\n",
        "Python Program\"\"\"\n",
        "\n",
        "print(b)\n"
      ],
      "metadata": {
        "colab": {
          "base_uri": "https://localhost:8080/"
        },
        "id": "56PqR3JNdnST",
        "outputId": "df755c2e-64ee-42e0-b60a-f4089da686f6"
      },
      "execution_count": null,
      "outputs": [
        {
          "output_type": "stream",
          "name": "stdout",
          "text": [
            " HI! I am\n",
            "Dr. Venkataramana\n",
            "SR University\n",
            " I am Teaching\n",
            "Python Program\n"
          ]
        }
      ]
    },
    {
      "cell_type": "code",
      "source": [
        "a = \"Hello, World!\"\n",
        "print(a[1])"
      ],
      "metadata": {
        "colab": {
          "base_uri": "https://localhost:8080/"
        },
        "id": "Ao_GSMHEeCHZ",
        "outputId": "0319e676-71e2-4c26-9f1c-48888ff74d76"
      },
      "execution_count": null,
      "outputs": [
        {
          "output_type": "stream",
          "name": "stdout",
          "text": [
            "e\n"
          ]
        }
      ]
    },
    {
      "cell_type": "code",
      "source": [
        "#Looping Through a String\n",
        "for x in \"banana\":\n",
        "  print(x)"
      ],
      "metadata": {
        "colab": {
          "base_uri": "https://localhost:8080/"
        },
        "id": "qSNRdkYdfhW-",
        "outputId": "2bb86f56-0bb8-4a06-9743-bcd46b7b7a92"
      },
      "execution_count": null,
      "outputs": [
        {
          "output_type": "stream",
          "name": "stdout",
          "text": [
            "b\n",
            "a\n",
            "n\n",
            "a\n",
            "n\n",
            "a\n"
          ]
        }
      ]
    },
    {
      "cell_type": "code",
      "source": [
        "#To get the length of a string, use the len() function.\n",
        "a = \"Hello, World!\"\n",
        "print(len(a))"
      ],
      "metadata": {
        "colab": {
          "base_uri": "https://localhost:8080/"
        },
        "id": "yphWHGEJfvML",
        "outputId": "6ade5ee7-e63c-4270-fb34-5e2245a53d8b"
      },
      "execution_count": null,
      "outputs": [
        {
          "output_type": "stream",
          "name": "stdout",
          "text": [
            "13\n"
          ]
        }
      ]
    },
    {
      "cell_type": "code",
      "source": [
        "txt = \"The best things in life are free!\"\n",
        "print(\"free\" in txt)"
      ],
      "metadata": {
        "colab": {
          "base_uri": "https://localhost:8080/"
        },
        "id": "wns5XFsyf1dv",
        "outputId": "20845648-d28d-4fa7-813b-8998f0a0c352"
      },
      "execution_count": null,
      "outputs": [
        {
          "output_type": "stream",
          "name": "stdout",
          "text": [
            "True\n"
          ]
        }
      ]
    },
    {
      "cell_type": "code",
      "source": [
        "My_self='''I am Teaching Python\n",
        "for 3rd year EEE students\n",
        "of SR University'''\n",
        "\n",
        "print(len(My_self))"
      ],
      "metadata": {
        "id": "HcK7DShwib3k",
        "outputId": "946b1601-8507-4325-ffb6-252682cd0695",
        "colab": {
          "base_uri": "https://localhost:8080/"
        }
      },
      "execution_count": 13,
      "outputs": [
        {
          "output_type": "stream",
          "name": "stdout",
          "text": [
            "63\n"
          ]
        }
      ]
    },
    {
      "cell_type": "code",
      "source": [
        "print(My_self[0])"
      ],
      "metadata": {
        "id": "mnk-wefRdPKS",
        "outputId": "b4447f38-b441-41ff-bf0f-80402f659de8",
        "colab": {
          "base_uri": "https://localhost:8080/"
        }
      },
      "execution_count": 9,
      "outputs": [
        {
          "output_type": "stream",
          "name": "stdout",
          "text": [
            "I\n"
          ]
        }
      ]
    },
    {
      "cell_type": "code",
      "source": [
        "print(My_self[1:])"
      ],
      "metadata": {
        "id": "QdpQc6LXdofb",
        "outputId": "7d03e0b5-3bb2-45fb-8297-bc8cbed340f5",
        "colab": {
          "base_uri": "https://localhost:8080/"
        }
      },
      "execution_count": 10,
      "outputs": [
        {
          "output_type": "stream",
          "name": "stdout",
          "text": [
            " am  Teaching Python\n",
            "for 3rd year EEE students\n",
            "of SR University\n"
          ]
        }
      ]
    },
    {
      "cell_type": "code",
      "source": [
        "print(My_self[1:6])"
      ],
      "metadata": {
        "id": "2daEVzGgdrlq",
        "outputId": "07d3ced5-76af-433c-e4fa-c25ed81ac550",
        "colab": {
          "base_uri": "https://localhost:8080/"
        }
      },
      "execution_count": 11,
      "outputs": [
        {
          "output_type": "stream",
          "name": "stdout",
          "text": [
            " am  \n"
          ]
        }
      ]
    },
    {
      "cell_type": "code",
      "source": [
        "print(My_self[::-1])"
      ],
      "metadata": {
        "id": "E7UC3ZV9dtyM",
        "outputId": "bae7e632-e000-4454-9c13-08b27dcfadb4",
        "colab": {
          "base_uri": "https://localhost:8080/"
        }
      },
      "execution_count": 15,
      "outputs": [
        {
          "output_type": "stream",
          "name": "stdout",
          "text": [
            "ytisrevinU RS fo\n",
            "stneduts EEE raey dr3 rof\n",
            "nohtyP gnihcaeT ma I\n"
          ]
        }
      ]
    },
    {
      "cell_type": "code",
      "source": [
        "print(My_self[20:0:-1])"
      ],
      "metadata": {
        "id": "9MUJG0Tyd67s",
        "outputId": "3f91dcf3-24af-4698-cf61-975d25ba9204",
        "colab": {
          "base_uri": "https://localhost:8080/"
        }
      },
      "execution_count": 16,
      "outputs": [
        {
          "output_type": "stream",
          "name": "stdout",
          "text": [
            "\n",
            "nohtyP gnihcaeT ma \n"
          ]
        }
      ]
    },
    {
      "cell_type": "code",
      "source": [
        "Language_1=\"Python\"\n",
        "Language_2=\"MATLAB\"\n",
        "print(Language_1+' '+Language_2)\n",
        "print(Language_1*2)"
      ],
      "metadata": {
        "id": "asHLNHtOeHeK",
        "outputId": "1bd27a4d-d1d3-4f0f-c7d9-041746e1d5c9",
        "colab": {
          "base_uri": "https://localhost:8080/"
        }
      },
      "execution_count": 22,
      "outputs": [
        {
          "output_type": "stream",
          "name": "stdout",
          "text": [
            "Python MATLAB\n",
            "PythonPython\n"
          ]
        }
      ]
    },
    {
      "cell_type": "code",
      "source": [
        "Language_1=\"Python\"\n",
        "Language_2=\"MATLAB\"\n",
        "print(Language_1+' '+Language_2)\n",
        "del Language_1\n",
        "print(Language_1)"
      ],
      "metadata": {
        "id": "DZKfOMJieauK",
        "outputId": "2da260cc-f148-4304-8eab-7ed13ea6b64e",
        "colab": {
          "base_uri": "https://localhost:8080/",
          "height": 203
        }
      },
      "execution_count": 23,
      "outputs": [
        {
          "output_type": "stream",
          "name": "stdout",
          "text": [
            "Python MATLAB\n"
          ]
        },
        {
          "output_type": "error",
          "ename": "NameError",
          "evalue": "name 'Language_1' is not defined",
          "traceback": [
            "\u001b[0;31m---------------------------------------------------------------------------\u001b[0m",
            "\u001b[0;31mNameError\u001b[0m                                 Traceback (most recent call last)",
            "\u001b[0;32m<ipython-input-23-f193cb5140aa>\u001b[0m in \u001b[0;36m<cell line: 5>\u001b[0;34m()\u001b[0m\n\u001b[1;32m      3\u001b[0m \u001b[0mprint\u001b[0m\u001b[0;34m(\u001b[0m\u001b[0mLanguage_1\u001b[0m\u001b[0;34m+\u001b[0m\u001b[0;34m' '\u001b[0m\u001b[0;34m+\u001b[0m\u001b[0mLanguage_2\u001b[0m\u001b[0;34m)\u001b[0m\u001b[0;34m\u001b[0m\u001b[0;34m\u001b[0m\u001b[0m\n\u001b[1;32m      4\u001b[0m \u001b[0;32mdel\u001b[0m \u001b[0mLanguage_1\u001b[0m\u001b[0;34m\u001b[0m\u001b[0;34m\u001b[0m\u001b[0m\n\u001b[0;32m----> 5\u001b[0;31m \u001b[0mprint\u001b[0m\u001b[0;34m(\u001b[0m\u001b[0mLanguage_1\u001b[0m\u001b[0;34m)\u001b[0m\u001b[0;34m\u001b[0m\u001b[0;34m\u001b[0m\u001b[0m\n\u001b[0m",
            "\u001b[0;31mNameError\u001b[0m: name 'Language_1' is not defined"
          ]
        }
      ]
    },
    {
      "cell_type": "markdown",
      "source": [
        "# ***Complex Numbers***"
      ],
      "metadata": {
        "id": "2qr9ulPYfYPt"
      }
    },
    {
      "cell_type": "code",
      "source": [
        "z=complex(2,3)\n",
        "print(z)\n",
        "w=20+30j\n",
        "print(w)"
      ],
      "metadata": {
        "id": "IiRVDxkXfI1q",
        "outputId": "d8e79cfc-6b71-4f3b-ebf9-f222269ce8f7",
        "colab": {
          "base_uri": "https://localhost:8080/"
        }
      },
      "execution_count": 24,
      "outputs": [
        {
          "output_type": "stream",
          "name": "stdout",
          "text": [
            "(2+3j)\n",
            "(20+30j)\n"
          ]
        }
      ]
    },
    {
      "cell_type": "code",
      "source": [
        "real_no=z.real\n",
        "imag_no=z.imag\n",
        "print(\"real_no\",real_no)\n",
        "print(\"imag_no\",imag_no)"
      ],
      "metadata": {
        "id": "3XFKkGXMfhYC",
        "outputId": "da1de637-e35c-49e9-ebe8-9f563aba92ac",
        "colab": {
          "base_uri": "https://localhost:8080/"
        }
      },
      "execution_count": 27,
      "outputs": [
        {
          "output_type": "stream",
          "name": "stdout",
          "text": [
            "real_no 2.0\n",
            "imag_no 3.0\n"
          ]
        }
      ]
    },
    {
      "cell_type": "code",
      "source": [
        "complex_conjugate=z.conjugate()\n",
        "magnitude=abs(z)\n",
        "print(\"complex_conjugate\",complex_conjugate)\n",
        "print(\"magnitude\",magnitude)"
      ],
      "metadata": {
        "id": "qFMF4aOYgBOh",
        "outputId": "1721ccc9-efae-45ae-f42a-ae92149c2aff",
        "colab": {
          "base_uri": "https://localhost:8080/"
        }
      },
      "execution_count": 29,
      "outputs": [
        {
          "output_type": "stream",
          "name": "stdout",
          "text": [
            "complex_conjugate (2-3j)\n",
            "magnitude 3.605551275463989\n"
          ]
        }
      ]
    },
    {
      "cell_type": "code",
      "source": [
        "z1=complex(2,3)\n",
        "z2=complex(4,5)\n",
        "print(\"z1+z2=\",z1+z2)\n",
        "print(\"z1-z2=\",z1-z2)\n",
        "print(\"z1*z2=\",z1*z2)\n",
        "print(\"z1/z2=\",z1/z2)"
      ],
      "metadata": {
        "id": "mfZViLtEhEMi",
        "outputId": "81c527d2-ec0a-4f4d-e896-63e773c2fc86",
        "colab": {
          "base_uri": "https://localhost:8080/"
        }
      },
      "execution_count": 30,
      "outputs": [
        {
          "output_type": "stream",
          "name": "stdout",
          "text": [
            "z1+z2= (6+8j)\n",
            "z1-z2= (-2-2j)\n",
            "z1*z2= (-7+22j)\n",
            "z1/z2= (0.5609756097560976+0.0487804878048781j)\n"
          ]
        }
      ]
    },
    {
      "cell_type": "code",
      "source": [
        "import cmath as cm\n",
        "z1=complex(2,3)\n",
        "\n",
        "angle=cm.phase(z1)\n",
        "polar_form=cm.polar(z1)\n",
        "rect_form=cm.rect(polar_form[0],polar_form[1])\n",
        "\n",
        "\n",
        "print(\"angle in Radians=\",angle)\n",
        "print(\"polar_form=\",polar_form)\n",
        "print(\"rect_form=\",rect_form)\n"
      ],
      "metadata": {
        "id": "v9HhtR_EhhA4",
        "outputId": "9b17af6a-e0dd-4c9b-85ed-70d332bea98d",
        "colab": {
          "base_uri": "https://localhost:8080/"
        }
      },
      "execution_count": 43,
      "outputs": [
        {
          "output_type": "stream",
          "name": "stdout",
          "text": [
            "angle in Radians= 0.982793723247329\n",
            "polar_form= (3.605551275463989, 0.982793723247329)\n",
            "rect_form= (2+3j)\n"
          ]
        }
      ]
    },
    {
      "cell_type": "code",
      "source": [
        "import math as mt\n",
        "import cmath as cm\n",
        "\n",
        "z1=complex(10,20)\n",
        "angle=cm.phase(z1)\n",
        "\n",
        "angle_degree=mt.degrees(angle)\n",
        "\n",
        "print(\"angle in Radians=\",angle)\n",
        "print(\"angle in degrees=\",angle_degree)"
      ],
      "metadata": {
        "id": "RDYdBg2Oh8ry",
        "outputId": "cd12e4e0-f954-4c95-a1e8-1f35fc8e1a83",
        "colab": {
          "base_uri": "https://localhost:8080/"
        }
      },
      "execution_count": 42,
      "outputs": [
        {
          "output_type": "stream",
          "name": "stdout",
          "text": [
            "angle in Radians= 1.1071487177940904\n",
            "angle in degrees= 63.43494882292201\n"
          ]
        }
      ]
    },
    {
      "cell_type": "markdown",
      "source": [
        "# ***Power and logarithmic functions***"
      ],
      "metadata": {
        "id": "deqNTIZKmQ2N"
      }
    },
    {
      "cell_type": "code",
      "source": [
        "import cmath as cm\n",
        "\n",
        "exp_01= cm.exp(1)\n",
        "log_01= cm.log(cm.exp(1))\n",
        "log10_01=cm.log10(1000)\n",
        "sqrt_01=cm.sqrt(4)\n",
        "\n",
        "print(\"Exponential=\",exp_01)\n",
        "print(\"Log_e=\",log_01)\n",
        "print(\"square root=\",sqrt_01)\n",
        "print(\"Log_10=\",log10_01)"
      ],
      "metadata": {
        "id": "Vzx9rp38jSCY",
        "outputId": "8c174e0d-31e6-461a-fcf6-9390ff0cac13",
        "colab": {
          "base_uri": "https://localhost:8080/"
        }
      },
      "execution_count": 48,
      "outputs": [
        {
          "output_type": "stream",
          "name": "stdout",
          "text": [
            "Exponential= (2.718281828459045+0j)\n",
            "Log_e= (1+0j)\n",
            "square root= (2+0j)\n",
            "Log_10= (2.9999999999999996+0j)\n"
          ]
        }
      ]
    },
    {
      "cell_type": "code",
      "source": [
        "import math as mt\n",
        "\n",
        "exp_01= mt.exp(1)\n",
        "log_01= mt.log(mt.exp(1))\n",
        "log10_01=mt.log10(1000)\n",
        "sqrt_01=mt.sqrt(4)\n",
        "\n",
        "print(\"Exponential=\",exp_01)\n",
        "print(\"Log_e=\",log_01)\n",
        "print(\"square root=\",sqrt_01)\n",
        "print(\"Log_10=\",log10_01)"
      ],
      "metadata": {
        "id": "RtMf2ipuqFxe",
        "outputId": "b9546365-f4d5-40ac-8b81-4e776dc5cc4a",
        "colab": {
          "base_uri": "https://localhost:8080/"
        }
      },
      "execution_count": 50,
      "outputs": [
        {
          "output_type": "stream",
          "name": "stdout",
          "text": [
            "Exponential= 2.718281828459045\n",
            "Log_e= 1.0\n",
            "square root= 2.0\n",
            "Log_10= 3.0\n"
          ]
        }
      ]
    },
    {
      "cell_type": "markdown",
      "source": [
        "# ***Trigonometric functions***"
      ],
      "metadata": {
        "id": "rmRRRnGrq-OT"
      }
    },
    {
      "cell_type": "code",
      "source": [
        "import math as mt\n",
        "\n",
        "sin_value= mt.sin(1.57)\n",
        "cos_value= mt.cos(1.57)\n",
        "tan_value=mt.tan(1.57/2)\n",
        "\n",
        "\n",
        "print(\"sin_value=\",sin_value)\n",
        "print(\"cos_value=\",cos_value)\n",
        "print(\"tan_value=\",tan_value)\n"
      ],
      "metadata": {
        "id": "uFYU3G-tqpVv",
        "outputId": "b46e90c6-2b4d-4a6c-84e8-1b5b024dc687",
        "colab": {
          "base_uri": "https://localhost:8080/"
        }
      },
      "execution_count": 53,
      "outputs": [
        {
          "output_type": "stream",
          "name": "stdout",
          "text": [
            "sin_value= 0.9999996829318346\n",
            "cos_value= 0.0007963267107332633\n",
            "tan_value= 0.9992039901050427\n"
          ]
        }
      ]
    },
    {
      "cell_type": "code",
      "source": [
        "import math as mt\n",
        "\n",
        "sin_value= mt.sin(1.57)\n",
        "cos_value= mt.cos(1.57)\n",
        "tan_value=mt.tan(1.57/2)\n",
        "\n",
        "\n",
        "print(\"sin_value=\",sin_value)\n",
        "print(\"cos_value=\",cos_value)\n",
        "print(\"tan_value=\",tan_value)"
      ],
      "metadata": {
        "id": "TcZLLPPqraW-",
        "outputId": "dcd4b5fe-6028-4a26-8a37-0d6d20ededad",
        "colab": {
          "base_uri": "https://localhost:8080/"
        }
      },
      "execution_count": 61,
      "outputs": [
        {
          "output_type": "stream",
          "name": "stdout",
          "text": [
            "sin_value= 0.9999996829318346\n",
            "cos_value= 0.0007963267107332633\n",
            "tan_value= 0.9992039901050427\n"
          ]
        }
      ]
    },
    {
      "cell_type": "code",
      "source": [
        "import math as mt\n",
        "\n",
        "sin_value= mt.sin(mt.radians(90))\n",
        "cos_value= mt.cos(mt.radians(90))\n",
        "tan_value=mt.tan(mt.radians(45))\n",
        "\n",
        "\n",
        "print(\"sin_value=\",sin_value)\n",
        "print(\"cos_value=\",cos_value)\n",
        "print(\"tan_value=\",tan_value)"
      ],
      "metadata": {
        "id": "NdRwqRGKrpAu",
        "outputId": "5954a4b2-291b-4868-85a7-2502afaf26cf",
        "colab": {
          "base_uri": "https://localhost:8080/"
        }
      },
      "execution_count": 62,
      "outputs": [
        {
          "output_type": "stream",
          "name": "stdout",
          "text": [
            "sin_value= 1.0\n",
            "cos_value= 6.123233995736766e-17\n",
            "tan_value= 0.9999999999999999\n"
          ]
        }
      ]
    },
    {
      "cell_type": "code",
      "source": [
        "import math as mt\n",
        "import cmath as cm\n",
        "\n",
        "sin_value= cm.sin(1.57)\n",
        "cos_value= cm.cos(1.57)\n",
        "tan_value=cm.tan(1.57/2)\n",
        "\n",
        "\n",
        "print(\"sin_value=\",sin_value)\n",
        "print(\"cos_value=\",cos_value)\n",
        "print(\"tan_value=\",tan_value)"
      ],
      "metadata": {
        "id": "lyWPFcDyr1e2",
        "outputId": "02bcf15d-b8e3-401a-ee19-6d45a540b899",
        "colab": {
          "base_uri": "https://localhost:8080/"
        }
      },
      "execution_count": 63,
      "outputs": [
        {
          "output_type": "stream",
          "name": "stdout",
          "text": [
            "sin_value= (0.9999996829318346+0j)\n",
            "cos_value= (0.0007963267107332633-0j)\n",
            "tan_value= (0.9992039901050427+0j)\n"
          ]
        }
      ]
    },
    {
      "cell_type": "code",
      "source": [
        "import math as mt\n",
        "import cmath as cm\n",
        "\n",
        "sin_value= cm.sin(mt.radians(90))\n",
        "cos_value= cm.cos(mt.radians(90))\n",
        "tan_value=cm.tan(mt.radians(45))\n",
        "\n",
        "\n",
        "print(\"sin_value=\",sin_value)\n",
        "print(\"cos_value=\",cos_value)\n",
        "print(\"tan_value=\",tan_value)"
      ],
      "metadata": {
        "id": "dnchQPDttEn2",
        "outputId": "cdf2b0aa-f69b-4a01-cd90-4fc97e916a6e",
        "colab": {
          "base_uri": "https://localhost:8080/"
        }
      },
      "execution_count": 64,
      "outputs": [
        {
          "output_type": "stream",
          "name": "stdout",
          "text": [
            "sin_value= (1+0j)\n",
            "cos_value= (6.123233995736766e-17-0j)\n",
            "tan_value= (0.9999999999999999+0j)\n"
          ]
        }
      ]
    },
    {
      "cell_type": "code",
      "source": [
        "import cmath as cm\n",
        "\n",
        "sin_angle= cm.asin(1)\n",
        "cos_angle= cm.acos(0)\n",
        "tan_angle=cm.atan(1)\n",
        "\n",
        "\n",
        "print(\"sin_value=\",sin_angle)\n",
        "print(\"cos_value=\",cos_angle)\n",
        "print(\"tan_value=\",tan_angle)"
      ],
      "metadata": {
        "id": "bb4Cj67ntKbm",
        "outputId": "e1ad77f5-90aa-44d5-f0b5-09dbb1a640b9",
        "colab": {
          "base_uri": "https://localhost:8080/"
        }
      },
      "execution_count": 66,
      "outputs": [
        {
          "output_type": "stream",
          "name": "stdout",
          "text": [
            "sin_value= (1.5707963267948966+0j)\n",
            "cos_value= (1.5707963267948966-0j)\n",
            "tan_value= (0.7853981633974483+0j)\n"
          ]
        }
      ]
    },
    {
      "cell_type": "code",
      "source": [
        "import math as mt\n",
        "\n",
        "sin_angle= mt.asin(1)\n",
        "cos_angle= mt.acos(0)\n",
        "tan_angle=mt.atan(1)\n",
        "\n",
        "\n",
        "print(\"sin_value=\",sin_angle)\n",
        "print(\"cos_value=\",cos_angle)\n",
        "print(\"tan_value=\",tan_angle)"
      ],
      "metadata": {
        "id": "2m60XzQ6tlI1",
        "outputId": "ea520e62-fd87-45ed-d8d8-1687f5866f32",
        "colab": {
          "base_uri": "https://localhost:8080/"
        }
      },
      "execution_count": 67,
      "outputs": [
        {
          "output_type": "stream",
          "name": "stdout",
          "text": [
            "sin_value= 1.5707963267948966\n",
            "cos_value= 1.5707963267948966\n",
            "tan_value= 0.7853981633974483\n"
          ]
        }
      ]
    },
    {
      "cell_type": "code",
      "source": [
        "import math as mt\n",
        "\n",
        "sin_value= mt.sinh(1.57)\n",
        "cos_value= mt.cosh(1.57)\n",
        "tan_value=mt.tanh(1.57/2)\n",
        "\n",
        "\n",
        "print(\"sin_value=\",sin_value)\n",
        "print(\"cos_value=\",cos_value)\n",
        "print(\"tan_value=\",tan_value)"
      ],
      "metadata": {
        "id": "ueubEFFBtuoG",
        "outputId": "d7bbf08a-8d06-4602-ff57-b92dd136f0c9",
        "colab": {
          "base_uri": "https://localhost:8080/"
        }
      },
      "execution_count": 68,
      "outputs": [
        {
          "output_type": "stream",
          "name": "stdout",
          "text": [
            "sin_value= 2.299301505709079\n",
            "cos_value= 2.5073466880660993\n",
            "tan_value= 0.6555672165322445\n"
          ]
        }
      ]
    },
    {
      "cell_type": "code",
      "source": [
        "import cmath as cm\n",
        "\n",
        "sin_value= cm.sinh(1.57)\n",
        "cos_value= cm.cosh(1.57)\n",
        "tan_value=cm.tanh(1.57/2)\n",
        "\n",
        "\n",
        "print(\"sin_value=\",sin_value)\n",
        "print(\"cos_value=\",cos_value)\n",
        "print(\"tan_value=\",tan_value)"
      ],
      "metadata": {
        "id": "rLZyPCnsun42",
        "outputId": "0ea79ec2-572b-48d6-ae24-05ab9bef66ea",
        "colab": {
          "base_uri": "https://localhost:8080/"
        }
      },
      "execution_count": 69,
      "outputs": [
        {
          "output_type": "stream",
          "name": "stdout",
          "text": [
            "sin_value= (2.299301505709079+0j)\n",
            "cos_value= (2.5073466880660993+0j)\n",
            "tan_value= (0.6555672165322445+0j)\n"
          ]
        }
      ]
    },
    {
      "cell_type": "code",
      "source": [
        "import math as mt\n",
        "\n",
        "sin_angle= mt.asinh(1)\n",
        "cos_angle= mt.acosh(1)\n",
        "tan_angle=mt.atanh(0.5)\n",
        "\n",
        "\n",
        "print(\"sin_value=\",sin_angle)\n",
        "print(\"cos_value=\",cos_angle)\n",
        "print(\"tan_value=\",tan_angle)"
      ],
      "metadata": {
        "id": "4fRSAYwuutGN",
        "outputId": "7f2b6fc6-2d24-4c7c-aa98-5fb48d9c15f5",
        "colab": {
          "base_uri": "https://localhost:8080/"
        }
      },
      "execution_count": 72,
      "outputs": [
        {
          "output_type": "stream",
          "name": "stdout",
          "text": [
            "sin_value= 0.881373587019543\n",
            "cos_value= 0.0\n",
            "tan_value= 0.5493061443340548\n"
          ]
        }
      ]
    },
    {
      "cell_type": "code",
      "source": [
        "import cmath as cm\n",
        "\n",
        "\n",
        "sin_angle= cm.asinh(1)\n",
        "cos_angle= cm.acosh(1)\n",
        "tan_angle=cm.atanh(0.5)\n",
        "\n",
        "\n",
        "print(\"sin_value=\",sin_angle)\n",
        "print(\"cos_value=\",cos_angle)\n",
        "print(\"tan_value=\",tan_angle)"
      ],
      "metadata": {
        "id": "bqTfjQqfuxc9",
        "outputId": "bdbafdef-0381-446e-c9bb-2ef5383015a4",
        "colab": {
          "base_uri": "https://localhost:8080/"
        }
      },
      "execution_count": 73,
      "outputs": [
        {
          "output_type": "stream",
          "name": "stdout",
          "text": [
            "sin_value= (0.881373587019543+0j)\n",
            "cos_value= 0j\n",
            "tan_value= (0.5493061443340549+0j)\n"
          ]
        }
      ]
    },
    {
      "cell_type": "markdown",
      "source": [
        "# ***Classification functions***"
      ],
      "metadata": {
        "id": "upqXInHJvp3g"
      }
    },
    {
      "cell_type": "code",
      "source": [
        "x=complex(10,20)\n",
        "\n",
        "import cmath as cm\n",
        "print(cm.isfinite(x)) #Return True if both the real and imaginary parts of x are finite, and False otherwise."
      ],
      "metadata": {
        "id": "sQUPsizxvBHt",
        "outputId": "a7f1e473-bd8e-46c8-82d0-f87fe31e137e",
        "colab": {
          "base_uri": "https://localhost:8080/"
        }
      },
      "execution_count": 75,
      "outputs": [
        {
          "output_type": "stream",
          "name": "stdout",
          "text": [
            "True\n"
          ]
        }
      ]
    },
    {
      "cell_type": "code",
      "source": [
        "x=10\n",
        "\n",
        "import math as mt\n",
        "print(mt.isfinite(x)) #Return True if  x is finite, and False otherwise."
      ],
      "metadata": {
        "id": "VNL8O7h6v1E9",
        "outputId": "e4e77a69-0021-47d5-d0fc-b358a8fd34ca",
        "colab": {
          "base_uri": "https://localhost:8080/"
        }
      },
      "execution_count": 88,
      "outputs": [
        {
          "output_type": "stream",
          "name": "stdout",
          "text": [
            "True\n"
          ]
        }
      ]
    },
    {
      "cell_type": "code",
      "source": [
        "y=complex(float('inf'),20)\n",
        "\n",
        "import cmath as cm\n",
        "print(cm.isfinite(y)) #Return True if both the real and imaginary parts of x are finite, and False otherwise.\n",
        "print(cm.isinf(y)) #Return True if either the real and imaginary parts of x are infinite, and False otherwise."
      ],
      "metadata": {
        "id": "9XkGDT5IwDn2",
        "outputId": "7aaafda6-121a-42e5-e2de-5554e718bd90",
        "colab": {
          "base_uri": "https://localhost:8080/"
        }
      },
      "execution_count": 87,
      "outputs": [
        {
          "output_type": "stream",
          "name": "stdout",
          "text": [
            "False\n",
            "True\n"
          ]
        }
      ]
    },
    {
      "cell_type": "code",
      "source": [
        "y=float('inf')\n",
        "\n",
        "import math as m\n",
        "print(m.isfinite(y))       #Return True if  x is finite, and False otherwise.\n",
        "print(m.isinf(y))          #Return True if  x is infinite, and False otherwise."
      ],
      "metadata": {
        "id": "oB-7OjZCwbQ-",
        "outputId": "468a7083-6e32-4685-96ff-3932d8aa4857",
        "colab": {
          "base_uri": "https://localhost:8080/"
        }
      },
      "execution_count": 86,
      "outputs": [
        {
          "output_type": "stream",
          "name": "stdout",
          "text": [
            "False\n",
            "True\n"
          ]
        }
      ]
    },
    {
      "cell_type": "code",
      "source": [
        "n1 = float(\"nan\")\n",
        "\n",
        "import math as m\n",
        "print(m.isnan(n1))    #Return True if  n1 is nan, and False otherwise.\n",
        "\n",
        "n2=complex(float('nan'),20)\n",
        "\n",
        "import cmath as cm\n",
        "print(cm.isnan(n2)) #Return True if either the real and imaginary parts of n2 are nan, and False otherwise.\n"
      ],
      "metadata": {
        "id": "LD_muFkLwiEm",
        "outputId": "4ea3d4f1-1d6e-472b-e1d1-aaeca147239a",
        "colab": {
          "base_uri": "https://localhost:8080/"
        }
      },
      "execution_count": 90,
      "outputs": [
        {
          "output_type": "stream",
          "name": "stdout",
          "text": [
            "True\n",
            "True\n"
          ]
        }
      ]
    },
    {
      "cell_type": "code",
      "source": [],
      "metadata": {
        "id": "A0X1VCyRzQs7"
      },
      "execution_count": null,
      "outputs": []
    }
  ]
}