{
  "nbformat": 4,
  "nbformat_minor": 0,
  "metadata": {
    "colab": {
      "provenance": [],
      "authorship_tag": "ABX9TyPMg1C018Ng3Fc2k170KaOS",
      "include_colab_link": true
    },
    "kernelspec": {
      "name": "python3",
      "display_name": "Python 3"
    },
    "language_info": {
      "name": "python"
    }
  },
  "cells": [
    {
      "cell_type": "markdown",
      "metadata": {
        "id": "view-in-github",
        "colab_type": "text"
      },
      "source": [
        "<a href=\"https://colab.research.google.com/github/vvrgit/Python/blob/main/Python_Note_book_2024_2025.ipynb\" target=\"_parent\"><img src=\"https://colab.research.google.com/assets/colab-badge.svg\" alt=\"Open In Colab\"/></a>"
      ]
    },
    {
      "cell_type": "markdown",
      "source": [
        "# **Random Number Generation**"
      ],
      "metadata": {
        "id": "X-h4UFarVUWq"
      }
    },
    {
      "cell_type": "code",
      "execution_count": 6,
      "metadata": {
        "colab": {
          "base_uri": "https://localhost:8080/"
        },
        "id": "Hv4wInP4Sy38",
        "outputId": "844f36ab-647d-47c0-a2db-be536bc97e78"
      },
      "outputs": [
        {
          "output_type": "stream",
          "name": "stdout",
          "text": [
            "6\n"
          ]
        }
      ],
      "source": [
        "import random\n",
        "a=random.randrange(0,10)\n",
        "print(a)"
      ]
    },
    {
      "cell_type": "code",
      "source": [
        "b=random.uniform(0,10)\n",
        "print(b)"
      ],
      "metadata": {
        "colab": {
          "base_uri": "https://localhost:8080/"
        },
        "id": "rWv99TmVVXX6",
        "outputId": "a3d212b8-44c0-436a-d263-051f89a819c6"
      },
      "execution_count": 5,
      "outputs": [
        {
          "output_type": "stream",
          "name": "stdout",
          "text": [
            "6.832542296471856\n"
          ]
        }
      ]
    },
    {
      "cell_type": "code",
      "source": [
        "#Use the seed() method to customize\n",
        "#the start number of the random number generator.\n",
        "\n",
        "random.seed(10)\n",
        "print(random.random())\n",
        "\n",
        "random.seed(10)\n",
        "print(random.random())"
      ],
      "metadata": {
        "colab": {
          "base_uri": "https://localhost:8080/"
        },
        "id": "RH_HFCY1VxaL",
        "outputId": "96cb8929-5789-4449-9a0b-d898235098b1"
      },
      "execution_count": 8,
      "outputs": [
        {
          "output_type": "stream",
          "name": "stdout",
          "text": [
            "0.5714025946899135\n",
            "0.5714025946899135\n"
          ]
        }
      ]
    },
    {
      "cell_type": "code",
      "source": [
        "#randint: Returns a random number between the given range\n",
        "a=random.randint(1,10)\n",
        "print(a)"
      ],
      "metadata": {
        "colab": {
          "base_uri": "https://localhost:8080/"
        },
        "id": "v0l20mD0XIXT",
        "outputId": "b9e39680-283a-4ded-8a4d-c77ffd1f0e03"
      },
      "execution_count": 13,
      "outputs": [
        {
          "output_type": "stream",
          "name": "stdout",
          "text": [
            "7\n"
          ]
        }
      ]
    },
    {
      "cell_type": "code",
      "source": [
        "#choice: Returns a random element from the given sequence\n",
        "mylist = [\"apple\", \"banana\", \"cherry\"]\n",
        "\n",
        "print(random.choice(mylist))"
      ],
      "metadata": {
        "colab": {
          "base_uri": "https://localhost:8080/"
        },
        "id": "98PiqGdTX2i3",
        "outputId": "0254b46b-88b8-42bd-86be-7cdf9e15bc76"
      },
      "execution_count": 15,
      "outputs": [
        {
          "output_type": "stream",
          "name": "stdout",
          "text": [
            "cherry\n"
          ]
        }
      ]
    },
    {
      "cell_type": "code",
      "source": [
        "#choices()\tReturns a list with a random selection from the given sequence\n",
        "mylist = [\"apple\", \"banana\", \"cherry\", 100]\n",
        "\n",
        "print(random.choices(mylist, k = 14))"
      ],
      "metadata": {
        "colab": {
          "base_uri": "https://localhost:8080/"
        },
        "id": "A_qsOke7YbG3",
        "outputId": "a2923c67-5b4c-44ae-851f-c3275abc6345"
      },
      "execution_count": 19,
      "outputs": [
        {
          "output_type": "stream",
          "name": "stdout",
          "text": [
            "['banana', 'cherry', 'apple', 100, 'apple', 'banana', 100, 100, 'apple', 100, 100, 'banana', 100, 'apple']\n"
          ]
        }
      ]
    },
    {
      "cell_type": "code",
      "source": [
        "#shuffle()\tTakes a sequence and returns the sequence in a random order\n",
        "mylist = [\"apple\", \"banana\", \"cherry\"]\n",
        "random.shuffle(mylist)\n",
        "\n",
        "print(mylist)"
      ],
      "metadata": {
        "colab": {
          "base_uri": "https://localhost:8080/"
        },
        "id": "4rfcWaFIY0TE",
        "outputId": "7719e29d-1cab-4b70-9aec-83c006464030"
      },
      "execution_count": 20,
      "outputs": [
        {
          "output_type": "stream",
          "name": "stdout",
          "text": [
            "['apple', 'cherry', 'banana']\n"
          ]
        }
      ]
    },
    {
      "cell_type": "code",
      "source": [
        "#sample()\tReturns a given sample of a sequence\n",
        "\n",
        "mylist = [\"apple\", \"banana\", \"cherry\"]\n",
        "\n",
        "print(random.sample(mylist, k=2))"
      ],
      "metadata": {
        "colab": {
          "base_uri": "https://localhost:8080/"
        },
        "id": "P6NRz2QyZvK9",
        "outputId": "bac0884d-12a7-47e3-b2ab-b83770530eb1"
      },
      "execution_count": 25,
      "outputs": [
        {
          "output_type": "stream",
          "name": "stdout",
          "text": [
            "['cherry', 'apple']\n"
          ]
        }
      ]
    },
    {
      "cell_type": "code",
      "source": [
        "#random()\tReturns a random float number between 0 and 1\n",
        "a=random.random()\n",
        "print(a)"
      ],
      "metadata": {
        "colab": {
          "base_uri": "https://localhost:8080/"
        },
        "id": "Do8WHNBLaCNh",
        "outputId": "97088fc8-bdd2-49f2-b737-83b62b6bcbab"
      },
      "execution_count": 32,
      "outputs": [
        {
          "output_type": "stream",
          "name": "stdout",
          "text": [
            "0.17430797798567554\n"
          ]
        }
      ]
    },
    {
      "cell_type": "code",
      "source": [
        "#uniform()\tReturns a random float number between two given parameters\n",
        "a=random.uniform(10,20)\n",
        "print(a)"
      ],
      "metadata": {
        "colab": {
          "base_uri": "https://localhost:8080/"
        },
        "id": "AK7KVgJOaRRu",
        "outputId": "a8d29860-fc39-48c1-b81f-368dba27c2ee"
      },
      "execution_count": 28,
      "outputs": [
        {
          "output_type": "stream",
          "name": "stdout",
          "text": [
            "12.670270685533795\n"
          ]
        }
      ]
    },
    {
      "cell_type": "markdown",
      "source": [
        "# ***Python Strings***"
      ],
      "metadata": {
        "id": "SRJ0Yrt0dAmS"
      }
    },
    {
      "cell_type": "code",
      "source": [
        "'''\n",
        "Strings in python are surrounded by either single quotation marks, or double quotation marks.\n",
        "\n",
        "'hello' is the same as \"hello\".\n",
        "\n",
        "You can display a string literal with the print() function:\n",
        "'''\n",
        "\n",
        "print(\"Hello\")\n",
        "print('Hello')"
      ],
      "metadata": {
        "colab": {
          "base_uri": "https://localhost:8080/"
        },
        "id": "AhpbkHpPcUnX",
        "outputId": "84d54650-4737-4138-a11c-2496e9b2f138"
      },
      "execution_count": 34,
      "outputs": [
        {
          "output_type": "stream",
          "name": "stdout",
          "text": [
            "Hello\n",
            "Hello\n"
          ]
        }
      ]
    },
    {
      "cell_type": "code",
      "source": [
        "'''\n",
        "You can use quotes inside a string, as long as they don't match the quotes surrounding the string:\n",
        "'''\n",
        "\n",
        "print(\"It's alright\")\n",
        "print(\"He is called 'Johnny'\")\n",
        "print('He is called \"Johnny\"')"
      ],
      "metadata": {
        "colab": {
          "base_uri": "https://localhost:8080/"
        },
        "id": "JdGHAUTQdZak",
        "outputId": "aa79b276-d395-4032-c87d-052250c4b02f"
      },
      "execution_count": 37,
      "outputs": [
        {
          "output_type": "stream",
          "name": "stdout",
          "text": [
            "It's alright\n",
            "He is called 'Johnny'\n",
            "He is called \"Johnny\"\n"
          ]
        }
      ]
    },
    {
      "cell_type": "code",
      "source": [
        "'''\n",
        "You can assign a multiline string to a variable by using\n",
        "three single or double quotes\n",
        "'''\n",
        "a=''' HI! I am\n",
        "Dr. Venkataramana\n",
        "SR University'''\n",
        "print(a)\n",
        "\n",
        "\n",
        "b=\"\"\" I am Teaching\n",
        "Python Program\"\"\"\n",
        "\n",
        "print(b)\n"
      ],
      "metadata": {
        "colab": {
          "base_uri": "https://localhost:8080/"
        },
        "id": "56PqR3JNdnST",
        "outputId": "df755c2e-64ee-42e0-b60a-f4089da686f6"
      },
      "execution_count": 40,
      "outputs": [
        {
          "output_type": "stream",
          "name": "stdout",
          "text": [
            " HI! I am\n",
            "Dr. Venkataramana\n",
            "SR University\n",
            " I am Teaching\n",
            "Python Program\n"
          ]
        }
      ]
    },
    {
      "cell_type": "code",
      "source": [
        "a = \"Hello, World!\"\n",
        "print(a[1])"
      ],
      "metadata": {
        "colab": {
          "base_uri": "https://localhost:8080/"
        },
        "id": "Ao_GSMHEeCHZ",
        "outputId": "0319e676-71e2-4c26-9f1c-48888ff74d76"
      },
      "execution_count": 41,
      "outputs": [
        {
          "output_type": "stream",
          "name": "stdout",
          "text": [
            "e\n"
          ]
        }
      ]
    },
    {
      "cell_type": "code",
      "source": [
        "#Looping Through a String\n",
        "for x in \"banana\":\n",
        "  print(x)"
      ],
      "metadata": {
        "colab": {
          "base_uri": "https://localhost:8080/"
        },
        "id": "qSNRdkYdfhW-",
        "outputId": "2bb86f56-0bb8-4a06-9743-bcd46b7b7a92"
      },
      "execution_count": 42,
      "outputs": [
        {
          "output_type": "stream",
          "name": "stdout",
          "text": [
            "b\n",
            "a\n",
            "n\n",
            "a\n",
            "n\n",
            "a\n"
          ]
        }
      ]
    },
    {
      "cell_type": "code",
      "source": [
        "#To get the length of a string, use the len() function.\n",
        "a = \"Hello, World!\"\n",
        "print(len(a))"
      ],
      "metadata": {
        "colab": {
          "base_uri": "https://localhost:8080/"
        },
        "id": "yphWHGEJfvML",
        "outputId": "6ade5ee7-e63c-4270-fb34-5e2245a53d8b"
      },
      "execution_count": 43,
      "outputs": [
        {
          "output_type": "stream",
          "name": "stdout",
          "text": [
            "13\n"
          ]
        }
      ]
    },
    {
      "cell_type": "code",
      "source": [
        "txt = \"The best things in life are free!\"\n",
        "print(\"free\" in txt)"
      ],
      "metadata": {
        "colab": {
          "base_uri": "https://localhost:8080/"
        },
        "id": "wns5XFsyf1dv",
        "outputId": "20845648-d28d-4fa7-813b-8998f0a0c352"
      },
      "execution_count": 44,
      "outputs": [
        {
          "output_type": "stream",
          "name": "stdout",
          "text": [
            "True\n"
          ]
        }
      ]
    },
    {
      "cell_type": "code",
      "source": [],
      "metadata": {
        "id": "HcK7DShwib3k"
      },
      "execution_count": null,
      "outputs": []
    }
  ]
}