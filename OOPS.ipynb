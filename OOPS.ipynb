{
  "nbformat": 4,
  "nbformat_minor": 0,
  "metadata": {
    "colab": {
      "provenance": [],
      "authorship_tag": "ABX9TyP680cmCz0RwrEsDm/Ak+Do",
      "include_colab_link": true
    },
    "kernelspec": {
      "name": "python3",
      "display_name": "Python 3"
    },
    "language_info": {
      "name": "python"
    }
  },
  "cells": [
    {
      "cell_type": "markdown",
      "metadata": {
        "id": "view-in-github",
        "colab_type": "text"
      },
      "source": [
        "<a href=\"https://colab.research.google.com/github/vvrgit/Python/blob/main/OOPS.ipynb\" target=\"_parent\"><img src=\"https://colab.research.google.com/assets/colab-badge.svg\" alt=\"Open In Colab\"/></a>"
      ]
    },
    {
      "cell_type": "code",
      "execution_count": null,
      "metadata": {
        "id": "Z5InqKvOpAJz"
      },
      "outputs": [],
      "source": [
        "class MyClass:\n",
        "  x=5"
      ]
    },
    {
      "cell_type": "code",
      "source": [
        "obj=MyClass()\n",
        "print(obj.x)"
      ],
      "metadata": {
        "colab": {
          "base_uri": "https://localhost:8080/"
        },
        "id": "U0XiO1KrpaGb",
        "outputId": "94fc47c0-d960-408b-bd0c-f852a3623127"
      },
      "execution_count": null,
      "outputs": [
        {
          "output_type": "stream",
          "name": "stdout",
          "text": [
            "5\n"
          ]
        }
      ]
    },
    {
      "cell_type": "code",
      "source": [
        "class MyClass2():\n",
        "  x=50\n",
        "  y=100"
      ],
      "metadata": {
        "id": "wHJjINlgpqPL"
      },
      "execution_count": null,
      "outputs": []
    },
    {
      "cell_type": "code",
      "source": [
        "obj=MyClass2()\n",
        "print(obj.x)\n",
        "print(obj.y)"
      ],
      "metadata": {
        "colab": {
          "base_uri": "https://localhost:8080/"
        },
        "id": "_-cojvTIqY88",
        "outputId": "93624c05-afa8-4395-9cc5-5a36ee1b51e1"
      },
      "execution_count": null,
      "outputs": [
        {
          "output_type": "stream",
          "name": "stdout",
          "text": [
            "50\n",
            "100\n"
          ]
        }
      ]
    },
    {
      "cell_type": "code",
      "source": [
        "class SRU():\n",
        "  def __init__(self,Age,Name,Dept):\n",
        "    self.Age=Age\n",
        "    self.Name=Name\n",
        "    self.Dept=Dept"
      ],
      "metadata": {
        "id": "pA1N64VBqfqY"
      },
      "execution_count": null,
      "outputs": []
    },
    {
      "cell_type": "code",
      "source": [
        "Faculty=SRU(39,\"VVRAMNA\",\"EEE\")\n",
        "print(Faculty.Age)\n",
        "print(Faculty.Name)\n",
        "print(Faculty.Dept)"
      ],
      "metadata": {
        "colab": {
          "base_uri": "https://localhost:8080/"
        },
        "id": "snMN2URTr_U1",
        "outputId": "6e80e812-c3a8-4362-c721-ae88d4b4e36c"
      },
      "execution_count": null,
      "outputs": [
        {
          "output_type": "stream",
          "name": "stdout",
          "text": [
            "39\n",
            "VVRAMNA\n",
            "EEE\n"
          ]
        }
      ]
    },
    {
      "cell_type": "code",
      "source": [
        "class SRU():\n",
        "  def __init__(self,empId,Rcount,Fb):\n",
        "    self.empId=empId\n",
        "    self.Rcount=Rcount\n",
        "    self.Fb=Fb\n",
        "\n",
        "  def Faculty_Points(self):\n",
        "    FP=(self.Rcount*2)+(self.Fb*6)\n",
        "    return FP"
      ],
      "metadata": {
        "id": "2ArpIPNTspJI"
      },
      "execution_count": null,
      "outputs": []
    },
    {
      "cell_type": "code",
      "source": [
        "Faculty=SRU(1513,20,3)\n",
        "FP=Faculty.Faculty_Points()\n",
        "print(\"EmpId:\",Faculty.empId,\"Faculty Points:\",FP)"
      ],
      "metadata": {
        "colab": {
          "base_uri": "https://localhost:8080/"
        },
        "id": "mPDDTZoWvx8h",
        "outputId": "5065a3ce-f18d-4f79-ab85-19056e853a5f"
      },
      "execution_count": null,
      "outputs": [
        {
          "output_type": "stream",
          "name": "stdout",
          "text": [
            "EmpId: 1513 Faculty Points: 58\n"
          ]
        }
      ]
    },
    {
      "cell_type": "code",
      "source": [
        "class SRU():\n",
        "  def __init__(data,stuId,Fee,Penalty):\n",
        "    data.stdId=stuId\n",
        "    data.Fee=Fee\n",
        "    data.Penalty=Penalty\n",
        "\n",
        "  def Student_Fee(abc):\n",
        "    Pay=abc.Fee+abc.Penalty\n",
        "    return Pay"
      ],
      "metadata": {
        "id": "9faSXNnawKBg"
      },
      "execution_count": null,
      "outputs": []
    },
    {
      "cell_type": "code",
      "source": [
        "Student=SRU(\"02341A0259\",90000,10000)\n",
        "print(\"Roll No:\",Student.stdId,\"Fee:\",Student.Fee,\"Penalty:\",Student.Penalty)\n",
        "print(\"Total Paybale Amount:\",Student.Student_Fee())\n",
        "\n"
      ],
      "metadata": {
        "colab": {
          "base_uri": "https://localhost:8080/"
        },
        "id": "wX5k5pUu0tJk",
        "outputId": "509524c6-b1f8-48dd-e01a-b98d2e2285ba"
      },
      "execution_count": null,
      "outputs": [
        {
          "output_type": "stream",
          "name": "stdout",
          "text": [
            "Roll No: 02341A0259 Fee: 90000 Penalty: 10000\n",
            "Total Paybale Amount: 100000\n"
          ]
        }
      ]
    },
    {
      "cell_type": "code",
      "source": [
        "class SRU():\n",
        "  def __init__(self,stuId,Fee,Penalty):\n",
        "    self.stuId=stuId\n",
        "    self.Fee=Fee\n",
        "    self.Penalty=Penalty\n",
        "  def payment(self):\n",
        "    print(\"Roll No.\",self.stuId,\"Payment\",self.Fee+self.Penalty)"
      ],
      "metadata": {
        "id": "aVj1et1N2cD3"
      },
      "execution_count": null,
      "outputs": []
    },
    {
      "cell_type": "code",
      "source": [
        "student=SRU(\"02341A0259\",90000,10000)\n",
        "student.payment()"
      ],
      "metadata": {
        "colab": {
          "base_uri": "https://localhost:8080/"
        },
        "id": "1UHUSJn7541r",
        "outputId": "738a86fb-3841-4755-c466-ec737b93250e"
      },
      "execution_count": null,
      "outputs": [
        {
          "output_type": "stream",
          "name": "stdout",
          "text": [
            "Roll No. 02341A0259 Payment 100000\n"
          ]
        }
      ]
    },
    {
      "cell_type": "code",
      "source": [
        "student.Fee=35000\n",
        "student.Penalty=0\n",
        "student.payment()"
      ],
      "metadata": {
        "colab": {
          "base_uri": "https://localhost:8080/"
        },
        "id": "JrGbVLzd6JIJ",
        "outputId": "4cbf2471-ec83-4200-a81d-3c20ad4eb708"
      },
      "execution_count": null,
      "outputs": [
        {
          "output_type": "stream",
          "name": "stdout",
          "text": [
            "Roll No. 02341A0259 Payment 35000\n"
          ]
        }
      ]
    },
    {
      "cell_type": "code",
      "source": [
        "class SRU():\n",
        "  def __init__(self,stuId,Fee,Penalty):\n",
        "    self.stuId=stuId\n",
        "    self.Fee=Fee\n",
        "    self.Penalty=Penalty\n",
        "  def payment(self):\n",
        "    print(\"Roll No.\",self.stuId,\"Payment\",self.Fee+self.Penalty)"
      ],
      "metadata": {
        "id": "MtpVhwR06Xqw"
      },
      "execution_count": null,
      "outputs": []
    },
    {
      "cell_type": "code",
      "source": [
        "student=SRU(\"02341A0259\",90000,10000)\n",
        "student.payment()"
      ],
      "metadata": {
        "colab": {
          "base_uri": "https://localhost:8080/"
        },
        "id": "w-PXDGvI7fdy",
        "outputId": "13bd66f4-4b31-480a-c760-e8a82de2d4d0"
      },
      "execution_count": null,
      "outputs": [
        {
          "output_type": "stream",
          "name": "stdout",
          "text": [
            "Roll No. 02341A0259 Payment 100000\n"
          ]
        }
      ]
    },
    {
      "cell_type": "code",
      "source": [
        "del student.Penalty\n",
        "student.payment()"
      ],
      "metadata": {
        "colab": {
          "base_uri": "https://localhost:8080/",
          "height": 245
        },
        "id": "mTJvRTE37pT0",
        "outputId": "9e798200-5ae5-493f-e88b-bc617ab96a72"
      },
      "execution_count": null,
      "outputs": [
        {
          "output_type": "error",
          "ename": "AttributeError",
          "evalue": "'SRU' object has no attribute 'Penalty'",
          "traceback": [
            "\u001b[0;31m---------------------------------------------------------------------------\u001b[0m",
            "\u001b[0;31mAttributeError\u001b[0m                            Traceback (most recent call last)",
            "\u001b[0;32m<ipython-input-29-1444f93b8d2f>\u001b[0m in \u001b[0;36m<cell line: 2>\u001b[0;34m()\u001b[0m\n\u001b[1;32m      1\u001b[0m \u001b[0;32mdel\u001b[0m \u001b[0mstudent\u001b[0m\u001b[0;34m.\u001b[0m\u001b[0mPenalty\u001b[0m\u001b[0;34m\u001b[0m\u001b[0;34m\u001b[0m\u001b[0m\n\u001b[0;32m----> 2\u001b[0;31m \u001b[0mstudent\u001b[0m\u001b[0;34m.\u001b[0m\u001b[0mpayment\u001b[0m\u001b[0;34m(\u001b[0m\u001b[0;34m)\u001b[0m\u001b[0;34m\u001b[0m\u001b[0;34m\u001b[0m\u001b[0m\n\u001b[0m",
            "\u001b[0;32m<ipython-input-25-3db933b5ceff>\u001b[0m in \u001b[0;36mpayment\u001b[0;34m(self)\u001b[0m\n\u001b[1;32m      5\u001b[0m     \u001b[0mself\u001b[0m\u001b[0;34m.\u001b[0m\u001b[0mPenalty\u001b[0m\u001b[0;34m=\u001b[0m\u001b[0mPenalty\u001b[0m\u001b[0;34m\u001b[0m\u001b[0;34m\u001b[0m\u001b[0m\n\u001b[1;32m      6\u001b[0m   \u001b[0;32mdef\u001b[0m \u001b[0mpayment\u001b[0m\u001b[0;34m(\u001b[0m\u001b[0mself\u001b[0m\u001b[0;34m)\u001b[0m\u001b[0;34m:\u001b[0m\u001b[0;34m\u001b[0m\u001b[0;34m\u001b[0m\u001b[0m\n\u001b[0;32m----> 7\u001b[0;31m     \u001b[0mprint\u001b[0m\u001b[0;34m(\u001b[0m\u001b[0;34m\"Roll No.\"\u001b[0m\u001b[0;34m,\u001b[0m\u001b[0mself\u001b[0m\u001b[0;34m.\u001b[0m\u001b[0mstuId\u001b[0m\u001b[0;34m,\u001b[0m\u001b[0;34m\"Payment\"\u001b[0m\u001b[0;34m,\u001b[0m\u001b[0mself\u001b[0m\u001b[0;34m.\u001b[0m\u001b[0mFee\u001b[0m\u001b[0;34m+\u001b[0m\u001b[0mself\u001b[0m\u001b[0;34m.\u001b[0m\u001b[0mPenalty\u001b[0m\u001b[0;34m)\u001b[0m\u001b[0;34m\u001b[0m\u001b[0;34m\u001b[0m\u001b[0m\n\u001b[0m",
            "\u001b[0;31mAttributeError\u001b[0m: 'SRU' object has no attribute 'Penalty'"
          ]
        }
      ]
    },
    {
      "cell_type": "code",
      "source": [
        "del student\n",
        "student.Fee"
      ],
      "metadata": {
        "colab": {
          "base_uri": "https://localhost:8080/",
          "height": 158
        },
        "id": "N3bQzrnA7vbT",
        "outputId": "32b6d723-1d97-40c9-c5d2-10ec8f597a98"
      },
      "execution_count": null,
      "outputs": [
        {
          "output_type": "error",
          "ename": "NameError",
          "evalue": "name 'student' is not defined",
          "traceback": [
            "\u001b[0;31m---------------------------------------------------------------------------\u001b[0m",
            "\u001b[0;31mNameError\u001b[0m                                 Traceback (most recent call last)",
            "\u001b[0;32m<ipython-input-30-dfbb9d90d2a5>\u001b[0m in \u001b[0;36m<cell line: 2>\u001b[0;34m()\u001b[0m\n\u001b[1;32m      1\u001b[0m \u001b[0;32mdel\u001b[0m \u001b[0mstudent\u001b[0m\u001b[0;34m\u001b[0m\u001b[0;34m\u001b[0m\u001b[0m\n\u001b[0;32m----> 2\u001b[0;31m \u001b[0mstudent\u001b[0m\u001b[0;34m.\u001b[0m\u001b[0mFee\u001b[0m\u001b[0;34m\u001b[0m\u001b[0;34m\u001b[0m\u001b[0m\n\u001b[0m",
            "\u001b[0;31mNameError\u001b[0m: name 'student' is not defined"
          ]
        }
      ]
    },
    {
      "cell_type": "code",
      "source": [
        "class sru():\n",
        "  pass\n",
        "\n",
        "stud=sru()"
      ],
      "metadata": {
        "id": "hZKdgxul8Z4Y"
      },
      "execution_count": null,
      "outputs": []
    },
    {
      "cell_type": "code",
      "source": [
        "class student():\n",
        "  def __init__(self,Name,Roll,Dept):\n",
        "    self.Name=Name\n",
        "    self.Roll=Roll\n",
        "    self.Dept=Dept\n",
        "\n",
        "  def report(self):\n",
        "    print(\"Name\",self.Name)\n",
        "    print(\"Roll\",self.Roll)\n",
        "    print(\"Dept\",self.Dept)"
      ],
      "metadata": {
        "id": "7bMP-tIj84UZ"
      },
      "execution_count": 2,
      "outputs": []
    },
    {
      "cell_type": "code",
      "source": [
        "st=student(\"vvramana\",\"02341A0259\",\"EEE\")\n",
        "st.report()"
      ],
      "metadata": {
        "colab": {
          "base_uri": "https://localhost:8080/"
        },
        "id": "T0YbjWCB9Nwi",
        "outputId": "24c40d9a-ab40-46ad-ec76-1ec1a7549a1e"
      },
      "execution_count": 3,
      "outputs": [
        {
          "output_type": "stream",
          "name": "stdout",
          "text": [
            "Name vvramana\n",
            "Roll 02341A0259\n",
            "Dept EEE\n"
          ]
        }
      ]
    },
    {
      "cell_type": "code",
      "source": [
        "class person():\n",
        "  def __init__(self,Name,id,Dept):\n",
        "    self.Name=Name\n",
        "    self.Roll=id\n",
        "    self.Dept=Dept\n",
        "\n",
        "  def report(self):\n",
        "    print(\"Name\",self.Name)\n",
        "    print(\"Roll\",self.id)\n",
        "    print(\"Dept\",self.Dept)"
      ],
      "metadata": {
        "id": "NHYh7T5i9rX8"
      },
      "execution_count": 4,
      "outputs": []
    },
    {
      "cell_type": "code",
      "source": [
        "class student(person):\n",
        "  pass\n",
        "\n",
        "class faculty(person):\n",
        "  pass"
      ],
      "metadata": {
        "id": "1gUADkCbAIAC"
      },
      "execution_count": 5,
      "outputs": []
    },
    {
      "cell_type": "code",
      "source": [
        "st=student(\"Manas\",\"02341A0259\",\"EEE\")\n",
        "st.report()"
      ],
      "metadata": {
        "colab": {
          "base_uri": "https://localhost:8080/"
        },
        "id": "j7_emACkAUId",
        "outputId": "33ccc492-e1af-4858-d004-819864a2bf9b"
      },
      "execution_count": 7,
      "outputs": [
        {
          "output_type": "stream",
          "name": "stdout",
          "text": [
            "Name Manas\n",
            "Roll 02341A0259\n",
            "Dept EEE\n"
          ]
        }
      ]
    },
    {
      "cell_type": "code",
      "source": [
        "fa=faculty(\"Dr.Ramana\",1513,\"EEE\")\n",
        "fa.report()"
      ],
      "metadata": {
        "colab": {
          "base_uri": "https://localhost:8080/"
        },
        "id": "awftk1WKAkms",
        "outputId": "0edeff33-d7e3-4a0f-99c0-abf5ac946f36"
      },
      "execution_count": 8,
      "outputs": [
        {
          "output_type": "stream",
          "name": "stdout",
          "text": [
            "Name Dr.Ramana\n",
            "Roll 1513\n",
            "Dept EEE\n"
          ]
        }
      ]
    },
    {
      "cell_type": "code",
      "source": [
        "class student(person):\n",
        "  pass"
      ],
      "metadata": {
        "id": "8lLufv3BAurB"
      },
      "execution_count": 9,
      "outputs": []
    },
    {
      "cell_type": "code",
      "source": [
        "st=student(\"Manas\",\"02341A0259\",\"EEE\")\n",
        "st.report()"
      ],
      "metadata": {
        "colab": {
          "base_uri": "https://localhost:8080/"
        },
        "id": "JNxCQ48UGbp8",
        "outputId": "dcbd5e75-25e1-46c8-9dc2-403e26843228"
      },
      "execution_count": 10,
      "outputs": [
        {
          "output_type": "stream",
          "name": "stdout",
          "text": [
            "Name Manas\n",
            "Roll 02341A0259\n",
            "Dept EEE\n"
          ]
        }
      ]
    },
    {
      "cell_type": "code",
      "source": [
        "class person:\n",
        "  def __init__(self,Name,ID,Dept,Feedback,VCF):\n",
        "    self.Name=Name\n",
        "    self.ID=ID\n",
        "    self.Dept=Dept\n",
        "    self.Feedback=Feedback\n",
        "    self.VCF=VCF\n",
        "\n",
        "  def report(self):\n",
        "    print(\"Name\",self.Name)\n",
        "    print(\"Roll\",self.ID)\n",
        "    print(\"Dept\",self.Dept)"
      ],
      "metadata": {
        "id": "OQzjGyCOGgbf"
      },
      "execution_count": 43,
      "outputs": []
    },
    {
      "cell_type": "code",
      "source": [
        "class faculty(person):\n",
        "  def report_fa(self):\n",
        "    print(\"Feedback\",self.Feedback)"
      ],
      "metadata": {
        "id": "Aqh91i5kHiTO"
      },
      "execution_count": 44,
      "outputs": []
    },
    {
      "cell_type": "code",
      "source": [
        "class dean(faculty):\n",
        "  def report_dean(self):\n",
        "    print(\"VCF\",self.VCF)"
      ],
      "metadata": {
        "id": "egk-GiQGXKq-"
      },
      "execution_count": 45,
      "outputs": []
    },
    {
      "cell_type": "code",
      "source": [
        "de=dean(\"VVR\",\"1513\",\"EEE\",3.5,5)\n",
        "de.report()\n",
        "de.report_fa()\n",
        "de.report_dean()"
      ],
      "metadata": {
        "colab": {
          "base_uri": "https://localhost:8080/"
        },
        "id": "03OC1t5dVEiU",
        "outputId": "e8bf8879-e78b-4846-e5e8-9cf3b7927e04"
      },
      "execution_count": 46,
      "outputs": [
        {
          "output_type": "stream",
          "name": "stdout",
          "text": [
            "Name VVR\n",
            "Roll 1513\n",
            "Dept EEE\n",
            "Feedback 3.5\n",
            "VCF 5\n"
          ]
        }
      ]
    },
    {
      "cell_type": "code",
      "source": [
        "class faculty:\n",
        "  def __init__(self,Feedback):\n",
        "    self.Feedback=Feedback\n",
        "\n",
        "class dean:\n",
        "  def __init__(self,VCF):\n",
        "    self.VCF=VCF\n",
        "\n",
        "class person(faculty,dean):\n",
        "  def report_fa(self):\n",
        "    print(\"Faculty Feedback\",self.Feedback)\n",
        "  def report_dean(self):\n",
        "    print(\"Dean Feedback\",self.VCF)"
      ],
      "metadata": {
        "id": "5ppeuhMUUPz5"
      },
      "execution_count": 57,
      "outputs": []
    },
    {
      "cell_type": "code",
      "source": [
        "fa=faculty(3.5)\n",
        "de=dean(4)\n",
        "per=person(fa.Feedback)\n",
        "per.report_fa()"
      ],
      "metadata": {
        "colab": {
          "base_uri": "https://localhost:8080/"
        },
        "id": "KGlwx2VNbtOj",
        "outputId": "81e519a9-3b4d-44b0-81f4-f8f5eb30a733"
      },
      "execution_count": 59,
      "outputs": [
        {
          "output_type": "stream",
          "name": "stdout",
          "text": [
            "Faculty Feedback 3.5\n"
          ]
        }
      ]
    },
    {
      "cell_type": "code",
      "source": [
        "class person:\n",
        "  def __init__(self,Name,Id):\n",
        "    self.Name=Name\n",
        "    self.Id=Id\n",
        "\n",
        "class student(person):\n",
        "  def report(self):\n",
        "    print(\"Name\",self.Name)\n",
        "    print(\"Id\",self.Id)\n",
        "\n",
        "class faculty(person):\n",
        "  def report(self):\n",
        "    print(\"Name\",self.Name)\n",
        "    print(\"Id\",self.Id)\n",
        "\n",
        "class security(person):\n",
        "  def report(self):\n",
        "    print(\"Name\",self.Name)\n",
        "    print(\"Id\",self.Id)"
      ],
      "metadata": {
        "id": "ScsASAgzb_Yz"
      },
      "execution_count": 60,
      "outputs": []
    },
    {
      "cell_type": "code",
      "source": [
        "st=student(\"VVR\",\"02341A0259\")\n",
        "st.report()"
      ],
      "metadata": {
        "colab": {
          "base_uri": "https://localhost:8080/"
        },
        "id": "EbgyQ42vg9G3",
        "outputId": "13191744-33e7-41f8-b412-fce62f5cc3c4"
      },
      "execution_count": 62,
      "outputs": [
        {
          "output_type": "stream",
          "name": "stdout",
          "text": [
            "Name VVR\n",
            "Id 02341A0259\n"
          ]
        }
      ]
    },
    {
      "cell_type": "code",
      "source": [
        "fa=faculty(\"Dr.VVR\",\"1513\")\n",
        "fa.report()"
      ],
      "metadata": {
        "colab": {
          "base_uri": "https://localhost:8080/"
        },
        "id": "f53Kj4hAhXUL",
        "outputId": "11e73c01-eb96-4264-8623-e70a4bbd373b"
      },
      "execution_count": 64,
      "outputs": [
        {
          "output_type": "stream",
          "name": "stdout",
          "text": [
            "Name Dr.VVR\n",
            "Id 1513\n"
          ]
        }
      ]
    },
    {
      "cell_type": "code",
      "source": [
        "se=security(\"Ram\",\"120\")\n",
        "se.report()"
      ],
      "metadata": {
        "colab": {
          "base_uri": "https://localhost:8080/"
        },
        "id": "71PCn4zbhfVY",
        "outputId": "82618595-125b-43dd-a78a-de892834da8e"
      },
      "execution_count": 65,
      "outputs": [
        {
          "output_type": "stream",
          "name": "stdout",
          "text": [
            "Name Ram\n",
            "Id 120\n"
          ]
        }
      ]
    },
    {
      "cell_type": "code",
      "source": [],
      "metadata": {
        "id": "RR4j_R88hoZi"
      },
      "execution_count": null,
      "outputs": []
    }
  ]
}